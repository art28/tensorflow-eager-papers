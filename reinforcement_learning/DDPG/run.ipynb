{
 "cells": [
  {
   "cell_type": "code",
   "execution_count": 1,
   "metadata": {},
   "outputs": [],
   "source": [
    "import tensorflow as tf\n",
    "tf.enable_eager_execution()"
   ]
  },
  {
   "cell_type": "code",
   "execution_count": 2,
   "metadata": {},
   "outputs": [],
   "source": [
    "from env import Environment"
   ]
  },
  {
   "cell_type": "code",
   "execution_count": 3,
   "metadata": {},
   "outputs": [],
   "source": [
    "import json\n",
    "params = json.load(open(\"config.json\", \"r\"))"
   ]
  },
  {
   "cell_type": "code",
   "execution_count": 4,
   "metadata": {
    "scrolled": true
   },
   "outputs": [
    {
     "data": {
      "text/plain": [
       "{'memory_size': 100000,\n",
       " 'gamma': 0.99,\n",
       " 'tau': 0.001,\n",
       " 'lr_actor': 0.0001,\n",
       " 'lr_critic': 0.001}"
      ]
     },
     "execution_count": 4,
     "metadata": {},
     "output_type": "execute_result"
    }
   ],
   "source": [
    "# memory_size : size of replay memory. \n",
    "# gamma : discount rate\n",
    "# tau: parameter for soft update\n",
    "# lr_actor: learning rate for actor network\n",
    "# lr_critic: learning rate for critic network\n",
    "\n",
    "params"
   ]
  },
  {
   "cell_type": "code",
   "execution_count": 5,
   "metadata": {},
   "outputs": [],
   "source": [
    "import tensorflow.contrib.eager as tfe\n",
    "device = 'gpu:0' if tfe.num_gpus() > 0 else 'cpu:0'\n"
   ]
  },
  {
   "cell_type": "code",
   "execution_count": 6,
   "metadata": {
    "scrolled": false
   },
   "outputs": [
    {
     "name": "stdout",
     "output_type": "stream",
     "text": [
      "_________________________________________________________________\n",
      "Layer (type)                 Output Shape              Param #   \n",
      "=================================================================\n",
      "actor_active (Actor)         multiple                  122201    \n",
      "_________________________________________________________________\n",
      "actor_target (Actor)         multiple                  122201    \n",
      "_________________________________________________________________\n",
      "critic_active (Critic)       multiple                  122501    \n",
      "_________________________________________________________________\n",
      "critic_target (Critic)       multiple                  122501    \n",
      "=================================================================\n",
      "Total params: 489,404\n",
      "Trainable params: 244,702\n",
      "Non-trainable params: 244,702\n",
      "_________________________________________________________________\n"
     ]
    }
   ],
   "source": [
    "env = Environment(params, device_name=device)"
   ]
  },
  {
   "cell_type": "code",
   "execution_count": 7,
   "metadata": {
    "scrolled": true
   },
   "outputs": [
    {
     "name": "stderr",
     "output_type": "stream",
     "text": [
      "-1350.3730:   0%|          | 0/1000 [00:02<?, ?it/s]"
     ]
    },
    {
     "name": "stdout",
     "output_type": "stream",
     "text": [
      "\u001b[31m[EPISODE   1 / STEP   200] - TRAINING\n",
      "\u001b[32mLearned Step :  136\n",
      "\u001b[34mAVG   Return         : -1350.3730\n",
      "\u001b[34mMAX   Return         : -1350.3730\n",
      "\u001b[93mAVG   LOSS Actor     :  5.7313\n",
      "\u001b[93mAVG   LOSS Critic    :  2.6425\n",
      "\u001b[91mAVG VAL[10]   Return : -1632.4522\n",
      "\u001b[91mMAX VAL[10]   Return : -1558.5600\n",
      "saved step 136 in ckpt/\n"
     ]
    },
    {
     "name": "stderr",
     "output_type": "stream",
     "text": [
      "-1133.1946:   5%|▍         | 49/1000 [02:42<50:29,  3.19s/it] "
     ]
    },
    {
     "name": "stdout",
     "output_type": "stream",
     "text": [
      "\u001b[31m[EPISODE  50 / STEP 10000] - TRAINING\n",
      "\u001b[32mLearned Step : 9936\n",
      "\u001b[34mAVG   Return         : -1128.7624\n",
      "\u001b[34mMAX   Return         : -132.3347\n",
      "\u001b[93mAVG   LOSS Actor     :  30.0067\n",
      "\u001b[93mAVG   LOSS Critic    :  4.5559\n",
      "\u001b[91mAVG VAL[10]   Return : -735.9462\n",
      "\u001b[91mMAX VAL[10]   Return : -0.0518\n",
      "saved step 9936 in ckpt/\n"
     ]
    },
    {
     "name": "stderr",
     "output_type": "stream",
     "text": [
      "-750.7274:  10%|▉         | 99/1000 [05:33<50:10,  3.34s/it]   "
     ]
    },
    {
     "name": "stdout",
     "output_type": "stream",
     "text": [
      "\u001b[31m[EPISODE 100 / STEP 20000] - TRAINING\n",
      "\u001b[32mLearned Step : 19936\n",
      "\u001b[34mAVG   Return         : -368.2603\n",
      "\u001b[34mMAX   Return         : -1.0044\n",
      "\u001b[93mAVG   LOSS Actor     :  51.2196\n",
      "\u001b[93mAVG   LOSS Critic    :  18.1257\n",
      "\u001b[91mAVG VAL[10]   Return : -323.3051\n",
      "\u001b[91mMAX VAL[10]   Return : -133.6163\n",
      "saved step 19936 in ckpt/\n"
     ]
    },
    {
     "name": "stderr",
     "output_type": "stream",
     "text": [
      "-564.0523:  15%|█▍        | 149/1000 [08:23<46:07,  3.25s/it]  "
     ]
    },
    {
     "name": "stdout",
     "output_type": "stream",
     "text": [
      "\u001b[31m[EPISODE 150 / STEP 30000] - TRAINING\n",
      "\u001b[32mLearned Step : 29936\n",
      "\u001b[34mAVG   Return         : -190.7020\n",
      "\u001b[34mMAX   Return         : -1.8684\n",
      "\u001b[93mAVG   LOSS Actor     :  50.7440\n",
      "\u001b[93mAVG   LOSS Critic    :  25.4792\n",
      "\u001b[91mAVG VAL[10]   Return : -177.5611\n",
      "\u001b[91mMAX VAL[10]   Return : -2.2856\n",
      "saved step 29936 in ckpt/\n"
     ]
    },
    {
     "name": "stderr",
     "output_type": "stream",
     "text": [
      "-469.5148:  20%|█▉        | 199/1000 [11:13<44:07,  3.30s/it]  "
     ]
    },
    {
     "name": "stdout",
     "output_type": "stream",
     "text": [
      "\u001b[31m[EPISODE 200 / STEP 40000] - TRAINING\n",
      "\u001b[32mLearned Step : 39936\n",
      "\u001b[34mAVG   Return         : -185.9025\n",
      "\u001b[34mMAX   Return         : -4.3550\n",
      "\u001b[93mAVG   LOSS Actor     :  41.1370\n",
      "\u001b[93mAVG   LOSS Critic    :  27.4668\n",
      "\u001b[91mAVG VAL[10]   Return : -150.3950\n",
      "\u001b[91mMAX VAL[10]   Return : -5.8353\n",
      "saved step 39936 in ckpt/\n"
     ]
    },
    {
     "name": "stderr",
     "output_type": "stream",
     "text": [
      "-411.7138:  25%|██▍       | 249/1000 [14:02<40:58,  3.27s/it]"
     ]
    },
    {
     "name": "stdout",
     "output_type": "stream",
     "text": [
      "\u001b[31m[EPISODE 250 / STEP 50000] - TRAINING\n",
      "\u001b[32mLearned Step : 49936\n",
      "\u001b[34mAVG   Return         : -180.5096\n",
      "\u001b[34mMAX   Return         : -5.5137\n",
      "\u001b[93mAVG   LOSS Actor     :  29.7962\n",
      "\u001b[93mAVG   LOSS Critic    :  30.9690\n",
      "\u001b[91mAVG VAL[10]   Return : -130.0405\n",
      "\u001b[91mMAX VAL[10]   Return : -8.3684\n",
      "saved step 49936 in ckpt/\n"
     ]
    },
    {
     "name": "stderr",
     "output_type": "stream",
     "text": [
      "-373.7087:  30%|██▉       | 299/1000 [16:51<38:18,  3.28s/it]"
     ]
    },
    {
     "name": "stdout",
     "output_type": "stream",
     "text": [
      "\u001b[31m[EPISODE 300 / STEP 60000] - TRAINING\n",
      "\u001b[32mLearned Step : 59936\n",
      "\u001b[34mAVG   Return         : -183.6831\n",
      "\u001b[34mMAX   Return         : -6.9178\n",
      "\u001b[93mAVG   LOSS Actor     :  13.9782\n",
      "\u001b[93mAVG   LOSS Critic    :  32.4354\n",
      "\u001b[91mAVG VAL[10]   Return : -150.5530\n",
      "\u001b[91mMAX VAL[10]   Return : -9.4244\n",
      "saved step 59936 in ckpt/\n"
     ]
    },
    {
     "name": "stderr",
     "output_type": "stream",
     "text": [
      "-358.6836:  35%|███▍      | 349/1000 [19:40<35:27,  3.27s/it]"
     ]
    },
    {
     "name": "stdout",
     "output_type": "stream",
     "text": [
      "\u001b[31m[EPISODE 350 / STEP 70000] - TRAINING\n",
      "\u001b[32mLearned Step : 69936\n",
      "\u001b[34mAVG   Return         : -268.5328\n",
      "\u001b[34mMAX   Return         : -6.2261\n",
      "\u001b[93mAVG   LOSS Actor     :  4.4005\n",
      "\u001b[93mAVG   LOSS Critic    :  29.4054\n",
      "\u001b[91mAVG VAL[10]   Return : -144.1615\n",
      "\u001b[91mMAX VAL[10]   Return : -11.0793\n",
      "saved step 69936 in ckpt/\n"
     ]
    },
    {
     "name": "stderr",
     "output_type": "stream",
     "text": [
      "-378.3126:  40%|███▉      | 399/1000 [22:29<32:18,  3.22s/it]"
     ]
    },
    {
     "name": "stdout",
     "output_type": "stream",
     "text": [
      "\u001b[31m[EPISODE 400 / STEP 80000] - TRAINING\n",
      "\u001b[32mLearned Step : 79936\n",
      "\u001b[34mAVG   Return         : -515.7160\n",
      "\u001b[34mMAX   Return         : -392.9713\n",
      "\u001b[93mAVG   LOSS Actor     :  0.2948\n",
      "\u001b[93mAVG   LOSS Critic    :  28.9274\n",
      "\u001b[91mAVG VAL[10]   Return : -141.9172\n",
      "\u001b[91mMAX VAL[10]   Return : -11.2707\n",
      "saved step 79936 in ckpt/\n"
     ]
    },
    {
     "name": "stderr",
     "output_type": "stream",
     "text": [
      "-388.3939:  45%|████▍     | 449/1000 [25:18<29:56,  3.26s/it]"
     ]
    },
    {
     "name": "stdout",
     "output_type": "stream",
     "text": [
      "\u001b[31m[EPISODE 450 / STEP 90000] - TRAINING\n",
      "\u001b[32mLearned Step : 89936\n",
      "\u001b[34mAVG   Return         : -469.0441\n",
      "\u001b[34mMAX   Return         : -267.9287\n",
      "\u001b[93mAVG   LOSS Actor     :  -4.9353\n",
      "\u001b[93mAVG   LOSS Critic    :  29.8673\n",
      "\u001b[91mAVG VAL[10]   Return : -130.9673\n",
      "\u001b[91mMAX VAL[10]   Return : -10.4532\n",
      "saved step 89936 in ckpt/\n"
     ]
    },
    {
     "name": "stderr",
     "output_type": "stream",
     "text": [
      "-398.5296:  50%|████▉     | 499/1000 [28:07<27:32,  3.30s/it]"
     ]
    },
    {
     "name": "stdout",
     "output_type": "stream",
     "text": [
      "\u001b[31m[EPISODE 500 / STEP 100000] - TRAINING\n",
      "\u001b[32mLearned Step : 99936\n",
      "\u001b[34mAVG   Return         : -489.7509\n",
      "\u001b[34mMAX   Return         : -269.1074\n",
      "\u001b[93mAVG   LOSS Actor     :  -15.1487\n",
      "\u001b[93mAVG   LOSS Critic    :  32.6159\n",
      "\u001b[91mAVG VAL[10]   Return : -145.3548\n",
      "\u001b[91mMAX VAL[10]   Return : -11.6034\n",
      "saved step 99936 in ckpt/\n"
     ]
    },
    {
     "name": "stderr",
     "output_type": "stream",
     "text": [
      "-408.5954:  55%|█████▍    | 549/1000 [30:59<24:59,  3.33s/it]"
     ]
    },
    {
     "name": "stdout",
     "output_type": "stream",
     "text": [
      "\u001b[31m[EPISODE 550 / STEP 110000] - TRAINING\n",
      "\u001b[32mLearned Step : 109936\n",
      "\u001b[34mAVG   Return         : -509.2539\n",
      "\u001b[34mMAX   Return         : -263.4433\n",
      "\u001b[93mAVG   LOSS Actor     :  -31.9654\n",
      "\u001b[93mAVG   LOSS Critic    :  32.7583\n",
      "\u001b[91mAVG VAL[10]   Return : -135.8097\n",
      "\u001b[91mMAX VAL[10]   Return : -10.3786\n",
      "saved step 109936 in ckpt/\n"
     ]
    },
    {
     "name": "stderr",
     "output_type": "stream",
     "text": [
      "-417.9081:  60%|█████▉    | 599/1000 [33:49<22:00,  3.29s/it]"
     ]
    },
    {
     "name": "stdout",
     "output_type": "stream",
     "text": [
      "\u001b[31m[EPISODE 600 / STEP 120000] - TRAINING\n",
      "\u001b[32mLearned Step : 119936\n",
      "\u001b[34mAVG   Return         : -520.3471\n",
      "\u001b[34mMAX   Return         : -310.3270\n",
      "\u001b[93mAVG   LOSS Actor     :  -41.3588\n",
      "\u001b[93mAVG   LOSS Critic    :  34.2275\n",
      "\u001b[91mAVG VAL[10]   Return : -142.6772\n",
      "\u001b[91mMAX VAL[10]   Return : -10.5102\n",
      "saved step 119936 in ckpt/\n"
     ]
    },
    {
     "name": "stderr",
     "output_type": "stream",
     "text": [
      "-422.3900:  65%|██████▍   | 649/1000 [36:40<19:24,  3.32s/it]"
     ]
    },
    {
     "name": "stdout",
     "output_type": "stream",
     "text": [
      "\u001b[31m[EPISODE 650 / STEP 130000] - TRAINING\n",
      "\u001b[32mLearned Step : 129936\n",
      "\u001b[34mAVG   Return         : -476.1729\n",
      "\u001b[34mMAX   Return         : -34.8365\n",
      "\u001b[93mAVG   LOSS Actor     :  -46.0125\n",
      "\u001b[93mAVG   LOSS Critic    :  36.7147\n",
      "\u001b[91mAVG VAL[10]   Return : -167.5953\n",
      "\u001b[91mMAX VAL[10]   Return : -11.9142\n",
      "saved step 129936 in ckpt/\n"
     ]
    },
    {
     "name": "stderr",
     "output_type": "stream",
     "text": [
      "-423.7416:  70%|██████▉   | 699/1000 [39:26<15:04,  3.00s/it]"
     ]
    },
    {
     "name": "stdout",
     "output_type": "stream",
     "text": [
      "\u001b[31m[EPISODE 700 / STEP 140000] - TRAINING\n",
      "\u001b[32mLearned Step : 139936\n",
      "\u001b[34mAVG   Return         : -441.3125\n",
      "\u001b[34mMAX   Return         : -148.2130\n",
      "\u001b[93mAVG   LOSS Actor     :  -48.6428\n",
      "\u001b[93mAVG   LOSS Critic    :  39.9686\n",
      "\u001b[91mAVG VAL[10]   Return : -192.6813\n",
      "\u001b[91mMAX VAL[10]   Return : -11.4180\n",
      "saved step 139936 in ckpt/\n"
     ]
    },
    {
     "name": "stderr",
     "output_type": "stream",
     "text": [
      "-434.9737:  75%|███████▍  | 749/1000 [42:10<13:02,  3.12s/it]"
     ]
    },
    {
     "name": "stdout",
     "output_type": "stream",
     "text": [
      "\u001b[31m[EPISODE 750 / STEP 150000] - TRAINING\n",
      "\u001b[32mLearned Step : 149936\n",
      "\u001b[34mAVG   Return         : -592.2227\n",
      "\u001b[34mMAX   Return         : -245.9773\n",
      "\u001b[93mAVG   LOSS Actor     :  -49.3086\n",
      "\u001b[93mAVG   LOSS Critic    :  38.9171\n",
      "\u001b[91mAVG VAL[10]   Return : -126.6351\n",
      "\u001b[91mMAX VAL[10]   Return : -10.7713\n",
      "saved step 149936 in ckpt/\n"
     ]
    },
    {
     "name": "stderr",
     "output_type": "stream",
     "text": [
      "-446.6239:  80%|███████▉  | 799/1000 [44:55<11:16,  3.37s/it]"
     ]
    },
    {
     "name": "stdout",
     "output_type": "stream",
     "text": [
      "\u001b[31m[EPISODE 800 / STEP 160000] - TRAINING\n",
      "\u001b[32mLearned Step : 159936\n",
      "\u001b[34mAVG   Return         : -621.3774\n",
      "\u001b[34mMAX   Return         : -262.1330\n",
      "\u001b[93mAVG   LOSS Actor     :  -45.0353\n",
      "\u001b[93mAVG   LOSS Critic    :  36.9550\n",
      "\u001b[91mAVG VAL[10]   Return : -184.5634\n",
      "\u001b[91mMAX VAL[10]   Return : -133.0253\n",
      "saved step 159936 in ckpt/\n"
     ]
    },
    {
     "name": "stderr",
     "output_type": "stream",
     "text": [
      "-459.8499:  85%|████████▍ | 849/1000 [47:45<08:11,  3.26s/it]"
     ]
    },
    {
     "name": "stdout",
     "output_type": "stream",
     "text": [
      "\u001b[31m[EPISODE 850 / STEP 170000] - TRAINING\n",
      "\u001b[32mLearned Step : 169936\n",
      "\u001b[34mAVG   Return         : -671.4654\n",
      "\u001b[34mMAX   Return         : -514.7830\n",
      "\u001b[93mAVG   LOSS Actor     :  -40.0726\n",
      "\u001b[93mAVG   LOSS Critic    :  32.0478\n",
      "\u001b[91mAVG VAL[10]   Return : -134.6044\n",
      "\u001b[91mMAX VAL[10]   Return : -15.3994\n",
      "saved step 169936 in ckpt/\n"
     ]
    },
    {
     "name": "stderr",
     "output_type": "stream",
     "text": [
      "-472.8915:  90%|████████▉ | 899/1000 [50:33<05:28,  3.25s/it]"
     ]
    },
    {
     "name": "stdout",
     "output_type": "stream",
     "text": [
      "\u001b[31m[EPISODE 900 / STEP 180000] - TRAINING\n",
      "\u001b[32mLearned Step : 179936\n",
      "\u001b[34mAVG   Return         : -694.5993\n",
      "\u001b[34mMAX   Return         : -631.4377\n",
      "\u001b[93mAVG   LOSS Actor     :  -39.0804\n",
      "\u001b[93mAVG   LOSS Critic    :  31.6180\n",
      "\u001b[91mAVG VAL[10]   Return : -168.2137\n",
      "\u001b[91mMAX VAL[10]   Return : -128.2652\n",
      "saved step 179936 in ckpt/\n"
     ]
    },
    {
     "name": "stderr",
     "output_type": "stream",
     "text": [
      "-486.5825:  95%|█████████▍| 949/1000 [53:21<02:47,  3.29s/it]"
     ]
    },
    {
     "name": "stdout",
     "output_type": "stream",
     "text": [
      "\u001b[31m[EPISODE 950 / STEP 190000] - TRAINING\n",
      "\u001b[32mLearned Step : 189936\n",
      "\u001b[34mAVG   Return         : -733.0211\n",
      "\u001b[34mMAX   Return         : -559.7066\n",
      "\u001b[93mAVG   LOSS Actor     :  -41.1257\n",
      "\u001b[93mAVG   LOSS Critic    :  35.1890\n",
      "\u001b[91mAVG VAL[10]   Return : -214.7924\n",
      "\u001b[91mMAX VAL[10]   Return : -126.7248\n",
      "saved step 189936 in ckpt/\n"
     ]
    },
    {
     "name": "stderr",
     "output_type": "stream",
     "text": [
      "-500.3251: 100%|█████████▉| 999/1000 [56:10<00:03,  3.28s/it]"
     ]
    },
    {
     "name": "stdout",
     "output_type": "stream",
     "text": [
      "\u001b[31m[EPISODE 1000 / STEP 200000] - TRAINING\n",
      "\u001b[32mLearned Step : 199936\n",
      "\u001b[34mAVG   Return         : -761.4337\n",
      "\u001b[34mMAX   Return         : -628.1907\n",
      "\u001b[93mAVG   LOSS Actor     :  -49.0579\n",
      "\u001b[93mAVG   LOSS Critic    :  48.5845\n",
      "\u001b[91mAVG VAL[10]   Return : -187.5582\n",
      "\u001b[91mMAX VAL[10]   Return : -15.1320\n",
      "saved step 199936 in ckpt/\n"
     ]
    },
    {
     "name": "stderr",
     "output_type": "stream",
     "text": [
      "-500.3251: 100%|██████████| 1000/1000 [56:13<00:00,  4.28s/it]\n"
     ]
    }
   ],
   "source": [
    "# 1000 episode of training(200000 steps) takes 1 hours using GTX-1080ti \n",
    "# you can use pretrained weights below.\n",
    "ret = env.train(episode=1000, max_step=1000, minibatch_size=64, verbose=50, val_epi=10, saving=True)"
   ]
  },
  {
   "cell_type": "code",
   "execution_count": 8,
   "metadata": {},
   "outputs": [
    {
     "name": "stdout",
     "output_type": "stream",
     "text": [
      "INFO:tensorflow:Restoring parameters from ckpt/-149936\n"
     ]
    }
   ],
   "source": [
    "# which was my best step\n",
    "env.load(149936)"
   ]
  },
  {
   "cell_type": "code",
   "execution_count": 28,
   "metadata": {
    "scrolled": true
   },
   "outputs": [
    {
     "name": "stdout",
     "output_type": "stream",
     "text": [
      "\u001b[32mEPISODE   0: REWARD: -133.09993629461025\n",
      "\u001b[32mEPISODE   1: REWARD: -10.228304937626469\n",
      "\u001b[32mEPISODE   2: REWARD: -233.66188486409803\n",
      "\u001b[32mEPISODE   3: REWARD: -123.40577454987064\n",
      "\u001b[32mEPISODE   4: REWARD: -10.652782475451092\n",
      "\u001b[32mEPISODE   5: REWARD: -133.95506150754665\n",
      "\u001b[32mEPISODE   6: REWARD: -128.6947265709126\n",
      "\u001b[32mEPISODE   7: REWARD: -135.55516648555408\n",
      "\u001b[32mEPISODE   8: REWARD: -126.52263331454812\n",
      "\u001b[32mEPISODE   9: REWARD: -240.87660526136506\n",
      "\u001b[31mAVG REWARD : -127.6652876261583\n",
      "\u001b[34mMAX REWARD : -10.228304937626469\n"
     ]
    }
   ],
   "source": [
    "env.simulate(10, render= True)"
   ]
  },
  {
   "cell_type": "code",
   "execution_count": 29,
   "metadata": {},
   "outputs": [],
   "source": [
    "import matplotlib.pyplot as plt\n",
    "import seaborn as sns\n",
    "%matplotlib inline"
   ]
  },
  {
   "cell_type": "code",
   "execution_count": 30,
   "metadata": {},
   "outputs": [
    {
     "data": {
      "text/plain": [
       "<matplotlib.axes._subplots.AxesSubplot at 0x7fb150995048>"
      ]
     },
     "execution_count": 30,
     "metadata": {},
     "output_type": "execute_result"
    },
    {
     "data": {
      "image/png": "[encoded data removed]",
      "text/plain": [
       "<Figure size 504x504 with 1 Axes>"
      ]
     },
     "metadata": {
      "needs_background": "light"
     },
     "output_type": "display_data"
    }
   ],
   "source": [
    "f, ax = plt.subplots(1, 1, figsize=(7,7))\n",
    "ax.set(title=\"training process\")\n",
    "ax.set(xlabel=\"episode\")\n",
    "ax.set(ylabel=\"return\")\n",
    "sns.lineplot(x=[i for i in range(len(ret))], y=ret)"
   ]
  },
  {
   "cell_type": "code",
   "execution_count": null,
   "metadata": {},
   "outputs": [],
   "source": []
  }
 ],
 "metadata": {
  "kernelspec": {
   "display_name": "clasic36",
   "language": "python",
   "name": "classic36"
  },
  "language_info": {
   "codemirror_mode": {
    "name": "ipython",
    "version": 3
   },
   "file_extension": ".py",
   "mimetype": "text/x-python",
   "name": "python",
   "nbconvert_exporter": "python",
   "pygments_lexer": "ipython3",
   "version": "3.6.7"
  }
 },
 "nbformat": 4,
 "nbformat_minor": 2
}
