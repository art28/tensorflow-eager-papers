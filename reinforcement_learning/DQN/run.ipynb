{
 "cells": [
  {
   "cell_type": "code",
   "execution_count": 1,
   "metadata": {},
   "outputs": [],
   "source": [
    "import tensorflow as tf\n",
    "tf.enable_eager_execution()"
   ]
  },
  {
   "cell_type": "code",
   "execution_count": 2,
   "metadata": {},
   "outputs": [],
   "source": [
    "from env import Environment"
   ]
  },
  {
   "cell_type": "code",
   "execution_count": 3,
   "metadata": {},
   "outputs": [],
   "source": [
    "import json\n",
    "params = json.load(open(\"config.json\", \"r\"))"
   ]
  },
  {
   "cell_type": "code",
   "execution_count": 4,
   "metadata": {
    "scrolled": true
   },
   "outputs": [
    {
     "data": {
      "text/plain": [
       "{'Fx': 84,\n",
       " 'Fy': 84,\n",
       " 'features': 4,\n",
       " 'memory_size': 100000,\n",
       " 'epsilon_initial': 1.0,\n",
       " 'epsilon_final': 0.05,\n",
       " 'exploration_step': 50000,\n",
       " 'epsilon_step': 100000,\n",
       " 'gamma': 0.99}"
      ]
     },
     "execution_count": 4,
     "metadata": {},
     "output_type": "execute_result"
    }
   ],
   "source": [
    "# Fx, Fy : downsampling size\n",
    "# features : number of features(channles) to put in the network. total input size would be (batch_size, Fx, Fy, features)\n",
    "# memory_size : size of replay memory. 100000 needs almost 25GB memory, recommend reduce it if you need\n",
    "# epsilon_initial : initial number of epsilon\n",
    "# epsilon_final : last number of epsilon\n",
    "# exploration_step : number of steps for pure exploration\n",
    "# epsilon_step : number of steps for epsilon decrease\n",
    "# gamma : discount rate\n",
    "params"
   ]
  },
  {
   "cell_type": "code",
   "execution_count": 5,
   "metadata": {},
   "outputs": [],
   "source": [
    "import tensorflow.contrib.eager as tfe\n",
    "device = 'gpu:0' if tfe.num_gpus() > 0 else 'cpu:0'\n"
   ]
  },
  {
   "cell_type": "code",
   "execution_count": 6,
   "metadata": {
    "scrolled": false
   },
   "outputs": [
    {
     "name": "stdout",
     "output_type": "stream",
     "text": [
      "_________________________________________________________________\n",
      "Layer (type)                 Output Shape              Param #   \n",
      "=================================================================\n",
      "q_active (DQN)               multiple                  144692    \n",
      "_________________________________________________________________\n",
      "q_target (DQN)               multiple                  144692    \n",
      "=================================================================\n",
      "Total params: 289,384\n",
      "Trainable params: 144,692\n",
      "Non-trainable params: 144,692\n",
      "_________________________________________________________________\n"
     ]
    }
   ],
   "source": [
    "env = Environment(params, device_name=device)"
   ]
  },
  {
   "cell_type": "code",
   "execution_count": 7,
   "metadata": {},
   "outputs": [
    {
     "name": "stderr",
     "output_type": "stream",
     "text": [
      "  0%|          | 2/1000 [00:00<02:06,  7.91it/s]"
     ]
    },
    {
     "name": "stdout",
     "output_type": "stream",
     "text": [
      "\u001b[31m[EPISODE   1 / STEP   125] - EXPLORATION\n",
      "\u001b[32mLearned Step :    0\n",
      "\u001b[34mAVG   Return : 0.0000\n",
      "\u001b[34mMAX   Return : 0.0000\n",
      "saved step 0 in ckpt/\n"
     ]
    },
    {
     "name": "stderr",
     "output_type": "stream",
     "text": [
      "  5%|▌         | 51/1000 [00:08<02:31,  6.28it/s]"
     ]
    },
    {
     "name": "stdout",
     "output_type": "stream",
     "text": [
      "\u001b[31m[EPISODE  50 / STEP  9533] - EXPLORATION\n",
      "\u001b[32mLearned Step :    0\n",
      "\u001b[34mAVG   Return : 1.4286\n",
      "\u001b[34mMAX   Return : 5.0000\n",
      "saved step 0 in ckpt/\n"
     ]
    },
    {
     "name": "stderr",
     "output_type": "stream",
     "text": [
      " 10%|█         | 100/1000 [00:16<02:45,  5.42it/s]"
     ]
    },
    {
     "name": "stdout",
     "output_type": "stream",
     "text": [
      "\u001b[31m[EPISODE 100 / STEP 18523] - EXPLORATION\n",
      "\u001b[32mLearned Step :    0\n",
      "\u001b[34mAVG   Return : 1.1800\n",
      "\u001b[34mMAX   Return : 8.0000\n",
      "saved step 0 in ckpt/\n"
     ]
    },
    {
     "name": "stderr",
     "output_type": "stream",
     "text": [
      " 15%|█▌        | 150/1000 [00:26<02:34,  5.51it/s]"
     ]
    },
    {
     "name": "stdout",
     "output_type": "stream",
     "text": [
      "\u001b[31m[EPISODE 150 / STEP 27856] - EXPLORATION\n",
      "\u001b[32mLearned Step :    0\n",
      "\u001b[34mAVG   Return : 1.2600\n",
      "\u001b[34mMAX   Return : 5.0000\n",
      "saved step 0 in ckpt/\n"
     ]
    },
    {
     "name": "stderr",
     "output_type": "stream",
     "text": [
      " 20%|██        | 200/1000 [00:34<02:19,  5.72it/s]"
     ]
    },
    {
     "name": "stdout",
     "output_type": "stream",
     "text": [
      "\u001b[31m[EPISODE 200 / STEP 37062] - EXPLORATION\n",
      "\u001b[32mLearned Step :    0\n",
      "\u001b[34mAVG   Return : 1.2200\n",
      "\u001b[34mMAX   Return : 4.0000\n",
      "saved step 0 in ckpt/\n"
     ]
    },
    {
     "name": "stderr",
     "output_type": "stream",
     "text": [
      " 25%|██▌       | 251/1000 [00:42<02:11,  5.68it/s]"
     ]
    },
    {
     "name": "stdout",
     "output_type": "stream",
     "text": [
      "\u001b[31m[EPISODE 250 / STEP 46376] - EXPLORATION\n",
      "\u001b[32mLearned Step :    0\n",
      "\u001b[34mAVG   Return : 1.2600\n",
      "\u001b[34mMAX   Return : 4.0000\n",
      "saved step 0 in ckpt/\n"
     ]
    },
    {
     "name": "stderr",
     "output_type": "stream",
     "text": [
      " 30%|███       | 300/1000 [02:31<38:26,  3.30s/it]"
     ]
    },
    {
     "name": "stdout",
     "output_type": "stream",
     "text": [
      "\u001b[31m[EPISODE 300 / STEP 55705] - EPSILON-GREEDY : 0.9458\n",
      "\u001b[32mLearned Step : 5706\n",
      "\u001b[34mAVG   Return : 1.3000\n",
      "\u001b[34mMAX   Return : 5.0000\n",
      "saved step 5706 in ckpt/\n"
     ]
    },
    {
     "name": "stderr",
     "output_type": "stream",
     "text": [
      " 35%|███▌      | 350/1000 [05:31<49:40,  4.59s/it]"
     ]
    },
    {
     "name": "stdout",
     "output_type": "stream",
     "text": [
      "\u001b[31m[EPISODE 350 / STEP 65279] - EPSILON-GREEDY : 0.8548\n",
      "\u001b[32mLearned Step : 15280\n",
      "\u001b[34mAVG   Return : 1.5000\n",
      "\u001b[34mMAX   Return : 7.0000\n",
      "saved step 15280 in ckpt/\n"
     ]
    },
    {
     "name": "stderr",
     "output_type": "stream",
     "text": [
      " 40%|████      | 400/1000 [08:52<43:07,  4.31s/it]"
     ]
    },
    {
     "name": "stdout",
     "output_type": "stream",
     "text": [
      "\u001b[31m[EPISODE 400 / STEP 75694] - EPSILON-GREEDY : 0.7559\n",
      "\u001b[32mLearned Step : 25695\n",
      "\u001b[34mAVG   Return : 2.0400\n",
      "\u001b[34mMAX   Return : 5.0000\n",
      "saved step 25695 in ckpt/\n"
     ]
    },
    {
     "name": "stderr",
     "output_type": "stream",
     "text": [
      " 45%|████▌     | 450/1000 [12:31<38:45,  4.23s/it]"
     ]
    },
    {
     "name": "stdout",
     "output_type": "stream",
     "text": [
      "\u001b[31m[EPISODE 450 / STEP 86751] - EPSILON-GREEDY : 0.6509\n",
      "\u001b[32mLearned Step : 36752\n",
      "\u001b[34mAVG   Return : 2.4000\n",
      "\u001b[34mMAX   Return : 6.0000\n",
      "saved step 36752 in ckpt/\n"
     ]
    },
    {
     "name": "stderr",
     "output_type": "stream",
     "text": [
      " 50%|█████     | 500/1000 [16:10<47:24,  5.69s/it]"
     ]
    },
    {
     "name": "stdout",
     "output_type": "stream",
     "text": [
      "\u001b[31m[EPISODE 500 / STEP 97599] - EPSILON-GREEDY : 0.5478\n",
      "\u001b[32mLearned Step : 47600\n",
      "\u001b[34mAVG   Return : 2.3200\n",
      "\u001b[34mMAX   Return : 11.0000\n",
      "saved step 47600 in ckpt/\n"
     ]
    },
    {
     "name": "stderr",
     "output_type": "stream",
     "text": [
      " 55%|█████▌    | 550/1000 [20:37<35:41,  4.76s/it]"
     ]
    },
    {
     "name": "stdout",
     "output_type": "stream",
     "text": [
      "\u001b[31m[EPISODE 550 / STEP 110759] - EPSILON-GREEDY : 0.4228\n",
      "\u001b[32mLearned Step : 60760\n",
      "\u001b[34mAVG   Return : 3.5400\n",
      "\u001b[34mMAX   Return : 10.0000\n",
      "saved step 60760 in ckpt/\n"
     ]
    },
    {
     "name": "stderr",
     "output_type": "stream",
     "text": [
      " 60%|██████    | 600/1000 [24:54<34:09,  5.12s/it]"
     ]
    },
    {
     "name": "stdout",
     "output_type": "stream",
     "text": [
      "\u001b[31m[EPISODE 600 / STEP 123105] - EPSILON-GREEDY : 0.3055\n",
      "\u001b[32mLearned Step : 73106\n",
      "\u001b[34mAVG   Return : 3.1400\n",
      "\u001b[34mMAX   Return : 9.0000\n",
      "saved step 73106 in ckpt/\n"
     ]
    },
    {
     "name": "stderr",
     "output_type": "stream",
     "text": [
      " 65%|██████▌   | 650/1000 [30:03<30:27,  5.22s/it]"
     ]
    },
    {
     "name": "stdout",
     "output_type": "stream",
     "text": [
      "\u001b[31m[EPISODE 650 / STEP 138410] - EPSILON-GREEDY : 0.1601\n",
      "\u001b[32mLearned Step : 88411\n",
      "\u001b[34mAVG   Return : 4.4200\n",
      "\u001b[34mMAX   Return : 12.0000\n",
      "saved step 88411 in ckpt/\n"
     ]
    },
    {
     "name": "stderr",
     "output_type": "stream",
     "text": [
      " 70%|███████   | 700/1000 [35:31<28:42,  5.74s/it]"
     ]
    },
    {
     "name": "stdout",
     "output_type": "stream",
     "text": [
      "\u001b[31m[EPISODE 700 / STEP 154735] - EPSILON-GREEDY[final] : 0.0500\n",
      "\u001b[32mLearned Step : 104736\n",
      "\u001b[34mAVG   Return : 5.2000\n",
      "\u001b[34mMAX   Return : 17.0000\n",
      "saved step 104736 in ckpt/\n"
     ]
    },
    {
     "name": "stderr",
     "output_type": "stream",
     "text": [
      " 75%|███████▌  | 750/1000 [43:12<43:35, 10.46s/it]"
     ]
    },
    {
     "name": "stdout",
     "output_type": "stream",
     "text": [
      "\u001b[31m[EPISODE 750 / STEP 176595] - EPSILON-GREEDY[final] : 0.0500\n",
      "\u001b[32mLearned Step : 126596\n",
      "\u001b[34mAVG   Return : 7.5000\n",
      "\u001b[34mMAX   Return : 17.0000\n",
      "saved step 126596 in ckpt/\n"
     ]
    },
    {
     "name": "stderr",
     "output_type": "stream",
     "text": [
      " 80%|████████  | 800/1000 [51:41<29:45,  8.93s/it]"
     ]
    },
    {
     "name": "stdout",
     "output_type": "stream",
     "text": [
      "\u001b[31m[EPISODE 800 / STEP 199528] - EPSILON-GREEDY[final] : 0.0500\n",
      "\u001b[32mLearned Step : 149529\n",
      "\u001b[34mAVG   Return : 8.4200\n",
      "\u001b[34mMAX   Return : 15.0000\n",
      "saved step 149529 in ckpt/\n"
     ]
    },
    {
     "name": "stderr",
     "output_type": "stream",
     "text": [
      " 85%|████████▌ | 850/1000 [1:01:14<26:15, 10.50s/it]"
     ]
    },
    {
     "name": "stdout",
     "output_type": "stream",
     "text": [
      "\u001b[31m[EPISODE 850 / STEP 223641] - EPSILON-GREEDY[final] : 0.0500\n",
      "\u001b[32mLearned Step : 173642\n",
      "\u001b[34mAVG   Return : 8.7200\n",
      "\u001b[34mMAX   Return : 17.0000\n",
      "saved step 173642 in ckpt/\n"
     ]
    },
    {
     "name": "stderr",
     "output_type": "stream",
     "text": [
      " 90%|█████████ | 900/1000 [1:09:46<20:22, 12.23s/it]"
     ]
    },
    {
     "name": "stdout",
     "output_type": "stream",
     "text": [
      "\u001b[31m[EPISODE 900 / STEP 244564] - EPSILON-GREEDY[final] : 0.0500\n",
      "\u001b[32mLearned Step : 194565\n",
      "\u001b[34mAVG   Return : 7.3200\n",
      "\u001b[34mMAX   Return : 17.0000\n",
      "saved step 194565 in ckpt/\n"
     ]
    },
    {
     "name": "stderr",
     "output_type": "stream",
     "text": [
      " 95%|█████████▌| 950/1000 [1:18:57<09:14, 11.09s/it]"
     ]
    },
    {
     "name": "stdout",
     "output_type": "stream",
     "text": [
      "\u001b[31m[EPISODE 950 / STEP 267053] - EPSILON-GREEDY[final] : 0.0500\n",
      "\u001b[32mLearned Step : 217054\n",
      "\u001b[34mAVG   Return : 8.3400\n",
      "\u001b[34mMAX   Return : 16.0000\n",
      "saved step 217054 in ckpt/\n"
     ]
    },
    {
     "name": "stderr",
     "output_type": "stream",
     "text": [
      "100%|██████████| 1000/1000 [1:28:11<00:00, 10.18s/it]"
     ]
    },
    {
     "name": "stdout",
     "output_type": "stream",
     "text": [
      "\u001b[31m[EPISODE 1000 / STEP 289763] - EPSILON-GREEDY[final] : 0.0500\n",
      "\u001b[32mLearned Step : 239764\n",
      "\u001b[34mAVG   Return : 8.0000\n",
      "\u001b[34mMAX   Return : 15.0000\n",
      "saved step 239764 in ckpt/\n"
     ]
    },
    {
     "name": "stderr",
     "output_type": "stream",
     "text": [
      "\n"
     ]
    }
   ],
   "source": [
    "# 1000 episode(289763 step) of training takes 1.5 hours using GTX-1080ti \n",
    "# you can use pretrained weights below.\n",
    "ret = env.train(episode=1000, max_step=1000, minibatch_size=32,initial_life=5, verbose = 50, saving=True)"
   ]
  },
  {
   "cell_type": "code",
   "execution_count": 8,
   "metadata": {},
   "outputs": [
    {
     "name": "stdout",
     "output_type": "stream",
     "text": [
      "\u001b[32mEPISODE   0: REWARD: 4.0\n",
      "\u001b[32mEPISODE   1: REWARD: 8.0\n",
      "\u001b[32mEPISODE   2: REWARD: 7.0\n",
      "\u001b[32mEPISODE   3: REWARD: 3.0\n",
      "\u001b[32mEPISODE   4: REWARD: 8.0\n",
      "\u001b[32mEPISODE   5: REWARD: 9.0\n",
      "\u001b[32mEPISODE   6: REWARD: 5.0\n",
      "\u001b[32mEPISODE   7: REWARD: 9.0\n",
      "\u001b[32mEPISODE   8: REWARD: 7.0\n",
      "\u001b[32mEPISODE   9: REWARD: 12.0\n",
      "\u001b[31mAVG REWARD : 7.2\n",
      "\u001b[34mMAX REWARD : 12.0\n"
     ]
    }
   ],
   "source": [
    "env.simulate(10, render= True)"
   ]
  },
  {
   "cell_type": "code",
   "execution_count": 12,
   "metadata": {},
   "outputs": [],
   "source": [
    "import matplotlib.pyplot as plt\n",
    "import seaborn as sns\n",
    "%matplotlib inline"
   ]
  },
  {
   "cell_type": "code",
   "execution_count": 24,
   "metadata": {},
   "outputs": [
    {
     "data": {
      "text/plain": [
       "<matplotlib.axes._subplots.AxesSubplot at 0x7f99b9b59f60>"
      ]
     },
     "execution_count": 24,
     "metadata": {},
     "output_type": "execute_result"
    },
    {
     "data": {
      "image/png": "[encoded data removed]",
      "text/plain": [
       "<Figure size 504x504 with 1 Axes>"
      ]
     },
     "metadata": {
      "needs_background": "light"
     },
     "output_type": "display_data"
    }
   ],
   "source": [
    "f, ax = plt.subplots(1, 1, figsize=(7,7))\n",
    "ax.set(title=\"training process\")\n",
    "ax.set(xlabel=\"episode\")\n",
    "ax.set(ylabel=\"return\")\n",
    "sns.lineplot(x=[i for i in range(len(ret))], y=ret)"
   ]
  },
  {
   "cell_type": "code",
   "execution_count": 9,
   "metadata": {},
   "outputs": [
    {
     "name": "stdout",
     "output_type": "stream",
     "text": [
      "INFO:tensorflow:Restoring parameters from ckpt/-217054\n"
     ]
    }
   ],
   "source": [
    "# which was my best step\n",
    "env.load(217054)"
   ]
  },
  {
   "cell_type": "code",
   "execution_count": 10,
   "metadata": {},
   "outputs": [
    {
     "name": "stdout",
     "output_type": "stream",
     "text": [
      "\u001b[32mEPISODE   0: REWARD: 9.0\n",
      "\u001b[32mEPISODE   1: REWARD: 7.0\n",
      "\u001b[32mEPISODE   2: REWARD: 10.0\n",
      "\u001b[32mEPISODE   3: REWARD: 8.0\n",
      "\u001b[32mEPISODE   4: REWARD: 6.0\n",
      "\u001b[32mEPISODE   5: REWARD: 4.0\n",
      "\u001b[32mEPISODE   6: REWARD: 6.0\n",
      "\u001b[32mEPISODE   7: REWARD: 9.0\n",
      "\u001b[32mEPISODE   8: REWARD: 7.0\n",
      "\u001b[32mEPISODE   9: REWARD: 16.0\n",
      "\u001b[31mAVG REWARD : 8.2\n",
      "\u001b[34mMAX REWARD : 16.0\n"
     ]
    }
   ],
   "source": [
    "env.simulate(10, render= True)"
   ]
  },
  {
   "cell_type": "code",
   "execution_count": null,
   "metadata": {},
   "outputs": [],
   "source": []
  }
 ],
 "metadata": {
  "kernelspec": {
   "display_name": "clasic368",
   "language": "python",
   "name": "classic368"
  },
  "language_info": {
   "codemirror_mode": {
    "name": "ipython",
    "version": 3
   },
   "file_extension": ".py",
   "mimetype": "text/x-python",
   "name": "python",
   "nbconvert_exporter": "python",
   "pygments_lexer": "ipython3",
   "version": "3.6.8"
  }
 },
 "nbformat": 4,
 "nbformat_minor": 2
}
