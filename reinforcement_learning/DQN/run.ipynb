{
 "cells": [
  {
   "cell_type": "code",
   "execution_count": 1,
   "metadata": {},
   "outputs": [],
   "source": [
    "import tensorflow as tf\n",
    "tf.enable_eager_execution()"
   ]
  },
  {
   "cell_type": "code",
   "execution_count": 2,
   "metadata": {},
   "outputs": [],
   "source": [
    "from env import Environment"
   ]
  },
  {
   "cell_type": "code",
   "execution_count": 3,
   "metadata": {},
   "outputs": [],
   "source": [
    "import json\n",
    "params = json.load(open(\"config.json\", \"r\"))"
   ]
  },
  {
   "cell_type": "code",
   "execution_count": 4,
   "metadata": {
    "scrolled": true
   },
   "outputs": [
    {
     "data": {
      "text/plain": [
       "{'Fx': 84,\n",
       " 'Fy': 84,\n",
       " 'features': 4,\n",
       " 'memory_size': 100000,\n",
       " 'epsilon_initial': 1.0,\n",
       " 'epsilon_final': 0.1,\n",
       " 'exploration_step': 50000,\n",
       " 'epsilon_step': 1000000,\n",
       " 'gamma': 0.99,\n",
       " 'skip_frame': 4}"
      ]
     },
     "execution_count": 4,
     "metadata": {},
     "output_type": "execute_result"
    }
   ],
   "source": [
    "# Fx, Fy : downsampling size\n",
    "# features : number of features(channles) to put in the network. total input size would be (batch_size, Fx, Fy, features)\n",
    "# memory_size : size of replay memory. 100000 needs almost 25GB memory, recommend reduce it if you need\n",
    "# epsilon_initial : initial number of epsilon\n",
    "# epsilon_final : last number of epsilon\n",
    "# exploration_step : number of steps for pure exploration\n",
    "# epsilon_step : number of steps for epsilon decrease\n",
    "# gamma : discount rate\n",
    "# skip_frame : number of steps which automatically use past action\n",
    "\n",
    "params"
   ]
  },
  {
   "cell_type": "code",
   "execution_count": 5,
   "metadata": {},
   "outputs": [],
   "source": [
    "import tensorflow.contrib.eager as tfe\n",
    "device = 'gpu:0' if tfe.num_gpus() > 0 else 'cpu:0'\n"
   ]
  },
  {
   "cell_type": "code",
   "execution_count": 7,
   "metadata": {
    "scrolled": false
   },
   "outputs": [
    {
     "name": "stderr",
     "output_type": "stream",
     "text": [
      "/home/aksdmj/.virtualenvs/classic368/lib/python3.6/site-packages/gym/envs/registration.py:14: PkgResourcesDeprecationWarning: Parameters to load are deprecated.  Call .resolve and .require separately.\n",
      "  result = entry_point.load(False)\n"
     ]
    },
    {
     "name": "stdout",
     "output_type": "stream",
     "text": [
      "_________________________________________________________________\n",
      "Layer (type)                 Output Shape              Param #   \n",
      "=================================================================\n",
      "conv1 (Conv2D)               multiple                  4112      \n",
      "_________________________________________________________________\n",
      "conv2 (Conv2D)               multiple                  8224      \n",
      "_________________________________________________________________\n",
      "dense (Dense)                multiple                  8448      \n",
      "_________________________________________________________________\n",
      "flatten (Flatten)            multiple                  0         \n",
      "_________________________________________________________________\n",
      "Q (Dense)                    multiple                  123908    \n",
      "_________________________________________________________________\n",
      "conv1_target (Conv2D)        multiple                  4112      \n",
      "_________________________________________________________________\n",
      "conv2_target (Conv2D)        multiple                  8224      \n",
      "_________________________________________________________________\n",
      "dense_target (Dense)         multiple                  8448      \n",
      "_________________________________________________________________\n",
      "Q_target (Dense)             multiple                  123908    \n",
      "=================================================================\n",
      "Total params: 289,384\n",
      "Trainable params: 144,692\n",
      "Non-trainable params: 144,692\n",
      "_________________________________________________________________\n"
     ]
    }
   ],
   "source": [
    "env = Environment(params, device_name=device)"
   ]
  },
  {
   "cell_type": "code",
   "execution_count": null,
   "metadata": {},
   "outputs": [
    {
     "name": "stderr",
     "output_type": "stream",
     "text": [
      "\r",
      "  0%|          | 0/50000 [00:00<?, ?it/s]"
     ]
    },
    {
     "name": "stdout",
     "output_type": "stream",
     "text": [
      "\u001b[31m[EPISODE   1 / STEP   230] - EXPLORATION\n",
      "\u001b[32mLearned Step :    0\n",
      "\u001b[34mAVG   Return : 1.0000\n"
     ]
    },
    {
     "name": "stderr",
     "output_type": "stream",
     "text": [
      "\r",
      "  0%|          | 1/50000 [00:00<4:29:26,  3.09it/s]"
     ]
    },
    {
     "name": "stdout",
     "output_type": "stream",
     "text": [
      "saved step 0 in ckpt/\n"
     ]
    },
    {
     "name": "stderr",
     "output_type": "stream",
     "text": [
      "  0%|          | 50/50000 [00:07<2:41:22,  5.16it/s]"
     ]
    },
    {
     "name": "stdout",
     "output_type": "stream",
     "text": [
      "\u001b[31m[EPISODE  50 / STEP 12314] - EXPLORATION\n",
      "\u001b[32mLearned Step :    0\n",
      "\u001b[34mAVG   Return : 1.3265\n",
      "saved step 0 in ckpt/\n"
     ]
    },
    {
     "name": "stderr",
     "output_type": "stream",
     "text": [
      "  0%|          | 100/50000 [00:15<2:05:30,  6.63it/s]"
     ]
    },
    {
     "name": "stdout",
     "output_type": "stream",
     "text": [
      "\u001b[31m[EPISODE 100 / STEP 24911] - EXPLORATION\n",
      "\u001b[32mLearned Step :    0\n",
      "\u001b[34mAVG   Return : 1.4600\n",
      "saved step 0 in ckpt/\n"
     ]
    },
    {
     "name": "stderr",
     "output_type": "stream",
     "text": [
      "  0%|          | 151/50000 [00:23<1:53:50,  7.30it/s]"
     ]
    },
    {
     "name": "stdout",
     "output_type": "stream",
     "text": [
      "\u001b[31m[EPISODE 150 / STEP 36846] - EXPLORATION\n",
      "\u001b[32mLearned Step :    0\n",
      "\u001b[34mAVG   Return : 1.1600\n",
      "saved step 0 in ckpt/\n"
     ]
    },
    {
     "name": "stderr",
     "output_type": "stream",
     "text": [
      "  0%|          | 201/50000 [00:30<2:15:55,  6.11it/s]"
     ]
    },
    {
     "name": "stdout",
     "output_type": "stream",
     "text": [
      "\u001b[31m[EPISODE 200 / STEP 49331] - EXPLORATION\n",
      "\u001b[32mLearned Step :    0\n",
      "\u001b[34mAVG   Return : 1.3000\n",
      "saved step 0 in ckpt/\n"
     ]
    },
    {
     "name": "stderr",
     "output_type": "stream",
     "text": [
      "  0%|          | 250/50000 [01:23<14:38:09,  1.06s/it]"
     ]
    },
    {
     "name": "stdout",
     "output_type": "stream",
     "text": [
      "\u001b[31m[EPISODE 250 / STEP 63394] - EPSILON-GREEDY : 0.9879\n",
      "\u001b[32mLearned Step : 3365\n",
      "\u001b[34mAVG   Return : 1.2000\n",
      "saved step 3365 in ckpt/\n"
     ]
    },
    {
     "name": "stderr",
     "output_type": "stream",
     "text": [
      "  1%|          | 300/50000 [02:25<18:27:44,  1.34s/it]"
     ]
    },
    {
     "name": "stdout",
     "output_type": "stream",
     "text": [
      "\u001b[31m[EPISODE 300 / STEP 79508] - EPSILON-GREEDY : 0.9734\n",
      "\u001b[32mLearned Step : 7411\n",
      "\u001b[34mAVG   Return : 2.0600\n",
      "saved step 7411 in ckpt/\n"
     ]
    },
    {
     "name": "stderr",
     "output_type": "stream",
     "text": [
      "  1%|          | 350/50000 [03:22<15:49:04,  1.15s/it]"
     ]
    },
    {
     "name": "stdout",
     "output_type": "stream",
     "text": [
      "\u001b[31m[EPISODE 350 / STEP 94496] - EPSILON-GREEDY : 0.9600\n",
      "\u001b[32mLearned Step : 11178\n",
      "\u001b[34mAVG   Return : 1.6400\n",
      "saved step 11178 in ckpt/\n"
     ]
    },
    {
     "name": "stderr",
     "output_type": "stream",
     "text": [
      "  1%|          | 400/50000 [04:15<12:59:38,  1.06it/s]"
     ]
    },
    {
     "name": "stdout",
     "output_type": "stream",
     "text": [
      "\u001b[31m[EPISODE 400 / STEP 108401] - EPSILON-GREEDY : 0.9474\n",
      "\u001b[32mLearned Step : 14675\n",
      "\u001b[34mAVG   Return : 1.4000\n",
      "saved step 14675 in ckpt/\n"
     ]
    },
    {
     "name": "stderr",
     "output_type": "stream",
     "text": [
      "  1%|          | 450/50000 [05:10<14:21:27,  1.04s/it]"
     ]
    },
    {
     "name": "stdout",
     "output_type": "stream",
     "text": [
      "\u001b[31m[EPISODE 450 / STEP 122781] - EPSILON-GREEDY : 0.9345\n",
      "\u001b[32mLearned Step : 18284\n",
      "\u001b[34mAVG   Return : 1.5000\n",
      "saved step 18284 in ckpt/\n"
     ]
    },
    {
     "name": "stderr",
     "output_type": "stream",
     "text": [
      "  1%|          | 500/50000 [06:06<12:54:35,  1.07it/s]"
     ]
    },
    {
     "name": "stdout",
     "output_type": "stream",
     "text": [
      "\u001b[31m[EPISODE 500 / STEP 137152] - EPSILON-GREEDY : 0.9216\n",
      "\u001b[32mLearned Step : 21895\n",
      "\u001b[34mAVG   Return : 1.6000\n",
      "saved step 21895 in ckpt/\n"
     ]
    },
    {
     "name": "stderr",
     "output_type": "stream",
     "text": [
      "  1%|          | 550/50000 [07:02<14:57:14,  1.09s/it]"
     ]
    },
    {
     "name": "stdout",
     "output_type": "stream",
     "text": [
      "\u001b[31m[EPISODE 550 / STEP 151836] - EPSILON-GREEDY : 0.9083\n",
      "\u001b[32mLearned Step : 25586\n",
      "\u001b[34mAVG   Return : 1.4800\n",
      "saved step 25586 in ckpt/\n"
     ]
    },
    {
     "name": "stderr",
     "output_type": "stream",
     "text": [
      "  1%|          | 600/50000 [07:56<15:28:15,  1.13s/it]"
     ]
    },
    {
     "name": "stdout",
     "output_type": "stream",
     "text": [
      "\u001b[31m[EPISODE 600 / STEP 165777] - EPSILON-GREEDY : 0.8958\n",
      "\u001b[32mLearned Step : 29090\n",
      "\u001b[34mAVG   Return : 1.4400\n",
      "saved step 29090 in ckpt/\n"
     ]
    },
    {
     "name": "stderr",
     "output_type": "stream",
     "text": [
      "  1%|▏         | 650/50000 [08:51<14:40:33,  1.07s/it]"
     ]
    },
    {
     "name": "stdout",
     "output_type": "stream",
     "text": [
      "\u001b[31m[EPISODE 650 / STEP 179807] - EPSILON-GREEDY : 0.8832\n",
      "\u001b[32mLearned Step : 32618\n",
      "\u001b[34mAVG   Return : 1.4200\n",
      "saved step 32618 in ckpt/\n"
     ]
    },
    {
     "name": "stderr",
     "output_type": "stream",
     "text": [
      "  1%|▏         | 700/50000 [09:48<13:37:21,  1.01it/s]"
     ]
    },
    {
     "name": "stdout",
     "output_type": "stream",
     "text": [
      "\u001b[31m[EPISODE 700 / STEP 194257] - EPSILON-GREEDY : 0.8702\n",
      "\u001b[32mLearned Step : 36249\n",
      "\u001b[34mAVG   Return : 1.5000\n",
      "saved step 36249 in ckpt/\n"
     ]
    },
    {
     "name": "stderr",
     "output_type": "stream",
     "text": [
      "  2%|▏         | 750/50000 [10:43<15:22:41,  1.12s/it]"
     ]
    },
    {
     "name": "stdout",
     "output_type": "stream",
     "text": [
      "\u001b[31m[EPISODE 750 / STEP 208221] - EPSILON-GREEDY : 0.8576\n",
      "\u001b[32mLearned Step : 39762\n",
      "\u001b[34mAVG   Return : 1.5600\n",
      "saved step 39762 in ckpt/\n"
     ]
    },
    {
     "name": "stderr",
     "output_type": "stream",
     "text": [
      "  2%|▏         | 800/50000 [11:40<15:44:05,  1.15s/it]"
     ]
    },
    {
     "name": "stdout",
     "output_type": "stream",
     "text": [
      "\u001b[31m[EPISODE 800 / STEP 222686] - EPSILON-GREEDY : 0.8446\n",
      "\u001b[32mLearned Step : 43399\n",
      "\u001b[34mAVG   Return : 1.8600\n",
      "saved step 43399 in ckpt/\n"
     ]
    },
    {
     "name": "stderr",
     "output_type": "stream",
     "text": [
      "  2%|▏         | 850/50000 [12:35<15:53:41,  1.16s/it]"
     ]
    },
    {
     "name": "stdout",
     "output_type": "stream",
     "text": [
      "\u001b[31m[EPISODE 850 / STEP 236700] - EPSILON-GREEDY : 0.8320\n",
      "\u001b[32mLearned Step : 46921\n",
      "\u001b[34mAVG   Return : 1.5400\n",
      "saved step 46921 in ckpt/\n"
     ]
    },
    {
     "name": "stderr",
     "output_type": "stream",
     "text": [
      "  2%|▏         | 900/50000 [13:32<15:49:18,  1.16s/it]"
     ]
    },
    {
     "name": "stdout",
     "output_type": "stream",
     "text": [
      "\u001b[31m[EPISODE 900 / STEP 251122] - EPSILON-GREEDY : 0.8190\n",
      "\u001b[32mLearned Step : 50547\n",
      "\u001b[34mAVG   Return : 1.7600\n",
      "saved step 50547 in ckpt/\n"
     ]
    },
    {
     "name": "stderr",
     "output_type": "stream",
     "text": [
      "  2%|▏         | 950/50000 [14:27<13:43:07,  1.01s/it]"
     ]
    },
    {
     "name": "stdout",
     "output_type": "stream",
     "text": [
      "\u001b[31m[EPISODE 950 / STEP 265024] - EPSILON-GREEDY : 0.8065\n",
      "\u001b[32mLearned Step : 54043\n",
      "\u001b[34mAVG   Return : 1.6200\n",
      "saved step 54043 in ckpt/\n"
     ]
    },
    {
     "name": "stderr",
     "output_type": "stream",
     "text": [
      "  2%|▏         | 1000/50000 [15:24<14:20:10,  1.05s/it]"
     ]
    },
    {
     "name": "stdout",
     "output_type": "stream",
     "text": [
      "\u001b[31m[EPISODE 1000 / STEP 279137] - EPSILON-GREEDY : 0.7938\n",
      "\u001b[32mLearned Step : 57592\n",
      "\u001b[34mAVG   Return : 1.6400\n",
      "saved step 57592 in ckpt/\n"
     ]
    },
    {
     "name": "stderr",
     "output_type": "stream",
     "text": [
      "  2%|▏         | 1050/50000 [16:19<15:09:30,  1.11s/it]"
     ]
    },
    {
     "name": "stdout",
     "output_type": "stream",
     "text": [
      "\u001b[31m[EPISODE 1050 / STEP 292970] - EPSILON-GREEDY : 0.7813\n",
      "\u001b[32mLearned Step : 61067\n",
      "\u001b[34mAVG   Return : 1.5800\n",
      "saved step 61067 in ckpt/\n"
     ]
    },
    {
     "name": "stderr",
     "output_type": "stream",
     "text": [
      "  2%|▏         | 1100/50000 [17:19<16:35:32,  1.22s/it]"
     ]
    },
    {
     "name": "stdout",
     "output_type": "stream",
     "text": [
      "\u001b[31m[EPISODE 1100 / STEP 308048] - EPSILON-GREEDY : 0.7678\n",
      "\u001b[32mLearned Step : 64857\n",
      "\u001b[34mAVG   Return : 2.0400\n",
      "saved step 64857 in ckpt/\n"
     ]
    },
    {
     "name": "stderr",
     "output_type": "stream",
     "text": [
      "  2%|▏         | 1150/50000 [18:18<14:50:54,  1.09s/it]"
     ]
    },
    {
     "name": "stdout",
     "output_type": "stream",
     "text": [
      "\u001b[31m[EPISODE 1150 / STEP 322579] - EPSILON-GREEDY : 0.7547\n",
      "\u001b[32mLearned Step : 68505\n",
      "\u001b[34mAVG   Return : 1.7600\n",
      "saved step 68505 in ckpt/\n"
     ]
    },
    {
     "name": "stderr",
     "output_type": "stream",
     "text": [
      "  2%|▏         | 1200/50000 [19:14<15:24:44,  1.14s/it]"
     ]
    },
    {
     "name": "stdout",
     "output_type": "stream",
     "text": [
      "\u001b[31m[EPISODE 1200 / STEP 336539] - EPSILON-GREEDY : 0.7421\n",
      "\u001b[32mLearned Step : 72012\n",
      "\u001b[34mAVG   Return : 1.7800\n",
      "saved step 72012 in ckpt/\n"
     ]
    },
    {
     "name": "stderr",
     "output_type": "stream",
     "text": [
      "  2%|▎         | 1250/50000 [20:15<20:26:58,  1.51s/it]"
     ]
    },
    {
     "name": "stdout",
     "output_type": "stream",
     "text": [
      "\u001b[31m[EPISODE 1250 / STEP 351847] - EPSILON-GREEDY : 0.7283\n",
      "\u001b[32mLearned Step : 75856\n",
      "\u001b[34mAVG   Return : 2.1200\n",
      "saved step 75856 in ckpt/\n"
     ]
    },
    {
     "name": "stderr",
     "output_type": "stream",
     "text": [
      "  3%|▎         | 1300/50000 [21:12<13:48:07,  1.02s/it]"
     ]
    },
    {
     "name": "stdout",
     "output_type": "stream",
     "text": [
      "\u001b[31m[EPISODE 1300 / STEP 365793] - EPSILON-GREEDY : 0.7158\n",
      "\u001b[32mLearned Step : 79359\n",
      "\u001b[34mAVG   Return : 1.7000\n",
      "saved step 79359 in ckpt/\n"
     ]
    },
    {
     "name": "stderr",
     "output_type": "stream",
     "text": [
      "  3%|▎         | 1350/50000 [22:12<14:26:11,  1.07s/it]"
     ]
    },
    {
     "name": "stdout",
     "output_type": "stream",
     "text": [
      "\u001b[31m[EPISODE 1350 / STEP 380574] - EPSILON-GREEDY : 0.7025\n",
      "\u001b[32mLearned Step : 83075\n",
      "\u001b[34mAVG   Return : 1.8600\n",
      "saved step 83075 in ckpt/\n"
     ]
    },
    {
     "name": "stderr",
     "output_type": "stream",
     "text": [
      "  3%|▎         | 1400/50000 [23:07<14:15:17,  1.06s/it]"
     ]
    },
    {
     "name": "stdout",
     "output_type": "stream",
     "text": [
      "\u001b[31m[EPISODE 1400 / STEP 393956] - EPSILON-GREEDY : 0.6904\n",
      "\u001b[32mLearned Step : 86440\n",
      "\u001b[34mAVG   Return : 1.6000\n",
      "saved step 86440 in ckpt/\n"
     ]
    },
    {
     "name": "stderr",
     "output_type": "stream",
     "text": [
      "  3%|▎         | 1450/50000 [24:04<15:19:27,  1.14s/it]"
     ]
    },
    {
     "name": "stdout",
     "output_type": "stream",
     "text": [
      "\u001b[31m[EPISODE 1450 / STEP 407809] - EPSILON-GREEDY : 0.6780\n",
      "\u001b[32mLearned Step : 89918\n",
      "\u001b[34mAVG   Return : 1.7200\n",
      "saved step 89918 in ckpt/\n"
     ]
    },
    {
     "name": "stderr",
     "output_type": "stream",
     "text": [
      "  3%|▎         | 1500/50000 [25:01<15:56:11,  1.18s/it]"
     ]
    },
    {
     "name": "stdout",
     "output_type": "stream",
     "text": [
      "\u001b[31m[EPISODE 1500 / STEP 421745] - EPSILON-GREEDY : 0.6654\n",
      "\u001b[32mLearned Step : 93423\n",
      "\u001b[34mAVG   Return : 1.7800\n",
      "saved step 93423 in ckpt/\n"
     ]
    },
    {
     "name": "stderr",
     "output_type": "stream",
     "text": [
      "  3%|▎         | 1550/50000 [25:56<15:18:35,  1.14s/it]"
     ]
    },
    {
     "name": "stdout",
     "output_type": "stream",
     "text": [
      "\u001b[31m[EPISODE 1550 / STEP 435170] - EPSILON-GREEDY : 0.6533\n",
      "\u001b[32mLearned Step : 96797\n",
      "\u001b[34mAVG   Return : 1.6800\n",
      "saved step 96797 in ckpt/\n"
     ]
    },
    {
     "name": "stderr",
     "output_type": "stream",
     "text": [
      "  3%|▎         | 1600/50000 [26:53<15:30:15,  1.15s/it]"
     ]
    },
    {
     "name": "stdout",
     "output_type": "stream",
     "text": [
      "\u001b[31m[EPISODE 1600 / STEP 448859] - EPSILON-GREEDY : 0.6410\n",
      "\u001b[32mLearned Step : 100240\n",
      "\u001b[34mAVG   Return : 1.7000\n",
      "saved step 100240 in ckpt/\n"
     ]
    },
    {
     "name": "stderr",
     "output_type": "stream",
     "text": [
      "  3%|▎         | 1650/50000 [27:51<14:44:28,  1.10s/it]"
     ]
    },
    {
     "name": "stdout",
     "output_type": "stream",
     "text": [
      "\u001b[31m[EPISODE 1650 / STEP 462817] - EPSILON-GREEDY : 0.6285\n",
      "\u001b[32mLearned Step : 103751\n",
      "\u001b[34mAVG   Return : 1.8400\n",
      "saved step 103751 in ckpt/\n"
     ]
    },
    {
     "name": "stderr",
     "output_type": "stream",
     "text": [
      "  3%|▎         | 1700/50000 [28:49<18:11:46,  1.36s/it]"
     ]
    },
    {
     "name": "stdout",
     "output_type": "stream",
     "text": [
      "\u001b[31m[EPISODE 1700 / STEP 476732] - EPSILON-GREEDY : 0.6159\n",
      "\u001b[32mLearned Step : 107251\n",
      "\u001b[34mAVG   Return : 1.9000\n",
      "saved step 107251 in ckpt/\n"
     ]
    },
    {
     "name": "stderr",
     "output_type": "stream",
     "text": [
      "  4%|▎         | 1750/50000 [29:48<16:49:59,  1.26s/it]"
     ]
    },
    {
     "name": "stdout",
     "output_type": "stream",
     "text": [
      "\u001b[31m[EPISODE 1750 / STEP 490826] - EPSILON-GREEDY : 0.6033\n",
      "\u001b[32mLearned Step : 110795\n",
      "\u001b[34mAVG   Return : 1.9600\n",
      "saved step 110795 in ckpt/\n"
     ]
    },
    {
     "name": "stderr",
     "output_type": "stream",
     "text": [
      "  4%|▎         | 1800/50000 [30:43<16:19:27,  1.22s/it]"
     ]
    },
    {
     "name": "stdout",
     "output_type": "stream",
     "text": [
      "\u001b[31m[EPISODE 1800 / STEP 504154] - EPSILON-GREEDY : 0.5913\n",
      "\u001b[32mLearned Step : 114144\n",
      "\u001b[34mAVG   Return : 1.7000\n",
      "saved step 114144 in ckpt/\n"
     ]
    },
    {
     "name": "stderr",
     "output_type": "stream",
     "text": [
      "  4%|▎         | 1850/50000 [31:44<13:37:59,  1.02s/it]"
     ]
    },
    {
     "name": "stdout",
     "output_type": "stream",
     "text": [
      "\u001b[31m[EPISODE 1850 / STEP 518521] - EPSILON-GREEDY : 0.5783\n",
      "\u001b[32mLearned Step : 117755\n",
      "\u001b[34mAVG   Return : 2.1200\n",
      "saved step 117755 in ckpt/\n"
     ]
    },
    {
     "name": "stderr",
     "output_type": "stream",
     "text": [
      "  4%|▍         | 1900/50000 [32:44<13:23:36,  1.00s/it]"
     ]
    },
    {
     "name": "stdout",
     "output_type": "stream",
     "text": [
      "\u001b[31m[EPISODE 1900 / STEP 532717] - EPSILON-GREEDY : 0.5656\n",
      "\u001b[32mLearned Step : 121322\n",
      "\u001b[34mAVG   Return : 2.0000\n",
      "saved step 121322 in ckpt/\n"
     ]
    },
    {
     "name": "stderr",
     "output_type": "stream",
     "text": [
      "  4%|▍         | 1950/50000 [33:43<13:55:10,  1.04s/it]"
     ]
    },
    {
     "name": "stdout",
     "output_type": "stream",
     "text": [
      "\u001b[31m[EPISODE 1950 / STEP 546589] - EPSILON-GREEDY : 0.5531\n",
      "\u001b[32mLearned Step : 124809\n",
      "\u001b[34mAVG   Return : 1.8000\n",
      "saved step 124809 in ckpt/\n"
     ]
    },
    {
     "name": "stderr",
     "output_type": "stream",
     "text": [
      "  4%|▍         | 2000/50000 [34:41<15:22:57,  1.15s/it]"
     ]
    },
    {
     "name": "stdout",
     "output_type": "stream",
     "text": [
      "\u001b[31m[EPISODE 2000 / STEP 560189] - EPSILON-GREEDY : 0.5408\n",
      "\u001b[32mLearned Step : 128228\n",
      "\u001b[34mAVG   Return : 1.7800\n",
      "saved step 128228 in ckpt/\n"
     ]
    },
    {
     "name": "stderr",
     "output_type": "stream",
     "text": [
      "  4%|▍         | 2050/50000 [35:41<13:55:16,  1.05s/it]"
     ]
    },
    {
     "name": "stdout",
     "output_type": "stream",
     "text": [
      "\u001b[31m[EPISODE 2050 / STEP 574129] - EPSILON-GREEDY : 0.5283\n",
      "\u001b[32mLearned Step : 131731\n",
      "\u001b[34mAVG   Return : 1.9000\n",
      "saved step 131731 in ckpt/\n"
     ]
    },
    {
     "name": "stderr",
     "output_type": "stream",
     "text": [
      "  4%|▍         | 2100/50000 [36:44<17:33:14,  1.32s/it]"
     ]
    },
    {
     "name": "stdout",
     "output_type": "stream",
     "text": [
      "\u001b[31m[EPISODE 2100 / STEP 588661] - EPSILON-GREEDY : 0.5152\n",
      "\u001b[32mLearned Step : 135384\n",
      "\u001b[34mAVG   Return : 2.2600\n",
      "saved step 135384 in ckpt/\n"
     ]
    },
    {
     "name": "stderr",
     "output_type": "stream",
     "text": [
      "  4%|▍         | 2150/50000 [37:50<16:03:48,  1.21s/it]"
     ]
    },
    {
     "name": "stdout",
     "output_type": "stream",
     "text": [
      "\u001b[31m[EPISODE 2150 / STEP 603838] - EPSILON-GREEDY : 0.5015\n",
      "\u001b[32mLearned Step : 139197\n",
      "\u001b[34mAVG   Return : 2.3800\n",
      "saved step 139197 in ckpt/\n"
     ]
    },
    {
     "name": "stderr",
     "output_type": "stream",
     "text": [
      "  4%|▍         | 2200/50000 [38:50<16:46:28,  1.26s/it]"
     ]
    },
    {
     "name": "stdout",
     "output_type": "stream",
     "text": [
      "\u001b[31m[EPISODE 2200 / STEP 617705] - EPSILON-GREEDY : 0.4891\n",
      "\u001b[32mLearned Step : 142683\n",
      "\u001b[34mAVG   Return : 2.0000\n",
      "saved step 142683 in ckpt/\n"
     ]
    },
    {
     "name": "stderr",
     "output_type": "stream",
     "text": [
      "  4%|▍         | 2250/50000 [39:52<13:50:30,  1.04s/it]"
     ]
    },
    {
     "name": "stdout",
     "output_type": "stream",
     "text": [
      "\u001b[31m[EPISODE 2250 / STEP 632019] - EPSILON-GREEDY : 0.4762\n",
      "\u001b[32mLearned Step : 146279\n",
      "\u001b[34mAVG   Return : 2.0200\n",
      "saved step 146279 in ckpt/\n"
     ]
    },
    {
     "name": "stderr",
     "output_type": "stream",
     "text": [
      "  5%|▍         | 2300/50000 [40:59<18:46:06,  1.42s/it]"
     ]
    },
    {
     "name": "stdout",
     "output_type": "stream",
     "text": [
      "\u001b[31m[EPISODE 2300 / STEP 647712] - EPSILON-GREEDY : 0.4621\n",
      "\u001b[32mLearned Step : 150220\n",
      "\u001b[34mAVG   Return : 2.5000\n",
      "saved step 150220 in ckpt/\n"
     ]
    },
    {
     "name": "stderr",
     "output_type": "stream",
     "text": [
      "  5%|▍         | 2350/50000 [42:02<14:42:06,  1.11s/it]"
     ]
    },
    {
     "name": "stdout",
     "output_type": "stream",
     "text": [
      "\u001b[31m[EPISODE 2350 / STEP 662121] - EPSILON-GREEDY : 0.4491\n",
      "\u001b[32mLearned Step : 153844\n",
      "\u001b[34mAVG   Return : 2.2200\n",
      "saved step 153844 in ckpt/\n"
     ]
    },
    {
     "name": "stderr",
     "output_type": "stream",
     "text": [
      "  5%|▍         | 2400/50000 [43:04<17:30:20,  1.32s/it]"
     ]
    },
    {
     "name": "stdout",
     "output_type": "stream",
     "text": [
      "\u001b[31m[EPISODE 2400 / STEP 676310] - EPSILON-GREEDY : 0.4363\n",
      "\u001b[32mLearned Step : 157409\n",
      "\u001b[34mAVG   Return : 1.9600\n",
      "saved step 157409 in ckpt/\n"
     ]
    },
    {
     "name": "stderr",
     "output_type": "stream",
     "text": [
      "  5%|▍         | 2450/50000 [44:07<15:45:05,  1.19s/it]"
     ]
    },
    {
     "name": "stdout",
     "output_type": "stream",
     "text": [
      "\u001b[31m[EPISODE 2450 / STEP 690737] - EPSILON-GREEDY : 0.4233\n",
      "\u001b[32mLearned Step : 161033\n",
      "\u001b[34mAVG   Return : 2.1000\n",
      "saved step 161033 in ckpt/\n"
     ]
    },
    {
     "name": "stderr",
     "output_type": "stream",
     "text": [
      "  5%|▌         | 2500/50000 [45:16<20:38:58,  1.57s/it]"
     ]
    },
    {
     "name": "stdout",
     "output_type": "stream",
     "text": [
      "\u001b[31m[EPISODE 2500 / STEP 706338] - EPSILON-GREEDY : 0.4093\n",
      "\u001b[32mLearned Step : 164955\n",
      "\u001b[34mAVG   Return : 2.6400\n",
      "saved step 164955 in ckpt/\n"
     ]
    },
    {
     "name": "stderr",
     "output_type": "stream",
     "text": [
      "  5%|▌         | 2550/50000 [46:23<15:31:05,  1.18s/it]"
     ]
    },
    {
     "name": "stdout",
     "output_type": "stream",
     "text": [
      "\u001b[31m[EPISODE 2550 / STEP 721363] - EPSILON-GREEDY : 0.3958\n",
      "\u001b[32mLearned Step : 168729\n",
      "\u001b[34mAVG   Return : 2.3000\n",
      "saved step 168729 in ckpt/\n"
     ]
    },
    {
     "name": "stderr",
     "output_type": "stream",
     "text": [
      "  5%|▌         | 2600/50000 [47:23<16:35:45,  1.26s/it]"
     ]
    },
    {
     "name": "stdout",
     "output_type": "stream",
     "text": [
      "\u001b[31m[EPISODE 2600 / STEP 734881] - EPSILON-GREEDY : 0.3836\n",
      "\u001b[32mLearned Step : 172126\n",
      "\u001b[34mAVG   Return : 1.9400\n",
      "saved step 172126 in ckpt/\n"
     ]
    },
    {
     "name": "stderr",
     "output_type": "stream",
     "text": [
      "  5%|▌         | 2650/50000 [48:28<17:16:57,  1.31s/it]"
     ]
    },
    {
     "name": "stdout",
     "output_type": "stream",
     "text": [
      "\u001b[31m[EPISODE 2650 / STEP 749415] - EPSILON-GREEDY : 0.3705\n",
      "\u001b[32mLearned Step : 175777\n",
      "\u001b[34mAVG   Return : 2.0400\n",
      "saved step 175777 in ckpt/\n"
     ]
    },
    {
     "name": "stderr",
     "output_type": "stream",
     "text": [
      "  5%|▌         | 2700/50000 [49:35<18:44:35,  1.43s/it]"
     ]
    },
    {
     "name": "stdout",
     "output_type": "stream",
     "text": [
      "\u001b[31m[EPISODE 2700 / STEP 764444] - EPSILON-GREEDY : 0.3570\n",
      "\u001b[32mLearned Step : 179553\n",
      "\u001b[34mAVG   Return : 2.2600\n",
      "saved step 179553 in ckpt/\n"
     ]
    },
    {
     "name": "stderr",
     "output_type": "stream",
     "text": [
      "  6%|▌         | 2750/50000 [50:43<17:01:48,  1.30s/it]"
     ]
    },
    {
     "name": "stdout",
     "output_type": "stream",
     "text": [
      "\u001b[31m[EPISODE 2750 / STEP 779740] - EPSILON-GREEDY : 0.3432\n",
      "\u001b[32mLearned Step : 183394\n",
      "\u001b[34mAVG   Return : 2.4200\n",
      "saved step 183394 in ckpt/\n"
     ]
    },
    {
     "name": "stderr",
     "output_type": "stream",
     "text": [
      "  6%|▌         | 2800/50000 [51:46<17:53:11,  1.36s/it]"
     ]
    },
    {
     "name": "stdout",
     "output_type": "stream",
     "text": [
      "\u001b[31m[EPISODE 2800 / STEP 794001] - EPSILON-GREEDY : 0.3304\n",
      "\u001b[32mLearned Step : 186977\n",
      "\u001b[34mAVG   Return : 2.1200\n",
      "saved step 186977 in ckpt/\n"
     ]
    },
    {
     "name": "stderr",
     "output_type": "stream",
     "text": [
      "  6%|▌         | 2850/50000 [52:55<17:40:21,  1.35s/it]"
     ]
    },
    {
     "name": "stdout",
     "output_type": "stream",
     "text": [
      "\u001b[31m[EPISODE 2850 / STEP 809006] - EPSILON-GREEDY : 0.3169\n",
      "\u001b[32mLearned Step : 190748\n",
      "\u001b[34mAVG   Return : 2.7000\n",
      "saved step 190748 in ckpt/\n"
     ]
    },
    {
     "name": "stderr",
     "output_type": "stream",
     "text": [
      "  6%|▌         | 2900/50000 [54:03<19:29:21,  1.49s/it]"
     ]
    },
    {
     "name": "stdout",
     "output_type": "stream",
     "text": [
      "\u001b[31m[EPISODE 2900 / STEP 824115] - EPSILON-GREEDY : 0.3033\n",
      "\u001b[32mLearned Step : 194543\n",
      "\u001b[34mAVG   Return : 2.5000\n",
      "saved step 194543 in ckpt/\n"
     ]
    },
    {
     "name": "stderr",
     "output_type": "stream",
     "text": [
      "  6%|▌         | 2950/50000 [55:12<19:47:05,  1.51s/it]"
     ]
    },
    {
     "name": "stdout",
     "output_type": "stream",
     "text": [
      "\u001b[31m[EPISODE 2950 / STEP 839352] - EPSILON-GREEDY : 0.2896\n",
      "\u001b[32mLearned Step : 198371\n",
      "\u001b[34mAVG   Return : 2.6000\n",
      "saved step 198371 in ckpt/\n"
     ]
    },
    {
     "name": "stderr",
     "output_type": "stream",
     "text": [
      "  6%|▌         | 3000/50000 [56:21<16:43:30,  1.28s/it]"
     ]
    },
    {
     "name": "stdout",
     "output_type": "stream",
     "text": [
      "\u001b[31m[EPISODE 3000 / STEP 854598] - EPSILON-GREEDY : 0.2759\n",
      "\u001b[32mLearned Step : 202203\n",
      "\u001b[34mAVG   Return : 2.4600\n",
      "saved step 202203 in ckpt/\n"
     ]
    },
    {
     "name": "stderr",
     "output_type": "stream",
     "text": [
      "  6%|▌         | 3050/50000 [57:23<19:28:50,  1.49s/it]"
     ]
    },
    {
     "name": "stdout",
     "output_type": "stream",
     "text": [
      "\u001b[31m[EPISODE 3050 / STEP 868055] - EPSILON-GREEDY : 0.2637\n",
      "\u001b[32mLearned Step : 205584\n",
      "\u001b[34mAVG   Return : 1.7800\n",
      "saved step 205584 in ckpt/\n"
     ]
    },
    {
     "name": "stderr",
     "output_type": "stream",
     "text": [
      "  6%|▌         | 3100/50000 [58:30<16:14:02,  1.25s/it]"
     ]
    },
    {
     "name": "stdout",
     "output_type": "stream",
     "text": [
      "\u001b[31m[EPISODE 3100 / STEP 882423] - EPSILON-GREEDY : 0.2508\n",
      "\u001b[32mLearned Step : 209196\n",
      "\u001b[34mAVG   Return : 2.0800\n",
      "saved step 209196 in ckpt/\n"
     ]
    },
    {
     "name": "stderr",
     "output_type": "stream",
     "text": [
      "  6%|▋         | 3150/50000 [59:36<15:05:59,  1.16s/it]"
     ]
    },
    {
     "name": "stdout",
     "output_type": "stream",
     "text": [
      "\u001b[31m[EPISODE 3150 / STEP 896530] - EPSILON-GREEDY : 0.2381\n",
      "\u001b[32mLearned Step : 212743\n",
      "\u001b[34mAVG   Return : 2.0600\n",
      "saved step 212743 in ckpt/\n"
     ]
    },
    {
     "name": "stderr",
     "output_type": "stream",
     "text": [
      "  6%|▋         | 3200/50000 [1:00:40<14:16:03,  1.10s/it]"
     ]
    },
    {
     "name": "stdout",
     "output_type": "stream",
     "text": [
      "\u001b[31m[EPISODE 3200 / STEP 910307] - EPSILON-GREEDY : 0.2257\n",
      "\u001b[32mLearned Step : 216203\n",
      "\u001b[34mAVG   Return : 1.9400\n",
      "saved step 216203 in ckpt/\n"
     ]
    },
    {
     "name": "stderr",
     "output_type": "stream",
     "text": [
      "  6%|▋         | 3250/50000 [1:01:44<14:28:41,  1.11s/it]"
     ]
    },
    {
     "name": "stdout",
     "output_type": "stream",
     "text": [
      "\u001b[31m[EPISODE 3250 / STEP 924150] - EPSILON-GREEDY : 0.2133\n",
      "\u001b[32mLearned Step : 219684\n",
      "\u001b[34mAVG   Return : 1.9800\n",
      "saved step 219684 in ckpt/\n"
     ]
    },
    {
     "name": "stderr",
     "output_type": "stream",
     "text": [
      "  7%|▋         | 3300/50000 [1:02:51<18:48:44,  1.45s/it]"
     ]
    },
    {
     "name": "stdout",
     "output_type": "stream",
     "text": [
      "\u001b[31m[EPISODE 3300 / STEP 938573] - EPSILON-GREEDY : 0.2003\n",
      "\u001b[32mLearned Step : 223307\n",
      "\u001b[34mAVG   Return : 2.3000\n",
      "saved step 223307 in ckpt/\n"
     ]
    },
    {
     "name": "stderr",
     "output_type": "stream",
     "text": [
      "  7%|▋         | 3350/50000 [1:04:00<18:18:39,  1.41s/it]"
     ]
    },
    {
     "name": "stdout",
     "output_type": "stream",
     "text": [
      "\u001b[31m[EPISODE 3350 / STEP 953465] - EPSILON-GREEDY : 0.1869\n",
      "\u001b[32mLearned Step : 227048\n",
      "\u001b[34mAVG   Return : 2.4600\n",
      "saved step 227048 in ckpt/\n"
     ]
    },
    {
     "name": "stderr",
     "output_type": "stream",
     "text": [
      "  7%|▋         | 3400/50000 [1:05:05<15:53:28,  1.23s/it]"
     ]
    },
    {
     "name": "stdout",
     "output_type": "stream",
     "text": [
      "\u001b[31m[EPISODE 3400 / STEP 967210] - EPSILON-GREEDY : 0.1745\n",
      "\u001b[32mLearned Step : 230508\n",
      "\u001b[34mAVG   Return : 2.0800\n",
      "saved step 230508 in ckpt/\n"
     ]
    },
    {
     "name": "stderr",
     "output_type": "stream",
     "text": [
      "  7%|▋         | 3450/50000 [1:06:10<18:04:14,  1.40s/it]"
     ]
    },
    {
     "name": "stdout",
     "output_type": "stream",
     "text": [
      "\u001b[31m[EPISODE 3450 / STEP 981141] - EPSILON-GREEDY : 0.1620\n",
      "\u001b[32mLearned Step : 234012\n",
      "\u001b[34mAVG   Return : 2.1800\n",
      "saved step 234012 in ckpt/\n"
     ]
    },
    {
     "name": "stderr",
     "output_type": "stream",
     "text": [
      "  7%|▋         | 3500/50000 [1:07:18<15:32:24,  1.20s/it]"
     ]
    },
    {
     "name": "stdout",
     "output_type": "stream",
     "text": [
      "\u001b[31m[EPISODE 3500 / STEP 995575] - EPSILON-GREEDY : 0.1490\n",
      "\u001b[32mLearned Step : 237642\n",
      "\u001b[34mAVG   Return : 2.1600\n",
      "saved step 237642 in ckpt/\n"
     ]
    },
    {
     "name": "stderr",
     "output_type": "stream",
     "text": [
      "  7%|▋         | 3550/50000 [1:08:27<15:38:33,  1.21s/it]"
     ]
    },
    {
     "name": "stdout",
     "output_type": "stream",
     "text": [
      "\u001b[31m[EPISODE 3550 / STEP 1010013] - EPSILON-GREEDY : 0.1360\n",
      "\u001b[32mLearned Step : 241269\n",
      "\u001b[34mAVG   Return : 2.2600\n",
      "saved step 241269 in ckpt/\n"
     ]
    },
    {
     "name": "stderr",
     "output_type": "stream",
     "text": [
      "  7%|▋         | 3600/50000 [1:09:29<14:16:59,  1.11s/it]"
     ]
    },
    {
     "name": "stdout",
     "output_type": "stream",
     "text": [
      "\u001b[31m[EPISODE 3600 / STEP 1023031] - EPSILON-GREEDY : 0.1243\n",
      "\u001b[32mLearned Step : 244542\n",
      "\u001b[34mAVG   Return : 1.7200\n",
      "saved step 244542 in ckpt/\n"
     ]
    },
    {
     "name": "stderr",
     "output_type": "stream",
     "text": [
      "  7%|▋         | 3650/50000 [1:10:33<15:38:46,  1.22s/it]"
     ]
    },
    {
     "name": "stdout",
     "output_type": "stream",
     "text": [
      "\u001b[31m[EPISODE 3650 / STEP 1036445] - EPSILON-GREEDY : 0.1122\n",
      "\u001b[32mLearned Step : 247914\n",
      "\u001b[34mAVG   Return : 1.8000\n",
      "saved step 247914 in ckpt/\n"
     ]
    },
    {
     "name": "stderr",
     "output_type": "stream",
     "text": [
      "  7%|▋         | 3700/50000 [1:11:35<15:46:22,  1.23s/it]"
     ]
    },
    {
     "name": "stdout",
     "output_type": "stream",
     "text": [
      "\u001b[31m[EPISODE 3700 / STEP 1049522] - EPSILON-GREEDY : 0.1004\n",
      "\u001b[32mLearned Step : 251200\n",
      "\u001b[34mAVG   Return : 1.5400\n",
      "saved step 251200 in ckpt/\n"
     ]
    },
    {
     "name": "stderr",
     "output_type": "stream",
     "text": [
      "  8%|▊         | 3750/50000 [1:12:43<18:37:02,  1.45s/it]"
     ]
    },
    {
     "name": "stdout",
     "output_type": "stream",
     "text": [
      "\u001b[31m[EPISODE 3750 / STEP 1063634] - EPSILON-GREEDY[final] : 0.1000\n",
      "\u001b[32mLearned Step : 254746\n",
      "\u001b[34mAVG   Return : 2.0200\n",
      "saved step 254746 in ckpt/\n"
     ]
    },
    {
     "name": "stderr",
     "output_type": "stream",
     "text": [
      "  8%|▊         | 3800/50000 [1:13:49<16:52:37,  1.32s/it]"
     ]
    },
    {
     "name": "stdout",
     "output_type": "stream",
     "text": [
      "\u001b[31m[EPISODE 3800 / STEP 1077229] - EPSILON-GREEDY[final] : 0.1000\n",
      "\u001b[32mLearned Step : 258164\n",
      "\u001b[34mAVG   Return : 2.0200\n",
      "saved step 258164 in ckpt/\n"
     ]
    },
    {
     "name": "stderr",
     "output_type": "stream",
     "text": [
      "  8%|▊         | 3850/50000 [1:15:03<15:54:02,  1.24s/it]"
     ]
    },
    {
     "name": "stdout",
     "output_type": "stream",
     "text": [
      "\u001b[31m[EPISODE 3850 / STEP 1092361] - EPSILON-GREEDY[final] : 0.1000\n",
      "\u001b[32mLearned Step : 261963\n",
      "\u001b[34mAVG   Return : 2.2000\n",
      "saved step 261963 in ckpt/\n"
     ]
    },
    {
     "name": "stderr",
     "output_type": "stream",
     "text": [
      "  8%|▊         | 3900/50000 [1:16:09<16:00:02,  1.25s/it]"
     ]
    },
    {
     "name": "stdout",
     "output_type": "stream",
     "text": [
      "\u001b[31m[EPISODE 3900 / STEP 1105992] - EPSILON-GREEDY[final] : 0.1000\n",
      "\u001b[32mLearned Step : 265393\n",
      "\u001b[34mAVG   Return : 1.9200\n",
      "saved step 265393 in ckpt/\n"
     ]
    },
    {
     "name": "stderr",
     "output_type": "stream",
     "text": [
      "  8%|▊         | 3950/50000 [1:17:13<15:26:32,  1.21s/it]"
     ]
    },
    {
     "name": "stdout",
     "output_type": "stream",
     "text": [
      "\u001b[31m[EPISODE 3950 / STEP 1119292] - EPSILON-GREEDY[final] : 0.1000\n",
      "\u001b[32mLearned Step : 268733\n",
      "\u001b[34mAVG   Return : 1.6600\n",
      "saved step 268733 in ckpt/\n"
     ]
    },
    {
     "name": "stderr",
     "output_type": "stream",
     "text": [
      "  8%|▊         | 4000/50000 [1:18:20<17:41:23,  1.38s/it]"
     ]
    },
    {
     "name": "stdout",
     "output_type": "stream",
     "text": [
      "\u001b[31m[EPISODE 4000 / STEP 1133203] - EPSILON-GREEDY[final] : 0.1000\n",
      "\u001b[32mLearned Step : 272226\n",
      "\u001b[34mAVG   Return : 1.9600\n",
      "saved step 272226 in ckpt/\n"
     ]
    },
    {
     "name": "stderr",
     "output_type": "stream",
     "text": [
      "  8%|▊         | 4050/50000 [1:19:33<20:21:17,  1.59s/it]"
     ]
    },
    {
     "name": "stdout",
     "output_type": "stream",
     "text": [
      "\u001b[31m[EPISODE 4050 / STEP 1148287] - EPSILON-GREEDY[final] : 0.1000\n",
      "\u001b[32mLearned Step : 276013\n",
      "\u001b[34mAVG   Return : 2.0800\n",
      "saved step 276013 in ckpt/\n"
     ]
    },
    {
     "name": "stderr",
     "output_type": "stream",
     "text": [
      "  8%|▊         | 4100/50000 [1:20:40<14:52:05,  1.17s/it]"
     ]
    },
    {
     "name": "stdout",
     "output_type": "stream",
     "text": [
      "\u001b[31m[EPISODE 4100 / STEP 1162344] - EPSILON-GREEDY[final] : 0.1000\n",
      "\u001b[32mLearned Step : 279549\n",
      "\u001b[34mAVG   Return : 1.9600\n",
      "saved step 279549 in ckpt/\n"
     ]
    },
    {
     "name": "stderr",
     "output_type": "stream",
     "text": [
      "  8%|▊         | 4150/50000 [1:21:52<16:10:32,  1.27s/it]"
     ]
    },
    {
     "name": "stdout",
     "output_type": "stream",
     "text": [
      "\u001b[31m[EPISODE 4150 / STEP 1177198] - EPSILON-GREEDY[final] : 0.1000\n",
      "\u001b[32mLearned Step : 283285\n",
      "\u001b[34mAVG   Return : 2.1200\n",
      "saved step 283285 in ckpt/\n"
     ]
    },
    {
     "name": "stderr",
     "output_type": "stream",
     "text": [
      "  8%|▊         | 4200/50000 [1:23:12<21:16:45,  1.67s/it]"
     ]
    },
    {
     "name": "stdout",
     "output_type": "stream",
     "text": [
      "\u001b[31m[EPISODE 4200 / STEP 1193834] - EPSILON-GREEDY[final] : 0.1000\n",
      "\u001b[32mLearned Step : 287464\n",
      "\u001b[34mAVG   Return : 2.7400\n",
      "saved step 287464 in ckpt/\n"
     ]
    },
    {
     "name": "stderr",
     "output_type": "stream",
     "text": [
      "  8%|▊         | 4250/50000 [1:24:19<17:11:13,  1.35s/it]"
     ]
    },
    {
     "name": "stdout",
     "output_type": "stream",
     "text": [
      "\u001b[31m[EPISODE 4250 / STEP 1207692] - EPSILON-GREEDY[final] : 0.1000\n",
      "\u001b[32mLearned Step : 290944\n",
      "\u001b[34mAVG   Return : 1.6600\n",
      "saved step 290944 in ckpt/\n"
     ]
    },
    {
     "name": "stderr",
     "output_type": "stream",
     "text": [
      "  9%|▊         | 4300/50000 [1:25:46<25:16:24,  1.99s/it]"
     ]
    },
    {
     "name": "stdout",
     "output_type": "stream",
     "text": [
      "\u001b[31m[EPISODE 4300 / STEP 1225722] - EPSILON-GREEDY[final] : 0.1000\n",
      "\u001b[32mLearned Step : 295469\n",
      "\u001b[34mAVG   Return : 3.1000\n",
      "saved step 295469 in ckpt/\n"
     ]
    },
    {
     "name": "stderr",
     "output_type": "stream",
     "text": [
      "  9%|▊         | 4350/50000 [1:27:10<27:39:20,  2.18s/it]"
     ]
    },
    {
     "name": "stdout",
     "output_type": "stream",
     "text": [
      "\u001b[31m[EPISODE 4350 / STEP 1243205] - EPSILON-GREEDY[final] : 0.1000\n",
      "\u001b[32mLearned Step : 299861\n",
      "\u001b[34mAVG   Return : 2.8000\n",
      "saved step 299861 in ckpt/\n"
     ]
    },
    {
     "name": "stderr",
     "output_type": "stream",
     "text": [
      "  9%|▉         | 4400/50000 [1:28:37<24:52:59,  1.96s/it]"
     ]
    },
    {
     "name": "stdout",
     "output_type": "stream",
     "text": [
      "\u001b[31m[EPISODE 4400 / STEP 1261252] - EPSILON-GREEDY[final] : 0.1000\n",
      "\u001b[32mLearned Step : 304389\n",
      "\u001b[34mAVG   Return : 2.9800\n",
      "saved step 304389 in ckpt/\n"
     ]
    },
    {
     "name": "stderr",
     "output_type": "stream",
     "text": [
      "  9%|▉         | 4450/50000 [1:29:54<17:36:29,  1.39s/it]"
     ]
    },
    {
     "name": "stdout",
     "output_type": "stream",
     "text": [
      "\u001b[31m[EPISODE 4450 / STEP 1277044] - EPSILON-GREEDY[final] : 0.1000\n",
      "\u001b[32mLearned Step : 308352\n",
      "\u001b[34mAVG   Return : 2.3800\n",
      "saved step 308352 in ckpt/\n"
     ]
    },
    {
     "name": "stderr",
     "output_type": "stream",
     "text": [
      "  9%|▉         | 4500/50000 [1:31:14<23:12:29,  1.84s/it]"
     ]
    },
    {
     "name": "stdout",
     "output_type": "stream",
     "text": [
      "\u001b[31m[EPISODE 4500 / STEP 1293477] - EPSILON-GREEDY[final] : 0.1000\n",
      "\u001b[32mLearned Step : 312480\n",
      "\u001b[34mAVG   Return : 2.4600\n",
      "saved step 312480 in ckpt/\n"
     ]
    },
    {
     "name": "stderr",
     "output_type": "stream",
     "text": [
      "  9%|▉         | 4550/50000 [1:32:34<19:59:52,  1.58s/it]"
     ]
    },
    {
     "name": "stdout",
     "output_type": "stream",
     "text": [
      "\u001b[31m[EPISODE 4550 / STEP 1310223] - EPSILON-GREEDY[final] : 0.1000\n",
      "\u001b[32mLearned Step : 316689\n",
      "\u001b[34mAVG   Return : 2.4600\n",
      "saved step 316689 in ckpt/\n"
     ]
    },
    {
     "name": "stderr",
     "output_type": "stream",
     "text": [
      "  9%|▉         | 4600/50000 [1:33:47<18:13:38,  1.45s/it]"
     ]
    },
    {
     "name": "stdout",
     "output_type": "stream",
     "text": [
      "\u001b[31m[EPISODE 4600 / STEP 1325318] - EPSILON-GREEDY[final] : 0.1000\n",
      "\u001b[32mLearned Step : 320480\n",
      "\u001b[34mAVG   Return : 2.2800\n",
      "saved step 320480 in ckpt/\n"
     ]
    },
    {
     "name": "stderr",
     "output_type": "stream",
     "text": [
      "  9%|▉         | 4650/50000 [1:34:57<16:12:55,  1.29s/it]"
     ]
    },
    {
     "name": "stdout",
     "output_type": "stream",
     "text": [
      "\u001b[31m[EPISODE 4650 / STEP 1339955] - EPSILON-GREEDY[final] : 0.1000\n",
      "\u001b[32mLearned Step : 324159\n",
      "\u001b[34mAVG   Return : 2.0800\n",
      "saved step 324159 in ckpt/\n"
     ]
    },
    {
     "name": "stderr",
     "output_type": "stream",
     "text": [
      "  9%|▉         | 4700/50000 [1:36:08<19:39:20,  1.56s/it]"
     ]
    },
    {
     "name": "stdout",
     "output_type": "stream",
     "text": [
      "\u001b[31m[EPISODE 4700 / STEP 1354675] - EPSILON-GREEDY[final] : 0.1000\n",
      "\u001b[32mLearned Step : 327858\n",
      "\u001b[34mAVG   Return : 2.0600\n",
      "saved step 327858 in ckpt/\n"
     ]
    },
    {
     "name": "stderr",
     "output_type": "stream",
     "text": [
      " 10%|▉         | 4750/50000 [1:37:29<18:31:13,  1.47s/it]"
     ]
    },
    {
     "name": "stdout",
     "output_type": "stream",
     "text": [
      "\u001b[31m[EPISODE 4750 / STEP 1371509] - EPSILON-GREEDY[final] : 0.1000\n",
      "\u001b[32mLearned Step : 332082\n",
      "\u001b[34mAVG   Return : 2.5800\n",
      "saved step 332082 in ckpt/\n"
     ]
    },
    {
     "name": "stderr",
     "output_type": "stream",
     "text": [
      " 10%|▉         | 4800/50000 [1:38:32<13:52:37,  1.11s/it]"
     ]
    },
    {
     "name": "stdout",
     "output_type": "stream",
     "text": [
      "\u001b[31m[EPISODE 4800 / STEP 1384526] - EPSILON-GREEDY[final] : 0.1000\n",
      "\u001b[32mLearned Step : 335355\n",
      "\u001b[34mAVG   Return : 1.6800\n",
      "saved step 335355 in ckpt/\n"
     ]
    },
    {
     "name": "stderr",
     "output_type": "stream",
     "text": [
      " 10%|▉         | 4850/50000 [1:39:46<20:29:22,  1.63s/it]"
     ]
    },
    {
     "name": "stdout",
     "output_type": "stream",
     "text": [
      "\u001b[31m[EPISODE 4850 / STEP 1399748] - EPSILON-GREEDY[final] : 0.1000\n",
      "\u001b[32mLearned Step : 339177\n",
      "\u001b[34mAVG   Return : 1.8600\n",
      "saved step 339177 in ckpt/\n"
     ]
    },
    {
     "name": "stderr",
     "output_type": "stream",
     "text": [
      " 10%|▉         | 4900/50000 [1:40:58<20:27:27,  1.63s/it]"
     ]
    },
    {
     "name": "stdout",
     "output_type": "stream",
     "text": [
      "\u001b[31m[EPISODE 4900 / STEP 1414706] - EPSILON-GREEDY[final] : 0.1000\n",
      "\u001b[32mLearned Step : 342936\n",
      "\u001b[34mAVG   Return : 2.2800\n",
      "saved step 342936 in ckpt/\n"
     ]
    },
    {
     "name": "stderr",
     "output_type": "stream",
     "text": [
      " 10%|▉         | 4950/50000 [1:42:07<13:40:35,  1.09s/it]"
     ]
    },
    {
     "name": "stdout",
     "output_type": "stream",
     "text": [
      "\u001b[31m[EPISODE 4950 / STEP 1428863] - EPSILON-GREEDY[final] : 0.1000\n",
      "\u001b[32mLearned Step : 346493\n",
      "\u001b[34mAVG   Return : 1.7000\n",
      "saved step 346493 in ckpt/\n"
     ]
    },
    {
     "name": "stderr",
     "output_type": "stream",
     "text": [
      " 10%|█         | 5000/50000 [1:43:26<26:11:25,  2.10s/it]"
     ]
    },
    {
     "name": "stdout",
     "output_type": "stream",
     "text": [
      "\u001b[31m[EPISODE 5000 / STEP 1445340] - EPSILON-GREEDY[final] : 0.1000\n",
      "\u001b[32mLearned Step : 350635\n",
      "\u001b[34mAVG   Return : 2.5200\n",
      "saved step 350635 in ckpt/\n"
     ]
    },
    {
     "name": "stderr",
     "output_type": "stream",
     "text": [
      " 10%|█         | 5050/50000 [1:44:41<16:24:59,  1.31s/it]"
     ]
    },
    {
     "name": "stdout",
     "output_type": "stream",
     "text": [
      "\u001b[31m[EPISODE 5050 / STEP 1460982] - EPSILON-GREEDY[final] : 0.1000\n",
      "\u001b[32mLearned Step : 354559\n",
      "\u001b[34mAVG   Return : 2.1200\n",
      "saved step 354559 in ckpt/\n"
     ]
    },
    {
     "name": "stderr",
     "output_type": "stream",
     "text": [
      " 10%|█         | 5100/50000 [1:45:55<21:04:29,  1.69s/it]"
     ]
    },
    {
     "name": "stdout",
     "output_type": "stream",
     "text": [
      "\u001b[31m[EPISODE 5100 / STEP 1476194] - EPSILON-GREEDY[final] : 0.1000\n",
      "\u001b[32mLearned Step : 358378\n",
      "\u001b[34mAVG   Return : 1.9600\n",
      "saved step 358378 in ckpt/\n"
     ]
    },
    {
     "name": "stderr",
     "output_type": "stream",
     "text": [
      " 10%|█         | 5150/50000 [1:47:04<17:35:44,  1.41s/it]"
     ]
    },
    {
     "name": "stdout",
     "output_type": "stream",
     "text": [
      "\u001b[31m[EPISODE 5150 / STEP 1490729] - EPSILON-GREEDY[final] : 0.1000\n",
      "\u001b[32mLearned Step : 362026\n",
      "\u001b[34mAVG   Return : 1.7000\n",
      "saved step 362026 in ckpt/\n"
     ]
    },
    {
     "name": "stderr",
     "output_type": "stream",
     "text": [
      " 10%|█         | 5200/50000 [1:48:14<17:00:05,  1.37s/it]"
     ]
    },
    {
     "name": "stdout",
     "output_type": "stream",
     "text": [
      "\u001b[31m[EPISODE 5200 / STEP 1505173] - EPSILON-GREEDY[final] : 0.1000\n",
      "\u001b[32mLearned Step : 365655\n",
      "\u001b[34mAVG   Return : 2.2200\n",
      "saved step 365655 in ckpt/\n"
     ]
    },
    {
     "name": "stderr",
     "output_type": "stream",
     "text": [
      " 10%|█         | 5250/50000 [1:49:31<21:52:45,  1.76s/it]"
     ]
    },
    {
     "name": "stdout",
     "output_type": "stream",
     "text": [
      "\u001b[31m[EPISODE 5250 / STEP 1520965] - EPSILON-GREEDY[final] : 0.1000\n",
      "\u001b[32mLearned Step : 369623\n",
      "\u001b[34mAVG   Return : 2.4600\n",
      "saved step 369623 in ckpt/\n"
     ]
    },
    {
     "name": "stderr",
     "output_type": "stream",
     "text": [
      " 11%|█         | 5300/50000 [1:50:54<24:55:48,  2.01s/it]"
     ]
    },
    {
     "name": "stdout",
     "output_type": "stream",
     "text": [
      "\u001b[31m[EPISODE 5300 / STEP 1538268] - EPSILON-GREEDY[final] : 0.1000\n",
      "\u001b[32mLearned Step : 373967\n",
      "\u001b[34mAVG   Return : 3.0800\n",
      "saved step 373967 in ckpt/\n"
     ]
    },
    {
     "name": "stderr",
     "output_type": "stream",
     "text": [
      " 11%|█         | 5350/50000 [1:52:13<21:45:53,  1.75s/it]"
     ]
    },
    {
     "name": "stdout",
     "output_type": "stream",
     "text": [
      "\u001b[31m[EPISODE 5350 / STEP 1554188] - EPSILON-GREEDY[final] : 0.1000\n",
      "\u001b[32mLearned Step : 377965\n",
      "\u001b[34mAVG   Return : 2.7800\n",
      "saved step 377965 in ckpt/\n"
     ]
    },
    {
     "name": "stderr",
     "output_type": "stream",
     "text": [
      " 11%|█         | 5400/50000 [1:53:36<29:59:17,  2.42s/it]"
     ]
    },
    {
     "name": "stdout",
     "output_type": "stream",
     "text": [
      "\u001b[31m[EPISODE 5400 / STEP 1571502] - EPSILON-GREEDY[final] : 0.1000\n",
      "\u001b[32mLearned Step : 382312\n",
      "\u001b[34mAVG   Return : 3.3600\n",
      "saved step 382312 in ckpt/\n"
     ]
    },
    {
     "name": "stderr",
     "output_type": "stream",
     "text": [
      " 11%|█         | 5450/50000 [1:54:50<15:00:34,  1.21s/it]"
     ]
    },
    {
     "name": "stdout",
     "output_type": "stream",
     "text": [
      "\u001b[31m[EPISODE 5450 / STEP 1586943] - EPSILON-GREEDY[final] : 0.1000\n",
      "\u001b[32mLearned Step : 386191\n",
      "\u001b[34mAVG   Return : 2.2800\n",
      "saved step 386191 in ckpt/\n"
     ]
    },
    {
     "name": "stderr",
     "output_type": "stream",
     "text": [
      " 11%|█         | 5500/50000 [1:55:59<15:33:39,  1.26s/it]"
     ]
    },
    {
     "name": "stdout",
     "output_type": "stream",
     "text": [
      "\u001b[31m[EPISODE 5500 / STEP 1601149] - EPSILON-GREEDY[final] : 0.1000\n",
      "\u001b[32mLearned Step : 389763\n",
      "\u001b[34mAVG   Return : 2.2200\n",
      "saved step 389763 in ckpt/\n"
     ]
    },
    {
     "name": "stderr",
     "output_type": "stream",
     "text": [
      " 11%|█         | 5550/50000 [1:57:12<15:36:57,  1.26s/it]"
     ]
    },
    {
     "name": "stdout",
     "output_type": "stream",
     "text": [
      "\u001b[31m[EPISODE 5550 / STEP 1616393] - EPSILON-GREEDY[final] : 0.1000\n",
      "\u001b[32mLearned Step : 393590\n",
      "\u001b[34mAVG   Return : 2.4400\n",
      "saved step 393590 in ckpt/\n"
     ]
    },
    {
     "name": "stderr",
     "output_type": "stream",
     "text": [
      " 11%|█         | 5600/50000 [1:58:19<13:26:29,  1.09s/it]"
     ]
    },
    {
     "name": "stdout",
     "output_type": "stream",
     "text": [
      "\u001b[31m[EPISODE 5600 / STEP 1630399] - EPSILON-GREEDY[final] : 0.1000\n",
      "\u001b[32mLearned Step : 397109\n",
      "\u001b[34mAVG   Return : 2.0200\n",
      "saved step 397109 in ckpt/\n"
     ]
    },
    {
     "name": "stderr",
     "output_type": "stream",
     "text": [
      " 11%|█▏        | 5650/50000 [1:59:32<14:56:06,  1.21s/it]"
     ]
    },
    {
     "name": "stdout",
     "output_type": "stream",
     "text": [
      "\u001b[31m[EPISODE 5650 / STEP 1645645] - EPSILON-GREEDY[final] : 0.1000\n",
      "\u001b[32mLearned Step : 400939\n",
      "\u001b[34mAVG   Return : 2.5200\n",
      "saved step 400939 in ckpt/\n"
     ]
    },
    {
     "name": "stderr",
     "output_type": "stream",
     "text": [
      " 11%|█▏        | 5700/50000 [2:00:49<25:30:27,  2.07s/it]"
     ]
    },
    {
     "name": "stdout",
     "output_type": "stream",
     "text": [
      "\u001b[31m[EPISODE 5700 / STEP 1661409] - EPSILON-GREEDY[final] : 0.1000\n",
      "\u001b[32mLearned Step : 404898\n",
      "\u001b[34mAVG   Return : 2.8200\n",
      "saved step 404898 in ckpt/\n"
     ]
    },
    {
     "name": "stderr",
     "output_type": "stream",
     "text": [
      " 12%|█▏        | 5750/50000 [2:02:03<12:49:48,  1.04s/it]"
     ]
    },
    {
     "name": "stdout",
     "output_type": "stream",
     "text": [
      "\u001b[31m[EPISODE 5750 / STEP 1676816] - EPSILON-GREEDY[final] : 0.1000\n",
      "\u001b[32mLearned Step : 408771\n",
      "\u001b[34mAVG   Return : 2.4400\n",
      "saved step 408771 in ckpt/\n"
     ]
    },
    {
     "name": "stderr",
     "output_type": "stream",
     "text": [
      " 12%|█▏        | 5800/50000 [2:03:28<20:40:28,  1.68s/it]"
     ]
    },
    {
     "name": "stdout",
     "output_type": "stream",
     "text": [
      "\u001b[31m[EPISODE 5800 / STEP 1694577] - EPSILON-GREEDY[final] : 0.1000\n",
      "\u001b[32mLearned Step : 413228\n",
      "\u001b[34mAVG   Return : 3.0400\n",
      "saved step 413228 in ckpt/\n"
     ]
    },
    {
     "name": "stderr",
     "output_type": "stream",
     "text": [
      " 12%|█▏        | 5850/50000 [2:04:53<24:55:29,  2.03s/it]"
     ]
    },
    {
     "name": "stdout",
     "output_type": "stream",
     "text": [
      "\u001b[31m[EPISODE 5850 / STEP 1712159] - EPSILON-GREEDY[final] : 0.1000\n",
      "\u001b[32mLearned Step : 417643\n",
      "\u001b[34mAVG   Return : 3.0600\n",
      "saved step 417643 in ckpt/\n"
     ]
    },
    {
     "name": "stderr",
     "output_type": "stream",
     "text": [
      " 12%|█▏        | 5900/50000 [2:06:05<22:47:10,  1.86s/it]"
     ]
    },
    {
     "name": "stdout",
     "output_type": "stream",
     "text": [
      "\u001b[31m[EPISODE 5900 / STEP 1727113] - EPSILON-GREEDY[final] : 0.1000\n",
      "\u001b[32mLearned Step : 421401\n",
      "\u001b[34mAVG   Return : 2.2400\n",
      "saved step 421401 in ckpt/\n"
     ]
    },
    {
     "name": "stderr",
     "output_type": "stream",
     "text": [
      " 12%|█▏        | 5950/50000 [2:07:13<18:48:23,  1.54s/it]"
     ]
    },
    {
     "name": "stdout",
     "output_type": "stream",
     "text": [
      "\u001b[31m[EPISODE 5950 / STEP 1741278] - EPSILON-GREEDY[final] : 0.1000\n",
      "\u001b[32mLearned Step : 424963\n",
      "\u001b[34mAVG   Return : 2.0200\n",
      "saved step 424963 in ckpt/\n"
     ]
    },
    {
     "name": "stderr",
     "output_type": "stream",
     "text": [
      " 12%|█▏        | 6000/50000 [2:08:25<18:42:11,  1.53s/it]"
     ]
    },
    {
     "name": "stdout",
     "output_type": "stream",
     "text": [
      "\u001b[31m[EPISODE 6000 / STEP 1756010] - EPSILON-GREEDY[final] : 0.1000\n",
      "\u001b[32mLearned Step : 428668\n",
      "\u001b[34mAVG   Return : 2.1600\n",
      "saved step 428668 in ckpt/\n"
     ]
    },
    {
     "name": "stderr",
     "output_type": "stream",
     "text": [
      " 12%|█▏        | 6050/50000 [2:09:31<14:27:05,  1.18s/it]"
     ]
    },
    {
     "name": "stdout",
     "output_type": "stream",
     "text": [
      "\u001b[31m[EPISODE 6050 / STEP 1769711] - EPSILON-GREEDY[final] : 0.1000\n",
      "\u001b[32mLearned Step : 432113\n",
      "\u001b[34mAVG   Return : 1.7600\n",
      "saved step 432113 in ckpt/\n"
     ]
    },
    {
     "name": "stderr",
     "output_type": "stream",
     "text": [
      " 12%|█▏        | 6100/50000 [2:10:49<14:43:52,  1.21s/it]"
     ]
    },
    {
     "name": "stdout",
     "output_type": "stream",
     "text": [
      "\u001b[31m[EPISODE 6100 / STEP 1785976] - EPSILON-GREEDY[final] : 0.1000\n",
      "\u001b[32mLearned Step : 436198\n",
      "\u001b[34mAVG   Return : 2.4400\n",
      "saved step 436198 in ckpt/\n"
     ]
    },
    {
     "name": "stderr",
     "output_type": "stream",
     "text": [
      " 12%|█▏        | 6150/50000 [2:12:11<17:22:41,  1.43s/it]"
     ]
    },
    {
     "name": "stdout",
     "output_type": "stream",
     "text": [
      "\u001b[31m[EPISODE 6150 / STEP 1802880] - EPSILON-GREEDY[final] : 0.1000\n",
      "\u001b[32mLearned Step : 440443\n",
      "\u001b[34mAVG   Return : 2.7000\n",
      "saved step 440443 in ckpt/\n"
     ]
    },
    {
     "name": "stderr",
     "output_type": "stream",
     "text": [
      " 12%|█▏        | 6200/50000 [2:13:36<27:37:50,  2.27s/it]"
     ]
    },
    {
     "name": "stdout",
     "output_type": "stream",
     "text": [
      "\u001b[31m[EPISODE 6200 / STEP 1820469] - EPSILON-GREEDY[final] : 0.1000\n",
      "\u001b[32mLearned Step : 444858\n",
      "\u001b[34mAVG   Return : 2.9800\n",
      "saved step 444858 in ckpt/\n"
     ]
    },
    {
     "name": "stderr",
     "output_type": "stream",
     "text": [
      " 12%|█▎        | 6250/50000 [2:14:56<16:08:31,  1.33s/it]"
     ]
    },
    {
     "name": "stdout",
     "output_type": "stream",
     "text": [
      "\u001b[31m[EPISODE 6250 / STEP 1836930] - EPSILON-GREEDY[final] : 0.1000\n",
      "\u001b[32mLearned Step : 448991\n",
      "\u001b[34mAVG   Return : 2.6400\n",
      "saved step 448991 in ckpt/\n"
     ]
    },
    {
     "name": "stderr",
     "output_type": "stream",
     "text": [
      " 13%|█▎        | 6300/50000 [2:16:16<20:29:42,  1.69s/it]"
     ]
    },
    {
     "name": "stdout",
     "output_type": "stream",
     "text": [
      "\u001b[31m[EPISODE 6300 / STEP 1853406] - EPSILON-GREEDY[final] : 0.1000\n",
      "\u001b[32mLearned Step : 453133\n",
      "\u001b[34mAVG   Return : 2.6000\n",
      "saved step 453133 in ckpt/\n"
     ]
    },
    {
     "name": "stderr",
     "output_type": "stream",
     "text": [
      " 13%|█▎        | 6350/50000 [2:17:31<17:14:54,  1.42s/it]"
     ]
    },
    {
     "name": "stdout",
     "output_type": "stream",
     "text": [
      "\u001b[31m[EPISODE 6350 / STEP 1868990] - EPSILON-GREEDY[final] : 0.1000\n",
      "\u001b[32mLearned Step : 457048\n",
      "\u001b[34mAVG   Return : 2.4800\n",
      "saved step 457048 in ckpt/\n"
     ]
    },
    {
     "name": "stderr",
     "output_type": "stream",
     "text": [
      " 13%|█▎        | 6400/50000 [2:18:43<16:42:01,  1.38s/it]"
     ]
    },
    {
     "name": "stdout",
     "output_type": "stream",
     "text": [
      "\u001b[31m[EPISODE 6400 / STEP 1883953] - EPSILON-GREEDY[final] : 0.1000\n",
      "\u001b[32mLearned Step : 460808\n",
      "\u001b[34mAVG   Return : 2.2400\n",
      "saved step 460808 in ckpt/\n"
     ]
    },
    {
     "name": "stderr",
     "output_type": "stream",
     "text": [
      " 13%|█▎        | 6450/50000 [2:20:00<18:34:50,  1.54s/it]"
     ]
    },
    {
     "name": "stdout",
     "output_type": "stream",
     "text": [
      "\u001b[31m[EPISODE 6450 / STEP 1899951] - EPSILON-GREEDY[final] : 0.1000\n",
      "\u001b[32mLearned Step : 464827\n",
      "\u001b[34mAVG   Return : 2.5200\n",
      "saved step 464827 in ckpt/\n"
     ]
    },
    {
     "name": "stderr",
     "output_type": "stream",
     "text": [
      " 13%|█▎        | 6500/50000 [2:21:12<17:53:39,  1.48s/it]"
     ]
    },
    {
     "name": "stdout",
     "output_type": "stream",
     "text": [
      "\u001b[31m[EPISODE 6500 / STEP 1914711] - EPSILON-GREEDY[final] : 0.1000\n",
      "\u001b[32mLearned Step : 468537\n",
      "\u001b[34mAVG   Return : 1.9800\n",
      "saved step 468537 in ckpt/\n"
     ]
    },
    {
     "name": "stderr",
     "output_type": "stream",
     "text": [
      " 13%|█▎        | 6550/50000 [2:22:18<12:45:52,  1.06s/it]"
     ]
    },
    {
     "name": "stdout",
     "output_type": "stream",
     "text": [
      "\u001b[31m[EPISODE 6550 / STEP 1928431] - EPSILON-GREEDY[final] : 0.1000\n",
      "\u001b[32mLearned Step : 471986\n",
      "\u001b[34mAVG   Return : 1.5600\n",
      "saved step 471986 in ckpt/\n"
     ]
    },
    {
     "name": "stderr",
     "output_type": "stream",
     "text": [
      " 13%|█▎        | 6600/50000 [2:23:36<15:14:54,  1.26s/it]"
     ]
    },
    {
     "name": "stdout",
     "output_type": "stream",
     "text": [
      "\u001b[31m[EPISODE 6600 / STEP 1944467] - EPSILON-GREEDY[final] : 0.1000\n",
      "\u001b[32mLearned Step : 476016\n",
      "\u001b[34mAVG   Return : 1.9800\n",
      "saved step 476016 in ckpt/\n"
     ]
    },
    {
     "name": "stderr",
     "output_type": "stream",
     "text": [
      " 13%|█▎        | 6650/50000 [2:24:52<16:05:29,  1.34s/it]"
     ]
    },
    {
     "name": "stdout",
     "output_type": "stream",
     "text": [
      "\u001b[31m[EPISODE 6650 / STEP 1960097] - EPSILON-GREEDY[final] : 0.1000\n",
      "\u001b[32mLearned Step : 479940\n",
      "\u001b[34mAVG   Return : 2.1400\n",
      "saved step 479940 in ckpt/\n"
     ]
    },
    {
     "name": "stderr",
     "output_type": "stream",
     "text": [
      " 13%|█▎        | 6700/50000 [2:26:12<22:05:52,  1.84s/it]"
     ]
    },
    {
     "name": "stdout",
     "output_type": "stream",
     "text": [
      "\u001b[31m[EPISODE 6700 / STEP 1976685] - EPSILON-GREEDY[final] : 0.1000\n",
      "\u001b[32mLearned Step : 484105\n",
      "\u001b[34mAVG   Return : 2.5400\n",
      "saved step 484105 in ckpt/\n"
     ]
    },
    {
     "name": "stderr",
     "output_type": "stream",
     "text": [
      " 14%|█▎        | 6750/50000 [2:27:42<21:05:39,  1.76s/it]"
     ]
    },
    {
     "name": "stdout",
     "output_type": "stream",
     "text": [
      "\u001b[31m[EPISODE 6750 / STEP 1995451] - EPSILON-GREEDY[final] : 0.1000\n",
      "\u001b[32mLearned Step : 488816\n",
      "\u001b[34mAVG   Return : 3.1400\n",
      "saved step 488816 in ckpt/\n"
     ]
    },
    {
     "name": "stderr",
     "output_type": "stream",
     "text": [
      " 14%|█▎        | 6800/50000 [2:29:09<21:09:49,  1.76s/it]"
     ]
    },
    {
     "name": "stdout",
     "output_type": "stream",
     "text": [
      "\u001b[31m[EPISODE 6800 / STEP 2013437] - EPSILON-GREEDY[final] : 0.1000\n",
      "\u001b[32mLearned Step : 493332\n",
      "\u001b[34mAVG   Return : 2.9400\n",
      "saved step 493332 in ckpt/\n"
     ]
    },
    {
     "name": "stderr",
     "output_type": "stream",
     "text": [
      " 14%|█▎        | 6850/50000 [2:30:36<25:11:13,  2.10s/it]"
     ]
    },
    {
     "name": "stdout",
     "output_type": "stream",
     "text": [
      "\u001b[31m[EPISODE 6850 / STEP 2031576] - EPSILON-GREEDY[final] : 0.1000\n",
      "\u001b[32mLearned Step : 497887\n",
      "\u001b[34mAVG   Return : 2.9800\n",
      "saved step 497887 in ckpt/\n"
     ]
    },
    {
     "name": "stderr",
     "output_type": "stream",
     "text": [
      " 14%|█▍        | 6900/50000 [2:31:51<14:10:37,  1.18s/it]"
     ]
    },
    {
     "name": "stdout",
     "output_type": "stream",
     "text": [
      "\u001b[31m[EPISODE 6900 / STEP 2046900] - EPSILON-GREEDY[final] : 0.1000\n",
      "\u001b[32mLearned Step : 501735\n",
      "\u001b[34mAVG   Return : 2.1200\n",
      "saved step 501735 in ckpt/\n"
     ]
    },
    {
     "name": "stderr",
     "output_type": "stream",
     "text": [
      " 14%|█▍        | 6950/50000 [2:32:52<12:13:08,  1.02s/it]"
     ]
    },
    {
     "name": "stdout",
     "output_type": "stream",
     "text": [
      "\u001b[31m[EPISODE 6950 / STEP 2059421] - EPSILON-GREEDY[final] : 0.1000\n",
      "\u001b[32mLearned Step : 504881\n",
      "\u001b[34mAVG   Return : 1.5000\n",
      "saved step 504881 in ckpt/\n"
     ]
    },
    {
     "name": "stderr",
     "output_type": "stream",
     "text": [
      " 14%|█▍        | 7000/50000 [2:34:00<11:39:33,  1.02it/s]"
     ]
    },
    {
     "name": "stdout",
     "output_type": "stream",
     "text": [
      "\u001b[31m[EPISODE 7000 / STEP 2073509] - EPSILON-GREEDY[final] : 0.1000\n",
      "\u001b[32mLearned Step : 508422\n",
      "\u001b[34mAVG   Return : 1.7600\n",
      "saved step 508422 in ckpt/\n"
     ]
    },
    {
     "name": "stderr",
     "output_type": "stream",
     "text": [
      " 14%|█▍        | 7050/50000 [2:35:09<12:13:10,  1.02s/it]"
     ]
    },
    {
     "name": "stdout",
     "output_type": "stream",
     "text": [
      "\u001b[31m[EPISODE 7050 / STEP 2087925] - EPSILON-GREEDY[final] : 0.1000\n",
      "\u001b[32mLearned Step : 512050\n",
      "\u001b[34mAVG   Return : 1.8000\n",
      "saved step 512050 in ckpt/\n"
     ]
    },
    {
     "name": "stderr",
     "output_type": "stream",
     "text": [
      " 14%|█▍        | 7100/50000 [2:36:26<21:26:05,  1.80s/it]"
     ]
    },
    {
     "name": "stdout",
     "output_type": "stream",
     "text": [
      "\u001b[31m[EPISODE 7100 / STEP 2103922] - EPSILON-GREEDY[final] : 0.1000\n",
      "\u001b[32mLearned Step : 516067\n",
      "\u001b[34mAVG   Return : 2.3400\n",
      "saved step 516067 in ckpt/\n"
     ]
    },
    {
     "name": "stderr",
     "output_type": "stream",
     "text": [
      " 14%|█▍        | 7150/50000 [2:37:35<14:05:20,  1.18s/it]"
     ]
    },
    {
     "name": "stdout",
     "output_type": "stream",
     "text": [
      "\u001b[31m[EPISODE 7150 / STEP 2118270] - EPSILON-GREEDY[final] : 0.1000\n",
      "\u001b[32mLearned Step : 519671\n",
      "\u001b[34mAVG   Return : 2.0400\n",
      "saved step 519671 in ckpt/\n"
     ]
    },
    {
     "name": "stderr",
     "output_type": "stream",
     "text": [
      " 14%|█▍        | 7200/50000 [2:38:49<13:41:30,  1.15s/it]"
     ]
    },
    {
     "name": "stdout",
     "output_type": "stream",
     "text": [
      "\u001b[31m[EPISODE 7200 / STEP 2133701] - EPSILON-GREEDY[final] : 0.1000\n",
      "\u001b[32mLearned Step : 523548\n",
      "\u001b[34mAVG   Return : 1.9800\n",
      "saved step 523548 in ckpt/\n"
     ]
    },
    {
     "name": "stderr",
     "output_type": "stream",
     "text": [
      " 14%|█▍        | 7250/50000 [2:40:04<15:43:28,  1.32s/it]"
     ]
    },
    {
     "name": "stdout",
     "output_type": "stream",
     "text": [
      "\u001b[31m[EPISODE 7250 / STEP 2149360] - EPSILON-GREEDY[final] : 0.1000\n",
      "\u001b[32mLearned Step : 527482\n",
      "\u001b[34mAVG   Return : 2.3000\n",
      "saved step 527482 in ckpt/\n"
     ]
    },
    {
     "name": "stderr",
     "output_type": "stream",
     "text": [
      " 15%|█▍        | 7300/50000 [2:41:16<18:26:43,  1.56s/it]"
     ]
    },
    {
     "name": "stdout",
     "output_type": "stream",
     "text": [
      "\u001b[31m[EPISODE 7300 / STEP 2163948] - EPSILON-GREEDY[final] : 0.1000\n",
      "\u001b[32mLearned Step : 531145\n",
      "\u001b[34mAVG   Return : 2.0200\n",
      "saved step 531145 in ckpt/\n"
     ]
    },
    {
     "name": "stderr",
     "output_type": "stream",
     "text": [
      " 15%|█▍        | 7350/50000 [2:42:34<18:44:18,  1.58s/it]"
     ]
    },
    {
     "name": "stdout",
     "output_type": "stream",
     "text": [
      "\u001b[31m[EPISODE 7350 / STEP 2179997] - EPSILON-GREEDY[final] : 0.1000\n",
      "\u001b[32mLearned Step : 535179\n",
      "\u001b[34mAVG   Return : 2.4000\n",
      "saved step 535179 in ckpt/\n"
     ]
    },
    {
     "name": "stderr",
     "output_type": "stream",
     "text": [
      " 15%|█▍        | 7400/50000 [2:43:50<25:12:13,  2.13s/it]"
     ]
    },
    {
     "name": "stdout",
     "output_type": "stream",
     "text": [
      "\u001b[31m[EPISODE 7400 / STEP 2195851] - EPSILON-GREEDY[final] : 0.1000\n",
      "\u001b[32mLearned Step : 539159\n",
      "\u001b[34mAVG   Return : 2.2400\n",
      "saved step 539159 in ckpt/\n"
     ]
    },
    {
     "name": "stderr",
     "output_type": "stream",
     "text": [
      " 15%|█▍        | 7450/50000 [2:45:05<17:05:18,  1.45s/it]"
     ]
    },
    {
     "name": "stdout",
     "output_type": "stream",
     "text": [
      "\u001b[31m[EPISODE 7450 / STEP 2211044] - EPSILON-GREEDY[final] : 0.1000\n",
      "\u001b[32mLearned Step : 542976\n",
      "\u001b[34mAVG   Return : 2.2400\n",
      "saved step 542976 in ckpt/\n"
     ]
    },
    {
     "name": "stderr",
     "output_type": "stream",
     "text": [
      " 15%|█▌        | 7500/50000 [2:46:21<23:45:59,  2.01s/it]"
     ]
    },
    {
     "name": "stdout",
     "output_type": "stream",
     "text": [
      "\u001b[31m[EPISODE 7500 / STEP 2226958] - EPSILON-GREEDY[final] : 0.1000\n",
      "\u001b[32mLearned Step : 546973\n",
      "\u001b[34mAVG   Return : 2.3200\n",
      "saved step 546973 in ckpt/\n"
     ]
    },
    {
     "name": "stderr",
     "output_type": "stream",
     "text": [
      " 15%|█▌        | 7550/50000 [2:47:41<20:25:04,  1.73s/it]"
     ]
    },
    {
     "name": "stdout",
     "output_type": "stream",
     "text": [
      "\u001b[31m[EPISODE 7550 / STEP 2243476] - EPSILON-GREEDY[final] : 0.1000\n",
      "\u001b[32mLearned Step : 551123\n",
      "\u001b[34mAVG   Return : 2.6000\n",
      "saved step 551123 in ckpt/\n"
     ]
    },
    {
     "name": "stderr",
     "output_type": "stream",
     "text": [
      " 15%|█▌        | 7600/50000 [2:48:55<17:16:17,  1.47s/it]"
     ]
    },
    {
     "name": "stdout",
     "output_type": "stream",
     "text": [
      "\u001b[31m[EPISODE 7600 / STEP 2258704] - EPSILON-GREEDY[final] : 0.1000\n",
      "\u001b[32mLearned Step : 554948\n",
      "\u001b[34mAVG   Return : 2.2600\n",
      "saved step 554948 in ckpt/\n"
     ]
    },
    {
     "name": "stderr",
     "output_type": "stream",
     "text": [
      " 15%|█▌        | 7650/50000 [2:50:16<17:33:32,  1.49s/it]"
     ]
    },
    {
     "name": "stdout",
     "output_type": "stream",
     "text": [
      "\u001b[31m[EPISODE 7650 / STEP 2275613] - EPSILON-GREEDY[final] : 0.1000\n",
      "\u001b[32mLearned Step : 559196\n",
      "\u001b[34mAVG   Return : 2.3400\n",
      "saved step 559196 in ckpt/\n"
     ]
    },
    {
     "name": "stderr",
     "output_type": "stream",
     "text": [
      " 15%|█▌        | 7700/50000 [2:51:40<25:57:11,  2.21s/it]"
     ]
    },
    {
     "name": "stdout",
     "output_type": "stream",
     "text": [
      "\u001b[31m[EPISODE 7700 / STEP 2292929] - EPSILON-GREEDY[final] : 0.1000\n",
      "\u001b[32mLearned Step : 563544\n",
      "\u001b[34mAVG   Return : 3.1000\n",
      "saved step 563544 in ckpt/\n"
     ]
    },
    {
     "name": "stderr",
     "output_type": "stream",
     "text": [
      " 16%|█▌        | 7750/50000 [2:53:02<17:28:01,  1.49s/it]"
     ]
    },
    {
     "name": "stdout",
     "output_type": "stream",
     "text": [
      "\u001b[31m[EPISODE 7750 / STEP 2309921] - EPSILON-GREEDY[final] : 0.1000\n",
      "\u001b[32mLearned Step : 567814\n",
      "\u001b[34mAVG   Return : 2.4400\n",
      "saved step 567814 in ckpt/\n"
     ]
    },
    {
     "name": "stderr",
     "output_type": "stream",
     "text": [
      " 16%|█▌        | 7800/50000 [2:54:25<16:09:29,  1.38s/it]"
     ]
    },
    {
     "name": "stdout",
     "output_type": "stream",
     "text": [
      "\u001b[31m[EPISODE 7800 / STEP 2327124] - EPSILON-GREEDY[final] : 0.1000\n",
      "\u001b[32mLearned Step : 572135\n",
      "\u001b[34mAVG   Return : 2.8800\n",
      "saved step 572135 in ckpt/\n"
     ]
    },
    {
     "name": "stderr",
     "output_type": "stream",
     "text": [
      " 16%|█▌        | 7850/50000 [2:55:45<17:52:25,  1.53s/it]"
     ]
    },
    {
     "name": "stdout",
     "output_type": "stream",
     "text": [
      "\u001b[31m[EPISODE 7850 / STEP 2343568] - EPSILON-GREEDY[final] : 0.1000\n",
      "\u001b[32mLearned Step : 576259\n",
      "\u001b[34mAVG   Return : 2.9200\n",
      "saved step 576259 in ckpt/\n"
     ]
    },
    {
     "name": "stderr",
     "output_type": "stream",
     "text": [
      " 16%|█▌        | 7900/50000 [2:57:05<15:20:05,  1.31s/it]"
     ]
    },
    {
     "name": "stdout",
     "output_type": "stream",
     "text": [
      "\u001b[31m[EPISODE 7900 / STEP 2359997] - EPSILON-GREEDY[final] : 0.1000\n",
      "\u001b[32mLearned Step : 580386\n",
      "\u001b[34mAVG   Return : 2.7400\n",
      "saved step 580386 in ckpt/\n"
     ]
    },
    {
     "name": "stderr",
     "output_type": "stream",
     "text": [
      " 16%|█▌        | 7950/50000 [2:58:24<13:49:47,  1.18s/it]"
     ]
    },
    {
     "name": "stdout",
     "output_type": "stream",
     "text": [
      "\u001b[31m[EPISODE 7950 / STEP 2376419] - EPSILON-GREEDY[final] : 0.1000\n",
      "\u001b[32mLearned Step : 584508\n",
      "\u001b[34mAVG   Return : 2.8400\n",
      "saved step 584508 in ckpt/\n"
     ]
    },
    {
     "name": "stderr",
     "output_type": "stream",
     "text": [
      " 16%|█▌        | 8000/50000 [2:59:48<23:09:41,  1.99s/it]"
     ]
    },
    {
     "name": "stdout",
     "output_type": "stream",
     "text": [
      "\u001b[31m[EPISODE 8000 / STEP 2393906] - EPSILON-GREEDY[final] : 0.1000\n",
      "\u001b[32mLearned Step : 588900\n",
      "\u001b[34mAVG   Return : 3.0600\n",
      "saved step 588900 in ckpt/\n"
     ]
    },
    {
     "name": "stderr",
     "output_type": "stream",
     "text": [
      " 16%|█▌        | 8050/50000 [3:01:04<12:48:23,  1.10s/it]"
     ]
    },
    {
     "name": "stdout",
     "output_type": "stream",
     "text": [
      "\u001b[31m[EPISODE 8050 / STEP 2409628] - EPSILON-GREEDY[final] : 0.1000\n",
      "\u001b[32mLearned Step : 592849\n",
      "\u001b[34mAVG   Return : 2.6400\n",
      "saved step 592849 in ckpt/\n"
     ]
    },
    {
     "name": "stderr",
     "output_type": "stream",
     "text": [
      " 16%|█▌        | 8100/50000 [3:02:24<26:48:26,  2.30s/it]"
     ]
    },
    {
     "name": "stdout",
     "output_type": "stream",
     "text": [
      "\u001b[31m[EPISODE 8100 / STEP 2425962] - EPSILON-GREEDY[final] : 0.1000\n",
      "\u001b[32mLearned Step : 596948\n",
      "\u001b[34mAVG   Return : 2.3800\n",
      "saved step 596948 in ckpt/\n"
     ]
    },
    {
     "name": "stderr",
     "output_type": "stream",
     "text": [
      " 16%|█▋        | 8150/50000 [3:03:39<23:16:27,  2.00s/it]"
     ]
    },
    {
     "name": "stdout",
     "output_type": "stream",
     "text": [
      "\u001b[31m[EPISODE 8150 / STEP 2441262] - EPSILON-GREEDY[final] : 0.1000\n",
      "\u001b[32mLearned Step : 600789\n",
      "\u001b[34mAVG   Return : 2.3400\n",
      "saved step 600789 in ckpt/\n"
     ]
    },
    {
     "name": "stderr",
     "output_type": "stream",
     "text": [
      " 16%|█▋        | 8200/50000 [3:04:52<15:31:02,  1.34s/it]"
     ]
    },
    {
     "name": "stdout",
     "output_type": "stream",
     "text": [
      "\u001b[31m[EPISODE 8200 / STEP 2456421] - EPSILON-GREEDY[final] : 0.1000\n",
      "\u001b[32mLearned Step : 604596\n",
      "\u001b[34mAVG   Return : 2.1600\n",
      "saved step 604596 in ckpt/\n"
     ]
    },
    {
     "name": "stderr",
     "output_type": "stream",
     "text": [
      " 16%|█▋        | 8250/50000 [3:06:00<17:24:54,  1.50s/it]"
     ]
    },
    {
     "name": "stdout",
     "output_type": "stream",
     "text": [
      "\u001b[31m[EPISODE 8250 / STEP 2470560] - EPSILON-GREEDY[final] : 0.1000\n",
      "\u001b[32mLearned Step : 608148\n",
      "\u001b[34mAVG   Return : 2.0000\n",
      "saved step 608148 in ckpt/\n"
     ]
    },
    {
     "name": "stderr",
     "output_type": "stream",
     "text": [
      " 17%|█▋        | 8300/50000 [3:07:11<15:00:42,  1.30s/it]"
     ]
    },
    {
     "name": "stdout",
     "output_type": "stream",
     "text": [
      "\u001b[31m[EPISODE 8300 / STEP 2484966] - EPSILON-GREEDY[final] : 0.1000\n",
      "\u001b[32mLearned Step : 611774\n",
      "\u001b[34mAVG   Return : 2.2400\n",
      "saved step 611774 in ckpt/\n"
     ]
    },
    {
     "name": "stderr",
     "output_type": "stream",
     "text": [
      " 17%|█▋        | 8350/50000 [3:08:22<18:00:09,  1.56s/it]"
     ]
    },
    {
     "name": "stdout",
     "output_type": "stream",
     "text": [
      "\u001b[31m[EPISODE 8350 / STEP 2499912] - EPSILON-GREEDY[final] : 0.1000\n",
      "\u001b[32mLearned Step : 615530\n",
      "\u001b[34mAVG   Return : 2.2400\n",
      "saved step 615530 in ckpt/\n"
     ]
    },
    {
     "name": "stderr",
     "output_type": "stream",
     "text": [
      " 17%|█▋        | 8400/50000 [3:09:42<17:03:36,  1.48s/it]"
     ]
    },
    {
     "name": "stdout",
     "output_type": "stream",
     "text": [
      "\u001b[31m[EPISODE 8400 / STEP 2516429] - EPSILON-GREEDY[final] : 0.1000\n",
      "\u001b[32mLearned Step : 619677\n",
      "\u001b[34mAVG   Return : 2.7600\n",
      "saved step 619677 in ckpt/\n"
     ]
    },
    {
     "name": "stderr",
     "output_type": "stream",
     "text": [
      " 17%|█▋        | 8450/50000 [3:10:50<19:29:40,  1.69s/it]"
     ]
    },
    {
     "name": "stdout",
     "output_type": "stream",
     "text": [
      "\u001b[31m[EPISODE 8450 / STEP 2530462] - EPSILON-GREEDY[final] : 0.1000\n",
      "\u001b[32mLearned Step : 623205\n",
      "\u001b[34mAVG   Return : 1.9400\n",
      "saved step 623205 in ckpt/\n"
     ]
    },
    {
     "name": "stderr",
     "output_type": "stream",
     "text": [
      " 17%|█▋        | 8500/50000 [3:12:00<19:24:16,  1.68s/it]"
     ]
    },
    {
     "name": "stdout",
     "output_type": "stream",
     "text": [
      "\u001b[31m[EPISODE 8500 / STEP 2545103] - EPSILON-GREEDY[final] : 0.1000\n",
      "\u001b[32mLearned Step : 626882\n",
      "\u001b[34mAVG   Return : 2.2400\n",
      "saved step 626882 in ckpt/\n"
     ]
    },
    {
     "name": "stderr",
     "output_type": "stream",
     "text": [
      " 17%|█▋        | 8550/50000 [3:13:23<14:47:34,  1.28s/it]"
     ]
    },
    {
     "name": "stdout",
     "output_type": "stream",
     "text": [
      "\u001b[31m[EPISODE 8550 / STEP 2562103] - EPSILON-GREEDY[final] : 0.1000\n",
      "\u001b[32mLearned Step : 631155\n",
      "\u001b[34mAVG   Return : 2.8200\n",
      "saved step 631155 in ckpt/\n"
     ]
    },
    {
     "name": "stderr",
     "output_type": "stream",
     "text": [
      " 17%|█▋        | 8600/50000 [3:14:34<18:22:48,  1.60s/it]"
     ]
    },
    {
     "name": "stdout",
     "output_type": "stream",
     "text": [
      "\u001b[31m[EPISODE 8600 / STEP 2576842] - EPSILON-GREEDY[final] : 0.1000\n",
      "\u001b[32mLearned Step : 634857\n",
      "\u001b[34mAVG   Return : 2.2200\n",
      "saved step 634857 in ckpt/\n"
     ]
    },
    {
     "name": "stderr",
     "output_type": "stream",
     "text": [
      " 17%|█▋        | 8650/50000 [3:15:54<19:11:46,  1.67s/it]"
     ]
    },
    {
     "name": "stdout",
     "output_type": "stream",
     "text": [
      "\u001b[31m[EPISODE 8650 / STEP 2593291] - EPSILON-GREEDY[final] : 0.1000\n",
      "\u001b[32mLearned Step : 638987\n",
      "\u001b[34mAVG   Return : 2.7600\n",
      "saved step 638987 in ckpt/\n"
     ]
    },
    {
     "name": "stderr",
     "output_type": "stream",
     "text": [
      " 17%|█▋        | 8700/50000 [3:17:22<24:03:51,  2.10s/it]"
     ]
    },
    {
     "name": "stdout",
     "output_type": "stream",
     "text": [
      "\u001b[31m[EPISODE 8700 / STEP 2611707] - EPSILON-GREEDY[final] : 0.1000\n",
      "\u001b[32mLearned Step : 643608\n",
      "\u001b[34mAVG   Return : 3.2800\n",
      "saved step 643608 in ckpt/\n"
     ]
    },
    {
     "name": "stderr",
     "output_type": "stream",
     "text": [
      " 18%|█▊        | 8750/50000 [3:18:47<23:39:25,  2.06s/it]"
     ]
    },
    {
     "name": "stdout",
     "output_type": "stream",
     "text": [
      "\u001b[31m[EPISODE 8750 / STEP 2629449] - EPSILON-GREEDY[final] : 0.1000\n",
      "\u001b[32mLearned Step : 648064\n",
      "\u001b[34mAVG   Return : 3.0600\n",
      "saved step 648064 in ckpt/\n"
     ]
    },
    {
     "name": "stderr",
     "output_type": "stream",
     "text": [
      " 18%|█▊        | 8800/50000 [3:20:03<19:37:48,  1.72s/it]"
     ]
    },
    {
     "name": "stdout",
     "output_type": "stream",
     "text": [
      "\u001b[31m[EPISODE 8800 / STEP 2645180] - EPSILON-GREEDY[final] : 0.1000\n",
      "\u001b[32mLearned Step : 652015\n",
      "\u001b[34mAVG   Return : 2.3200\n",
      "saved step 652015 in ckpt/\n"
     ]
    },
    {
     "name": "stderr",
     "output_type": "stream",
     "text": [
      " 18%|█▊        | 8850/50000 [3:21:33<20:07:45,  1.76s/it]"
     ]
    },
    {
     "name": "stdout",
     "output_type": "stream",
     "text": [
      "\u001b[31m[EPISODE 8850 / STEP 2663656] - EPSILON-GREEDY[final] : 0.1000\n",
      "\u001b[32mLearned Step : 656655\n",
      "\u001b[34mAVG   Return : 2.9200\n",
      "saved step 656655 in ckpt/\n"
     ]
    },
    {
     "name": "stderr",
     "output_type": "stream",
     "text": [
      " 18%|█▊        | 8900/50000 [3:22:50<19:15:34,  1.69s/it]"
     ]
    },
    {
     "name": "stdout",
     "output_type": "stream",
     "text": [
      "\u001b[31m[EPISODE 8900 / STEP 2679724] - EPSILON-GREEDY[final] : 0.1000\n",
      "\u001b[32mLearned Step : 660689\n",
      "\u001b[34mAVG   Return : 2.6400\n",
      "saved step 660689 in ckpt/\n"
     ]
    },
    {
     "name": "stderr",
     "output_type": "stream",
     "text": [
      " 18%|█▊        | 8950/50000 [3:24:23<15:21:43,  1.35s/it]"
     ]
    },
    {
     "name": "stdout",
     "output_type": "stream",
     "text": [
      "\u001b[31m[EPISODE 8950 / STEP 2699177] - EPSILON-GREEDY[final] : 0.1000\n",
      "\u001b[32mLearned Step : 665570\n",
      "\u001b[34mAVG   Return : 3.4400\n",
      "saved step 665570 in ckpt/\n"
     ]
    },
    {
     "name": "stderr",
     "output_type": "stream",
     "text": [
      " 18%|█▊        | 9000/50000 [3:26:01<25:45:22,  2.26s/it]"
     ]
    },
    {
     "name": "stdout",
     "output_type": "stream",
     "text": [
      "\u001b[31m[EPISODE 9000 / STEP 2719529] - EPSILON-GREEDY[final] : 0.1000\n",
      "\u001b[32mLearned Step : 670681\n",
      "\u001b[34mAVG   Return : 3.6200\n",
      "saved step 670681 in ckpt/\n"
     ]
    },
    {
     "name": "stderr",
     "output_type": "stream",
     "text": [
      " 18%|█▊        | 9050/50000 [3:27:21<17:26:31,  1.53s/it]"
     ]
    },
    {
     "name": "stdout",
     "output_type": "stream",
     "text": [
      "\u001b[31m[EPISODE 9050 / STEP 2735974] - EPSILON-GREEDY[final] : 0.1000\n",
      "\u001b[32mLearned Step : 674811\n",
      "\u001b[34mAVG   Return : 2.4400\n",
      "saved step 674811 in ckpt/\n"
     ]
    },
    {
     "name": "stderr",
     "output_type": "stream",
     "text": [
      " 18%|█▊        | 9100/50000 [3:28:47<23:14:07,  2.05s/it]"
     ]
    },
    {
     "name": "stdout",
     "output_type": "stream",
     "text": [
      "\u001b[31m[EPISODE 9100 / STEP 2753779] - EPSILON-GREEDY[final] : 0.1000\n",
      "\u001b[32mLearned Step : 679279\n",
      "\u001b[34mAVG   Return : 2.8800\n",
      "saved step 679279 in ckpt/\n"
     ]
    },
    {
     "name": "stderr",
     "output_type": "stream",
     "text": [
      " 18%|█▊        | 9150/50000 [3:30:04<14:45:33,  1.30s/it]"
     ]
    },
    {
     "name": "stdout",
     "output_type": "stream",
     "text": [
      "\u001b[31m[EPISODE 9150 / STEP 2769626] - EPSILON-GREEDY[final] : 0.1000\n",
      "\u001b[32mLearned Step : 683262\n",
      "\u001b[34mAVG   Return : 2.0200\n",
      "saved step 683262 in ckpt/\n"
     ]
    },
    {
     "name": "stderr",
     "output_type": "stream",
     "text": [
      " 18%|█▊        | 9200/50000 [3:31:11<12:36:22,  1.11s/it]"
     ]
    },
    {
     "name": "stdout",
     "output_type": "stream",
     "text": [
      "\u001b[31m[EPISODE 9200 / STEP 2783464] - EPSILON-GREEDY[final] : 0.1000\n",
      "\u001b[32mLearned Step : 686741\n",
      "\u001b[34mAVG   Return : 1.8000\n",
      "saved step 686741 in ckpt/\n"
     ]
    },
    {
     "name": "stderr",
     "output_type": "stream",
     "text": [
      " 18%|█▊        | 9250/50000 [3:32:29<13:31:29,  1.19s/it]"
     ]
    },
    {
     "name": "stdout",
     "output_type": "stream",
     "text": [
      "\u001b[31m[EPISODE 9250 / STEP 2799548] - EPSILON-GREEDY[final] : 0.1000\n",
      "\u001b[32mLearned Step : 690782\n",
      "\u001b[34mAVG   Return : 2.0600\n",
      "saved step 690782 in ckpt/\n"
     ]
    },
    {
     "name": "stderr",
     "output_type": "stream",
     "text": [
      " 19%|█▊        | 9300/50000 [3:33:40<14:32:15,  1.29s/it]"
     ]
    },
    {
     "name": "stdout",
     "output_type": "stream",
     "text": [
      "\u001b[31m[EPISODE 9300 / STEP 2814334] - EPSILON-GREEDY[final] : 0.1000\n",
      "\u001b[32mLearned Step : 694498\n",
      "\u001b[34mAVG   Return : 1.9400\n",
      "saved step 694498 in ckpt/\n"
     ]
    },
    {
     "name": "stderr",
     "output_type": "stream",
     "text": [
      " 19%|█▊        | 9350/50000 [3:34:53<14:30:15,  1.28s/it]"
     ]
    },
    {
     "name": "stdout",
     "output_type": "stream",
     "text": [
      "\u001b[31m[EPISODE 9350 / STEP 2829489] - EPSILON-GREEDY[final] : 0.1000\n",
      "\u001b[32mLearned Step : 698307\n",
      "\u001b[34mAVG   Return : 1.6800\n",
      "saved step 698307 in ckpt/\n"
     ]
    },
    {
     "name": "stderr",
     "output_type": "stream",
     "text": [
      " 19%|█▉        | 9400/50000 [3:36:09<14:59:17,  1.33s/it]"
     ]
    },
    {
     "name": "stdout",
     "output_type": "stream",
     "text": [
      "\u001b[31m[EPISODE 9400 / STEP 2845296] - EPSILON-GREEDY[final] : 0.1000\n",
      "\u001b[32mLearned Step : 702276\n",
      "\u001b[34mAVG   Return : 1.9600\n",
      "saved step 702276 in ckpt/\n"
     ]
    },
    {
     "name": "stderr",
     "output_type": "stream",
     "text": [
      " 19%|█▉        | 9450/50000 [3:37:34<16:16:57,  1.45s/it]"
     ]
    },
    {
     "name": "stdout",
     "output_type": "stream",
     "text": [
      "\u001b[31m[EPISODE 9450 / STEP 2862907] - EPSILON-GREEDY[final] : 0.1000\n",
      "\u001b[32mLearned Step : 706696\n",
      "\u001b[34mAVG   Return : 2.6400\n",
      "saved step 706696 in ckpt/\n"
     ]
    },
    {
     "name": "stderr",
     "output_type": "stream",
     "text": [
      " 19%|█▉        | 9500/50000 [3:38:57<18:10:59,  1.62s/it]"
     ]
    },
    {
     "name": "stdout",
     "output_type": "stream",
     "text": [
      "\u001b[31m[EPISODE 9500 / STEP 2880051] - EPSILON-GREEDY[final] : 0.1000\n",
      "\u001b[32mLearned Step : 711000\n",
      "\u001b[34mAVG   Return : 2.7600\n",
      "saved step 711000 in ckpt/\n"
     ]
    },
    {
     "name": "stderr",
     "output_type": "stream",
     "text": [
      " 19%|█▉        | 9550/50000 [3:40:31<22:51:08,  2.03s/it]"
     ]
    },
    {
     "name": "stdout",
     "output_type": "stream",
     "text": [
      "\u001b[31m[EPISODE 9550 / STEP 2899586] - EPSILON-GREEDY[final] : 0.1000\n",
      "\u001b[32mLearned Step : 715905\n",
      "\u001b[34mAVG   Return : 3.5000\n",
      "saved step 715905 in ckpt/\n"
     ]
    },
    {
     "name": "stderr",
     "output_type": "stream",
     "text": [
      " 19%|█▉        | 9600/50000 [3:41:59<19:15:50,  1.72s/it]"
     ]
    },
    {
     "name": "stdout",
     "output_type": "stream",
     "text": [
      "\u001b[31m[EPISODE 9600 / STEP 2917890] - EPSILON-GREEDY[final] : 0.1000\n",
      "\u001b[32mLearned Step : 720500\n",
      "\u001b[34mAVG   Return : 2.9200\n",
      "saved step 720500 in ckpt/\n"
     ]
    },
    {
     "name": "stderr",
     "output_type": "stream",
     "text": [
      " 19%|█▉        | 9650/50000 [3:43:27<23:26:14,  2.09s/it]"
     ]
    },
    {
     "name": "stdout",
     "output_type": "stream",
     "text": [
      "\u001b[31m[EPISODE 9650 / STEP 2935997] - EPSILON-GREEDY[final] : 0.1000\n",
      "\u001b[32mLearned Step : 725043\n",
      "\u001b[34mAVG   Return : 3.1400\n",
      "saved step 725043 in ckpt/\n"
     ]
    },
    {
     "name": "stderr",
     "output_type": "stream",
     "text": [
      " 19%|█▉        | 9700/50000 [3:44:44<14:48:27,  1.32s/it]"
     ]
    },
    {
     "name": "stdout",
     "output_type": "stream",
     "text": [
      "\u001b[31m[EPISODE 9700 / STEP 2952058] - EPSILON-GREEDY[final] : 0.1000\n",
      "\u001b[32mLearned Step : 729080\n",
      "\u001b[34mAVG   Return : 2.6000\n",
      "saved step 729080 in ckpt/\n"
     ]
    },
    {
     "name": "stderr",
     "output_type": "stream",
     "text": [
      " 20%|█▉        | 9750/50000 [3:46:00<14:47:23,  1.32s/it]"
     ]
    },
    {
     "name": "stdout",
     "output_type": "stream",
     "text": [
      "\u001b[31m[EPISODE 9750 / STEP 2967814] - EPSILON-GREEDY[final] : 0.1000\n",
      "\u001b[32mLearned Step : 733039\n",
      "\u001b[34mAVG   Return : 2.3000\n",
      "saved step 733039 in ckpt/\n"
     ]
    },
    {
     "name": "stderr",
     "output_type": "stream",
     "text": [
      " 20%|█▉        | 9800/50000 [3:47:09<18:28:59,  1.66s/it]"
     ]
    },
    {
     "name": "stdout",
     "output_type": "stream",
     "text": [
      "\u001b[31m[EPISODE 9800 / STEP 2982221] - EPSILON-GREEDY[final] : 0.1000\n",
      "\u001b[32mLearned Step : 736662\n",
      "\u001b[34mAVG   Return : 1.8400\n",
      "saved step 736662 in ckpt/\n"
     ]
    },
    {
     "name": "stderr",
     "output_type": "stream",
     "text": [
      " 20%|█▉        | 9850/50000 [3:48:23<13:21:05,  1.20s/it]"
     ]
    },
    {
     "name": "stdout",
     "output_type": "stream",
     "text": [
      "\u001b[31m[EPISODE 9850 / STEP 2997563] - EPSILON-GREEDY[final] : 0.1000\n",
      "\u001b[32mLearned Step : 740514\n",
      "\u001b[34mAVG   Return : 2.4800\n",
      "saved step 740514 in ckpt/\n"
     ]
    },
    {
     "name": "stderr",
     "output_type": "stream",
     "text": [
      " 20%|█▉        | 9900/50000 [3:49:32<17:23:09,  1.56s/it]"
     ]
    },
    {
     "name": "stdout",
     "output_type": "stream",
     "text": [
      "\u001b[31m[EPISODE 9900 / STEP 3011819] - EPSILON-GREEDY[final] : 0.1000\n",
      "\u001b[32mLearned Step : 744101\n",
      "\u001b[34mAVG   Return : 1.8400\n",
      "saved step 744101 in ckpt/\n"
     ]
    },
    {
     "name": "stderr",
     "output_type": "stream",
     "text": [
      " 20%|█▉        | 9950/50000 [3:50:40<14:16:29,  1.28s/it]"
     ]
    },
    {
     "name": "stdout",
     "output_type": "stream",
     "text": [
      "\u001b[31m[EPISODE 9950 / STEP 3025672] - EPSILON-GREEDY[final] : 0.1000\n",
      "\u001b[32mLearned Step : 747583\n",
      "\u001b[34mAVG   Return : 1.4400\n",
      "saved step 747583 in ckpt/\n"
     ]
    },
    {
     "name": "stderr",
     "output_type": "stream",
     "text": [
      " 20%|██        | 10000/50000 [3:51:54<17:19:26,  1.56s/it]"
     ]
    },
    {
     "name": "stdout",
     "output_type": "stream",
     "text": [
      "\u001b[31m[EPISODE 10000 / STEP 3040979] - EPSILON-GREEDY[final] : 0.1000\n",
      "\u001b[32mLearned Step : 751429\n",
      "\u001b[34mAVG   Return : 2.0400\n",
      "saved step 751429 in ckpt/\n"
     ]
    },
    {
     "name": "stderr",
     "output_type": "stream",
     "text": [
      " 20%|██        | 10050/50000 [3:53:05<13:55:23,  1.25s/it]"
     ]
    },
    {
     "name": "stdout",
     "output_type": "stream",
     "text": [
      "\u001b[31m[EPISODE 10050 / STEP 3055821] - EPSILON-GREEDY[final] : 0.1000\n",
      "\u001b[32mLearned Step : 755159\n",
      "\u001b[34mAVG   Return : 2.1000\n",
      "saved step 755159 in ckpt/\n"
     ]
    },
    {
     "name": "stderr",
     "output_type": "stream",
     "text": [
      " 20%|██        | 10100/50000 [3:54:21<16:06:33,  1.45s/it]"
     ]
    },
    {
     "name": "stdout",
     "output_type": "stream",
     "text": [
      "\u001b[31m[EPISODE 10100 / STEP 3071507] - EPSILON-GREEDY[final] : 0.1000\n",
      "\u001b[32mLearned Step : 759098\n",
      "\u001b[34mAVG   Return : 2.4200\n",
      "saved step 759098 in ckpt/\n"
     ]
    },
    {
     "name": "stderr",
     "output_type": "stream",
     "text": [
      " 20%|██        | 10150/50000 [3:55:37<19:44:49,  1.78s/it]"
     ]
    },
    {
     "name": "stdout",
     "output_type": "stream",
     "text": [
      "\u001b[31m[EPISODE 10150 / STEP 3087570] - EPSILON-GREEDY[final] : 0.1000\n",
      "\u001b[32mLearned Step : 763134\n",
      "\u001b[34mAVG   Return : 2.2400\n",
      "saved step 763134 in ckpt/\n"
     ]
    },
    {
     "name": "stderr",
     "output_type": "stream",
     "text": [
      " 20%|██        | 10200/50000 [3:56:53<14:57:51,  1.35s/it]"
     ]
    },
    {
     "name": "stdout",
     "output_type": "stream",
     "text": [
      "\u001b[31m[EPISODE 10200 / STEP 3103336] - EPSILON-GREEDY[final] : 0.1000\n",
      "\u001b[32mLearned Step : 767094\n",
      "\u001b[34mAVG   Return : 2.3600\n",
      "saved step 767094 in ckpt/\n"
     ]
    },
    {
     "name": "stderr",
     "output_type": "stream",
     "text": [
      " 20%|██        | 10250/50000 [3:58:11<18:55:34,  1.71s/it]"
     ]
    },
    {
     "name": "stdout",
     "output_type": "stream",
     "text": [
      "\u001b[31m[EPISODE 10250 / STEP 3119455] - EPSILON-GREEDY[final] : 0.1000\n",
      "\u001b[32mLearned Step : 771147\n",
      "\u001b[34mAVG   Return : 2.4600\n",
      "saved step 771147 in ckpt/\n"
     ]
    },
    {
     "name": "stderr",
     "output_type": "stream",
     "text": [
      " 21%|██        | 10300/50000 [3:59:38<17:33:48,  1.59s/it]"
     ]
    },
    {
     "name": "stdout",
     "output_type": "stream",
     "text": [
      "\u001b[31m[EPISODE 10300 / STEP 3137560] - EPSILON-GREEDY[final] : 0.1000\n",
      "\u001b[32mLearned Step : 775694\n",
      "\u001b[34mAVG   Return : 3.3800\n",
      "saved step 775694 in ckpt/\n"
     ]
    },
    {
     "name": "stderr",
     "output_type": "stream",
     "text": [
      " 21%|██        | 10350/50000 [4:01:07<17:33:27,  1.59s/it]"
     ]
    },
    {
     "name": "stdout",
     "output_type": "stream",
     "text": [
      "\u001b[31m[EPISODE 10350 / STEP 3156039] - EPSILON-GREEDY[final] : 0.1000\n",
      "\u001b[32mLearned Step : 780332\n",
      "\u001b[34mAVG   Return : 3.4400\n",
      "saved step 780332 in ckpt/\n"
     ]
    },
    {
     "name": "stderr",
     "output_type": "stream",
     "text": [
      " 21%|██        | 10400/50000 [4:02:29<19:43:18,  1.79s/it]"
     ]
    },
    {
     "name": "stdout",
     "output_type": "stream",
     "text": [
      "\u001b[31m[EPISODE 10400 / STEP 3173240] - EPSILON-GREEDY[final] : 0.1000\n",
      "\u001b[32mLearned Step : 784652\n",
      "\u001b[34mAVG   Return : 3.0800\n",
      "saved step 784652 in ckpt/\n"
     ]
    },
    {
     "name": "stderr",
     "output_type": "stream",
     "text": [
      " 21%|██        | 10450/50000 [4:03:50<10:57:02,  1.00it/s]"
     ]
    },
    {
     "name": "stdout",
     "output_type": "stream",
     "text": [
      "\u001b[31m[EPISODE 10450 / STEP 3189890] - EPSILON-GREEDY[final] : 0.1000\n",
      "\u001b[32mLearned Step : 788832\n",
      "\u001b[34mAVG   Return : 2.8200\n",
      "saved step 788832 in ckpt/\n"
     ]
    },
    {
     "name": "stderr",
     "output_type": "stream",
     "text": [
      " 21%|██        | 10500/50000 [4:05:10<17:42:07,  1.61s/it]"
     ]
    },
    {
     "name": "stdout",
     "output_type": "stream",
     "text": [
      "\u001b[31m[EPISODE 10500 / STEP 3206711] - EPSILON-GREEDY[final] : 0.1000\n",
      "\u001b[32mLearned Step : 793053\n",
      "\u001b[34mAVG   Return : 2.6800\n",
      "saved step 793053 in ckpt/\n"
     ]
    },
    {
     "name": "stderr",
     "output_type": "stream",
     "text": [
      " 21%|██        | 10550/50000 [4:06:29<15:32:37,  1.42s/it]"
     ]
    },
    {
     "name": "stdout",
     "output_type": "stream",
     "text": [
      "\u001b[31m[EPISODE 10550 / STEP 3222882] - EPSILON-GREEDY[final] : 0.1000\n",
      "\u001b[32mLearned Step : 797114\n",
      "\u001b[34mAVG   Return : 2.5200\n",
      "saved step 797114 in ckpt/\n"
     ]
    },
    {
     "name": "stderr",
     "output_type": "stream",
     "text": [
      " 21%|██        | 10600/50000 [4:07:51<19:24:14,  1.77s/it]"
     ]
    },
    {
     "name": "stdout",
     "output_type": "stream",
     "text": [
      "\u001b[31m[EPISODE 10600 / STEP 3239614] - EPSILON-GREEDY[final] : 0.1000\n",
      "\u001b[32mLearned Step : 801318\n",
      "\u001b[34mAVG   Return : 2.5800\n",
      "saved step 801318 in ckpt/\n"
     ]
    },
    {
     "name": "stderr",
     "output_type": "stream",
     "text": [
      " 21%|██▏       | 10650/50000 [4:09:07<12:08:05,  1.11s/it]"
     ]
    },
    {
     "name": "stdout",
     "output_type": "stream",
     "text": [
      "\u001b[31m[EPISODE 10650 / STEP 3255230] - EPSILON-GREEDY[final] : 0.1000\n",
      "\u001b[32mLearned Step : 805242\n",
      "\u001b[34mAVG   Return : 2.3400\n",
      "saved step 805242 in ckpt/\n"
     ]
    },
    {
     "name": "stderr",
     "output_type": "stream",
     "text": [
      " 21%|██▏       | 10700/50000 [4:10:18<13:58:21,  1.28s/it]"
     ]
    },
    {
     "name": "stdout",
     "output_type": "stream",
     "text": [
      "\u001b[31m[EPISODE 10700 / STEP 3270032] - EPSILON-GREEDY[final] : 0.1000\n",
      "\u001b[32mLearned Step : 808962\n",
      "\u001b[34mAVG   Return : 2.1000\n",
      "saved step 808962 in ckpt/\n"
     ]
    },
    {
     "name": "stderr",
     "output_type": "stream",
     "text": [
      " 22%|██▏       | 10750/50000 [4:11:36<15:43:25,  1.44s/it]"
     ]
    },
    {
     "name": "stdout",
     "output_type": "stream",
     "text": [
      "\u001b[31m[EPISODE 10750 / STEP 3286261] - EPSILON-GREEDY[final] : 0.1000\n",
      "\u001b[32mLearned Step : 813039\n",
      "\u001b[34mAVG   Return : 2.2800\n",
      "saved step 813039 in ckpt/\n"
     ]
    },
    {
     "name": "stderr",
     "output_type": "stream",
     "text": [
      " 22%|██▏       | 10800/50000 [4:12:48<18:11:15,  1.67s/it]"
     ]
    },
    {
     "name": "stdout",
     "output_type": "stream",
     "text": [
      "\u001b[31m[EPISODE 10800 / STEP 3301204] - EPSILON-GREEDY[final] : 0.1000\n",
      "\u001b[32mLearned Step : 816796\n",
      "\u001b[34mAVG   Return : 2.1200\n",
      "saved step 816796 in ckpt/\n"
     ]
    },
    {
     "name": "stderr",
     "output_type": "stream",
     "text": [
      " 22%|██▏       | 10850/50000 [4:13:54<12:57:35,  1.19s/it]"
     ]
    },
    {
     "name": "stdout",
     "output_type": "stream",
     "text": [
      "\u001b[31m[EPISODE 10850 / STEP 3314984] - EPSILON-GREEDY[final] : 0.1000\n",
      "\u001b[32mLearned Step : 820257\n",
      "\u001b[34mAVG   Return : 1.8000\n",
      "saved step 820257 in ckpt/\n"
     ]
    },
    {
     "name": "stderr",
     "output_type": "stream",
     "text": [
      " 22%|██▏       | 10900/50000 [4:15:15<17:51:06,  1.64s/it]"
     ]
    },
    {
     "name": "stdout",
     "output_type": "stream",
     "text": [
      "\u001b[31m[EPISODE 10900 / STEP 3331749] - EPSILON-GREEDY[final] : 0.1000\n",
      "\u001b[32mLearned Step : 824465\n",
      "\u001b[34mAVG   Return : 2.4600\n",
      "saved step 824465 in ckpt/\n"
     ]
    },
    {
     "name": "stderr",
     "output_type": "stream",
     "text": [
      " 22%|██▏       | 10950/50000 [4:16:39<21:51:27,  2.02s/it]"
     ]
    },
    {
     "name": "stdout",
     "output_type": "stream",
     "text": [
      "\u001b[31m[EPISODE 10950 / STEP 3349397] - EPSILON-GREEDY[final] : 0.1000\n",
      "\u001b[32mLearned Step : 828897\n",
      "\u001b[34mAVG   Return : 2.9200\n",
      "saved step 828897 in ckpt/\n"
     ]
    },
    {
     "name": "stderr",
     "output_type": "stream",
     "text": [
      " 22%|██▏       | 11000/50000 [4:18:16<20:28:27,  1.89s/it]"
     ]
    },
    {
     "name": "stdout",
     "output_type": "stream",
     "text": [
      "\u001b[31m[EPISODE 11000 / STEP 3369256] - EPSILON-GREEDY[final] : 0.1000\n",
      "\u001b[32mLearned Step : 833881\n",
      "\u001b[34mAVG   Return : 3.8600\n",
      "saved step 833881 in ckpt/\n"
     ]
    },
    {
     "name": "stderr",
     "output_type": "stream",
     "text": [
      " 22%|██▏       | 11050/50000 [4:19:49<18:34:35,  1.72s/it]"
     ]
    },
    {
     "name": "stdout",
     "output_type": "stream",
     "text": [
      "\u001b[31m[EPISODE 11050 / STEP 3388615] - EPSILON-GREEDY[final] : 0.1000\n",
      "\u001b[32mLearned Step : 838741\n",
      "\u001b[34mAVG   Return : 3.8200\n",
      "saved step 838741 in ckpt/\n"
     ]
    },
    {
     "name": "stderr",
     "output_type": "stream",
     "text": [
      " 22%|██▏       | 11100/50000 [4:21:13<16:36:48,  1.54s/it]"
     ]
    },
    {
     "name": "stdout",
     "output_type": "stream",
     "text": [
      "\u001b[31m[EPISODE 11100 / STEP 3406005] - EPSILON-GREEDY[final] : 0.1000\n",
      "\u001b[32mLearned Step : 843105\n",
      "\u001b[34mAVG   Return : 3.0800\n",
      "saved step 843105 in ckpt/\n"
     ]
    },
    {
     "name": "stderr",
     "output_type": "stream",
     "text": [
      " 22%|██▏       | 11150/50000 [4:22:32<17:53:08,  1.66s/it]"
     ]
    },
    {
     "name": "stdout",
     "output_type": "stream",
     "text": [
      "\u001b[31m[EPISODE 11150 / STEP 3422343] - EPSILON-GREEDY[final] : 0.1000\n",
      "\u001b[32mLearned Step : 847210\n",
      "\u001b[34mAVG   Return : 2.6200\n",
      "saved step 847210 in ckpt/\n"
     ]
    },
    {
     "name": "stderr",
     "output_type": "stream",
     "text": [
      " 22%|██▏       | 11200/50000 [4:23:49<18:22:48,  1.71s/it]"
     ]
    },
    {
     "name": "stdout",
     "output_type": "stream",
     "text": [
      "\u001b[31m[EPISODE 11200 / STEP 3438319] - EPSILON-GREEDY[final] : 0.1000\n",
      "\u001b[32mLearned Step : 851221\n",
      "\u001b[34mAVG   Return : 2.3200\n",
      "saved step 851221 in ckpt/\n"
     ]
    },
    {
     "name": "stderr",
     "output_type": "stream",
     "text": [
      " 22%|██▎       | 11250/50000 [4:25:12<14:18:20,  1.33s/it]"
     ]
    },
    {
     "name": "stdout",
     "output_type": "stream",
     "text": [
      "\u001b[31m[EPISODE 11250 / STEP 3455265] - EPSILON-GREEDY[final] : 0.1000\n",
      "\u001b[32mLearned Step : 855475\n",
      "\u001b[34mAVG   Return : 2.5400\n",
      "saved step 855475 in ckpt/\n"
     ]
    },
    {
     "name": "stderr",
     "output_type": "stream",
     "text": [
      " 23%|██▎       | 11300/50000 [4:26:33<17:08:53,  1.60s/it]"
     ]
    },
    {
     "name": "stdout",
     "output_type": "stream",
     "text": [
      "\u001b[31m[EPISODE 11300 / STEP 3472000] - EPSILON-GREEDY[final] : 0.1000\n",
      "\u001b[32mLearned Step : 859680\n",
      "\u001b[34mAVG   Return : 3.0200\n",
      "saved step 859680 in ckpt/\n"
     ]
    },
    {
     "name": "stderr",
     "output_type": "stream",
     "text": [
      " 23%|██▎       | 11350/50000 [4:28:03<18:43:09,  1.74s/it]"
     ]
    },
    {
     "name": "stdout",
     "output_type": "stream",
     "text": [
      "\u001b[31m[EPISODE 11350 / STEP 3490438] - EPSILON-GREEDY[final] : 0.1000\n",
      "\u001b[32mLearned Step : 864308\n",
      "\u001b[34mAVG   Return : 2.9200\n",
      "saved step 864308 in ckpt/\n"
     ]
    },
    {
     "name": "stderr",
     "output_type": "stream",
     "text": [
      " 23%|██▎       | 11400/50000 [4:29:35<14:44:20,  1.37s/it]"
     ]
    },
    {
     "name": "stdout",
     "output_type": "stream",
     "text": [
      "\u001b[31m[EPISODE 11400 / STEP 3509497] - EPSILON-GREEDY[final] : 0.1000\n",
      "\u001b[32mLearned Step : 869092\n",
      "\u001b[34mAVG   Return : 3.5200\n",
      "saved step 869092 in ckpt/\n"
     ]
    },
    {
     "name": "stderr",
     "output_type": "stream",
     "text": [
      " 23%|██▎       | 11450/50000 [4:30:53<16:00:54,  1.50s/it]"
     ]
    },
    {
     "name": "stdout",
     "output_type": "stream",
     "text": [
      "\u001b[31m[EPISODE 11450 / STEP 3525670] - EPSILON-GREEDY[final] : 0.1000\n",
      "\u001b[32mLearned Step : 873155\n",
      "\u001b[34mAVG   Return : 2.5200\n",
      "saved step 873155 in ckpt/\n"
     ]
    },
    {
     "name": "stderr",
     "output_type": "stream",
     "text": [
      " 23%|██▎       | 11500/50000 [4:32:19<21:49:47,  2.04s/it]"
     ]
    },
    {
     "name": "stdout",
     "output_type": "stream",
     "text": [
      "\u001b[31m[EPISODE 11500 / STEP 3543440] - EPSILON-GREEDY[final] : 0.1000\n",
      "\u001b[32mLearned Step : 877618\n",
      "\u001b[34mAVG   Return : 3.2800\n",
      "saved step 877618 in ckpt/\n"
     ]
    },
    {
     "name": "stderr",
     "output_type": "stream",
     "text": [
      " 23%|██▎       | 11550/50000 [4:33:40<13:54:16,  1.30s/it]"
     ]
    },
    {
     "name": "stdout",
     "output_type": "stream",
     "text": [
      "\u001b[31m[EPISODE 11550 / STEP 3560351] - EPSILON-GREEDY[final] : 0.1000\n",
      "\u001b[32mLearned Step : 881866\n",
      "\u001b[34mAVG   Return : 3.1200\n",
      "saved step 881866 in ckpt/\n"
     ]
    },
    {
     "name": "stderr",
     "output_type": "stream",
     "text": [
      " 23%|██▎       | 11600/50000 [4:35:00<14:13:00,  1.33s/it]"
     ]
    },
    {
     "name": "stdout",
     "output_type": "stream",
     "text": [
      "\u001b[31m[EPISODE 11600 / STEP 3576875] - EPSILON-GREEDY[final] : 0.1000\n",
      "\u001b[32mLearned Step : 886016\n",
      "\u001b[34mAVG   Return : 3.0400\n",
      "saved step 886016 in ckpt/\n"
     ]
    },
    {
     "name": "stderr",
     "output_type": "stream",
     "text": [
      " 23%|██▎       | 11650/50000 [4:36:20<16:28:40,  1.55s/it]"
     ]
    },
    {
     "name": "stdout",
     "output_type": "stream",
     "text": [
      "\u001b[31m[EPISODE 11650 / STEP 3593311] - EPSILON-GREEDY[final] : 0.1000\n",
      "\u001b[32mLearned Step : 890145\n",
      "\u001b[34mAVG   Return : 2.8800\n",
      "saved step 890145 in ckpt/\n"
     ]
    },
    {
     "name": "stderr",
     "output_type": "stream",
     "text": [
      " 23%|██▎       | 11700/50000 [4:37:42<13:36:09,  1.28s/it]"
     ]
    },
    {
     "name": "stdout",
     "output_type": "stream",
     "text": [
      "\u001b[31m[EPISODE 11700 / STEP 3610299] - EPSILON-GREEDY[final] : 0.1000\n",
      "\u001b[32mLearned Step : 894407\n",
      "\u001b[34mAVG   Return : 2.9000\n",
      "saved step 894407 in ckpt/\n"
     ]
    },
    {
     "name": "stderr",
     "output_type": "stream",
     "text": [
      " 24%|██▎       | 11750/50000 [4:38:56<21:19:41,  2.01s/it]"
     ]
    },
    {
     "name": "stdout",
     "output_type": "stream",
     "text": [
      "\u001b[31m[EPISODE 11750 / STEP 3625562] - EPSILON-GREEDY[final] : 0.1000\n",
      "\u001b[32mLearned Step : 898239\n",
      "\u001b[34mAVG   Return : 2.6800\n",
      "saved step 898239 in ckpt/\n"
     ]
    },
    {
     "name": "stderr",
     "output_type": "stream",
     "text": [
      " 24%|██▎       | 11800/50000 [4:40:11<17:39:31,  1.66s/it]"
     ]
    },
    {
     "name": "stdout",
     "output_type": "stream",
     "text": [
      "\u001b[31m[EPISODE 11800 / STEP 3640934] - EPSILON-GREEDY[final] : 0.1000\n",
      "\u001b[32mLearned Step : 902104\n",
      "\u001b[34mAVG   Return : 2.4400\n",
      "saved step 902104 in ckpt/\n"
     ]
    },
    {
     "name": "stderr",
     "output_type": "stream",
     "text": [
      " 24%|██▎       | 11850/50000 [4:41:30<14:07:57,  1.33s/it]"
     ]
    },
    {
     "name": "stdout",
     "output_type": "stream",
     "text": [
      "\u001b[31m[EPISODE 11850 / STEP 3657261] - EPSILON-GREEDY[final] : 0.1000\n",
      "\u001b[32mLearned Step : 906202\n",
      "\u001b[34mAVG   Return : 2.8600\n",
      "saved step 906202 in ckpt/\n"
     ]
    },
    {
     "name": "stderr",
     "output_type": "stream",
     "text": [
      " 24%|██▍       | 11900/50000 [4:42:45<16:23:07,  1.55s/it]"
     ]
    },
    {
     "name": "stdout",
     "output_type": "stream",
     "text": [
      "\u001b[31m[EPISODE 11900 / STEP 3672863] - EPSILON-GREEDY[final] : 0.1000\n",
      "\u001b[32mLearned Step : 910117\n",
      "\u001b[34mAVG   Return : 2.5800\n",
      "saved step 910117 in ckpt/\n"
     ]
    },
    {
     "name": "stderr",
     "output_type": "stream",
     "text": [
      " 24%|██▍       | 11950/50000 [4:44:00<13:41:26,  1.30s/it]"
     ]
    },
    {
     "name": "stdout",
     "output_type": "stream",
     "text": [
      "\u001b[31m[EPISODE 11950 / STEP 3688353] - EPSILON-GREEDY[final] : 0.1000\n",
      "\u001b[32mLearned Step : 914010\n",
      "\u001b[34mAVG   Return : 2.4800\n",
      "saved step 914010 in ckpt/\n"
     ]
    },
    {
     "name": "stderr",
     "output_type": "stream",
     "text": [
      " 24%|██▍       | 12000/50000 [4:45:14<15:54:59,  1.51s/it]"
     ]
    },
    {
     "name": "stdout",
     "output_type": "stream",
     "text": [
      "\u001b[31m[EPISODE 12000 / STEP 3703774] - EPSILON-GREEDY[final] : 0.1000\n",
      "\u001b[32mLearned Step : 917887\n",
      "\u001b[34mAVG   Return : 2.4400\n",
      "saved step 917887 in ckpt/\n"
     ]
    },
    {
     "name": "stderr",
     "output_type": "stream",
     "text": [
      " 24%|██▍       | 12050/50000 [4:46:42<19:24:55,  1.84s/it]"
     ]
    },
    {
     "name": "stdout",
     "output_type": "stream",
     "text": [
      "\u001b[31m[EPISODE 12050 / STEP 3722036] - EPSILON-GREEDY[final] : 0.1000\n",
      "\u001b[32mLearned Step : 922471\n",
      "\u001b[34mAVG   Return : 3.5000\n",
      "saved step 922471 in ckpt/\n"
     ]
    },
    {
     "name": "stderr",
     "output_type": "stream",
     "text": [
      " 24%|██▍       | 12100/50000 [4:48:07<19:44:36,  1.88s/it]"
     ]
    },
    {
     "name": "stdout",
     "output_type": "stream",
     "text": [
      "\u001b[31m[EPISODE 12100 / STEP 3739611] - EPSILON-GREEDY[final] : 0.1000\n",
      "\u001b[32mLearned Step : 926883\n",
      "\u001b[34mAVG   Return : 3.0600\n",
      "saved step 926883 in ckpt/\n"
     ]
    },
    {
     "name": "stderr",
     "output_type": "stream",
     "text": [
      " 24%|██▍       | 12150/50000 [4:49:34<23:54:32,  2.27s/it]"
     ]
    },
    {
     "name": "stdout",
     "output_type": "stream",
     "text": [
      "\u001b[31m[EPISODE 12150 / STEP 3757679] - EPSILON-GREEDY[final] : 0.1000\n",
      "\u001b[32mLearned Step : 931417\n",
      "\u001b[34mAVG   Return : 3.4800\n",
      "saved step 931417 in ckpt/\n"
     ]
    },
    {
     "name": "stderr",
     "output_type": "stream",
     "text": [
      " 24%|██▍       | 12200/50000 [4:50:53<15:26:55,  1.47s/it]"
     ]
    },
    {
     "name": "stdout",
     "output_type": "stream",
     "text": [
      "\u001b[31m[EPISODE 12200 / STEP 3773708] - EPSILON-GREEDY[final] : 0.1000\n",
      "\u001b[32mLearned Step : 935444\n",
      "\u001b[34mAVG   Return : 2.5400\n",
      "saved step 935444 in ckpt/\n"
     ]
    },
    {
     "name": "stderr",
     "output_type": "stream",
     "text": [
      " 24%|██▍       | 12250/50000 [4:52:22<21:24:56,  2.04s/it]"
     ]
    },
    {
     "name": "stdout",
     "output_type": "stream",
     "text": [
      "\u001b[31m[EPISODE 12250 / STEP 3792039] - EPSILON-GREEDY[final] : 0.1000\n",
      "\u001b[32mLearned Step : 940049\n",
      "\u001b[34mAVG   Return : 3.1600\n",
      "saved step 940049 in ckpt/\n"
     ]
    },
    {
     "name": "stderr",
     "output_type": "stream",
     "text": [
      " 25%|██▍       | 12300/50000 [4:53:49<17:41:51,  1.69s/it]"
     ]
    },
    {
     "name": "stdout",
     "output_type": "stream",
     "text": [
      "\u001b[31m[EPISODE 12300 / STEP 3810245] - EPSILON-GREEDY[final] : 0.1000\n",
      "\u001b[32mLearned Step : 944623\n",
      "\u001b[34mAVG   Return : 3.3800\n",
      "saved step 944623 in ckpt/\n"
     ]
    },
    {
     "name": "stderr",
     "output_type": "stream",
     "text": [
      " 25%|██▍       | 12350/50000 [4:55:17<17:17:26,  1.65s/it]"
     ]
    },
    {
     "name": "stdout",
     "output_type": "stream",
     "text": [
      "\u001b[31m[EPISODE 12350 / STEP 3827555] - EPSILON-GREEDY[final] : 0.1000\n",
      "\u001b[32mLearned Step : 948970\n",
      "\u001b[34mAVG   Return : 3.0400\n",
      "saved step 948970 in ckpt/\n"
     ]
    },
    {
     "name": "stderr",
     "output_type": "stream",
     "text": [
      " 25%|██▍       | 12400/50000 [4:56:28<12:14:36,  1.17s/it]"
     ]
    },
    {
     "name": "stdout",
     "output_type": "stream",
     "text": [
      "\u001b[31m[EPISODE 12400 / STEP 3842142] - EPSILON-GREEDY[final] : 0.1000\n",
      "\u001b[32mLearned Step : 952635\n",
      "\u001b[34mAVG   Return : 2.2000\n",
      "saved step 952635 in ckpt/\n"
     ]
    },
    {
     "name": "stderr",
     "output_type": "stream",
     "text": [
      " 25%|██▍       | 12450/50000 [4:57:45<20:20:44,  1.95s/it]"
     ]
    },
    {
     "name": "stdout",
     "output_type": "stream",
     "text": [
      "\u001b[31m[EPISODE 12450 / STEP 3857913] - EPSILON-GREEDY[final] : 0.1000\n",
      "\u001b[32mLearned Step : 956598\n",
      "\u001b[34mAVG   Return : 2.1000\n",
      "saved step 956598 in ckpt/\n"
     ]
    },
    {
     "name": "stderr",
     "output_type": "stream",
     "text": [
      " 25%|██▌       | 12500/50000 [4:58:53<12:30:58,  1.20s/it]"
     ]
    },
    {
     "name": "stdout",
     "output_type": "stream",
     "text": [
      "\u001b[31m[EPISODE 12500 / STEP 3871772] - EPSILON-GREEDY[final] : 0.1000\n",
      "\u001b[32mLearned Step : 960084\n",
      "\u001b[34mAVG   Return : 1.7400\n",
      "saved step 960084 in ckpt/\n"
     ]
    },
    {
     "name": "stderr",
     "output_type": "stream",
     "text": [
      " 25%|██▌       | 12550/50000 [5:00:12<14:17:38,  1.37s/it]"
     ]
    },
    {
     "name": "stdout",
     "output_type": "stream",
     "text": [
      "\u001b[31m[EPISODE 12550 / STEP 3888019] - EPSILON-GREEDY[final] : 0.1000\n",
      "\u001b[32mLearned Step : 964165\n",
      "\u001b[34mAVG   Return : 2.4000\n",
      "saved step 964165 in ckpt/\n"
     ]
    },
    {
     "name": "stderr",
     "output_type": "stream",
     "text": [
      " 25%|██▌       | 12600/50000 [5:01:24<17:00:13,  1.64s/it]"
     ]
    },
    {
     "name": "stdout",
     "output_type": "stream",
     "text": [
      "\u001b[31m[EPISODE 12600 / STEP 3902919] - EPSILON-GREEDY[final] : 0.1000\n",
      "\u001b[32mLearned Step : 967906\n",
      "\u001b[34mAVG   Return : 1.8200\n",
      "saved step 967906 in ckpt/\n"
     ]
    },
    {
     "name": "stderr",
     "output_type": "stream",
     "text": [
      " 25%|██▌       | 12650/50000 [5:02:33<15:10:17,  1.46s/it]"
     ]
    },
    {
     "name": "stdout",
     "output_type": "stream",
     "text": [
      "\u001b[31m[EPISODE 12650 / STEP 3917218] - EPSILON-GREEDY[final] : 0.1000\n",
      "\u001b[32mLearned Step : 971501\n",
      "\u001b[34mAVG   Return : 1.7600\n",
      "saved step 971501 in ckpt/\n"
     ]
    },
    {
     "name": "stderr",
     "output_type": "stream",
     "text": [
      " 25%|██▌       | 12700/50000 [5:04:01<18:12:47,  1.76s/it]"
     ]
    },
    {
     "name": "stdout",
     "output_type": "stream",
     "text": [
      "\u001b[31m[EPISODE 12700 / STEP 3934218] - EPSILON-GREEDY[final] : 0.1000\n",
      "\u001b[32mLearned Step : 975772\n",
      "\u001b[34mAVG   Return : 2.3400\n",
      "saved step 975772 in ckpt/\n"
     ]
    },
    {
     "name": "stderr",
     "output_type": "stream",
     "text": [
      " 26%|██▌       | 12750/50000 [5:05:14<13:20:34,  1.29s/it]"
     ]
    },
    {
     "name": "stdout",
     "output_type": "stream",
     "text": [
      "\u001b[31m[EPISODE 12750 / STEP 3948222] - EPSILON-GREEDY[final] : 0.1000\n",
      "\u001b[32mLearned Step : 979293\n",
      "\u001b[34mAVG   Return : 1.9800\n",
      "saved step 979293 in ckpt/\n"
     ]
    },
    {
     "name": "stderr",
     "output_type": "stream",
     "text": [
      " 26%|██▌       | 12800/50000 [5:06:35<12:56:49,  1.25s/it]"
     ]
    },
    {
     "name": "stdout",
     "output_type": "stream",
     "text": [
      "\u001b[31m[EPISODE 12800 / STEP 3963469] - EPSILON-GREEDY[final] : 0.1000\n",
      "\u001b[32mLearned Step : 983125\n",
      "\u001b[34mAVG   Return : 2.3200\n",
      "saved step 983125 in ckpt/\n"
     ]
    },
    {
     "name": "stderr",
     "output_type": "stream",
     "text": [
      " 26%|██▌       | 12850/50000 [5:07:50<16:38:56,  1.61s/it]"
     ]
    },
    {
     "name": "stdout",
     "output_type": "stream",
     "text": [
      "\u001b[31m[EPISODE 12850 / STEP 3976983] - EPSILON-GREEDY[final] : 0.1000\n",
      "\u001b[32mLearned Step : 986519\n",
      "\u001b[34mAVG   Return : 1.7600\n",
      "saved step 986519 in ckpt/\n"
     ]
    },
    {
     "name": "stderr",
     "output_type": "stream",
     "text": [
      " 26%|██▌       | 12900/50000 [5:08:59<10:43:54,  1.04s/it]"
     ]
    },
    {
     "name": "stdout",
     "output_type": "stream",
     "text": [
      "\u001b[31m[EPISODE 12900 / STEP 3990410] - EPSILON-GREEDY[final] : 0.1000\n",
      "\u001b[32mLearned Step : 989893\n",
      "\u001b[34mAVG   Return : 1.8600\n",
      "saved step 989893 in ckpt/\n"
     ]
    },
    {
     "name": "stderr",
     "output_type": "stream",
     "text": [
      " 26%|██▌       | 12950/50000 [5:10:19<14:00:46,  1.36s/it]"
     ]
    },
    {
     "name": "stdout",
     "output_type": "stream",
     "text": [
      "\u001b[31m[EPISODE 12950 / STEP 4005361] - EPSILON-GREEDY[final] : 0.1000\n",
      "\u001b[32mLearned Step : 993649\n",
      "\u001b[34mAVG   Return : 2.1600\n",
      "saved step 993649 in ckpt/\n"
     ]
    },
    {
     "name": "stderr",
     "output_type": "stream",
     "text": [
      " 26%|██▌       | 13000/50000 [5:11:40<20:54:05,  2.03s/it]"
     ]
    },
    {
     "name": "stdout",
     "output_type": "stream",
     "text": [
      "\u001b[31m[EPISODE 13000 / STEP 4021247] - EPSILON-GREEDY[final] : 0.1000\n",
      "\u001b[32mLearned Step : 997640\n",
      "\u001b[34mAVG   Return : 2.6200\n",
      "saved step 997640 in ckpt/\n"
     ]
    },
    {
     "name": "stderr",
     "output_type": "stream",
     "text": [
      " 26%|██▌       | 13050/50000 [5:12:57<18:55:18,  1.84s/it]"
     ]
    },
    {
     "name": "stdout",
     "output_type": "stream",
     "text": [
      "\u001b[31m[EPISODE 13050 / STEP 4036605] - EPSILON-GREEDY[final] : 0.1000\n",
      "\u001b[32mLearned Step : 1001499\n",
      "\u001b[34mAVG   Return : 2.3400\n",
      "saved step 1001499 in ckpt/\n"
     ]
    },
    {
     "name": "stderr",
     "output_type": "stream",
     "text": [
      " 26%|██▌       | 13100/50000 [5:14:13<12:58:47,  1.27s/it]"
     ]
    },
    {
     "name": "stdout",
     "output_type": "stream",
     "text": [
      "\u001b[31m[EPISODE 13100 / STEP 4052064] - EPSILON-GREEDY[final] : 0.1000\n",
      "\u001b[32mLearned Step : 1005382\n",
      "\u001b[34mAVG   Return : 2.4200\n",
      "saved step 1005382 in ckpt/\n"
     ]
    },
    {
     "name": "stderr",
     "output_type": "stream",
     "text": [
      " 26%|██▋       | 13150/50000 [5:15:37<15:17:12,  1.49s/it]"
     ]
    },
    {
     "name": "stdout",
     "output_type": "stream",
     "text": [
      "\u001b[31m[EPISODE 13150 / STEP 4069237] - EPSILON-GREEDY[final] : 0.1000\n",
      "\u001b[32mLearned Step : 1009699\n",
      "\u001b[34mAVG   Return : 3.1200\n",
      "saved step 1009699 in ckpt/\n"
     ]
    },
    {
     "name": "stderr",
     "output_type": "stream",
     "text": [
      " 26%|██▋       | 13200/50000 [5:16:53<16:21:36,  1.60s/it]"
     ]
    },
    {
     "name": "stdout",
     "output_type": "stream",
     "text": [
      "\u001b[31m[EPISODE 13200 / STEP 4084843] - EPSILON-GREEDY[final] : 0.1000\n",
      "\u001b[32mLearned Step : 1013618\n",
      "\u001b[34mAVG   Return : 2.5200\n",
      "saved step 1013618 in ckpt/\n"
     ]
    },
    {
     "name": "stderr",
     "output_type": "stream",
     "text": [
      " 26%|██▋       | 13250/50000 [5:18:14<19:52:23,  1.95s/it]"
     ]
    },
    {
     "name": "stdout",
     "output_type": "stream",
     "text": [
      "\u001b[31m[EPISODE 13250 / STEP 4100551] - EPSILON-GREEDY[final] : 0.1000\n",
      "\u001b[32mLearned Step : 1017565\n",
      "\u001b[34mAVG   Return : 2.6800\n",
      "saved step 1017565 in ckpt/\n"
     ]
    },
    {
     "name": "stderr",
     "output_type": "stream",
     "text": [
      " 27%|██▋       | 13300/50000 [5:19:36<21:36:40,  2.12s/it]"
     ]
    },
    {
     "name": "stdout",
     "output_type": "stream",
     "text": [
      "\u001b[31m[EPISODE 13300 / STEP 4115766] - EPSILON-GREEDY[final] : 0.1000\n",
      "\u001b[32mLearned Step : 1021387\n",
      "\u001b[34mAVG   Return : 2.4400\n",
      "saved step 1021387 in ckpt/\n"
     ]
    },
    {
     "name": "stderr",
     "output_type": "stream",
     "text": [
      " 27%|██▋       | 13350/50000 [5:20:53<11:57:33,  1.17s/it]"
     ]
    },
    {
     "name": "stdout",
     "output_type": "stream",
     "text": [
      "\u001b[31m[EPISODE 13350 / STEP 4129931] - EPSILON-GREEDY[final] : 0.1000\n",
      "\u001b[32mLearned Step : 1024945\n",
      "\u001b[34mAVG   Return : 1.9600\n",
      "saved step 1024945 in ckpt/\n"
     ]
    },
    {
     "name": "stderr",
     "output_type": "stream",
     "text": [
      " 27%|██▋       | 13400/50000 [5:22:15<16:31:24,  1.63s/it]"
     ]
    },
    {
     "name": "stdout",
     "output_type": "stream",
     "text": [
      "\u001b[31m[EPISODE 13400 / STEP 4146521] - EPSILON-GREEDY[final] : 0.1000\n",
      "\u001b[32mLearned Step : 1029111\n",
      "\u001b[34mAVG   Return : 2.5800\n",
      "saved step 1029111 in ckpt/\n"
     ]
    },
    {
     "name": "stderr",
     "output_type": "stream",
     "text": [
      " 27%|██▋       | 13450/50000 [5:23:41<16:21:34,  1.61s/it]"
     ]
    },
    {
     "name": "stdout",
     "output_type": "stream",
     "text": [
      "\u001b[31m[EPISODE 13450 / STEP 4163744] - EPSILON-GREEDY[final] : 0.1000\n",
      "\u001b[32mLearned Step : 1033438\n",
      "\u001b[34mAVG   Return : 3.0400\n",
      "saved step 1033438 in ckpt/\n"
     ]
    },
    {
     "name": "stderr",
     "output_type": "stream",
     "text": [
      " 27%|██▋       | 13500/50000 [5:25:08<15:36:12,  1.54s/it]"
     ]
    },
    {
     "name": "stdout",
     "output_type": "stream",
     "text": [
      "\u001b[31m[EPISODE 13500 / STEP 4181258] - EPSILON-GREEDY[final] : 0.1000\n",
      "\u001b[32mLearned Step : 1037835\n",
      "\u001b[34mAVG   Return : 2.8600\n",
      "saved step 1037835 in ckpt/\n"
     ]
    },
    {
     "name": "stderr",
     "output_type": "stream",
     "text": [
      " 27%|██▋       | 13550/50000 [5:26:32<16:56:04,  1.67s/it]"
     ]
    },
    {
     "name": "stdout",
     "output_type": "stream",
     "text": [
      "\u001b[31m[EPISODE 13550 / STEP 4198575] - EPSILON-GREEDY[final] : 0.1000\n",
      "\u001b[32mLearned Step : 1042180\n",
      "\u001b[34mAVG   Return : 3.1200\n",
      "saved step 1042180 in ckpt/\n"
     ]
    },
    {
     "name": "stderr",
     "output_type": "stream",
     "text": [
      " 27%|██▋       | 13600/50000 [5:28:03<17:11:40,  1.70s/it]"
     ]
    },
    {
     "name": "stdout",
     "output_type": "stream",
     "text": [
      "\u001b[31m[EPISODE 13600 / STEP 4216425] - EPSILON-GREEDY[final] : 0.1000\n",
      "\u001b[32mLearned Step : 1046660\n",
      "\u001b[34mAVG   Return : 3.0800\n",
      "saved step 1046660 in ckpt/\n"
     ]
    },
    {
     "name": "stderr",
     "output_type": "stream",
     "text": [
      " 27%|██▋       | 13650/50000 [5:29:36<20:15:13,  2.01s/it]"
     ]
    },
    {
     "name": "stdout",
     "output_type": "stream",
     "text": [
      "\u001b[31m[EPISODE 13650 / STEP 4235013] - EPSILON-GREEDY[final] : 0.1000\n",
      "\u001b[32mLearned Step : 1051326\n",
      "\u001b[34mAVG   Return : 3.3400\n",
      "saved step 1051326 in ckpt/\n"
     ]
    },
    {
     "name": "stderr",
     "output_type": "stream",
     "text": [
      " 27%|██▋       | 13700/50000 [5:31:03<15:16:09,  1.51s/it]"
     ]
    },
    {
     "name": "stdout",
     "output_type": "stream",
     "text": [
      "\u001b[31m[EPISODE 13700 / STEP 4252666] - EPSILON-GREEDY[final] : 0.1000\n",
      "\u001b[32mLearned Step : 1055759\n",
      "\u001b[34mAVG   Return : 3.1000\n",
      "saved step 1055759 in ckpt/\n"
     ]
    },
    {
     "name": "stderr",
     "output_type": "stream",
     "text": [
      " 28%|██▊       | 13750/50000 [5:32:15<14:55:06,  1.48s/it]"
     ]
    },
    {
     "name": "stdout",
     "output_type": "stream",
     "text": [
      "\u001b[31m[EPISODE 13750 / STEP 4267356] - EPSILON-GREEDY[final] : 0.1000\n",
      "\u001b[32mLearned Step : 1059451\n",
      "\u001b[34mAVG   Return : 1.9400\n",
      "saved step 1059451 in ckpt/\n"
     ]
    },
    {
     "name": "stderr",
     "output_type": "stream",
     "text": [
      " 28%|██▊       | 13800/50000 [5:33:35<17:54:19,  1.78s/it]"
     ]
    },
    {
     "name": "stdout",
     "output_type": "stream",
     "text": [
      "\u001b[31m[EPISODE 13800 / STEP 4283023] - EPSILON-GREEDY[final] : 0.1000\n",
      "\u001b[32mLearned Step : 1063385\n",
      "\u001b[34mAVG   Return : 2.4200\n",
      "saved step 1063385 in ckpt/\n"
     ]
    },
    {
     "name": "stderr",
     "output_type": "stream",
     "text": [
      " 28%|██▊       | 13850/50000 [5:34:49<16:35:56,  1.65s/it]"
     ]
    },
    {
     "name": "stdout",
     "output_type": "stream",
     "text": [
      "\u001b[31m[EPISODE 13850 / STEP 4298054] - EPSILON-GREEDY[final] : 0.1000\n",
      "\u001b[32mLearned Step : 1067160\n",
      "\u001b[34mAVG   Return : 2.1400\n",
      "saved step 1067160 in ckpt/\n"
     ]
    },
    {
     "name": "stderr",
     "output_type": "stream",
     "text": [
      " 28%|██▊       | 13900/50000 [5:36:14<14:18:10,  1.43s/it]"
     ]
    },
    {
     "name": "stdout",
     "output_type": "stream",
     "text": [
      "\u001b[31m[EPISODE 13900 / STEP 4315343] - EPSILON-GREEDY[final] : 0.1000\n",
      "\u001b[32mLearned Step : 1071502\n",
      "\u001b[34mAVG   Return : 2.5800\n",
      "saved step 1071502 in ckpt/\n"
     ]
    },
    {
     "name": "stderr",
     "output_type": "stream",
     "text": [
      " 28%|██▊       | 13950/50000 [5:37:38<20:25:59,  2.04s/it]"
     ]
    },
    {
     "name": "stdout",
     "output_type": "stream",
     "text": [
      "\u001b[31m[EPISODE 13950 / STEP 4331917] - EPSILON-GREEDY[final] : 0.1000\n",
      "\u001b[32mLearned Step : 1075663\n",
      "\u001b[34mAVG   Return : 2.7000\n",
      "saved step 1075663 in ckpt/\n"
     ]
    },
    {
     "name": "stderr",
     "output_type": "stream",
     "text": [
      " 28%|██▊       | 14000/50000 [5:38:56<13:01:19,  1.30s/it]"
     ]
    },
    {
     "name": "stdout",
     "output_type": "stream",
     "text": [
      "\u001b[31m[EPISODE 14000 / STEP 4347682] - EPSILON-GREEDY[final] : 0.1000\n",
      "\u001b[32mLearned Step : 1079622\n",
      "\u001b[34mAVG   Return : 2.5400\n",
      "saved step 1079622 in ckpt/\n"
     ]
    },
    {
     "name": "stderr",
     "output_type": "stream",
     "text": [
      " 28%|██▊       | 14050/50000 [5:40:15<16:41:56,  1.67s/it]"
     ]
    },
    {
     "name": "stdout",
     "output_type": "stream",
     "text": [
      "\u001b[31m[EPISODE 14050 / STEP 4363189] - EPSILON-GREEDY[final] : 0.1000\n",
      "\u001b[32mLearned Step : 1083518\n",
      "\u001b[34mAVG   Return : 2.5600\n",
      "saved step 1083518 in ckpt/\n"
     ]
    },
    {
     "name": "stderr",
     "output_type": "stream",
     "text": [
      " 28%|██▊       | 14100/50000 [5:41:41<17:27:20,  1.75s/it]"
     ]
    },
    {
     "name": "stdout",
     "output_type": "stream",
     "text": [
      "\u001b[31m[EPISODE 14100 / STEP 4380279] - EPSILON-GREEDY[final] : 0.1000\n",
      "\u001b[32mLearned Step : 1087810\n",
      "\u001b[34mAVG   Return : 2.8200\n",
      "saved step 1087810 in ckpt/\n"
     ]
    },
    {
     "name": "stderr",
     "output_type": "stream",
     "text": [
      " 28%|██▊       | 14150/50000 [5:42:56<12:14:51,  1.23s/it]"
     ]
    },
    {
     "name": "stdout",
     "output_type": "stream",
     "text": [
      "\u001b[31m[EPISODE 14150 / STEP 4395294] - EPSILON-GREEDY[final] : 0.1000\n",
      "\u001b[32mLearned Step : 1091583\n",
      "\u001b[34mAVG   Return : 2.2800\n",
      "saved step 1091583 in ckpt/\n"
     ]
    },
    {
     "name": "stderr",
     "output_type": "stream",
     "text": [
      " 28%|██▊       | 14200/50000 [5:44:21<17:00:07,  1.71s/it]"
     ]
    },
    {
     "name": "stdout",
     "output_type": "stream",
     "text": [
      "\u001b[31m[EPISODE 14200 / STEP 4411843] - EPSILON-GREEDY[final] : 0.1000\n",
      "\u001b[32mLearned Step : 1095738\n",
      "\u001b[34mAVG   Return : 2.9400\n",
      "saved step 1095738 in ckpt/\n"
     ]
    },
    {
     "name": "stderr",
     "output_type": "stream",
     "text": [
      " 28%|██▊       | 14250/50000 [5:45:48<13:02:14,  1.31s/it]"
     ]
    },
    {
     "name": "stdout",
     "output_type": "stream",
     "text": [
      "\u001b[31m[EPISODE 14250 / STEP 4429339] - EPSILON-GREEDY[final] : 0.1000\n",
      "\u001b[32mLearned Step : 1100128\n",
      "\u001b[34mAVG   Return : 3.8600\n",
      "saved step 1100128 in ckpt/\n"
     ]
    },
    {
     "name": "stderr",
     "output_type": "stream",
     "text": [
      " 29%|██▊       | 14300/50000 [5:47:04<20:46:20,  2.09s/it]"
     ]
    },
    {
     "name": "stdout",
     "output_type": "stream",
     "text": [
      "\u001b[31m[EPISODE 14300 / STEP 4445023] - EPSILON-GREEDY[final] : 0.1000\n",
      "\u001b[32mLearned Step : 1104069\n",
      "\u001b[34mAVG   Return : 2.6400\n",
      "saved step 1104069 in ckpt/\n"
     ]
    },
    {
     "name": "stderr",
     "output_type": "stream",
     "text": [
      " 29%|██▊       | 14350/50000 [5:48:26<15:08:57,  1.53s/it]"
     ]
    },
    {
     "name": "stdout",
     "output_type": "stream",
     "text": [
      "\u001b[31m[EPISODE 14350 / STEP 4461900] - EPSILON-GREEDY[final] : 0.1000\n",
      "\u001b[32mLearned Step : 1108309\n",
      "\u001b[34mAVG   Return : 2.6800\n",
      "saved step 1108309 in ckpt/\n"
     ]
    },
    {
     "name": "stderr",
     "output_type": "stream",
     "text": [
      " 29%|██▉       | 14400/50000 [5:49:54<22:12:40,  2.25s/it]"
     ]
    },
    {
     "name": "stdout",
     "output_type": "stream",
     "text": [
      "\u001b[31m[EPISODE 14400 / STEP 4478876] - EPSILON-GREEDY[final] : 0.1000\n",
      "\u001b[32mLearned Step : 1112574\n",
      "\u001b[34mAVG   Return : 2.9000\n",
      "saved step 1112574 in ckpt/\n"
     ]
    },
    {
     "name": "stderr",
     "output_type": "stream",
     "text": [
      " 29%|██▉       | 14450/50000 [5:51:30<17:26:25,  1.77s/it]"
     ]
    },
    {
     "name": "stdout",
     "output_type": "stream",
     "text": [
      "\u001b[31m[EPISODE 14450 / STEP 4497458] - EPSILON-GREEDY[final] : 0.1000\n",
      "\u001b[32mLearned Step : 1117239\n",
      "\u001b[34mAVG   Return : 2.9600\n",
      "saved step 1117239 in ckpt/\n"
     ]
    },
    {
     "name": "stderr",
     "output_type": "stream",
     "text": [
      " 29%|██▉       | 14500/50000 [5:52:52<20:53:58,  2.12s/it]"
     ]
    },
    {
     "name": "stdout",
     "output_type": "stream",
     "text": [
      "\u001b[31m[EPISODE 14500 / STEP 4513402] - EPSILON-GREEDY[final] : 0.1000\n",
      "\u001b[32mLearned Step : 1121242\n",
      "\u001b[34mAVG   Return : 2.2800\n",
      "saved step 1121242 in ckpt/\n"
     ]
    },
    {
     "name": "stderr",
     "output_type": "stream",
     "text": [
      " 29%|██▉       | 14550/50000 [5:54:21<18:35:03,  1.89s/it]"
     ]
    },
    {
     "name": "stdout",
     "output_type": "stream",
     "text": [
      "\u001b[31m[EPISODE 14550 / STEP 4531398] - EPSILON-GREEDY[final] : 0.1000\n",
      "\u001b[32mLearned Step : 1125759\n",
      "\u001b[34mAVG   Return : 3.0200\n",
      "saved step 1125759 in ckpt/\n"
     ]
    },
    {
     "name": "stderr",
     "output_type": "stream",
     "text": [
      " 29%|██▉       | 14600/50000 [5:55:56<19:55:48,  2.03s/it]"
     ]
    },
    {
     "name": "stdout",
     "output_type": "stream",
     "text": [
      "\u001b[31m[EPISODE 14600 / STEP 4550984] - EPSILON-GREEDY[final] : 0.1000\n",
      "\u001b[32mLearned Step : 1130674\n",
      "\u001b[34mAVG   Return : 3.5400\n",
      "saved step 1130674 in ckpt/\n"
     ]
    },
    {
     "name": "stderr",
     "output_type": "stream",
     "text": [
      " 29%|██▉       | 14650/50000 [5:57:16<15:17:21,  1.56s/it]"
     ]
    },
    {
     "name": "stdout",
     "output_type": "stream",
     "text": [
      "\u001b[31m[EPISODE 14650 / STEP 4567232] - EPSILON-GREEDY[final] : 0.1000\n",
      "\u001b[32mLearned Step : 1134755\n",
      "\u001b[34mAVG   Return : 2.4600\n",
      "saved step 1134755 in ckpt/\n"
     ]
    },
    {
     "name": "stderr",
     "output_type": "stream",
     "text": [
      " 29%|██▉       | 14700/50000 [5:58:33<13:27:00,  1.37s/it]"
     ]
    },
    {
     "name": "stdout",
     "output_type": "stream",
     "text": [
      "\u001b[31m[EPISODE 14700 / STEP 4583029] - EPSILON-GREEDY[final] : 0.1000\n",
      "\u001b[32mLearned Step : 1138721\n",
      "\u001b[34mAVG   Return : 2.2000\n",
      "saved step 1138721 in ckpt/\n"
     ]
    },
    {
     "name": "stderr",
     "output_type": "stream",
     "text": [
      " 30%|██▉       | 14750/50000 [5:59:51<13:33:01,  1.38s/it]"
     ]
    },
    {
     "name": "stdout",
     "output_type": "stream",
     "text": [
      "\u001b[31m[EPISODE 14750 / STEP 4599097] - EPSILON-GREEDY[final] : 0.1000\n",
      "\u001b[32mLearned Step : 1142757\n",
      "\u001b[34mAVG   Return : 2.3800\n",
      "saved step 1142757 in ckpt/\n"
     ]
    },
    {
     "name": "stderr",
     "output_type": "stream",
     "text": [
      " 30%|██▉       | 14800/50000 [6:00:59<13:02:51,  1.33s/it]"
     ]
    },
    {
     "name": "stdout",
     "output_type": "stream",
     "text": [
      "\u001b[31m[EPISODE 14800 / STEP 4612961] - EPSILON-GREEDY[final] : 0.1000\n",
      "\u001b[32mLearned Step : 1146242\n",
      "\u001b[34mAVG   Return : 1.7000\n",
      "saved step 1146242 in ckpt/\n"
     ]
    },
    {
     "name": "stderr",
     "output_type": "stream",
     "text": [
      " 30%|██▉       | 14850/50000 [6:02:17<14:51:57,  1.52s/it]"
     ]
    },
    {
     "name": "stdout",
     "output_type": "stream",
     "text": [
      "\u001b[31m[EPISODE 14850 / STEP 4629272] - EPSILON-GREEDY[final] : 0.1000\n",
      "\u001b[32mLearned Step : 1150340\n",
      "\u001b[34mAVG   Return : 2.6400\n",
      "saved step 1150340 in ckpt/\n"
     ]
    },
    {
     "name": "stderr",
     "output_type": "stream",
     "text": [
      " 30%|██▉       | 14900/50000 [6:03:31<11:37:09,  1.19s/it]"
     ]
    },
    {
     "name": "stdout",
     "output_type": "stream",
     "text": [
      "\u001b[31m[EPISODE 14900 / STEP 4644657] - EPSILON-GREEDY[final] : 0.1000\n",
      "\u001b[32mLearned Step : 1154207\n",
      "\u001b[34mAVG   Return : 1.9400\n",
      "saved step 1154207 in ckpt/\n"
     ]
    },
    {
     "name": "stderr",
     "output_type": "stream",
     "text": [
      " 30%|██▉       | 14950/50000 [6:04:43<11:22:01,  1.17s/it]"
     ]
    },
    {
     "name": "stdout",
     "output_type": "stream",
     "text": [
      "\u001b[31m[EPISODE 14950 / STEP 4659631] - EPSILON-GREEDY[final] : 0.1000\n",
      "\u001b[32mLearned Step : 1157970\n",
      "\u001b[34mAVG   Return : 2.1800\n",
      "saved step 1157970 in ckpt/\n"
     ]
    },
    {
     "name": "stderr",
     "output_type": "stream",
     "text": [
      " 30%|███       | 15000/50000 [6:06:02<17:49:38,  1.83s/it]"
     ]
    },
    {
     "name": "stdout",
     "output_type": "stream",
     "text": [
      "\u001b[31m[EPISODE 15000 / STEP 4675884] - EPSILON-GREEDY[final] : 0.1000\n",
      "\u001b[32mLearned Step : 1162051\n",
      "\u001b[34mAVG   Return : 2.3400\n",
      "saved step 1162051 in ckpt/\n"
     ]
    },
    {
     "name": "stderr",
     "output_type": "stream",
     "text": [
      " 30%|███       | 15050/50000 [6:07:15<12:31:12,  1.29s/it]"
     ]
    },
    {
     "name": "stdout",
     "output_type": "stream",
     "text": [
      "\u001b[31m[EPISODE 15050 / STEP 4690705] - EPSILON-GREEDY[final] : 0.1000\n",
      "\u001b[32mLearned Step : 1165772\n",
      "\u001b[34mAVG   Return : 2.1200\n",
      "saved step 1165772 in ckpt/\n"
     ]
    },
    {
     "name": "stderr",
     "output_type": "stream",
     "text": [
      " 30%|███       | 15100/50000 [6:08:34<14:10:47,  1.46s/it]"
     ]
    },
    {
     "name": "stdout",
     "output_type": "stream",
     "text": [
      "\u001b[31m[EPISODE 15100 / STEP 4707087] - EPSILON-GREEDY[final] : 0.1000\n",
      "\u001b[32mLearned Step : 1169888\n",
      "\u001b[34mAVG   Return : 2.5800\n",
      "saved step 1169888 in ckpt/\n"
     ]
    },
    {
     "name": "stderr",
     "output_type": "stream",
     "text": [
      " 30%|███       | 15150/50000 [6:10:04<15:08:21,  1.56s/it]"
     ]
    },
    {
     "name": "stdout",
     "output_type": "stream",
     "text": [
      "\u001b[31m[EPISODE 15150 / STEP 4725558] - EPSILON-GREEDY[final] : 0.1000\n",
      "\u001b[32mLearned Step : 1174527\n",
      "\u001b[34mAVG   Return : 3.1200\n",
      "saved step 1174527 in ckpt/\n"
     ]
    },
    {
     "name": "stderr",
     "output_type": "stream",
     "text": [
      " 30%|███       | 15200/50000 [6:11:33<15:40:20,  1.62s/it]"
     ]
    },
    {
     "name": "stdout",
     "output_type": "stream",
     "text": [
      "\u001b[31m[EPISODE 15200 / STEP 4744134] - EPSILON-GREEDY[final] : 0.1000\n",
      "\u001b[32mLearned Step : 1179189\n",
      "\u001b[34mAVG   Return : 3.2800\n",
      "saved step 1179189 in ckpt/\n"
     ]
    },
    {
     "name": "stderr",
     "output_type": "stream",
     "text": [
      " 30%|███       | 15250/50000 [6:12:59<14:46:04,  1.53s/it]"
     ]
    },
    {
     "name": "stdout",
     "output_type": "stream",
     "text": [
      "\u001b[31m[EPISODE 15250 / STEP 4761965] - EPSILON-GREEDY[final] : 0.1000\n",
      "\u001b[32mLearned Step : 1183663\n",
      "\u001b[34mAVG   Return : 2.9200\n",
      "saved step 1183663 in ckpt/\n"
     ]
    },
    {
     "name": "stderr",
     "output_type": "stream",
     "text": [
      " 31%|███       | 15300/50000 [6:14:08<11:16:28,  1.17s/it]"
     ]
    },
    {
     "name": "stdout",
     "output_type": "stream",
     "text": [
      "\u001b[31m[EPISODE 15300 / STEP 4776326] - EPSILON-GREEDY[final] : 0.1000\n",
      "\u001b[32mLearned Step : 1187273\n",
      "\u001b[34mAVG   Return : 2.2600\n",
      "saved step 1187273 in ckpt/\n"
     ]
    },
    {
     "name": "stderr",
     "output_type": "stream",
     "text": [
      " 31%|███       | 15350/50000 [6:15:20<12:51:22,  1.34s/it]"
     ]
    },
    {
     "name": "stdout",
     "output_type": "stream",
     "text": [
      "\u001b[31m[EPISODE 15350 / STEP 4791247] - EPSILON-GREEDY[final] : 0.1000\n",
      "\u001b[32mLearned Step : 1191020\n",
      "\u001b[34mAVG   Return : 2.0800\n",
      "saved step 1191020 in ckpt/\n"
     ]
    },
    {
     "name": "stderr",
     "output_type": "stream",
     "text": [
      " 31%|███       | 15400/50000 [6:16:35<16:57:13,  1.76s/it]"
     ]
    },
    {
     "name": "stdout",
     "output_type": "stream",
     "text": [
      "\u001b[31m[EPISODE 15400 / STEP 4806680] - EPSILON-GREEDY[final] : 0.1000\n",
      "\u001b[32mLearned Step : 1194897\n",
      "\u001b[34mAVG   Return : 1.9200\n",
      "saved step 1194897 in ckpt/\n"
     ]
    },
    {
     "name": "stderr",
     "output_type": "stream",
     "text": [
      " 31%|███       | 15450/50000 [6:17:56<17:28:22,  1.82s/it]"
     ]
    },
    {
     "name": "stdout",
     "output_type": "stream",
     "text": [
      "\u001b[31m[EPISODE 15450 / STEP 4823327] - EPSILON-GREEDY[final] : 0.1000\n",
      "\u001b[32mLearned Step : 1199075\n",
      "\u001b[34mAVG   Return : 2.5600\n",
      "saved step 1199075 in ckpt/\n"
     ]
    },
    {
     "name": "stderr",
     "output_type": "stream",
     "text": [
      " 31%|███       | 15500/50000 [6:19:15<19:16:38,  2.01s/it]"
     ]
    },
    {
     "name": "stdout",
     "output_type": "stream",
     "text": [
      "\u001b[31m[EPISODE 15500 / STEP 4839802] - EPSILON-GREEDY[final] : 0.1000\n",
      "\u001b[32mLearned Step : 1203213\n",
      "\u001b[34mAVG   Return : 2.5400\n",
      "saved step 1203213 in ckpt/\n"
     ]
    },
    {
     "name": "stderr",
     "output_type": "stream",
     "text": [
      " 31%|███       | 15550/50000 [6:20:35<20:46:20,  2.17s/it]"
     ]
    },
    {
     "name": "stdout",
     "output_type": "stream",
     "text": [
      "\u001b[31m[EPISODE 15550 / STEP 4856161] - EPSILON-GREEDY[final] : 0.1000\n",
      "\u001b[32mLearned Step : 1207325\n",
      "\u001b[34mAVG   Return : 2.4400\n",
      "saved step 1207325 in ckpt/\n"
     ]
    },
    {
     "name": "stderr",
     "output_type": "stream",
     "text": [
      " 31%|███       | 15600/50000 [6:22:07<23:58:55,  2.51s/it]"
     ]
    },
    {
     "name": "stdout",
     "output_type": "stream",
     "text": [
      "\u001b[31m[EPISODE 15600 / STEP 4875254] - EPSILON-GREEDY[final] : 0.1000\n",
      "\u001b[32mLearned Step : 1212115\n",
      "\u001b[34mAVG   Return : 3.6000\n",
      "saved step 1212115 in ckpt/\n"
     ]
    },
    {
     "name": "stderr",
     "output_type": "stream",
     "text": [
      " 31%|███▏      | 15650/50000 [6:23:39<13:17:11,  1.39s/it]"
     ]
    },
    {
     "name": "stdout",
     "output_type": "stream",
     "text": [
      "\u001b[31m[EPISODE 15650 / STEP 4894396] - EPSILON-GREEDY[final] : 0.1000\n",
      "\u001b[32mLearned Step : 1216922\n",
      "\u001b[34mAVG   Return : 3.6000\n",
      "saved step 1216922 in ckpt/\n"
     ]
    },
    {
     "name": "stderr",
     "output_type": "stream",
     "text": [
      " 31%|███▏      | 15700/50000 [6:25:06<11:19:14,  1.19s/it]"
     ]
    },
    {
     "name": "stdout",
     "output_type": "stream",
     "text": [
      "\u001b[31m[EPISODE 15700 / STEP 4912498] - EPSILON-GREEDY[final] : 0.1000\n",
      "\u001b[32mLearned Step : 1221464\n",
      "\u001b[34mAVG   Return : 2.9200\n",
      "saved step 1221464 in ckpt/\n"
     ]
    },
    {
     "name": "stderr",
     "output_type": "stream",
     "text": [
      " 32%|███▏      | 15750/50000 [6:26:31<17:41:18,  1.86s/it]"
     ]
    },
    {
     "name": "stdout",
     "output_type": "stream",
     "text": [
      "\u001b[31m[EPISODE 15750 / STEP 4930158] - EPSILON-GREEDY[final] : 0.1000\n",
      "\u001b[32mLearned Step : 1225896\n",
      "\u001b[34mAVG   Return : 3.0600\n",
      "saved step 1225896 in ckpt/\n"
     ]
    },
    {
     "name": "stderr",
     "output_type": "stream",
     "text": [
      " 32%|███▏      | 15800/50000 [6:27:40<15:44:04,  1.66s/it]"
     ]
    },
    {
     "name": "stdout",
     "output_type": "stream",
     "text": [
      "\u001b[31m[EPISODE 15800 / STEP 4944425] - EPSILON-GREEDY[final] : 0.1000\n",
      "\u001b[32mLearned Step : 1229480\n",
      "\u001b[34mAVG   Return : 2.0400\n",
      "saved step 1229480 in ckpt/\n"
     ]
    },
    {
     "name": "stderr",
     "output_type": "stream",
     "text": [
      " 32%|███▏      | 15850/50000 [6:28:41<9:03:42,  1.05it/s] "
     ]
    },
    {
     "name": "stdout",
     "output_type": "stream",
     "text": [
      "\u001b[31m[EPISODE 15850 / STEP 4957065] - EPSILON-GREEDY[final] : 0.1000\n",
      "\u001b[32mLearned Step : 1232655\n",
      "\u001b[34mAVG   Return : 1.2800\n",
      "saved step 1232655 in ckpt/\n"
     ]
    },
    {
     "name": "stderr",
     "output_type": "stream",
     "text": [
      " 32%|███▏      | 15900/50000 [6:29:54<16:16:24,  1.72s/it]"
     ]
    },
    {
     "name": "stdout",
     "output_type": "stream",
     "text": [
      "\u001b[31m[EPISODE 15900 / STEP 4972138] - EPSILON-GREEDY[final] : 0.1000\n",
      "\u001b[32mLearned Step : 1236443\n",
      "\u001b[34mAVG   Return : 2.0800\n",
      "saved step 1236443 in ckpt/\n"
     ]
    },
    {
     "name": "stderr",
     "output_type": "stream",
     "text": [
      " 32%|███▏      | 15950/50000 [6:31:08<19:32:27,  2.07s/it]"
     ]
    },
    {
     "name": "stdout",
     "output_type": "stream",
     "text": [
      "\u001b[31m[EPISODE 15950 / STEP 4987515] - EPSILON-GREEDY[final] : 0.1000\n",
      "\u001b[32mLearned Step : 1240304\n",
      "\u001b[34mAVG   Return : 2.2200\n",
      "saved step 1240304 in ckpt/\n"
     ]
    },
    {
     "name": "stderr",
     "output_type": "stream",
     "text": [
      " 32%|███▏      | 16000/50000 [6:32:22<13:13:59,  1.40s/it]"
     ]
    },
    {
     "name": "stdout",
     "output_type": "stream",
     "text": [
      "\u001b[31m[EPISODE 16000 / STEP 5002996] - EPSILON-GREEDY[final] : 0.1000\n",
      "\u001b[32mLearned Step : 1244193\n",
      "\u001b[34mAVG   Return : 2.0400\n",
      "saved step 1244193 in ckpt/\n"
     ]
    },
    {
     "name": "stderr",
     "output_type": "stream",
     "text": [
      " 32%|███▏      | 16050/50000 [6:33:38<17:39:57,  1.87s/it]"
     ]
    },
    {
     "name": "stdout",
     "output_type": "stream",
     "text": [
      "\u001b[31m[EPISODE 16050 / STEP 5018317] - EPSILON-GREEDY[final] : 0.1000\n",
      "\u001b[32mLearned Step : 1248040\n",
      "\u001b[34mAVG   Return : 1.9600\n",
      "saved step 1248040 in ckpt/\n"
     ]
    },
    {
     "name": "stderr",
     "output_type": "stream",
     "text": [
      " 32%|███▏      | 16100/50000 [6:34:50<14:24:44,  1.53s/it]"
     ]
    },
    {
     "name": "stdout",
     "output_type": "stream",
     "text": [
      "\u001b[31m[EPISODE 16100 / STEP 5033366] - EPSILON-GREEDY[final] : 0.1000\n",
      "\u001b[32mLearned Step : 1251823\n",
      "\u001b[34mAVG   Return : 1.7400\n",
      "saved step 1251823 in ckpt/\n"
     ]
    },
    {
     "name": "stderr",
     "output_type": "stream",
     "text": [
      " 32%|███▏      | 16150/50000 [6:36:06<12:09:31,  1.29s/it]"
     ]
    },
    {
     "name": "stdout",
     "output_type": "stream",
     "text": [
      "\u001b[31m[EPISODE 16150 / STEP 5049176] - EPSILON-GREEDY[final] : 0.1000\n",
      "\u001b[32mLearned Step : 1255798\n",
      "\u001b[34mAVG   Return : 1.7800\n",
      "saved step 1255798 in ckpt/\n"
     ]
    },
    {
     "name": "stderr",
     "output_type": "stream",
     "text": [
      " 32%|███▏      | 16200/50000 [6:37:12<8:30:50,  1.10it/s] "
     ]
    },
    {
     "name": "stdout",
     "output_type": "stream",
     "text": [
      "\u001b[31m[EPISODE 16200 / STEP 5062671] - EPSILON-GREEDY[final] : 0.1000\n",
      "\u001b[32mLearned Step : 1259191\n",
      "\u001b[34mAVG   Return : 1.5200\n",
      "saved step 1259191 in ckpt/\n"
     ]
    },
    {
     "name": "stderr",
     "output_type": "stream",
     "text": [
      " 32%|███▎      | 16250/50000 [6:38:25<12:25:30,  1.33s/it]"
     ]
    },
    {
     "name": "stdout",
     "output_type": "stream",
     "text": [
      "\u001b[31m[EPISODE 16250 / STEP 5077670] - EPSILON-GREEDY[final] : 0.1000\n",
      "\u001b[32mLearned Step : 1262960\n",
      "\u001b[34mAVG   Return : 2.2400\n",
      "saved step 1262960 in ckpt/\n"
     ]
    },
    {
     "name": "stderr",
     "output_type": "stream",
     "text": [
      " 33%|███▎      | 16300/50000 [6:39:37<13:07:11,  1.40s/it]"
     ]
    },
    {
     "name": "stdout",
     "output_type": "stream",
     "text": [
      "\u001b[31m[EPISODE 16300 / STEP 5092443] - EPSILON-GREEDY[final] : 0.1000\n",
      "\u001b[32mLearned Step : 1266676\n",
      "\u001b[34mAVG   Return : 2.0800\n",
      "saved step 1266676 in ckpt/\n"
     ]
    },
    {
     "name": "stderr",
     "output_type": "stream",
     "text": [
      " 33%|███▎      | 16350/50000 [6:40:55<16:14:18,  1.74s/it]"
     ]
    },
    {
     "name": "stdout",
     "output_type": "stream",
     "text": [
      "\u001b[31m[EPISODE 16350 / STEP 5108514] - EPSILON-GREEDY[final] : 0.1000\n",
      "\u001b[32mLearned Step : 1270714\n",
      "\u001b[34mAVG   Return : 2.5800\n",
      "saved step 1270714 in ckpt/\n"
     ]
    },
    {
     "name": "stderr",
     "output_type": "stream",
     "text": [
      " 33%|███▎      | 16400/50000 [6:42:08<14:22:39,  1.54s/it]"
     ]
    },
    {
     "name": "stdout",
     "output_type": "stream",
     "text": [
      "\u001b[31m[EPISODE 16400 / STEP 5123419] - EPSILON-GREEDY[final] : 0.1000\n",
      "\u001b[32mLearned Step : 1274459\n",
      "\u001b[34mAVG   Return : 2.1600\n",
      "saved step 1274459 in ckpt/\n"
     ]
    },
    {
     "name": "stderr",
     "output_type": "stream",
     "text": [
      " 33%|███▎      | 16450/50000 [6:43:19<15:17:48,  1.64s/it]"
     ]
    },
    {
     "name": "stdout",
     "output_type": "stream",
     "text": [
      "\u001b[31m[EPISODE 16450 / STEP 5138173] - EPSILON-GREEDY[final] : 0.1000\n",
      "\u001b[32mLearned Step : 1278167\n",
      "\u001b[34mAVG   Return : 2.2400\n",
      "saved step 1278167 in ckpt/\n"
     ]
    },
    {
     "name": "stderr",
     "output_type": "stream",
     "text": [
      " 33%|███▎      | 16500/50000 [6:44:52<17:54:39,  1.92s/it]"
     ]
    },
    {
     "name": "stdout",
     "output_type": "stream",
     "text": [
      "\u001b[31m[EPISODE 16500 / STEP 5157443] - EPSILON-GREEDY[final] : 0.1000\n",
      "\u001b[32mLearned Step : 1283004\n",
      "\u001b[34mAVG   Return : 3.3000\n",
      "saved step 1283004 in ckpt/\n"
     ]
    },
    {
     "name": "stderr",
     "output_type": "stream",
     "text": [
      " 33%|███▎      | 16550/50000 [6:46:19<11:35:09,  1.25s/it]"
     ]
    },
    {
     "name": "stdout",
     "output_type": "stream",
     "text": [
      "\u001b[31m[EPISODE 16550 / STEP 5175405] - EPSILON-GREEDY[final] : 0.1000\n",
      "\u001b[32mLearned Step : 1287509\n",
      "\u001b[34mAVG   Return : 3.0400\n",
      "saved step 1287509 in ckpt/\n"
     ]
    },
    {
     "name": "stderr",
     "output_type": "stream",
     "text": [
      " 33%|███▎      | 16600/50000 [6:47:41<14:17:12,  1.54s/it]"
     ]
    },
    {
     "name": "stdout",
     "output_type": "stream",
     "text": [
      "\u001b[31m[EPISODE 16600 / STEP 5192304] - EPSILON-GREEDY[final] : 0.1000\n",
      "\u001b[32mLearned Step : 1291753\n",
      "\u001b[34mAVG   Return : 2.5200\n",
      "saved step 1291753 in ckpt/\n"
     ]
    },
    {
     "name": "stderr",
     "output_type": "stream",
     "text": [
      " 33%|███▎      | 16650/50000 [6:49:06<20:51:45,  2.25s/it]"
     ]
    },
    {
     "name": "stdout",
     "output_type": "stream",
     "text": [
      "\u001b[31m[EPISODE 16650 / STEP 5209870] - EPSILON-GREEDY[final] : 0.1000\n",
      "\u001b[32mLearned Step : 1296164\n",
      "\u001b[34mAVG   Return : 3.0600\n",
      "saved step 1296164 in ckpt/\n"
     ]
    },
    {
     "name": "stderr",
     "output_type": "stream",
     "text": [
      " 33%|███▎      | 16700/50000 [6:50:36<11:57:05,  1.29s/it]"
     ]
    },
    {
     "name": "stdout",
     "output_type": "stream",
     "text": [
      "\u001b[31m[EPISODE 16700 / STEP 5228532] - EPSILON-GREEDY[final] : 0.1000\n",
      "\u001b[32mLearned Step : 1300851\n",
      "\u001b[34mAVG   Return : 3.3400\n",
      "saved step 1300851 in ckpt/\n"
     ]
    },
    {
     "name": "stderr",
     "output_type": "stream",
     "text": [
      " 34%|███▎      | 16750/50000 [6:51:53<13:10:09,  1.43s/it]"
     ]
    },
    {
     "name": "stdout",
     "output_type": "stream",
     "text": [
      "\u001b[31m[EPISODE 16750 / STEP 5244531] - EPSILON-GREEDY[final] : 0.1000\n",
      "\u001b[32mLearned Step : 1304873\n",
      "\u001b[34mAVG   Return : 2.2200\n",
      "saved step 1304873 in ckpt/\n"
     ]
    },
    {
     "name": "stderr",
     "output_type": "stream",
     "text": [
      " 34%|███▎      | 16800/50000 [6:53:04<17:02:14,  1.85s/it]"
     ]
    },
    {
     "name": "stdout",
     "output_type": "stream",
     "text": [
      "\u001b[31m[EPISODE 16800 / STEP 5258846] - EPSILON-GREEDY[final] : 0.1000\n",
      "\u001b[32mLearned Step : 1308470\n",
      "\u001b[34mAVG   Return : 1.8600\n",
      "saved step 1308470 in ckpt/\n"
     ]
    },
    {
     "name": "stderr",
     "output_type": "stream",
     "text": [
      " 34%|███▎      | 16850/50000 [6:54:20<18:43:55,  2.03s/it]"
     ]
    },
    {
     "name": "stdout",
     "output_type": "stream",
     "text": [
      "\u001b[31m[EPISODE 16850 / STEP 5274558] - EPSILON-GREEDY[final] : 0.1000\n",
      "\u001b[32mLearned Step : 1312418\n",
      "\u001b[34mAVG   Return : 2.1000\n",
      "saved step 1312418 in ckpt/\n"
     ]
    },
    {
     "name": "stderr",
     "output_type": "stream",
     "text": [
      " 34%|███▍      | 16900/50000 [6:55:30<11:32:02,  1.25s/it]"
     ]
    },
    {
     "name": "stdout",
     "output_type": "stream",
     "text": [
      "\u001b[31m[EPISODE 16900 / STEP 5289208] - EPSILON-GREEDY[final] : 0.1000\n",
      "\u001b[32mLearned Step : 1316099\n",
      "\u001b[34mAVG   Return : 2.0400\n",
      "saved step 1316099 in ckpt/\n"
     ]
    },
    {
     "name": "stderr",
     "output_type": "stream",
     "text": [
      " 34%|███▍      | 16950/50000 [6:56:48<19:43:39,  2.15s/it]"
     ]
    },
    {
     "name": "stdout",
     "output_type": "stream",
     "text": [
      "\u001b[31m[EPISODE 16950 / STEP 5305232] - EPSILON-GREEDY[final] : 0.1000\n",
      "\u001b[32mLearned Step : 1320123\n",
      "\u001b[34mAVG   Return : 2.5200\n",
      "saved step 1320123 in ckpt/\n"
     ]
    },
    {
     "name": "stderr",
     "output_type": "stream",
     "text": [
      " 34%|███▍      | 17000/50000 [6:58:01<12:35:37,  1.37s/it]"
     ]
    },
    {
     "name": "stdout",
     "output_type": "stream",
     "text": [
      "\u001b[31m[EPISODE 17000 / STEP 5320430] - EPSILON-GREEDY[final] : 0.1000\n",
      "\u001b[32mLearned Step : 1323941\n",
      "\u001b[34mAVG   Return : 2.2800\n",
      "saved step 1323941 in ckpt/\n"
     ]
    },
    {
     "name": "stderr",
     "output_type": "stream",
     "text": [
      " 34%|███▍      | 17050/50000 [6:59:17<12:22:16,  1.35s/it]"
     ]
    },
    {
     "name": "stdout",
     "output_type": "stream",
     "text": [
      "\u001b[31m[EPISODE 17050 / STEP 5335889] - EPSILON-GREEDY[final] : 0.1000\n",
      "\u001b[32mLearned Step : 1327826\n",
      "\u001b[34mAVG   Return : 1.7000\n",
      "saved step 1327826 in ckpt/\n"
     ]
    },
    {
     "name": "stderr",
     "output_type": "stream",
     "text": [
      " 34%|███▍      | 17100/50000 [7:00:25<17:04:09,  1.87s/it]"
     ]
    },
    {
     "name": "stdout",
     "output_type": "stream",
     "text": [
      "\u001b[31m[EPISODE 17100 / STEP 5350022] - EPSILON-GREEDY[final] : 0.1000\n",
      "\u001b[32mLearned Step : 1331380\n",
      "\u001b[34mAVG   Return : 1.7200\n",
      "saved step 1331380 in ckpt/\n"
     ]
    },
    {
     "name": "stderr",
     "output_type": "stream",
     "text": [
      " 34%|███▍      | 17150/50000 [7:01:47<13:58:15,  1.53s/it]"
     ]
    },
    {
     "name": "stdout",
     "output_type": "stream",
     "text": [
      "\u001b[31m[EPISODE 17150 / STEP 5366638] - EPSILON-GREEDY[final] : 0.1000\n",
      "\u001b[32mLearned Step : 1335556\n",
      "\u001b[34mAVG   Return : 2.3200\n",
      "saved step 1335556 in ckpt/\n"
     ]
    },
    {
     "name": "stderr",
     "output_type": "stream",
     "text": [
      " 34%|███▍      | 17200/50000 [7:03:02<15:53:19,  1.74s/it]"
     ]
    },
    {
     "name": "stdout",
     "output_type": "stream",
     "text": [
      "\u001b[31m[EPISODE 17200 / STEP 5382451] - EPSILON-GREEDY[final] : 0.1000\n",
      "\u001b[32mLearned Step : 1339528\n",
      "\u001b[34mAVG   Return : 2.4400\n",
      "saved step 1339528 in ckpt/\n"
     ]
    },
    {
     "name": "stderr",
     "output_type": "stream",
     "text": [
      " 34%|███▍      | 17250/50000 [7:04:30<13:23:57,  1.47s/it]"
     ]
    },
    {
     "name": "stdout",
     "output_type": "stream",
     "text": [
      "\u001b[31m[EPISODE 17250 / STEP 5400503] - EPSILON-GREEDY[final] : 0.1000\n",
      "\u001b[32mLearned Step : 1344061\n",
      "\u001b[34mAVG   Return : 3.2200\n",
      "saved step 1344061 in ckpt/\n"
     ]
    },
    {
     "name": "stderr",
     "output_type": "stream",
     "text": [
      " 35%|███▍      | 17300/50000 [7:05:46<14:04:13,  1.55s/it]"
     ]
    },
    {
     "name": "stdout",
     "output_type": "stream",
     "text": [
      "\u001b[31m[EPISODE 17300 / STEP 5416150] - EPSILON-GREEDY[final] : 0.1000\n",
      "\u001b[32mLearned Step : 1347992\n",
      "\u001b[34mAVG   Return : 2.4600\n",
      "saved step 1347992 in ckpt/\n"
     ]
    },
    {
     "name": "stderr",
     "output_type": "stream",
     "text": [
      " 35%|███▍      | 17350/50000 [7:06:58<13:06:43,  1.45s/it]"
     ]
    },
    {
     "name": "stdout",
     "output_type": "stream",
     "text": [
      "\u001b[31m[EPISODE 17350 / STEP 5431066] - EPSILON-GREEDY[final] : 0.1000\n",
      "\u001b[32mLearned Step : 1351739\n",
      "\u001b[34mAVG   Return : 2.2600\n",
      "saved step 1351739 in ckpt/\n"
     ]
    },
    {
     "name": "stderr",
     "output_type": "stream",
     "text": [
      " 35%|███▍      | 17400/50000 [7:08:03<13:21:32,  1.48s/it]"
     ]
    },
    {
     "name": "stdout",
     "output_type": "stream",
     "text": [
      "\u001b[31m[EPISODE 17400 / STEP 5444374] - EPSILON-GREEDY[final] : 0.1000\n",
      "\u001b[32mLearned Step : 1355085\n",
      "\u001b[34mAVG   Return : 1.5000\n",
      "saved step 1355085 in ckpt/\n"
     ]
    },
    {
     "name": "stderr",
     "output_type": "stream",
     "text": [
      " 35%|███▍      | 17450/50000 [7:09:15<10:00:38,  1.11s/it]"
     ]
    },
    {
     "name": "stdout",
     "output_type": "stream",
     "text": [
      "\u001b[31m[EPISODE 17450 / STEP 5459369] - EPSILON-GREEDY[final] : 0.1000\n",
      "\u001b[32mLearned Step : 1358854\n",
      "\u001b[34mAVG   Return : 2.4000\n",
      "saved step 1358854 in ckpt/\n"
     ]
    },
    {
     "name": "stderr",
     "output_type": "stream",
     "text": [
      " 35%|███▌      | 17500/50000 [7:10:38<17:25:10,  1.93s/it]"
     ]
    },
    {
     "name": "stdout",
     "output_type": "stream",
     "text": [
      "\u001b[31m[EPISODE 17500 / STEP 5476205] - EPSILON-GREEDY[final] : 0.1000\n",
      "\u001b[32mLearned Step : 1363087\n",
      "\u001b[34mAVG   Return : 2.3400\n",
      "saved step 1363087 in ckpt/\n"
     ]
    },
    {
     "name": "stderr",
     "output_type": "stream",
     "text": [
      " 35%|███▌      | 17550/50000 [7:12:02<14:08:47,  1.57s/it]"
     ]
    },
    {
     "name": "stdout",
     "output_type": "stream",
     "text": [
      "\u001b[31m[EPISODE 17550 / STEP 5493874] - EPSILON-GREEDY[final] : 0.1000\n",
      "\u001b[32mLearned Step : 1367522\n",
      "\u001b[34mAVG   Return : 2.2800\n",
      "saved step 1367522 in ckpt/\n"
     ]
    },
    {
     "name": "stderr",
     "output_type": "stream",
     "text": [
      " 35%|███▌      | 17600/50000 [7:13:28<14:05:33,  1.57s/it]"
     ]
    },
    {
     "name": "stdout",
     "output_type": "stream",
     "text": [
      "\u001b[31m[EPISODE 17600 / STEP 5511427] - EPSILON-GREEDY[final] : 0.1000\n",
      "\u001b[32mLearned Step : 1371930\n",
      "\u001b[34mAVG   Return : 2.7600\n",
      "saved step 1371930 in ckpt/\n"
     ]
    },
    {
     "name": "stderr",
     "output_type": "stream",
     "text": [
      " 35%|███▌      | 17650/50000 [7:14:50<16:35:49,  1.85s/it]"
     ]
    },
    {
     "name": "stdout",
     "output_type": "stream",
     "text": [
      "\u001b[31m[EPISODE 17650 / STEP 5528203] - EPSILON-GREEDY[final] : 0.1000\n",
      "\u001b[32mLearned Step : 1376142\n",
      "\u001b[34mAVG   Return : 2.5600\n",
      "saved step 1376142 in ckpt/\n"
     ]
    },
    {
     "name": "stderr",
     "output_type": "stream",
     "text": [
      " 35%|███▌      | 17700/50000 [7:15:58<8:48:44,  1.02it/s] "
     ]
    },
    {
     "name": "stdout",
     "output_type": "stream",
     "text": [
      "\u001b[31m[EPISODE 17700 / STEP 5542129] - EPSILON-GREEDY[final] : 0.1000\n",
      "\u001b[32mLearned Step : 1379639\n",
      "\u001b[34mAVG   Return : 1.9400\n",
      "saved step 1379639 in ckpt/\n"
     ]
    },
    {
     "name": "stderr",
     "output_type": "stream",
     "text": [
      " 36%|███▌      | 17750/50000 [7:17:12<12:59:10,  1.45s/it]"
     ]
    },
    {
     "name": "stdout",
     "output_type": "stream",
     "text": [
      "\u001b[31m[EPISODE 17750 / STEP 5557403] - EPSILON-GREEDY[final] : 0.1000\n",
      "\u001b[32mLearned Step : 1383475\n",
      "\u001b[34mAVG   Return : 2.3000\n",
      "saved step 1383475 in ckpt/\n"
     ]
    },
    {
     "name": "stderr",
     "output_type": "stream",
     "text": [
      " 36%|███▌      | 17800/50000 [7:18:26<13:24:02,  1.50s/it]"
     ]
    },
    {
     "name": "stdout",
     "output_type": "stream",
     "text": [
      "\u001b[31m[EPISODE 17800 / STEP 5572565] - EPSILON-GREEDY[final] : 0.1000\n",
      "\u001b[32mLearned Step : 1387282\n",
      "\u001b[34mAVG   Return : 2.2600\n",
      "saved step 1387282 in ckpt/\n"
     ]
    },
    {
     "name": "stderr",
     "output_type": "stream",
     "text": [
      " 36%|███▌      | 17850/50000 [7:19:47<16:16:57,  1.82s/it]"
     ]
    },
    {
     "name": "stdout",
     "output_type": "stream",
     "text": [
      "\u001b[31m[EPISODE 17850 / STEP 5589638] - EPSILON-GREEDY[final] : 0.1000\n",
      "\u001b[32mLearned Step : 1391569\n",
      "\u001b[34mAVG   Return : 2.8400\n",
      "saved step 1391569 in ckpt/\n"
     ]
    },
    {
     "name": "stderr",
     "output_type": "stream",
     "text": [
      " 36%|███▌      | 17900/50000 [7:21:14<16:03:02,  1.80s/it]"
     ]
    },
    {
     "name": "stdout",
     "output_type": "stream",
     "text": [
      "\u001b[31m[EPISODE 17900 / STEP 5607793] - EPSILON-GREEDY[final] : 0.1000\n",
      "\u001b[32mLearned Step : 1396123\n",
      "\u001b[34mAVG   Return : 3.5800\n",
      "saved step 1396123 in ckpt/\n"
     ]
    },
    {
     "name": "stderr",
     "output_type": "stream",
     "text": [
      " 36%|███▌      | 17950/50000 [7:22:33<10:52:19,  1.22s/it]"
     ]
    },
    {
     "name": "stdout",
     "output_type": "stream",
     "text": [
      "\u001b[31m[EPISODE 17950 / STEP 5624027] - EPSILON-GREEDY[final] : 0.1000\n",
      "\u001b[32mLearned Step : 1400198\n",
      "\u001b[34mAVG   Return : 2.5400\n",
      "saved step 1400198 in ckpt/\n"
     ]
    },
    {
     "name": "stderr",
     "output_type": "stream",
     "text": [
      " 36%|███▌      | 18000/50000 [7:23:52<17:55:53,  2.02s/it]"
     ]
    },
    {
     "name": "stdout",
     "output_type": "stream",
     "text": [
      "\u001b[31m[EPISODE 18000 / STEP 5640558] - EPSILON-GREEDY[final] : 0.1000\n",
      "\u001b[32mLearned Step : 1404350\n",
      "\u001b[34mAVG   Return : 2.7200\n",
      "saved step 1404350 in ckpt/\n"
     ]
    },
    {
     "name": "stderr",
     "output_type": "stream",
     "text": [
      " 36%|███▌      | 18050/50000 [7:25:12<12:50:58,  1.45s/it]"
     ]
    },
    {
     "name": "stdout",
     "output_type": "stream",
     "text": [
      "\u001b[31m[EPISODE 18050 / STEP 5656708] - EPSILON-GREEDY[final] : 0.1000\n",
      "\u001b[32mLearned Step : 1408409\n",
      "\u001b[34mAVG   Return : 2.6400\n",
      "saved step 1408409 in ckpt/\n"
     ]
    },
    {
     "name": "stderr",
     "output_type": "stream",
     "text": [
      " 36%|███▌      | 18100/50000 [7:26:26<15:03:21,  1.70s/it]"
     ]
    },
    {
     "name": "stdout",
     "output_type": "stream",
     "text": [
      "\u001b[31m[EPISODE 18100 / STEP 5671802] - EPSILON-GREEDY[final] : 0.1000\n",
      "\u001b[32mLearned Step : 1412200\n",
      "\u001b[34mAVG   Return : 2.4600\n",
      "saved step 1412200 in ckpt/\n"
     ]
    },
    {
     "name": "stderr",
     "output_type": "stream",
     "text": [
      " 36%|███▋      | 18150/50000 [7:27:39<13:20:12,  1.51s/it]"
     ]
    },
    {
     "name": "stdout",
     "output_type": "stream",
     "text": [
      "\u001b[31m[EPISODE 18150 / STEP 5686899] - EPSILON-GREEDY[final] : 0.1000\n",
      "\u001b[32mLearned Step : 1415994\n",
      "\u001b[34mAVG   Return : 2.1800\n",
      "saved step 1415994 in ckpt/\n"
     ]
    },
    {
     "name": "stderr",
     "output_type": "stream",
     "text": [
      " 36%|███▋      | 18200/50000 [7:28:48<13:37:53,  1.54s/it]"
     ]
    },
    {
     "name": "stdout",
     "output_type": "stream",
     "text": [
      "\u001b[31m[EPISODE 18200 / STEP 5700907] - EPSILON-GREEDY[final] : 0.1000\n",
      "\u001b[32mLearned Step : 1419510\n",
      "\u001b[34mAVG   Return : 2.0000\n",
      "saved step 1419510 in ckpt/\n"
     ]
    },
    {
     "name": "stderr",
     "output_type": "stream",
     "text": [
      " 36%|███▋      | 18250/50000 [7:29:55<10:01:55,  1.14s/it]"
     ]
    },
    {
     "name": "stdout",
     "output_type": "stream",
     "text": [
      "\u001b[31m[EPISODE 18250 / STEP 5714613] - EPSILON-GREEDY[final] : 0.1000\n",
      "\u001b[32mLearned Step : 1422956\n",
      "\u001b[34mAVG   Return : 1.8400\n",
      "saved step 1422956 in ckpt/\n"
     ]
    },
    {
     "name": "stderr",
     "output_type": "stream",
     "text": [
      " 37%|███▋      | 18300/50000 [7:31:07<12:51:23,  1.46s/it]"
     ]
    },
    {
     "name": "stdout",
     "output_type": "stream",
     "text": [
      "\u001b[31m[EPISODE 18300 / STEP 5729425] - EPSILON-GREEDY[final] : 0.1000\n",
      "\u001b[32mLearned Step : 1426679\n",
      "\u001b[34mAVG   Return : 2.3200\n",
      "saved step 1426679 in ckpt/\n"
     ]
    },
    {
     "name": "stderr",
     "output_type": "stream",
     "text": [
      " 37%|███▋      | 18350/50000 [7:32:11<13:42:27,  1.56s/it]"
     ]
    },
    {
     "name": "stdout",
     "output_type": "stream",
     "text": [
      "\u001b[31m[EPISODE 18350 / STEP 5742611] - EPSILON-GREEDY[final] : 0.1000\n",
      "\u001b[32mLearned Step : 1429995\n",
      "\u001b[34mAVG   Return : 1.6400\n",
      "saved step 1429995 in ckpt/\n"
     ]
    },
    {
     "name": "stderr",
     "output_type": "stream",
     "text": [
      " 37%|███▋      | 18400/50000 [7:33:20<9:46:29,  1.11s/it] "
     ]
    },
    {
     "name": "stdout",
     "output_type": "stream",
     "text": [
      "\u001b[31m[EPISODE 18400 / STEP 5756907] - EPSILON-GREEDY[final] : 0.1000\n",
      "\u001b[32mLearned Step : 1433586\n",
      "\u001b[34mAVG   Return : 1.9200\n",
      "saved step 1433586 in ckpt/\n"
     ]
    },
    {
     "name": "stderr",
     "output_type": "stream",
     "text": [
      " 37%|███▋      | 18450/50000 [7:34:31<11:30:27,  1.31s/it]"
     ]
    },
    {
     "name": "stdout",
     "output_type": "stream",
     "text": [
      "\u001b[31m[EPISODE 18450 / STEP 5771669] - EPSILON-GREEDY[final] : 0.1000\n",
      "\u001b[32mLearned Step : 1437299\n",
      "\u001b[34mAVG   Return : 1.7000\n",
      "saved step 1437299 in ckpt/\n"
     ]
    },
    {
     "name": "stderr",
     "output_type": "stream",
     "text": [
      " 37%|███▋      | 18500/50000 [7:35:56<16:02:56,  1.83s/it]"
     ]
    },
    {
     "name": "stdout",
     "output_type": "stream",
     "text": [
      "\u001b[31m[EPISODE 18500 / STEP 5789032] - EPSILON-GREEDY[final] : 0.1000\n",
      "\u001b[32mLearned Step : 1441661\n",
      "\u001b[34mAVG   Return : 2.8800\n",
      "saved step 1441661 in ckpt/\n"
     ]
    },
    {
     "name": "stderr",
     "output_type": "stream",
     "text": [
      " 37%|███▋      | 18550/50000 [7:37:23<15:53:59,  1.82s/it]"
     ]
    },
    {
     "name": "stdout",
     "output_type": "stream",
     "text": [
      "\u001b[31m[EPISODE 18550 / STEP 5806927] - EPSILON-GREEDY[final] : 0.1000\n",
      "\u001b[32mLearned Step : 1446155\n",
      "\u001b[34mAVG   Return : 3.5600\n",
      "saved step 1446155 in ckpt/\n"
     ]
    },
    {
     "name": "stderr",
     "output_type": "stream",
     "text": [
      " 37%|███▋      | 18600/50000 [7:38:43<12:59:56,  1.49s/it]"
     ]
    },
    {
     "name": "stdout",
     "output_type": "stream",
     "text": [
      "\u001b[31m[EPISODE 18600 / STEP 5823532] - EPSILON-GREEDY[final] : 0.1000\n",
      "\u001b[32mLearned Step : 1450328\n",
      "\u001b[34mAVG   Return : 3.1400\n",
      "saved step 1450328 in ckpt/\n"
     ]
    },
    {
     "name": "stderr",
     "output_type": "stream",
     "text": [
      " 37%|███▋      | 18650/50000 [7:40:14<15:02:02,  1.73s/it]"
     ]
    },
    {
     "name": "stdout",
     "output_type": "stream",
     "text": [
      "\u001b[31m[EPISODE 18650 / STEP 5841650] - EPSILON-GREEDY[final] : 0.1000\n",
      "\u001b[32mLearned Step : 1454877\n",
      "\u001b[34mAVG   Return : 3.5000\n",
      "saved step 1454877 in ckpt/\n"
     ]
    },
    {
     "name": "stderr",
     "output_type": "stream",
     "text": [
      " 37%|███▋      | 18700/50000 [7:41:33<14:23:09,  1.65s/it]"
     ]
    },
    {
     "name": "stdout",
     "output_type": "stream",
     "text": [
      "\u001b[31m[EPISODE 18700 / STEP 5857582] - EPSILON-GREEDY[final] : 0.1000\n",
      "\u001b[32mLearned Step : 1458880\n",
      "\u001b[34mAVG   Return : 2.5600\n",
      "saved step 1458880 in ckpt/\n"
     ]
    },
    {
     "name": "stderr",
     "output_type": "stream",
     "text": [
      " 38%|███▊      | 18750/50000 [7:42:40<10:41:10,  1.23s/it]"
     ]
    },
    {
     "name": "stdout",
     "output_type": "stream",
     "text": [
      "\u001b[31m[EPISODE 18750 / STEP 5870922] - EPSILON-GREEDY[final] : 0.1000\n",
      "\u001b[32mLearned Step : 1462233\n",
      "\u001b[34mAVG   Return : 1.7400\n",
      "saved step 1462233 in ckpt/\n"
     ]
    },
    {
     "name": "stderr",
     "output_type": "stream",
     "text": [
      " 38%|███▊      | 18800/50000 [7:43:43<10:46:56,  1.24s/it]"
     ]
    },
    {
     "name": "stdout",
     "output_type": "stream",
     "text": [
      "\u001b[31m[EPISODE 18800 / STEP 5883787] - EPSILON-GREEDY[final] : 0.1000\n",
      "\u001b[32mLearned Step : 1465468\n",
      "\u001b[34mAVG   Return : 1.5400\n",
      "saved step 1465468 in ckpt/\n"
     ]
    },
    {
     "name": "stderr",
     "output_type": "stream",
     "text": [
      " 38%|███▊      | 18850/50000 [7:44:47<9:06:07,  1.05s/it] "
     ]
    },
    {
     "name": "stdout",
     "output_type": "stream",
     "text": [
      "\u001b[31m[EPISODE 18850 / STEP 5896705] - EPSILON-GREEDY[final] : 0.1000\n",
      "\u001b[32mLearned Step : 1468716\n",
      "\u001b[34mAVG   Return : 1.6600\n",
      "saved step 1468716 in ckpt/\n"
     ]
    },
    {
     "name": "stderr",
     "output_type": "stream",
     "text": [
      " 38%|███▊      | 18900/50000 [7:45:51<10:03:21,  1.16s/it]"
     ]
    },
    {
     "name": "stdout",
     "output_type": "stream",
     "text": [
      "\u001b[31m[EPISODE 18900 / STEP 5909830] - EPSILON-GREEDY[final] : 0.1000\n",
      "\u001b[32mLearned Step : 1472017\n",
      "\u001b[34mAVG   Return : 1.5600\n",
      "saved step 1472017 in ckpt/\n"
     ]
    },
    {
     "name": "stderr",
     "output_type": "stream",
     "text": [
      " 38%|███▊      | 18950/50000 [7:47:06<12:09:53,  1.41s/it]"
     ]
    },
    {
     "name": "stdout",
     "output_type": "stream",
     "text": [
      "\u001b[31m[EPISODE 18950 / STEP 5925065] - EPSILON-GREEDY[final] : 0.1000\n",
      "\u001b[32mLearned Step : 1475844\n",
      "\u001b[34mAVG   Return : 2.1600\n",
      "saved step 1475844 in ckpt/\n"
     ]
    },
    {
     "name": "stderr",
     "output_type": "stream",
     "text": [
      " 38%|███▊      | 19000/50000 [7:48:27<13:55:31,  1.62s/it]"
     ]
    },
    {
     "name": "stdout",
     "output_type": "stream",
     "text": [
      "\u001b[31m[EPISODE 19000 / STEP 5941638] - EPSILON-GREEDY[final] : 0.1000\n",
      "\u001b[32mLearned Step : 1480006\n",
      "\u001b[34mAVG   Return : 2.6000\n",
      "saved step 1480006 in ckpt/\n"
     ]
    },
    {
     "name": "stderr",
     "output_type": "stream",
     "text": [
      " 38%|███▊      | 19050/50000 [7:49:52<14:19:46,  1.67s/it]"
     ]
    },
    {
     "name": "stdout",
     "output_type": "stream",
     "text": [
      "\u001b[31m[EPISODE 19050 / STEP 5959070] - EPSILON-GREEDY[final] : 0.1000\n",
      "\u001b[32mLearned Step : 1484385\n",
      "\u001b[34mAVG   Return : 2.7600\n",
      "saved step 1484385 in ckpt/\n"
     ]
    },
    {
     "name": "stderr",
     "output_type": "stream",
     "text": [
      " 38%|███▊      | 19100/50000 [7:51:21<17:41:00,  2.06s/it]"
     ]
    },
    {
     "name": "stdout",
     "output_type": "stream",
     "text": [
      "\u001b[31m[EPISODE 19100 / STEP 5977350] - EPSILON-GREEDY[final] : 0.1000\n",
      "\u001b[32mLearned Step : 1488975\n",
      "\u001b[34mAVG   Return : 3.3200\n",
      "saved step 1488975 in ckpt/\n"
     ]
    },
    {
     "name": "stderr",
     "output_type": "stream",
     "text": [
      " 38%|███▊      | 19150/50000 [7:52:54<17:43:18,  2.07s/it]"
     ]
    },
    {
     "name": "stdout",
     "output_type": "stream",
     "text": [
      "\u001b[31m[EPISODE 19150 / STEP 5996593] - EPSILON-GREEDY[final] : 0.1000\n",
      "\u001b[32mLearned Step : 1493802\n",
      "\u001b[34mAVG   Return : 3.4400\n",
      "saved step 1493802 in ckpt/\n"
     ]
    },
    {
     "name": "stderr",
     "output_type": "stream",
     "text": [
      " 38%|███▊      | 19200/50000 [7:54:23<18:00:34,  2.11s/it]"
     ]
    },
    {
     "name": "stdout",
     "output_type": "stream",
     "text": [
      "\u001b[31m[EPISODE 19200 / STEP 6014852] - EPSILON-GREEDY[final] : 0.1000\n",
      "\u001b[32mLearned Step : 1498384\n",
      "\u001b[34mAVG   Return : 3.6600\n",
      "saved step 1498384 in ckpt/\n"
     ]
    },
    {
     "name": "stderr",
     "output_type": "stream",
     "text": [
      " 38%|███▊      | 19250/50000 [7:55:58<13:23:53,  1.57s/it]"
     ]
    },
    {
     "name": "stdout",
     "output_type": "stream",
     "text": [
      "\u001b[31m[EPISODE 19250 / STEP 6034691] - EPSILON-GREEDY[final] : 0.1000\n",
      "\u001b[32mLearned Step : 1503364\n",
      "\u001b[34mAVG   Return : 3.8600\n",
      "saved step 1503364 in ckpt/\n"
     ]
    },
    {
     "name": "stderr",
     "output_type": "stream",
     "text": [
      " 39%|███▊      | 19300/50000 [7:57:11<13:13:33,  1.55s/it]"
     ]
    },
    {
     "name": "stdout",
     "output_type": "stream",
     "text": [
      "\u001b[31m[EPISODE 19300 / STEP 6049733] - EPSILON-GREEDY[final] : 0.1000\n",
      "\u001b[32mLearned Step : 1507140\n",
      "\u001b[34mAVG   Return : 2.4200\n",
      "saved step 1507140 in ckpt/\n"
     ]
    },
    {
     "name": "stderr",
     "output_type": "stream",
     "text": [
      " 39%|███▊      | 19350/50000 [7:58:26<14:13:59,  1.67s/it]"
     ]
    },
    {
     "name": "stdout",
     "output_type": "stream",
     "text": [
      "\u001b[31m[EPISODE 19350 / STEP 6065148] - EPSILON-GREEDY[final] : 0.1000\n",
      "\u001b[32mLearned Step : 1511016\n",
      "\u001b[34mAVG   Return : 2.3400\n",
      "saved step 1511016 in ckpt/\n"
     ]
    },
    {
     "name": "stderr",
     "output_type": "stream",
     "text": [
      " 39%|███▉      | 19400/50000 [7:59:43<9:48:55,  1.15s/it] "
     ]
    },
    {
     "name": "stdout",
     "output_type": "stream",
     "text": [
      "\u001b[31m[EPISODE 19400 / STEP 6081240] - EPSILON-GREEDY[final] : 0.1000\n",
      "\u001b[32mLearned Step : 1515059\n",
      "\u001b[34mAVG   Return : 1.9200\n",
      "saved step 1515059 in ckpt/\n"
     ]
    },
    {
     "name": "stderr",
     "output_type": "stream",
     "text": [
      " 39%|███▉      | 19450/50000 [8:01:01<13:20:39,  1.57s/it]"
     ]
    },
    {
     "name": "stdout",
     "output_type": "stream",
     "text": [
      "\u001b[31m[EPISODE 19450 / STEP 6097324] - EPSILON-GREEDY[final] : 0.1000\n",
      "\u001b[32mLearned Step : 1519100\n",
      "\u001b[34mAVG   Return : 2.1800\n",
      "saved step 1519100 in ckpt/\n"
     ]
    },
    {
     "name": "stderr",
     "output_type": "stream",
     "text": [
      " 39%|███▉      | 19500/50000 [8:02:32<15:35:51,  1.84s/it]"
     ]
    },
    {
     "name": "stdout",
     "output_type": "stream",
     "text": [
      "\u001b[31m[EPISODE 19500 / STEP 6116359] - EPSILON-GREEDY[final] : 0.1000\n",
      "\u001b[32mLearned Step : 1523878\n",
      "\u001b[34mAVG   Return : 2.7600\n",
      "saved step 1523878 in ckpt/\n"
     ]
    },
    {
     "name": "stderr",
     "output_type": "stream",
     "text": [
      " 39%|███▉      | 19550/50000 [8:04:01<15:56:08,  1.88s/it]"
     ]
    },
    {
     "name": "stdout",
     "output_type": "stream",
     "text": [
      "\u001b[31m[EPISODE 19550 / STEP 6134289] - EPSILON-GREEDY[final] : 0.1000\n",
      "\u001b[32mLearned Step : 1528380\n",
      "\u001b[34mAVG   Return : 2.6000\n",
      "saved step 1528380 in ckpt/\n"
     ]
    },
    {
     "name": "stderr",
     "output_type": "stream",
     "text": [
      " 39%|███▉      | 19600/50000 [8:05:47<18:17:21,  2.17s/it]"
     ]
    },
    {
     "name": "stdout",
     "output_type": "stream",
     "text": [
      "\u001b[31m[EPISODE 19600 / STEP 6155981] - EPSILON-GREEDY[final] : 0.1000\n",
      "\u001b[32mLearned Step : 1533822\n",
      "\u001b[34mAVG   Return : 4.2400\n",
      "saved step 1533822 in ckpt/\n"
     ]
    },
    {
     "name": "stderr",
     "output_type": "stream",
     "text": [
      " 39%|███▉      | 19650/50000 [8:07:24<14:26:58,  1.71s/it]"
     ]
    },
    {
     "name": "stdout",
     "output_type": "stream",
     "text": [
      "\u001b[31m[EPISODE 19650 / STEP 6175833] - EPSILON-GREEDY[final] : 0.1000\n",
      "\u001b[32mLearned Step : 1538801\n",
      "\u001b[34mAVG   Return : 3.6600\n",
      "saved step 1538801 in ckpt/\n"
     ]
    },
    {
     "name": "stderr",
     "output_type": "stream",
     "text": [
      " 39%|███▉      | 19700/50000 [8:09:12<17:51:52,  2.12s/it]"
     ]
    },
    {
     "name": "stdout",
     "output_type": "stream",
     "text": [
      "\u001b[31m[EPISODE 19700 / STEP 6198118] - EPSILON-GREEDY[final] : 0.1000\n",
      "\u001b[32mLearned Step : 1544392\n",
      "\u001b[34mAVG   Return : 4.0200\n",
      "saved step 1544392 in ckpt/\n"
     ]
    },
    {
     "name": "stderr",
     "output_type": "stream",
     "text": [
      " 40%|███▉      | 19750/50000 [8:10:44<16:17:10,  1.94s/it]"
     ]
    },
    {
     "name": "stdout",
     "output_type": "stream",
     "text": [
      "\u001b[31m[EPISODE 19750 / STEP 6217053] - EPSILON-GREEDY[final] : 0.1000\n",
      "\u001b[32mLearned Step : 1549147\n",
      "\u001b[34mAVG   Return : 3.6800\n",
      "saved step 1549147 in ckpt/\n"
     ]
    },
    {
     "name": "stderr",
     "output_type": "stream",
     "text": [
      " 40%|███▉      | 19800/50000 [8:12:02<14:33:46,  1.74s/it]"
     ]
    },
    {
     "name": "stdout",
     "output_type": "stream",
     "text": [
      "\u001b[31m[EPISODE 19800 / STEP 6233230] - EPSILON-GREEDY[final] : 0.1000\n",
      "\u001b[32mLearned Step : 1553210\n",
      "\u001b[34mAVG   Return : 2.5200\n",
      "saved step 1553210 in ckpt/\n"
     ]
    },
    {
     "name": "stderr",
     "output_type": "stream",
     "text": [
      " 40%|███▉      | 19850/50000 [8:13:15<11:54:57,  1.42s/it]"
     ]
    },
    {
     "name": "stdout",
     "output_type": "stream",
     "text": [
      "\u001b[31m[EPISODE 19850 / STEP 6248409] - EPSILON-GREEDY[final] : 0.1000\n",
      "\u001b[32mLearned Step : 1557026\n",
      "\u001b[34mAVG   Return : 2.2800\n",
      "saved step 1557026 in ckpt/\n"
     ]
    },
    {
     "name": "stderr",
     "output_type": "stream",
     "text": [
      " 40%|███▉      | 19900/50000 [8:14:33<12:46:57,  1.53s/it]"
     ]
    },
    {
     "name": "stdout",
     "output_type": "stream",
     "text": [
      "\u001b[31m[EPISODE 19900 / STEP 6264222] - EPSILON-GREEDY[final] : 0.1000\n",
      "\u001b[32mLearned Step : 1560993\n",
      "\u001b[34mAVG   Return : 2.5800\n",
      "saved step 1560993 in ckpt/\n"
     ]
    },
    {
     "name": "stderr",
     "output_type": "stream",
     "text": [
      " 40%|███▉      | 19950/50000 [8:15:51<10:14:51,  1.23s/it]"
     ]
    },
    {
     "name": "stdout",
     "output_type": "stream",
     "text": [
      "\u001b[31m[EPISODE 19950 / STEP 6280200] - EPSILON-GREEDY[final] : 0.1000\n",
      "\u001b[32mLearned Step : 1565006\n",
      "\u001b[34mAVG   Return : 2.4800\n",
      "saved step 1565006 in ckpt/\n"
     ]
    },
    {
     "name": "stderr",
     "output_type": "stream",
     "text": [
      " 40%|████      | 20000/50000 [8:17:03<12:35:53,  1.51s/it]"
     ]
    },
    {
     "name": "stdout",
     "output_type": "stream",
     "text": [
      "\u001b[31m[EPISODE 20000 / STEP 6294786] - EPSILON-GREEDY[final] : 0.1000\n",
      "\u001b[32mLearned Step : 1568668\n",
      "\u001b[34mAVG   Return : 1.9000\n",
      "saved step 1568668 in ckpt/\n"
     ]
    },
    {
     "name": "stderr",
     "output_type": "stream",
     "text": [
      " 40%|████      | 20050/50000 [8:18:25<14:46:19,  1.78s/it]"
     ]
    },
    {
     "name": "stdout",
     "output_type": "stream",
     "text": [
      "\u001b[31m[EPISODE 20050 / STEP 6311744] - EPSILON-GREEDY[final] : 0.1000\n",
      "\u001b[32mLearned Step : 1572929\n",
      "\u001b[34mAVG   Return : 2.8800\n",
      "saved step 1572929 in ckpt/\n"
     ]
    },
    {
     "name": "stderr",
     "output_type": "stream",
     "text": [
      " 40%|████      | 20100/50000 [8:19:46<13:14:34,  1.59s/it]"
     ]
    },
    {
     "name": "stdout",
     "output_type": "stream",
     "text": [
      "\u001b[31m[EPISODE 20100 / STEP 6328278] - EPSILON-GREEDY[final] : 0.1000\n",
      "\u001b[32mLearned Step : 1577084\n",
      "\u001b[34mAVG   Return : 2.8200\n",
      "saved step 1577084 in ckpt/\n"
     ]
    },
    {
     "name": "stderr",
     "output_type": "stream",
     "text": [
      " 40%|████      | 20150/50000 [8:21:12<15:46:54,  1.90s/it]"
     ]
    },
    {
     "name": "stdout",
     "output_type": "stream",
     "text": [
      "\u001b[31m[EPISODE 20150 / STEP 6345983] - EPSILON-GREEDY[final] : 0.1000\n",
      "\u001b[32mLearned Step : 1581529\n",
      "\u001b[34mAVG   Return : 3.1400\n",
      "saved step 1581529 in ckpt/\n"
     ]
    },
    {
     "name": "stderr",
     "output_type": "stream",
     "text": [
      " 40%|████      | 20200/50000 [8:22:41<17:55:19,  2.17s/it]"
     ]
    },
    {
     "name": "stdout",
     "output_type": "stream",
     "text": [
      "\u001b[31m[EPISODE 20200 / STEP 6364208] - EPSILON-GREEDY[final] : 0.1000\n",
      "\u001b[32mLearned Step : 1586103\n",
      "\u001b[34mAVG   Return : 3.5600\n",
      "saved step 1586103 in ckpt/\n"
     ]
    },
    {
     "name": "stderr",
     "output_type": "stream",
     "text": [
      " 40%|████      | 20250/50000 [8:24:06<14:45:00,  1.78s/it]"
     ]
    },
    {
     "name": "stdout",
     "output_type": "stream",
     "text": [
      "\u001b[31m[EPISODE 20250 / STEP 6381892] - EPSILON-GREEDY[final] : 0.1000\n",
      "\u001b[32mLearned Step : 1590541\n",
      "\u001b[34mAVG   Return : 3.2600\n",
      "saved step 1590541 in ckpt/\n"
     ]
    },
    {
     "name": "stderr",
     "output_type": "stream",
     "text": [
      " 41%|████      | 20300/50000 [8:25:32<12:59:13,  1.57s/it]"
     ]
    },
    {
     "name": "stdout",
     "output_type": "stream",
     "text": [
      "\u001b[31m[EPISODE 20300 / STEP 6399661] - EPSILON-GREEDY[final] : 0.1000\n",
      "\u001b[32mLearned Step : 1595002\n",
      "\u001b[34mAVG   Return : 3.3400\n",
      "saved step 1595002 in ckpt/\n"
     ]
    },
    {
     "name": "stderr",
     "output_type": "stream",
     "text": [
      " 41%|████      | 20350/50000 [8:26:56<15:49:22,  1.92s/it]"
     ]
    },
    {
     "name": "stdout",
     "output_type": "stream",
     "text": [
      "\u001b[31m[EPISODE 20350 / STEP 6417029] - EPSILON-GREEDY[final] : 0.1000\n",
      "\u001b[32mLearned Step : 1599364\n",
      "\u001b[34mAVG   Return : 3.3200\n",
      "saved step 1599364 in ckpt/\n"
     ]
    },
    {
     "name": "stderr",
     "output_type": "stream",
     "text": [
      " 41%|████      | 20400/50000 [8:28:11<19:14:01,  2.34s/it]"
     ]
    },
    {
     "name": "stdout",
     "output_type": "stream",
     "text": [
      "\u001b[31m[EPISODE 20400 / STEP 6432410] - EPSILON-GREEDY[final] : 0.1000\n",
      "\u001b[32mLearned Step : 1603230\n",
      "\u001b[34mAVG   Return : 2.6200\n",
      "saved step 1603230 in ckpt/\n"
     ]
    },
    {
     "name": "stderr",
     "output_type": "stream",
     "text": [
      " 41%|████      | 20450/50000 [8:29:26<9:22:48,  1.14s/it] "
     ]
    },
    {
     "name": "stdout",
     "output_type": "stream",
     "text": [
      "\u001b[31m[EPISODE 20450 / STEP 6447600] - EPSILON-GREEDY[final] : 0.1000\n",
      "\u001b[32mLearned Step : 1607045\n",
      "\u001b[34mAVG   Return : 2.4800\n",
      "saved step 1607045 in ckpt/\n"
     ]
    },
    {
     "name": "stderr",
     "output_type": "stream",
     "text": [
      " 41%|████      | 20500/50000 [8:30:40<11:43:51,  1.43s/it]"
     ]
    },
    {
     "name": "stdout",
     "output_type": "stream",
     "text": [
      "\u001b[31m[EPISODE 20500 / STEP 6462229] - EPSILON-GREEDY[final] : 0.1000\n",
      "\u001b[32mLearned Step : 1610721\n",
      "\u001b[34mAVG   Return : 2.1000\n",
      "saved step 1610721 in ckpt/\n"
     ]
    },
    {
     "name": "stderr",
     "output_type": "stream",
     "text": [
      " 41%|████      | 20550/50000 [8:31:59<16:40:42,  2.04s/it]"
     ]
    },
    {
     "name": "stdout",
     "output_type": "stream",
     "text": [
      "\u001b[31m[EPISODE 20550 / STEP 6478215] - EPSILON-GREEDY[final] : 0.1000\n",
      "\u001b[32mLearned Step : 1614736\n",
      "\u001b[34mAVG   Return : 2.7800\n",
      "saved step 1614736 in ckpt/\n"
     ]
    },
    {
     "name": "stderr",
     "output_type": "stream",
     "text": [
      " 41%|████      | 20600/50000 [8:33:17<11:01:35,  1.35s/it]"
     ]
    },
    {
     "name": "stdout",
     "output_type": "stream",
     "text": [
      "\u001b[31m[EPISODE 20600 / STEP 6494064] - EPSILON-GREEDY[final] : 0.1000\n",
      "\u001b[32mLearned Step : 1618721\n",
      "\u001b[34mAVG   Return : 2.6200\n",
      "saved step 1618721 in ckpt/\n"
     ]
    },
    {
     "name": "stderr",
     "output_type": "stream",
     "text": [
      " 41%|████▏     | 20650/50000 [8:34:58<15:15:48,  1.87s/it]"
     ]
    },
    {
     "name": "stdout",
     "output_type": "stream",
     "text": [
      "\u001b[31m[EPISODE 20650 / STEP 6514742] - EPSILON-GREEDY[final] : 0.1000\n",
      "\u001b[32mLearned Step : 1623909\n",
      "\u001b[34mAVG   Return : 3.9600\n",
      "saved step 1623909 in ckpt/\n"
     ]
    },
    {
     "name": "stderr",
     "output_type": "stream",
     "text": [
      " 41%|████▏     | 20700/50000 [8:36:26<13:06:52,  1.61s/it]"
     ]
    },
    {
     "name": "stdout",
     "output_type": "stream",
     "text": [
      "\u001b[31m[EPISODE 20700 / STEP 6532929] - EPSILON-GREEDY[final] : 0.1000\n",
      "\u001b[32mLearned Step : 1628477\n",
      "\u001b[34mAVG   Return : 3.5200\n",
      "saved step 1628477 in ckpt/\n"
     ]
    },
    {
     "name": "stderr",
     "output_type": "stream",
     "text": [
      " 42%|████▏     | 20750/50000 [8:37:50<14:46:19,  1.82s/it]"
     ]
    },
    {
     "name": "stdout",
     "output_type": "stream",
     "text": [
      "\u001b[31m[EPISODE 20750 / STEP 6550289] - EPSILON-GREEDY[final] : 0.1000\n",
      "\u001b[32mLearned Step : 1632839\n",
      "\u001b[34mAVG   Return : 3.1400\n",
      "saved step 1632839 in ckpt/\n"
     ]
    },
    {
     "name": "stderr",
     "output_type": "stream",
     "text": [
      " 42%|████▏     | 20800/50000 [8:39:19<15:04:55,  1.86s/it]"
     ]
    },
    {
     "name": "stdout",
     "output_type": "stream",
     "text": [
      "\u001b[31m[EPISODE 20800 / STEP 6568660] - EPSILON-GREEDY[final] : 0.1000\n",
      "\u001b[32mLearned Step : 1637451\n",
      "\u001b[34mAVG   Return : 3.8800\n",
      "saved step 1637451 in ckpt/\n"
     ]
    },
    {
     "name": "stderr",
     "output_type": "stream",
     "text": [
      " 42%|████▏     | 20850/50000 [8:40:38<13:50:20,  1.71s/it]"
     ]
    },
    {
     "name": "stdout",
     "output_type": "stream",
     "text": [
      "\u001b[31m[EPISODE 20850 / STEP 6585031] - EPSILON-GREEDY[final] : 0.1000\n",
      "\u001b[32mLearned Step : 1641562\n",
      "\u001b[34mAVG   Return : 2.8600\n",
      "saved step 1641562 in ckpt/\n"
     ]
    },
    {
     "name": "stderr",
     "output_type": "stream",
     "text": [
      " 42%|████▏     | 20900/50000 [8:41:56<10:15:26,  1.27s/it]"
     ]
    },
    {
     "name": "stdout",
     "output_type": "stream",
     "text": [
      "\u001b[31m[EPISODE 20900 / STEP 6601026] - EPSILON-GREEDY[final] : 0.1000\n",
      "\u001b[32mLearned Step : 1645581\n",
      "\u001b[34mAVG   Return : 2.7000\n",
      "saved step 1645581 in ckpt/\n"
     ]
    },
    {
     "name": "stderr",
     "output_type": "stream",
     "text": [
      " 42%|████▏     | 20950/50000 [8:43:07<10:08:04,  1.26s/it]"
     ]
    },
    {
     "name": "stdout",
     "output_type": "stream",
     "text": [
      "\u001b[31m[EPISODE 20950 / STEP 6615833] - EPSILON-GREEDY[final] : 0.1000\n",
      "\u001b[32mLearned Step : 1649303\n",
      "\u001b[34mAVG   Return : 2.1800\n",
      "saved step 1649303 in ckpt/\n"
     ]
    },
    {
     "name": "stderr",
     "output_type": "stream",
     "text": [
      " 42%|████▏     | 21000/50000 [8:44:18<9:19:19,  1.16s/it] "
     ]
    },
    {
     "name": "stdout",
     "output_type": "stream",
     "text": [
      "\u001b[31m[EPISODE 21000 / STEP 6630679] - EPSILON-GREEDY[final] : 0.1000\n",
      "\u001b[32mLearned Step : 1653036\n",
      "\u001b[34mAVG   Return : 2.3200\n",
      "saved step 1653036 in ckpt/\n"
     ]
    },
    {
     "name": "stderr",
     "output_type": "stream",
     "text": [
      " 42%|████▏     | 21050/50000 [8:45:31<13:24:24,  1.67s/it]"
     ]
    },
    {
     "name": "stdout",
     "output_type": "stream",
     "text": [
      "\u001b[31m[EPISODE 21050 / STEP 6645734] - EPSILON-GREEDY[final] : 0.1000\n",
      "\u001b[32mLearned Step : 1656818\n",
      "\u001b[34mAVG   Return : 2.4600\n",
      "saved step 1656818 in ckpt/\n"
     ]
    },
    {
     "name": "stderr",
     "output_type": "stream",
     "text": [
      " 42%|████▏     | 21100/50000 [8:46:43<10:22:22,  1.29s/it]"
     ]
    },
    {
     "name": "stdout",
     "output_type": "stream",
     "text": [
      "\u001b[31m[EPISODE 21100 / STEP 6660543] - EPSILON-GREEDY[final] : 0.1000\n",
      "\u001b[32mLearned Step : 1660538\n",
      "\u001b[34mAVG   Return : 2.1800\n",
      "saved step 1660538 in ckpt/\n"
     ]
    },
    {
     "name": "stderr",
     "output_type": "stream",
     "text": [
      " 42%|████▏     | 21150/50000 [8:48:00<8:11:58,  1.02s/it] "
     ]
    },
    {
     "name": "stdout",
     "output_type": "stream",
     "text": [
      "\u001b[31m[EPISODE 21150 / STEP 6676616] - EPSILON-GREEDY[final] : 0.1000\n",
      "\u001b[32mLearned Step : 1664572\n",
      "\u001b[34mAVG   Return : 2.6600\n",
      "saved step 1664572 in ckpt/\n"
     ]
    },
    {
     "name": "stderr",
     "output_type": "stream",
     "text": [
      " 42%|████▏     | 21200/50000 [8:49:23<12:28:27,  1.56s/it]"
     ]
    },
    {
     "name": "stdout",
     "output_type": "stream",
     "text": [
      "\u001b[31m[EPISODE 21200 / STEP 6693761] - EPSILON-GREEDY[final] : 0.1000\n",
      "\u001b[32mLearned Step : 1668877\n",
      "\u001b[34mAVG   Return : 3.1600\n",
      "saved step 1668877 in ckpt/\n"
     ]
    },
    {
     "name": "stderr",
     "output_type": "stream",
     "text": [
      " 42%|████▎     | 21250/50000 [8:50:45<14:18:51,  1.79s/it]"
     ]
    },
    {
     "name": "stdout",
     "output_type": "stream",
     "text": [
      "\u001b[31m[EPISODE 21250 / STEP 6710887] - EPSILON-GREEDY[final] : 0.1000\n",
      "\u001b[32mLearned Step : 1673178\n",
      "\u001b[34mAVG   Return : 3.2400\n",
      "saved step 1673178 in ckpt/\n"
     ]
    },
    {
     "name": "stderr",
     "output_type": "stream",
     "text": [
      " 43%|████▎     | 21300/50000 [8:52:15<17:23:26,  2.18s/it]"
     ]
    },
    {
     "name": "stdout",
     "output_type": "stream",
     "text": [
      "\u001b[31m[EPISODE 21300 / STEP 6729604] - EPSILON-GREEDY[final] : 0.1000\n",
      "\u001b[32mLearned Step : 1677875\n",
      "\u001b[34mAVG   Return : 3.9000\n",
      "saved step 1677875 in ckpt/\n"
     ]
    },
    {
     "name": "stderr",
     "output_type": "stream",
     "text": [
      " 43%|████▎     | 21350/50000 [8:53:38<12:00:22,  1.51s/it]"
     ]
    },
    {
     "name": "stdout",
     "output_type": "stream",
     "text": [
      "\u001b[31m[EPISODE 21350 / STEP 6746740] - EPSILON-GREEDY[final] : 0.1000\n",
      "\u001b[32mLearned Step : 1682178\n",
      "\u001b[34mAVG   Return : 3.2600\n",
      "saved step 1682178 in ckpt/\n"
     ]
    },
    {
     "name": "stderr",
     "output_type": "stream",
     "text": [
      " 43%|████▎     | 21400/50000 [8:54:47<12:03:12,  1.52s/it]"
     ]
    },
    {
     "name": "stdout",
     "output_type": "stream",
     "text": [
      "\u001b[31m[EPISODE 21400 / STEP 6760875] - EPSILON-GREEDY[final] : 0.1000\n",
      "\u001b[32mLearned Step : 1685728\n",
      "\u001b[34mAVG   Return : 2.2000\n",
      "saved step 1685728 in ckpt/\n"
     ]
    },
    {
     "name": "stderr",
     "output_type": "stream",
     "text": [
      " 43%|████▎     | 21450/50000 [8:56:05<10:08:13,  1.28s/it]"
     ]
    },
    {
     "name": "stdout",
     "output_type": "stream",
     "text": [
      "\u001b[31m[EPISODE 21450 / STEP 6776982] - EPSILON-GREEDY[final] : 0.1000\n",
      "\u001b[32mLearned Step : 1689776\n",
      "\u001b[34mAVG   Return : 2.8800\n",
      "saved step 1689776 in ckpt/\n"
     ]
    },
    {
     "name": "stderr",
     "output_type": "stream",
     "text": [
      " 43%|████▎     | 21500/50000 [8:57:37<12:09:31,  1.54s/it]"
     ]
    },
    {
     "name": "stdout",
     "output_type": "stream",
     "text": [
      "\u001b[31m[EPISODE 21500 / STEP 6796055] - EPSILON-GREEDY[final] : 0.1000\n",
      "\u001b[32mLearned Step : 1694563\n",
      "\u001b[34mAVG   Return : 3.7000\n",
      "saved step 1694563 in ckpt/\n"
     ]
    },
    {
     "name": "stderr",
     "output_type": "stream",
     "text": [
      " 43%|████▎     | 21550/50000 [8:59:02<11:42:23,  1.48s/it]"
     ]
    },
    {
     "name": "stdout",
     "output_type": "stream",
     "text": [
      "\u001b[31m[EPISODE 21550 / STEP 6813824] - EPSILON-GREEDY[final] : 0.1000\n",
      "\u001b[32mLearned Step : 1699021\n",
      "\u001b[34mAVG   Return : 3.2800\n",
      "saved step 1699021 in ckpt/\n"
     ]
    },
    {
     "name": "stderr",
     "output_type": "stream",
     "text": [
      " 43%|████▎     | 21600/50000 [9:00:40<13:18:27,  1.69s/it]"
     ]
    },
    {
     "name": "stdout",
     "output_type": "stream",
     "text": [
      "\u001b[31m[EPISODE 21600 / STEP 6833804] - EPSILON-GREEDY[final] : 0.1000\n",
      "\u001b[32mLearned Step : 1704039\n",
      "\u001b[34mAVG   Return : 3.9400\n",
      "saved step 1704039 in ckpt/\n"
     ]
    },
    {
     "name": "stderr",
     "output_type": "stream",
     "text": [
      " 43%|████▎     | 21650/50000 [9:02:23<14:23:41,  1.83s/it]"
     ]
    },
    {
     "name": "stdout",
     "output_type": "stream",
     "text": [
      "\u001b[31m[EPISODE 21650 / STEP 6855038] - EPSILON-GREEDY[final] : 0.1000\n",
      "\u001b[32mLearned Step : 1709366\n",
      "\u001b[34mAVG   Return : 4.1000\n",
      "saved step 1709366 in ckpt/\n"
     ]
    },
    {
     "name": "stderr",
     "output_type": "stream",
     "text": [
      " 43%|████▎     | 21700/50000 [9:03:45<11:20:56,  1.44s/it]"
     ]
    },
    {
     "name": "stdout",
     "output_type": "stream",
     "text": [
      "\u001b[31m[EPISODE 21700 / STEP 6872122] - EPSILON-GREEDY[final] : 0.1000\n",
      "\u001b[32mLearned Step : 1713656\n",
      "\u001b[34mAVG   Return : 3.2000\n",
      "saved step 1713656 in ckpt/\n"
     ]
    },
    {
     "name": "stderr",
     "output_type": "stream",
     "text": [
      " 44%|████▎     | 21750/50000 [9:05:11<12:10:49,  1.55s/it]"
     ]
    },
    {
     "name": "stdout",
     "output_type": "stream",
     "text": [
      "\u001b[31m[EPISODE 21750 / STEP 6890164] - EPSILON-GREEDY[final] : 0.1000\n",
      "\u001b[32mLearned Step : 1718187\n",
      "\u001b[34mAVG   Return : 3.4400\n",
      "saved step 1718187 in ckpt/\n"
     ]
    },
    {
     "name": "stderr",
     "output_type": "stream",
     "text": [
      " 44%|████▎     | 21800/50000 [9:06:26<10:01:39,  1.28s/it]"
     ]
    },
    {
     "name": "stdout",
     "output_type": "stream",
     "text": [
      "\u001b[31m[EPISODE 21800 / STEP 6905655] - EPSILON-GREEDY[final] : 0.1000\n",
      "\u001b[32mLearned Step : 1722079\n",
      "\u001b[34mAVG   Return : 2.5600\n",
      "saved step 1722079 in ckpt/\n"
     ]
    },
    {
     "name": "stderr",
     "output_type": "stream",
     "text": [
      " 44%|████▎     | 21850/50000 [9:07:50<11:14:30,  1.44s/it]"
     ]
    },
    {
     "name": "stdout",
     "output_type": "stream",
     "text": [
      "\u001b[31m[EPISODE 21850 / STEP 6923075] - EPSILON-GREEDY[final] : 0.1000\n",
      "\u001b[32mLearned Step : 1726453\n",
      "\u001b[34mAVG   Return : 3.1400\n",
      "saved step 1726453 in ckpt/\n"
     ]
    },
    {
     "name": "stderr",
     "output_type": "stream",
     "text": [
      " 44%|████▍     | 21900/50000 [9:09:15<12:52:25,  1.65s/it]"
     ]
    },
    {
     "name": "stdout",
     "output_type": "stream",
     "text": [
      "\u001b[31m[EPISODE 21900 / STEP 6940567] - EPSILON-GREEDY[final] : 0.1000\n",
      "\u001b[32mLearned Step : 1730844\n",
      "\u001b[34mAVG   Return : 3.1800\n",
      "saved step 1730844 in ckpt/\n"
     ]
    },
    {
     "name": "stderr",
     "output_type": "stream",
     "text": [
      " 44%|████▍     | 21950/50000 [9:10:44<14:10:09,  1.82s/it]"
     ]
    },
    {
     "name": "stdout",
     "output_type": "stream",
     "text": [
      "\u001b[31m[EPISODE 21950 / STEP 6958981] - EPSILON-GREEDY[final] : 0.1000\n",
      "\u001b[32mLearned Step : 1735464\n",
      "\u001b[34mAVG   Return : 3.6000\n",
      "saved step 1735464 in ckpt/\n"
     ]
    },
    {
     "name": "stderr",
     "output_type": "stream",
     "text": [
      " 44%|████▍     | 22000/50000 [9:12:24<12:25:54,  1.60s/it]"
     ]
    },
    {
     "name": "stdout",
     "output_type": "stream",
     "text": [
      "\u001b[31m[EPISODE 22000 / STEP 6979792] - EPSILON-GREEDY[final] : 0.1000\n",
      "\u001b[32mLearned Step : 1740685\n",
      "\u001b[34mAVG   Return : 4.2400\n",
      "saved step 1740685 in ckpt/\n"
     ]
    },
    {
     "name": "stderr",
     "output_type": "stream",
     "text": [
      " 44%|████▍     | 22050/50000 [9:13:50<11:25:15,  1.47s/it]"
     ]
    },
    {
     "name": "stdout",
     "output_type": "stream",
     "text": [
      "\u001b[31m[EPISODE 22050 / STEP 6997500] - EPSILON-GREEDY[final] : 0.1000\n",
      "\u001b[32mLearned Step : 1745134\n",
      "\u001b[34mAVG   Return : 3.5000\n",
      "saved step 1745134 in ckpt/\n"
     ]
    },
    {
     "name": "stderr",
     "output_type": "stream",
     "text": [
      " 44%|████▍     | 22100/50000 [9:15:11<12:08:07,  1.57s/it]"
     ]
    },
    {
     "name": "stdout",
     "output_type": "stream",
     "text": [
      "\u001b[31m[EPISODE 22100 / STEP 7014235] - EPSILON-GREEDY[final] : 0.1000\n",
      "\u001b[32mLearned Step : 1749336\n",
      "\u001b[34mAVG   Return : 2.8000\n",
      "saved step 1749336 in ckpt/\n"
     ]
    },
    {
     "name": "stderr",
     "output_type": "stream",
     "text": [
      " 44%|████▍     | 22150/50000 [9:16:29<10:08:05,  1.31s/it]"
     ]
    },
    {
     "name": "stdout",
     "output_type": "stream",
     "text": [
      "\u001b[31m[EPISODE 22150 / STEP 7030252] - EPSILON-GREEDY[final] : 0.1000\n",
      "\u001b[32mLearned Step : 1753357\n",
      "\u001b[34mAVG   Return : 2.4400\n",
      "saved step 1753357 in ckpt/\n"
     ]
    },
    {
     "name": "stderr",
     "output_type": "stream",
     "text": [
      " 44%|████▍     | 22200/50000 [9:17:48<9:52:28,  1.28s/it] "
     ]
    },
    {
     "name": "stdout",
     "output_type": "stream",
     "text": [
      "\u001b[31m[EPISODE 22200 / STEP 7046658] - EPSILON-GREEDY[final] : 0.1000\n",
      "\u001b[32mLearned Step : 1757479\n",
      "\u001b[34mAVG   Return : 2.4800\n",
      "saved step 1757479 in ckpt/\n"
     ]
    },
    {
     "name": "stderr",
     "output_type": "stream",
     "text": [
      " 44%|████▍     | 22250/50000 [9:19:14<11:21:55,  1.47s/it]"
     ]
    },
    {
     "name": "stdout",
     "output_type": "stream",
     "text": [
      "\u001b[31m[EPISODE 22250 / STEP 7064639] - EPSILON-GREEDY[final] : 0.1000\n",
      "\u001b[32mLearned Step : 1761990\n",
      "\u001b[34mAVG   Return : 2.7400\n",
      "saved step 1761990 in ckpt/\n"
     ]
    },
    {
     "name": "stderr",
     "output_type": "stream",
     "text": [
      " 45%|████▍     | 22300/50000 [9:20:26<14:01:47,  1.82s/it]"
     ]
    },
    {
     "name": "stdout",
     "output_type": "stream",
     "text": [
      "\u001b[31m[EPISODE 22300 / STEP 7079452] - EPSILON-GREEDY[final] : 0.1000\n",
      "\u001b[32mLearned Step : 1765714\n",
      "\u001b[34mAVG   Return : 2.1400\n",
      "saved step 1765714 in ckpt/\n"
     ]
    },
    {
     "name": "stderr",
     "output_type": "stream",
     "text": [
      " 45%|████▍     | 22350/50000 [9:21:39<8:21:45,  1.09s/it] "
     ]
    },
    {
     "name": "stdout",
     "output_type": "stream",
     "text": [
      "\u001b[31m[EPISODE 22350 / STEP 7094406] - EPSILON-GREEDY[final] : 0.1000\n",
      "\u001b[32mLearned Step : 1769469\n",
      "\u001b[34mAVG   Return : 2.3400\n",
      "saved step 1769469 in ckpt/\n"
     ]
    },
    {
     "name": "stderr",
     "output_type": "stream",
     "text": [
      " 45%|████▍     | 22400/50000 [9:22:47<20:03:53,  2.62s/it]"
     ]
    },
    {
     "name": "stdout",
     "output_type": "stream",
     "text": [
      "\u001b[31m[EPISODE 22400 / STEP 7108599] - EPSILON-GREEDY[final] : 0.1000\n",
      "\u001b[32mLearned Step : 1773036\n",
      "\u001b[34mAVG   Return : 1.6600\n",
      "saved step 1773036 in ckpt/\n"
     ]
    },
    {
     "name": "stderr",
     "output_type": "stream",
     "text": [
      " 45%|████▍     | 22450/50000 [9:24:08<16:31:05,  2.16s/it]"
     ]
    },
    {
     "name": "stdout",
     "output_type": "stream",
     "text": [
      "\u001b[31m[EPISODE 22450 / STEP 7125199] - EPSILON-GREEDY[final] : 0.1000\n",
      "\u001b[32mLearned Step : 1777204\n",
      "\u001b[34mAVG   Return : 2.4800\n",
      "saved step 1777204 in ckpt/\n"
     ]
    },
    {
     "name": "stderr",
     "output_type": "stream",
     "text": [
      " 45%|████▌     | 22500/50000 [9:25:35<13:00:16,  1.70s/it]"
     ]
    },
    {
     "name": "stdout",
     "output_type": "stream",
     "text": [
      "\u001b[31m[EPISODE 22500 / STEP 7143243] - EPSILON-GREEDY[final] : 0.1000\n",
      "\u001b[32mLearned Step : 1781736\n",
      "\u001b[34mAVG   Return : 3.0400\n",
      "saved step 1781736 in ckpt/\n"
     ]
    },
    {
     "name": "stderr",
     "output_type": "stream",
     "text": [
      " 45%|████▌     | 22550/50000 [9:26:54<10:20:22,  1.36s/it]"
     ]
    },
    {
     "name": "stdout",
     "output_type": "stream",
     "text": [
      "\u001b[31m[EPISODE 22550 / STEP 7159740] - EPSILON-GREEDY[final] : 0.1000\n",
      "\u001b[32mLearned Step : 1785878\n",
      "\u001b[34mAVG   Return : 2.8000\n",
      "saved step 1785878 in ckpt/\n"
     ]
    },
    {
     "name": "stderr",
     "output_type": "stream",
     "text": [
      " 45%|████▌     | 22600/50000 [9:28:14<10:35:05,  1.39s/it]"
     ]
    },
    {
     "name": "stdout",
     "output_type": "stream",
     "text": [
      "\u001b[31m[EPISODE 22600 / STEP 7176252] - EPSILON-GREEDY[final] : 0.1000\n",
      "\u001b[32mLearned Step : 1790026\n",
      "\u001b[34mAVG   Return : 2.5000\n",
      "saved step 1790026 in ckpt/\n"
     ]
    },
    {
     "name": "stderr",
     "output_type": "stream",
     "text": [
      " 45%|████▌     | 22650/50000 [9:29:35<13:12:05,  1.74s/it]"
     ]
    },
    {
     "name": "stdout",
     "output_type": "stream",
     "text": [
      "\u001b[31m[EPISODE 22650 / STEP 7192968] - EPSILON-GREEDY[final] : 0.1000\n",
      "\u001b[32mLearned Step : 1794224\n",
      "\u001b[34mAVG   Return : 2.8000\n",
      "saved step 1794224 in ckpt/\n"
     ]
    },
    {
     "name": "stderr",
     "output_type": "stream",
     "text": [
      " 45%|████▌     | 22700/50000 [9:30:58<10:32:38,  1.39s/it]"
     ]
    },
    {
     "name": "stdout",
     "output_type": "stream",
     "text": [
      "\u001b[31m[EPISODE 22700 / STEP 7209978] - EPSILON-GREEDY[final] : 0.1000\n",
      "\u001b[32mLearned Step : 1798492\n",
      "\u001b[34mAVG   Return : 3.1200\n",
      "saved step 1798492 in ckpt/\n"
     ]
    },
    {
     "name": "stderr",
     "output_type": "stream",
     "text": [
      " 46%|████▌     | 22750/50000 [9:32:25<11:07:13,  1.47s/it]"
     ]
    },
    {
     "name": "stdout",
     "output_type": "stream",
     "text": [
      "\u001b[31m[EPISODE 22750 / STEP 7228237] - EPSILON-GREEDY[final] : 0.1000\n",
      "\u001b[32mLearned Step : 1803074\n",
      "\u001b[34mAVG   Return : 3.6400\n",
      "saved step 1803074 in ckpt/\n"
     ]
    },
    {
     "name": "stderr",
     "output_type": "stream",
     "text": [
      " 46%|████▌     | 22800/50000 [9:33:49<13:50:43,  1.83s/it]"
     ]
    },
    {
     "name": "stdout",
     "output_type": "stream",
     "text": [
      "\u001b[31m[EPISODE 22800 / STEP 7245611] - EPSILON-GREEDY[final] : 0.1000\n",
      "\u001b[32mLearned Step : 1807434\n",
      "\u001b[34mAVG   Return : 3.2000\n",
      "saved step 1807434 in ckpt/\n"
     ]
    },
    {
     "name": "stderr",
     "output_type": "stream",
     "text": [
      " 46%|████▌     | 22850/50000 [9:35:03<9:09:41,  1.21s/it] "
     ]
    },
    {
     "name": "stdout",
     "output_type": "stream",
     "text": [
      "\u001b[31m[EPISODE 22850 / STEP 7260949] - EPSILON-GREEDY[final] : 0.1000\n",
      "\u001b[32mLearned Step : 1811287\n",
      "\u001b[34mAVG   Return : 2.5000\n",
      "saved step 1811287 in ckpt/\n"
     ]
    },
    {
     "name": "stderr",
     "output_type": "stream",
     "text": [
      " 46%|████▌     | 22900/50000 [9:36:26<16:25:51,  2.18s/it]"
     ]
    },
    {
     "name": "stdout",
     "output_type": "stream",
     "text": [
      "\u001b[31m[EPISODE 22900 / STEP 7278230] - EPSILON-GREEDY[final] : 0.1000\n",
      "\u001b[32mLearned Step : 1815629\n",
      "\u001b[34mAVG   Return : 3.1400\n",
      "saved step 1815629 in ckpt/\n"
     ]
    },
    {
     "name": "stderr",
     "output_type": "stream",
     "text": [
      " 46%|████▌     | 22950/50000 [9:37:50<13:50:31,  1.84s/it]"
     ]
    },
    {
     "name": "stdout",
     "output_type": "stream",
     "text": [
      "\u001b[31m[EPISODE 22950 / STEP 7295814] - EPSILON-GREEDY[final] : 0.1000\n",
      "\u001b[32mLearned Step : 1820043\n",
      "\u001b[34mAVG   Return : 3.0400\n",
      "saved step 1820043 in ckpt/\n"
     ]
    },
    {
     "name": "stderr",
     "output_type": "stream",
     "text": [
      " 46%|████▌     | 23000/50000 [9:39:11<11:05:24,  1.48s/it]"
     ]
    },
    {
     "name": "stdout",
     "output_type": "stream",
     "text": [
      "\u001b[31m[EPISODE 23000 / STEP 7312648] - EPSILON-GREEDY[final] : 0.1000\n",
      "\u001b[32mLearned Step : 1824272\n",
      "\u001b[34mAVG   Return : 2.6800\n",
      "saved step 1824272 in ckpt/\n"
     ]
    },
    {
     "name": "stderr",
     "output_type": "stream",
     "text": [
      " 46%|████▌     | 23050/50000 [9:40:29<9:12:29,  1.23s/it] "
     ]
    },
    {
     "name": "stdout",
     "output_type": "stream",
     "text": [
      "\u001b[31m[EPISODE 23050 / STEP 7328789] - EPSILON-GREEDY[final] : 0.1000\n",
      "\u001b[32mLearned Step : 1828324\n",
      "\u001b[34mAVG   Return : 2.6000\n",
      "saved step 1828324 in ckpt/\n"
     ]
    },
    {
     "name": "stderr",
     "output_type": "stream",
     "text": [
      " 46%|████▌     | 23100/50000 [9:41:50<14:56:31,  2.00s/it]"
     ]
    },
    {
     "name": "stdout",
     "output_type": "stream",
     "text": [
      "\u001b[31m[EPISODE 23100 / STEP 7345747] - EPSILON-GREEDY[final] : 0.1000\n",
      "\u001b[32mLearned Step : 1832584\n",
      "\u001b[34mAVG   Return : 3.0000\n",
      "saved step 1832584 in ckpt/\n"
     ]
    },
    {
     "name": "stderr",
     "output_type": "stream",
     "text": [
      " 46%|████▋     | 23150/50000 [9:43:11<15:04:50,  2.02s/it]"
     ]
    },
    {
     "name": "stdout",
     "output_type": "stream",
     "text": [
      "\u001b[31m[EPISODE 23150 / STEP 7362616] - EPSILON-GREEDY[final] : 0.1000\n",
      "\u001b[32mLearned Step : 1836821\n",
      "\u001b[34mAVG   Return : 3.0800\n",
      "saved step 1836821 in ckpt/\n"
     ]
    },
    {
     "name": "stderr",
     "output_type": "stream",
     "text": [
      " 46%|████▋     | 23200/50000 [9:44:31<11:54:09,  1.60s/it]"
     ]
    },
    {
     "name": "stdout",
     "output_type": "stream",
     "text": [
      "\u001b[31m[EPISODE 23200 / STEP 7379338] - EPSILON-GREEDY[final] : 0.1000\n",
      "\u001b[32mLearned Step : 1841019\n",
      "\u001b[34mAVG   Return : 2.9800\n",
      "saved step 1841019 in ckpt/\n"
     ]
    },
    {
     "name": "stderr",
     "output_type": "stream",
     "text": [
      " 46%|████▋     | 23250/50000 [9:45:50<14:22:41,  1.94s/it]"
     ]
    },
    {
     "name": "stdout",
     "output_type": "stream",
     "text": [
      "\u001b[31m[EPISODE 23250 / STEP 7395737] - EPSILON-GREEDY[final] : 0.1000\n",
      "\u001b[32mLearned Step : 1845138\n",
      "\u001b[34mAVG   Return : 2.5400\n",
      "saved step 1845138 in ckpt/\n"
     ]
    },
    {
     "name": "stderr",
     "output_type": "stream",
     "text": [
      " 47%|████▋     | 23300/50000 [9:47:22<14:31:13,  1.96s/it]"
     ]
    },
    {
     "name": "stdout",
     "output_type": "stream",
     "text": [
      "\u001b[31m[EPISODE 23300 / STEP 7414928] - EPSILON-GREEDY[final] : 0.1000\n",
      "\u001b[32mLearned Step : 1849954\n",
      "\u001b[34mAVG   Return : 3.7600\n",
      "saved step 1849954 in ckpt/\n"
     ]
    },
    {
     "name": "stderr",
     "output_type": "stream",
     "text": [
      " 47%|████▋     | 23350/50000 [9:48:37<12:24:18,  1.68s/it]"
     ]
    },
    {
     "name": "stdout",
     "output_type": "stream",
     "text": [
      "\u001b[31m[EPISODE 23350 / STEP 7430390] - EPSILON-GREEDY[final] : 0.1000\n",
      "\u001b[32mLearned Step : 1853835\n",
      "\u001b[34mAVG   Return : 2.6800\n",
      "saved step 1853835 in ckpt/\n"
     ]
    },
    {
     "name": "stderr",
     "output_type": "stream",
     "text": [
      " 47%|████▋     | 23400/50000 [9:50:03<12:13:32,  1.65s/it]"
     ]
    },
    {
     "name": "stdout",
     "output_type": "stream",
     "text": [
      "\u001b[31m[EPISODE 23400 / STEP 7448395] - EPSILON-GREEDY[final] : 0.1000\n",
      "\u001b[32mLearned Step : 1858354\n",
      "\u001b[34mAVG   Return : 3.3400\n",
      "saved step 1858354 in ckpt/\n"
     ]
    },
    {
     "name": "stderr",
     "output_type": "stream",
     "text": [
      " 47%|████▋     | 23450/50000 [9:51:27<10:17:46,  1.40s/it]"
     ]
    },
    {
     "name": "stdout",
     "output_type": "stream",
     "text": [
      "\u001b[31m[EPISODE 23450 / STEP 7465774] - EPSILON-GREEDY[final] : 0.1000\n",
      "\u001b[32mLearned Step : 1862715\n",
      "\u001b[34mAVG   Return : 3.2600\n",
      "saved step 1862715 in ckpt/\n"
     ]
    },
    {
     "name": "stderr",
     "output_type": "stream",
     "text": [
      " 47%|████▋     | 23500/50000 [9:52:52<9:57:45,  1.35s/it] "
     ]
    },
    {
     "name": "stdout",
     "output_type": "stream",
     "text": [
      "\u001b[31m[EPISODE 23500 / STEP 7483154] - EPSILON-GREEDY[final] : 0.1000\n",
      "\u001b[32mLearned Step : 1867076\n",
      "\u001b[34mAVG   Return : 3.0800\n",
      "saved step 1867076 in ckpt/\n"
     ]
    },
    {
     "name": "stderr",
     "output_type": "stream",
     "text": [
      " 47%|████▋     | 23550/50000 [9:54:06<8:16:25,  1.13s/it] "
     ]
    },
    {
     "name": "stdout",
     "output_type": "stream",
     "text": [
      "\u001b[31m[EPISODE 23550 / STEP 7498711] - EPSILON-GREEDY[final] : 0.1000\n",
      "\u001b[32mLearned Step : 1870985\n",
      "\u001b[34mAVG   Return : 2.2400\n",
      "saved step 1870985 in ckpt/\n"
     ]
    },
    {
     "name": "stderr",
     "output_type": "stream",
     "text": [
      " 47%|████▋     | 23600/50000 [9:55:25<14:54:47,  2.03s/it]"
     ]
    },
    {
     "name": "stdout",
     "output_type": "stream",
     "text": [
      "\u001b[31m[EPISODE 23600 / STEP 7514864] - EPSILON-GREEDY[final] : 0.1000\n",
      "\u001b[32mLearned Step : 1875042\n",
      "\u001b[34mAVG   Return : 2.7200\n",
      "saved step 1875042 in ckpt/\n"
     ]
    },
    {
     "name": "stderr",
     "output_type": "stream",
     "text": [
      " 47%|████▋     | 23650/50000 [9:56:53<15:58:01,  2.18s/it]"
     ]
    },
    {
     "name": "stdout",
     "output_type": "stream",
     "text": [
      "\u001b[31m[EPISODE 23650 / STEP 7533171] - EPSILON-GREEDY[final] : 0.1000\n",
      "\u001b[32mLearned Step : 1879640\n",
      "\u001b[34mAVG   Return : 3.1400\n",
      "saved step 1879640 in ckpt/\n"
     ]
    },
    {
     "name": "stderr",
     "output_type": "stream",
     "text": [
      " 47%|████▋     | 23700/50000 [9:58:23<12:13:56,  1.67s/it]"
     ]
    },
    {
     "name": "stdout",
     "output_type": "stream",
     "text": [
      "\u001b[31m[EPISODE 23700 / STEP 7552062] - EPSILON-GREEDY[final] : 0.1000\n",
      "\u001b[32mLearned Step : 1884383\n",
      "\u001b[34mAVG   Return : 3.4600\n",
      "saved step 1884383 in ckpt/\n"
     ]
    },
    {
     "name": "stderr",
     "output_type": "stream",
     "text": [
      " 48%|████▊     | 23750/50000 [9:59:53<12:51:52,  1.76s/it]"
     ]
    },
    {
     "name": "stdout",
     "output_type": "stream",
     "text": [
      "\u001b[31m[EPISODE 23750 / STEP 7570808] - EPSILON-GREEDY[final] : 0.1000\n",
      "\u001b[32mLearned Step : 1889090\n",
      "\u001b[34mAVG   Return : 3.0200\n",
      "saved step 1889090 in ckpt/\n"
     ]
    },
    {
     "name": "stderr",
     "output_type": "stream",
     "text": [
      " 48%|████▊     | 23800/50000 [10:01:33<14:21:48,  1.97s/it]"
     ]
    },
    {
     "name": "stdout",
     "output_type": "stream",
     "text": [
      "\u001b[31m[EPISODE 23800 / STEP 7591489] - EPSILON-GREEDY[final] : 0.1000\n",
      "\u001b[32mLearned Step : 1894278\n",
      "\u001b[34mAVG   Return : 4.0400\n",
      "saved step 1894278 in ckpt/\n"
     ]
    },
    {
     "name": "stderr",
     "output_type": "stream",
     "text": [
      " 48%|████▊     | 23850/50000 [10:02:45<11:10:14,  1.54s/it]"
     ]
    },
    {
     "name": "stdout",
     "output_type": "stream",
     "text": [
      "\u001b[31m[EPISODE 23850 / STEP 7606404] - EPSILON-GREEDY[final] : 0.1000\n",
      "\u001b[32mLearned Step : 1898026\n",
      "\u001b[34mAVG   Return : 2.0400\n",
      "saved step 1898026 in ckpt/\n"
     ]
    },
    {
     "name": "stderr",
     "output_type": "stream",
     "text": [
      " 48%|████▊     | 23900/50000 [10:03:57<9:28:32,  1.31s/it] "
     ]
    },
    {
     "name": "stdout",
     "output_type": "stream",
     "text": [
      "\u001b[31m[EPISODE 23900 / STEP 7621347] - EPSILON-GREEDY[final] : 0.1000\n",
      "\u001b[32mLearned Step : 1901782\n",
      "\u001b[34mAVG   Return : 1.9000\n",
      "saved step 1901782 in ckpt/\n"
     ]
    },
    {
     "name": "stderr",
     "output_type": "stream",
     "text": [
      " 48%|████▊     | 23950/50000 [10:05:15<13:46:28,  1.90s/it]"
     ]
    },
    {
     "name": "stdout",
     "output_type": "stream",
     "text": [
      "\u001b[31m[EPISODE 23950 / STEP 7637364] - EPSILON-GREEDY[final] : 0.1000\n",
      "\u001b[32mLearned Step : 1905805\n",
      "\u001b[34mAVG   Return : 2.5400\n",
      "saved step 1905805 in ckpt/\n"
     ]
    },
    {
     "name": "stderr",
     "output_type": "stream",
     "text": [
      " 48%|████▊     | 24000/50000 [10:06:32<13:18:29,  1.84s/it]"
     ]
    },
    {
     "name": "stdout",
     "output_type": "stream",
     "text": [
      "\u001b[31m[EPISODE 24000 / STEP 7653170] - EPSILON-GREEDY[final] : 0.1000\n",
      "\u001b[32mLearned Step : 1909776\n",
      "\u001b[34mAVG   Return : 2.3800\n",
      "saved step 1909776 in ckpt/\n"
     ]
    },
    {
     "name": "stderr",
     "output_type": "stream",
     "text": [
      " 48%|████▊     | 24050/50000 [10:07:56<14:03:24,  1.95s/it]"
     ]
    },
    {
     "name": "stdout",
     "output_type": "stream",
     "text": [
      "\u001b[31m[EPISODE 24050 / STEP 7670551] - EPSILON-GREEDY[final] : 0.1000\n",
      "\u001b[32mLearned Step : 1914141\n",
      "\u001b[34mAVG   Return : 3.0200\n",
      "saved step 1914141 in ckpt/\n"
     ]
    },
    {
     "name": "stderr",
     "output_type": "stream",
     "text": [
      " 48%|████▊     | 24100/50000 [10:09:15<14:13:28,  1.98s/it]"
     ]
    },
    {
     "name": "stdout",
     "output_type": "stream",
     "text": [
      "\u001b[31m[EPISODE 24100 / STEP 7686903] - EPSILON-GREEDY[final] : 0.1000\n",
      "\u001b[32mLearned Step : 1918250\n",
      "\u001b[34mAVG   Return : 2.8600\n",
      "saved step 1918250 in ckpt/\n"
     ]
    },
    {
     "name": "stderr",
     "output_type": "stream",
     "text": [
      " 48%|████▊     | 24150/50000 [10:10:47<11:49:48,  1.65s/it]"
     ]
    },
    {
     "name": "stdout",
     "output_type": "stream",
     "text": [
      "\u001b[31m[EPISODE 24150 / STEP 7705725] - EPSILON-GREEDY[final] : 0.1000\n",
      "\u001b[32mLearned Step : 1922977\n",
      "\u001b[34mAVG   Return : 3.7400\n",
      "saved step 1922977 in ckpt/\n"
     ]
    },
    {
     "name": "stderr",
     "output_type": "stream",
     "text": [
      " 48%|████▊     | 24200/50000 [10:12:17<13:04:32,  1.82s/it]"
     ]
    },
    {
     "name": "stdout",
     "output_type": "stream",
     "text": [
      "\u001b[31m[EPISODE 24200 / STEP 7724347] - EPSILON-GREEDY[final] : 0.1000\n",
      "\u001b[32mLearned Step : 1927653\n",
      "\u001b[34mAVG   Return : 4.0400\n",
      "saved step 1927653 in ckpt/\n"
     ]
    },
    {
     "name": "stderr",
     "output_type": "stream",
     "text": [
      " 48%|████▊     | 24250/50000 [10:13:35<13:28:33,  1.88s/it]"
     ]
    },
    {
     "name": "stdout",
     "output_type": "stream",
     "text": [
      "\u001b[31m[EPISODE 24250 / STEP 7740404] - EPSILON-GREEDY[final] : 0.1000\n",
      "\u001b[32mLearned Step : 1931683\n",
      "\u001b[34mAVG   Return : 3.0600\n",
      "saved step 1931683 in ckpt/\n"
     ]
    },
    {
     "name": "stderr",
     "output_type": "stream",
     "text": [
      " 49%|████▊     | 24300/50000 [10:15:00<16:32:29,  2.32s/it]"
     ]
    },
    {
     "name": "stdout",
     "output_type": "stream",
     "text": [
      "\u001b[31m[EPISODE 24300 / STEP 7758176] - EPSILON-GREEDY[final] : 0.1000\n",
      "\u001b[32mLearned Step : 1936147\n",
      "\u001b[34mAVG   Return : 3.5200\n",
      "saved step 1936147 in ckpt/\n"
     ]
    },
    {
     "name": "stderr",
     "output_type": "stream",
     "text": [
      " 49%|████▊     | 24350/50000 [10:16:16<9:47:14,  1.37s/it] "
     ]
    },
    {
     "name": "stdout",
     "output_type": "stream",
     "text": [
      "\u001b[31m[EPISODE 24350 / STEP 7773792] - EPSILON-GREEDY[final] : 0.1000\n",
      "\u001b[32mLearned Step : 1940068\n",
      "\u001b[34mAVG   Return : 2.7000\n",
      "saved step 1940068 in ckpt/\n"
     ]
    },
    {
     "name": "stderr",
     "output_type": "stream",
     "text": [
      " 49%|████▉     | 24400/50000 [10:17:24<11:00:34,  1.55s/it]"
     ]
    },
    {
     "name": "stdout",
     "output_type": "stream",
     "text": [
      "\u001b[31m[EPISODE 24400 / STEP 7787763] - EPSILON-GREEDY[final] : 0.1000\n",
      "\u001b[32mLearned Step : 1943579\n",
      "\u001b[34mAVG   Return : 2.2000\n",
      "saved step 1943579 in ckpt/\n"
     ]
    },
    {
     "name": "stderr",
     "output_type": "stream",
     "text": [
      " 49%|████▉     | 24450/50000 [10:18:43<13:43:30,  1.93s/it]"
     ]
    },
    {
     "name": "stdout",
     "output_type": "stream",
     "text": [
      "\u001b[31m[EPISODE 24450 / STEP 7804063] - EPSILON-GREEDY[final] : 0.1000\n",
      "\u001b[32mLearned Step : 1947675\n",
      "\u001b[34mAVG   Return : 2.7000\n",
      "saved step 1947675 in ckpt/\n"
     ]
    },
    {
     "name": "stderr",
     "output_type": "stream",
     "text": [
      " 49%|████▉     | 24500/50000 [10:19:52<11:22:27,  1.61s/it]"
     ]
    },
    {
     "name": "stdout",
     "output_type": "stream",
     "text": [
      "\u001b[31m[EPISODE 24500 / STEP 7818288] - EPSILON-GREEDY[final] : 0.1000\n",
      "\u001b[32mLearned Step : 1951250\n",
      "\u001b[34mAVG   Return : 2.0200\n",
      "saved step 1951250 in ckpt/\n"
     ]
    },
    {
     "name": "stderr",
     "output_type": "stream",
     "text": [
      " 49%|████▉     | 24550/50000 [10:21:08<11:27:36,  1.62s/it]"
     ]
    },
    {
     "name": "stdout",
     "output_type": "stream",
     "text": [
      "\u001b[31m[EPISODE 24550 / STEP 7834012] - EPSILON-GREEDY[final] : 0.1000\n",
      "\u001b[32mLearned Step : 1955200\n",
      "\u001b[34mAVG   Return : 2.6200\n",
      "saved step 1955200 in ckpt/\n"
     ]
    },
    {
     "name": "stderr",
     "output_type": "stream",
     "text": [
      " 49%|████▉     | 24600/50000 [10:22:18<11:55:19,  1.69s/it]"
     ]
    },
    {
     "name": "stdout",
     "output_type": "stream",
     "text": [
      "\u001b[31m[EPISODE 24600 / STEP 7848486] - EPSILON-GREEDY[final] : 0.1000\n",
      "\u001b[32mLearned Step : 1958838\n",
      "\u001b[34mAVG   Return : 2.0400\n",
      "saved step 1958838 in ckpt/\n"
     ]
    },
    {
     "name": "stderr",
     "output_type": "stream",
     "text": [
      " 49%|████▉     | 24650/50000 [10:23:36<10:38:40,  1.51s/it]"
     ]
    },
    {
     "name": "stdout",
     "output_type": "stream",
     "text": [
      "\u001b[31m[EPISODE 24650 / STEP 7864323] - EPSILON-GREEDY[final] : 0.1000\n",
      "\u001b[32mLearned Step : 1962816\n",
      "\u001b[34mAVG   Return : 2.4800\n",
      "saved step 1962816 in ckpt/\n"
     ]
    },
    {
     "name": "stderr",
     "output_type": "stream",
     "text": [
      " 49%|████▉     | 24700/50000 [10:25:04<12:01:56,  1.71s/it]"
     ]
    },
    {
     "name": "stdout",
     "output_type": "stream",
     "text": [
      "\u001b[31m[EPISODE 24700 / STEP 7882590] - EPSILON-GREEDY[final] : 0.1000\n",
      "\u001b[32mLearned Step : 1967406\n",
      "\u001b[34mAVG   Return : 2.9000\n",
      "saved step 1967406 in ckpt/\n"
     ]
    },
    {
     "name": "stderr",
     "output_type": "stream",
     "text": [
      " 50%|████▉     | 24750/50000 [10:26:29<9:19:25,  1.33s/it] "
     ]
    },
    {
     "name": "stdout",
     "output_type": "stream",
     "text": [
      "\u001b[31m[EPISODE 24750 / STEP 7900235] - EPSILON-GREEDY[final] : 0.1000\n",
      "\u001b[32mLearned Step : 1971835\n",
      "\u001b[34mAVG   Return : 3.1800\n",
      "saved step 1971835 in ckpt/\n"
     ]
    },
    {
     "name": "stderr",
     "output_type": "stream",
     "text": [
      " 50%|████▉     | 24800/50000 [10:28:09<13:04:49,  1.87s/it]"
     ]
    },
    {
     "name": "stdout",
     "output_type": "stream",
     "text": [
      "\u001b[31m[EPISODE 24800 / STEP 7920777] - EPSILON-GREEDY[final] : 0.1000\n",
      "\u001b[32mLearned Step : 1976988\n",
      "\u001b[34mAVG   Return : 3.7400\n",
      "saved step 1976988 in ckpt/\n"
     ]
    },
    {
     "name": "stderr",
     "output_type": "stream",
     "text": [
      " 50%|████▉     | 24850/50000 [10:29:33<8:46:42,  1.26s/it] "
     ]
    },
    {
     "name": "stdout",
     "output_type": "stream",
     "text": [
      "\u001b[31m[EPISODE 24850 / STEP 7938281] - EPSILON-GREEDY[final] : 0.1000\n",
      "\u001b[32mLearned Step : 1981381\n",
      "\u001b[34mAVG   Return : 2.8200\n",
      "saved step 1981381 in ckpt/\n"
     ]
    },
    {
     "name": "stderr",
     "output_type": "stream",
     "text": [
      " 50%|████▉     | 24900/50000 [10:30:59<7:50:02,  1.12s/it] "
     ]
    },
    {
     "name": "stdout",
     "output_type": "stream",
     "text": [
      "\u001b[31m[EPISODE 24900 / STEP 7955920] - EPSILON-GREEDY[final] : 0.1000\n",
      "\u001b[32mLearned Step : 1985812\n",
      "\u001b[34mAVG   Return : 2.5000\n",
      "saved step 1985812 in ckpt/\n"
     ]
    },
    {
     "name": "stderr",
     "output_type": "stream",
     "text": [
      " 50%|████▉     | 24950/50000 [10:32:06<8:14:49,  1.19s/it] "
     ]
    },
    {
     "name": "stdout",
     "output_type": "stream",
     "text": [
      "\u001b[31m[EPISODE 24950 / STEP 7969890] - EPSILON-GREEDY[final] : 0.1000\n",
      "\u001b[32mLearned Step : 1989322\n",
      "\u001b[34mAVG   Return : 1.9600\n",
      "saved step 1989322 in ckpt/\n"
     ]
    },
    {
     "name": "stderr",
     "output_type": "stream",
     "text": [
      " 50%|█████     | 25000/50000 [10:33:25<10:55:06,  1.57s/it]"
     ]
    },
    {
     "name": "stdout",
     "output_type": "stream",
     "text": [
      "\u001b[31m[EPISODE 25000 / STEP 7986162] - EPSILON-GREEDY[final] : 0.1000\n",
      "\u001b[32mLearned Step : 1993407\n",
      "\u001b[34mAVG   Return : 2.3400\n",
      "saved step 1993407 in ckpt/\n"
     ]
    },
    {
     "name": "stderr",
     "output_type": "stream",
     "text": [
      " 50%|█████     | 25050/50000 [10:34:48<14:03:19,  2.03s/it]"
     ]
    },
    {
     "name": "stdout",
     "output_type": "stream",
     "text": [
      "\u001b[31m[EPISODE 25050 / STEP 8003311] - EPSILON-GREEDY[final] : 0.1000\n",
      "\u001b[32mLearned Step : 1997712\n",
      "\u001b[34mAVG   Return : 2.6600\n",
      "saved step 1997712 in ckpt/\n"
     ]
    },
    {
     "name": "stderr",
     "output_type": "stream",
     "text": [
      " 50%|█████     | 25100/50000 [10:35:55<9:44:35,  1.41s/it] "
     ]
    },
    {
     "name": "stdout",
     "output_type": "stream",
     "text": [
      "\u001b[31m[EPISODE 25100 / STEP 8017070] - EPSILON-GREEDY[final] : 0.1000\n",
      "\u001b[32mLearned Step : 2001169\n",
      "\u001b[34mAVG   Return : 1.7000\n",
      "saved step 2001169 in ckpt/\n"
     ]
    },
    {
     "name": "stderr",
     "output_type": "stream",
     "text": [
      " 50%|█████     | 25150/50000 [10:37:18<8:14:00,  1.19s/it] "
     ]
    },
    {
     "name": "stdout",
     "output_type": "stream",
     "text": [
      "\u001b[31m[EPISODE 25150 / STEP 8034075] - EPSILON-GREEDY[final] : 0.1000\n",
      "\u001b[32mLearned Step : 2005438\n",
      "\u001b[34mAVG   Return : 2.5400\n",
      "saved step 2005438 in ckpt/\n"
     ]
    },
    {
     "name": "stderr",
     "output_type": "stream",
     "text": [
      " 50%|█████     | 25200/50000 [10:38:32<10:14:53,  1.49s/it]"
     ]
    },
    {
     "name": "stdout",
     "output_type": "stream",
     "text": [
      "\u001b[31m[EPISODE 25200 / STEP 8049446] - EPSILON-GREEDY[final] : 0.1000\n",
      "\u001b[32mLearned Step : 2009295\n",
      "\u001b[34mAVG   Return : 2.2600\n",
      "saved step 2009295 in ckpt/\n"
     ]
    },
    {
     "name": "stderr",
     "output_type": "stream",
     "text": [
      " 50%|█████     | 25250/50000 [10:39:53<12:57:39,  1.89s/it]"
     ]
    },
    {
     "name": "stdout",
     "output_type": "stream",
     "text": [
      "\u001b[31m[EPISODE 25250 / STEP 8066106] - EPSILON-GREEDY[final] : 0.1000\n",
      "\u001b[32mLearned Step : 2013480\n",
      "\u001b[34mAVG   Return : 2.8800\n",
      "saved step 2013480 in ckpt/\n"
     ]
    },
    {
     "name": "stderr",
     "output_type": "stream",
     "text": [
      " 51%|█████     | 25300/50000 [10:41:18<10:18:02,  1.50s/it]"
     ]
    },
    {
     "name": "stdout",
     "output_type": "stream",
     "text": [
      "\u001b[31m[EPISODE 25300 / STEP 8083645] - EPSILON-GREEDY[final] : 0.1000\n",
      "\u001b[32mLearned Step : 2017884\n",
      "\u001b[34mAVG   Return : 3.2400\n",
      "saved step 2017884 in ckpt/\n"
     ]
    },
    {
     "name": "stderr",
     "output_type": "stream",
     "text": [
      " 51%|█████     | 25350/50000 [10:42:39<7:47:31,  1.14s/it] "
     ]
    },
    {
     "name": "stdout",
     "output_type": "stream",
     "text": [
      "\u001b[31m[EPISODE 25350 / STEP 8100283] - EPSILON-GREEDY[final] : 0.1000\n",
      "\u001b[32mLearned Step : 2022062\n",
      "\u001b[34mAVG   Return : 2.8200\n",
      "saved step 2022062 in ckpt/\n"
     ]
    },
    {
     "name": "stderr",
     "output_type": "stream",
     "text": [
      " 51%|█████     | 25400/50000 [10:43:51<6:53:16,  1.01s/it] "
     ]
    },
    {
     "name": "stdout",
     "output_type": "stream",
     "text": [
      "\u001b[31m[EPISODE 25400 / STEP 8115300] - EPSILON-GREEDY[final] : 0.1000\n",
      "\u001b[32mLearned Step : 2025832\n",
      "\u001b[34mAVG   Return : 2.4400\n",
      "saved step 2025832 in ckpt/\n"
     ]
    },
    {
     "name": "stderr",
     "output_type": "stream",
     "text": [
      " 51%|█████     | 25450/50000 [10:45:01<13:25:59,  1.97s/it]"
     ]
    },
    {
     "name": "stdout",
     "output_type": "stream",
     "text": [
      "\u001b[31m[EPISODE 25450 / STEP 8129713] - EPSILON-GREEDY[final] : 0.1000\n",
      "\u001b[32mLearned Step : 2029454\n",
      "\u001b[34mAVG   Return : 1.8200\n",
      "saved step 2029454 in ckpt/\n"
     ]
    },
    {
     "name": "stderr",
     "output_type": "stream",
     "text": [
      " 51%|█████     | 25500/50000 [10:46:13<10:45:52,  1.58s/it]"
     ]
    },
    {
     "name": "stdout",
     "output_type": "stream",
     "text": [
      "\u001b[31m[EPISODE 25500 / STEP 8144495] - EPSILON-GREEDY[final] : 0.1000\n",
      "\u001b[32mLearned Step : 2033168\n",
      "\u001b[34mAVG   Return : 2.2200\n",
      "saved step 2033168 in ckpt/\n"
     ]
    },
    {
     "name": "stderr",
     "output_type": "stream",
     "text": [
      " 51%|█████     | 25550/50000 [10:47:26<10:44:26,  1.58s/it]"
     ]
    },
    {
     "name": "stdout",
     "output_type": "stream",
     "text": [
      "\u001b[31m[EPISODE 25550 / STEP 8159537] - EPSILON-GREEDY[final] : 0.1000\n",
      "\u001b[32mLearned Step : 2036944\n",
      "\u001b[34mAVG   Return : 2.3600\n",
      "saved step 2036944 in ckpt/\n"
     ]
    },
    {
     "name": "stderr",
     "output_type": "stream",
     "text": [
      " 51%|█████     | 25600/50000 [10:48:51<11:07:23,  1.64s/it]"
     ]
    },
    {
     "name": "stdout",
     "output_type": "stream",
     "text": [
      "\u001b[31m[EPISODE 25600 / STEP 8177119] - EPSILON-GREEDY[final] : 0.1000\n",
      "\u001b[32mLearned Step : 2041358\n",
      "\u001b[34mAVG   Return : 2.8400\n",
      "saved step 2041358 in ckpt/\n"
     ]
    },
    {
     "name": "stderr",
     "output_type": "stream",
     "text": [
      " 51%|█████▏    | 25650/50000 [10:50:29<16:11:47,  2.39s/it]"
     ]
    },
    {
     "name": "stdout",
     "output_type": "stream",
     "text": [
      "\u001b[31m[EPISODE 25650 / STEP 8197412] - EPSILON-GREEDY[final] : 0.1000\n",
      "\u001b[32mLearned Step : 2046453\n",
      "\u001b[34mAVG   Return : 4.1600\n",
      "saved step 2046453 in ckpt/\n"
     ]
    },
    {
     "name": "stderr",
     "output_type": "stream",
     "text": [
      " 51%|█████▏    | 25700/50000 [10:52:10<13:55:30,  2.06s/it]"
     ]
    },
    {
     "name": "stdout",
     "output_type": "stream",
     "text": [
      "\u001b[31m[EPISODE 25700 / STEP 8218459] - EPSILON-GREEDY[final] : 0.1000\n",
      "\u001b[32mLearned Step : 2051734\n",
      "\u001b[34mAVG   Return : 4.2200\n",
      "saved step 2051734 in ckpt/\n"
     ]
    },
    {
     "name": "stderr",
     "output_type": "stream",
     "text": [
      " 52%|█████▏    | 25750/50000 [10:53:41<14:24:09,  2.14s/it]"
     ]
    },
    {
     "name": "stdout",
     "output_type": "stream",
     "text": [
      "\u001b[31m[EPISODE 25750 / STEP 8237279] - EPSILON-GREEDY[final] : 0.1000\n",
      "\u001b[32mLearned Step : 2056456\n",
      "\u001b[34mAVG   Return : 3.5800\n",
      "saved step 2056456 in ckpt/\n"
     ]
    },
    {
     "name": "stderr",
     "output_type": "stream",
     "text": [
      " 52%|█████▏    | 25800/50000 [10:55:20<10:06:51,  1.50s/it]"
     ]
    },
    {
     "name": "stdout",
     "output_type": "stream",
     "text": [
      "\u001b[31m[EPISODE 25800 / STEP 8257873] - EPSILON-GREEDY[final] : 0.1000\n",
      "\u001b[32mLearned Step : 2061621\n",
      "\u001b[34mAVG   Return : 4.3800\n",
      "saved step 2061621 in ckpt/\n"
     ]
    },
    {
     "name": "stderr",
     "output_type": "stream",
     "text": [
      " 52%|█████▏    | 25850/50000 [10:56:57<14:30:52,  2.16s/it]"
     ]
    },
    {
     "name": "stdout",
     "output_type": "stream",
     "text": [
      "\u001b[31m[EPISODE 25850 / STEP 8277856] - EPSILON-GREEDY[final] : 0.1000\n",
      "\u001b[32mLearned Step : 2066631\n",
      "\u001b[34mAVG   Return : 4.4200\n",
      "saved step 2066631 in ckpt/\n"
     ]
    },
    {
     "name": "stderr",
     "output_type": "stream",
     "text": [
      " 52%|█████▏    | 25900/50000 [10:58:25<8:58:49,  1.34s/it] "
     ]
    },
    {
     "name": "stdout",
     "output_type": "stream",
     "text": [
      "\u001b[31m[EPISODE 25900 / STEP 8296285] - EPSILON-GREEDY[final] : 0.1000\n",
      "\u001b[32mLearned Step : 2071254\n",
      "\u001b[34mAVG   Return : 3.1600\n",
      "saved step 2071254 in ckpt/\n"
     ]
    },
    {
     "name": "stderr",
     "output_type": "stream",
     "text": [
      " 52%|█████▏    | 25950/50000 [10:59:51<11:19:06,  1.69s/it]"
     ]
    },
    {
     "name": "stdout",
     "output_type": "stream",
     "text": [
      "\u001b[31m[EPISODE 25950 / STEP 8314098] - EPSILON-GREEDY[final] : 0.1000\n",
      "\u001b[32mLearned Step : 2075725\n",
      "\u001b[34mAVG   Return : 3.3000\n",
      "saved step 2075725 in ckpt/\n"
     ]
    },
    {
     "name": "stderr",
     "output_type": "stream",
     "text": [
      " 52%|█████▏    | 26000/50000 [11:01:08<8:32:01,  1.28s/it] "
     ]
    },
    {
     "name": "stdout",
     "output_type": "stream",
     "text": [
      "\u001b[31m[EPISODE 26000 / STEP 8330017] - EPSILON-GREEDY[final] : 0.1000\n",
      "\u001b[32mLearned Step : 2079725\n",
      "\u001b[34mAVG   Return : 2.4200\n",
      "saved step 2079725 in ckpt/\n"
     ]
    },
    {
     "name": "stderr",
     "output_type": "stream",
     "text": [
      " 52%|█████▏    | 26050/50000 [11:02:29<11:11:32,  1.68s/it]"
     ]
    },
    {
     "name": "stdout",
     "output_type": "stream",
     "text": [
      "\u001b[31m[EPISODE 26050 / STEP 8346756] - EPSILON-GREEDY[final] : 0.1000\n",
      "\u001b[32mLearned Step : 2083927\n",
      "\u001b[34mAVG   Return : 2.5800\n",
      "saved step 2083927 in ckpt/\n"
     ]
    },
    {
     "name": "stderr",
     "output_type": "stream",
     "text": [
      " 52%|█████▏    | 26100/50000 [11:03:46<10:18:26,  1.55s/it]"
     ]
    },
    {
     "name": "stdout",
     "output_type": "stream",
     "text": [
      "\u001b[31m[EPISODE 26100 / STEP 8362873] - EPSILON-GREEDY[final] : 0.1000\n",
      "\u001b[32mLearned Step : 2087976\n",
      "\u001b[34mAVG   Return : 2.5200\n",
      "saved step 2087976 in ckpt/\n"
     ]
    },
    {
     "name": "stderr",
     "output_type": "stream",
     "text": [
      " 52%|█████▏    | 26150/50000 [11:05:07<11:07:12,  1.68s/it]"
     ]
    },
    {
     "name": "stdout",
     "output_type": "stream",
     "text": [
      "\u001b[31m[EPISODE 26150 / STEP 8379485] - EPSILON-GREEDY[final] : 0.1000\n",
      "\u001b[32mLearned Step : 2092149\n",
      "\u001b[34mAVG   Return : 2.6200\n",
      "saved step 2092149 in ckpt/\n"
     ]
    },
    {
     "name": "stderr",
     "output_type": "stream",
     "text": [
      " 52%|█████▏    | 26200/50000 [11:06:24<8:35:38,  1.30s/it] "
     ]
    },
    {
     "name": "stdout",
     "output_type": "stream",
     "text": [
      "\u001b[31m[EPISODE 26200 / STEP 8395353] - EPSILON-GREEDY[final] : 0.1000\n",
      "\u001b[32mLearned Step : 2096135\n",
      "\u001b[34mAVG   Return : 2.5000\n",
      "saved step 2096135 in ckpt/\n"
     ]
    },
    {
     "name": "stderr",
     "output_type": "stream",
     "text": [
      " 52%|█████▎    | 26250/50000 [11:07:57<13:39:17,  2.07s/it]"
     ]
    },
    {
     "name": "stdout",
     "output_type": "stream",
     "text": [
      "\u001b[31m[EPISODE 26250 / STEP 8414498] - EPSILON-GREEDY[final] : 0.1000\n",
      "\u001b[32mLearned Step : 2100941\n",
      "\u001b[34mAVG   Return : 3.6000\n",
      "saved step 2100941 in ckpt/\n"
     ]
    },
    {
     "name": "stderr",
     "output_type": "stream",
     "text": [
      " 53%|█████▎    | 26300/50000 [11:09:22<8:14:31,  1.25s/it] "
     ]
    },
    {
     "name": "stdout",
     "output_type": "stream",
     "text": [
      "\u001b[31m[EPISODE 26300 / STEP 8432118] - EPSILON-GREEDY[final] : 0.1000\n",
      "\u001b[32mLearned Step : 2105364\n",
      "\u001b[34mAVG   Return : 3.3800\n",
      "saved step 2105364 in ckpt/\n"
     ]
    },
    {
     "name": "stderr",
     "output_type": "stream",
     "text": [
      " 53%|█████▎    | 26350/50000 [11:10:48<10:47:38,  1.64s/it]"
     ]
    },
    {
     "name": "stdout",
     "output_type": "stream",
     "text": [
      "\u001b[31m[EPISODE 26350 / STEP 8450052] - EPSILON-GREEDY[final] : 0.1000\n",
      "\u001b[32mLearned Step : 2109867\n",
      "\u001b[34mAVG   Return : 3.3200\n",
      "saved step 2109867 in ckpt/\n"
     ]
    },
    {
     "name": "stderr",
     "output_type": "stream",
     "text": [
      " 53%|█████▎    | 26400/50000 [11:12:06<10:47:25,  1.65s/it]"
     ]
    },
    {
     "name": "stdout",
     "output_type": "stream",
     "text": [
      "\u001b[31m[EPISODE 26400 / STEP 8466154] - EPSILON-GREEDY[final] : 0.1000\n",
      "\u001b[32mLearned Step : 2113909\n",
      "\u001b[34mAVG   Return : 2.7200\n",
      "saved step 2113909 in ckpt/\n"
     ]
    },
    {
     "name": "stderr",
     "output_type": "stream",
     "text": [
      " 53%|█████▎    | 26450/50000 [11:13:23<11:52:24,  1.82s/it]"
     ]
    },
    {
     "name": "stdout",
     "output_type": "stream",
     "text": [
      "\u001b[31m[EPISODE 26450 / STEP 8482104] - EPSILON-GREEDY[final] : 0.1000\n",
      "\u001b[32mLearned Step : 2117918\n",
      "\u001b[34mAVG   Return : 2.7200\n",
      "saved step 2117918 in ckpt/\n"
     ]
    },
    {
     "name": "stderr",
     "output_type": "stream",
     "text": [
      " 53%|█████▎    | 26500/50000 [11:14:37<10:52:31,  1.67s/it]"
     ]
    },
    {
     "name": "stdout",
     "output_type": "stream",
     "text": [
      "\u001b[31m[EPISODE 26500 / STEP 8497517] - EPSILON-GREEDY[final] : 0.1000\n",
      "\u001b[32mLearned Step : 2121787\n",
      "\u001b[34mAVG   Return : 2.5200\n",
      "saved step 2121787 in ckpt/\n"
     ]
    },
    {
     "name": "stderr",
     "output_type": "stream",
     "text": [
      " 53%|█████▎    | 26550/50000 [11:15:54<10:38:48,  1.63s/it]"
     ]
    },
    {
     "name": "stdout",
     "output_type": "stream",
     "text": [
      "\u001b[31m[EPISODE 26550 / STEP 8513187] - EPSILON-GREEDY[final] : 0.1000\n",
      "\u001b[32mLearned Step : 2125721\n",
      "\u001b[34mAVG   Return : 2.3600\n",
      "saved step 2125721 in ckpt/\n"
     ]
    },
    {
     "name": "stderr",
     "output_type": "stream",
     "text": [
      " 53%|█████▎    | 26600/50000 [11:17:07<7:36:48,  1.17s/it] "
     ]
    },
    {
     "name": "stdout",
     "output_type": "stream",
     "text": [
      "\u001b[31m[EPISODE 26600 / STEP 8528190] - EPSILON-GREEDY[final] : 0.1000\n",
      "\u001b[32mLearned Step : 2129490\n",
      "\u001b[34mAVG   Return : 2.3400\n",
      "saved step 2129490 in ckpt/\n"
     ]
    },
    {
     "name": "stderr",
     "output_type": "stream",
     "text": [
      " 53%|█████▎    | 26650/50000 [11:18:13<8:45:49,  1.35s/it] "
     ]
    },
    {
     "name": "stdout",
     "output_type": "stream",
     "text": [
      "\u001b[31m[EPISODE 26650 / STEP 8541870] - EPSILON-GREEDY[final] : 0.1000\n",
      "\u001b[32mLearned Step : 2132929\n",
      "\u001b[34mAVG   Return : 1.6800\n",
      "saved step 2132929 in ckpt/\n"
     ]
    },
    {
     "name": "stderr",
     "output_type": "stream",
     "text": [
      " 53%|█████▎    | 26700/50000 [11:19:23<11:45:29,  1.82s/it]"
     ]
    },
    {
     "name": "stdout",
     "output_type": "stream",
     "text": [
      "\u001b[31m[EPISODE 26700 / STEP 8556337] - EPSILON-GREEDY[final] : 0.1000\n",
      "\u001b[32mLearned Step : 2136563\n",
      "\u001b[34mAVG   Return : 2.1600\n",
      "saved step 2136563 in ckpt/\n"
     ]
    },
    {
     "name": "stderr",
     "output_type": "stream",
     "text": [
      " 54%|█████▎    | 26750/50000 [11:20:34<8:23:51,  1.30s/it] "
     ]
    },
    {
     "name": "stdout",
     "output_type": "stream",
     "text": [
      "\u001b[31m[EPISODE 26750 / STEP 8571178] - EPSILON-GREEDY[final] : 0.1000\n",
      "\u001b[32mLearned Step : 2140290\n",
      "\u001b[34mAVG   Return : 1.8600\n",
      "saved step 2140290 in ckpt/\n"
     ]
    },
    {
     "name": "stderr",
     "output_type": "stream",
     "text": [
      " 54%|█████▎    | 26800/50000 [11:21:39<5:46:35,  1.12it/s] "
     ]
    },
    {
     "name": "stdout",
     "output_type": "stream",
     "text": [
      "\u001b[31m[EPISODE 26800 / STEP 8584716] - EPSILON-GREEDY[final] : 0.1000\n",
      "\u001b[32mLearned Step : 2143692\n",
      "\u001b[34mAVG   Return : 1.8800\n",
      "saved step 2143692 in ckpt/\n"
     ]
    },
    {
     "name": "stderr",
     "output_type": "stream",
     "text": [
      " 54%|█████▎    | 26850/50000 [11:22:49<9:01:12,  1.40s/it] "
     ]
    },
    {
     "name": "stdout",
     "output_type": "stream",
     "text": [
      "\u001b[31m[EPISODE 26850 / STEP 8599247] - EPSILON-GREEDY[final] : 0.1000\n",
      "\u001b[32mLearned Step : 2147345\n",
      "\u001b[34mAVG   Return : 2.1600\n",
      "saved step 2147345 in ckpt/\n"
     ]
    },
    {
     "name": "stderr",
     "output_type": "stream",
     "text": [
      " 54%|█████▍    | 26900/50000 [11:24:15<13:50:58,  2.16s/it]"
     ]
    },
    {
     "name": "stdout",
     "output_type": "stream",
     "text": [
      "\u001b[31m[EPISODE 26900 / STEP 8616946] - EPSILON-GREEDY[final] : 0.1000\n",
      "\u001b[32mLearned Step : 2151787\n",
      "\u001b[34mAVG   Return : 3.3800\n",
      "saved step 2151787 in ckpt/\n"
     ]
    },
    {
     "name": "stderr",
     "output_type": "stream",
     "text": [
      " 54%|█████▍    | 26950/50000 [11:25:31<11:30:19,  1.80s/it]"
     ]
    },
    {
     "name": "stdout",
     "output_type": "stream",
     "text": [
      "\u001b[31m[EPISODE 26950 / STEP 8632584] - EPSILON-GREEDY[final] : 0.1000\n",
      "\u001b[32mLearned Step : 2155716\n",
      "\u001b[34mAVG   Return : 2.4600\n",
      "saved step 2155716 in ckpt/\n"
     ]
    },
    {
     "name": "stderr",
     "output_type": "stream",
     "text": [
      " 54%|█████▍    | 27000/50000 [11:26:48<12:56:34,  2.03s/it]"
     ]
    },
    {
     "name": "stdout",
     "output_type": "stream",
     "text": [
      "\u001b[31m[EPISODE 27000 / STEP 8648695] - EPSILON-GREEDY[final] : 0.1000\n",
      "\u001b[32mLearned Step : 2159765\n",
      "\u001b[34mAVG   Return : 2.6200\n",
      "saved step 2159765 in ckpt/\n"
     ]
    },
    {
     "name": "stderr",
     "output_type": "stream",
     "text": [
      " 54%|█████▍    | 27050/50000 [11:28:03<11:15:24,  1.77s/it]"
     ]
    },
    {
     "name": "stdout",
     "output_type": "stream",
     "text": [
      "\u001b[31m[EPISODE 27050 / STEP 8664332] - EPSILON-GREEDY[final] : 0.1000\n",
      "\u001b[32mLearned Step : 2163695\n",
      "\u001b[34mAVG   Return : 2.4800\n",
      "saved step 2163695 in ckpt/\n"
     ]
    },
    {
     "name": "stderr",
     "output_type": "stream",
     "text": [
      " 54%|█████▍    | 27100/50000 [11:29:22<10:40:42,  1.68s/it]"
     ]
    },
    {
     "name": "stdout",
     "output_type": "stream",
     "text": [
      "\u001b[31m[EPISODE 27100 / STEP 8680571] - EPSILON-GREEDY[final] : 0.1000\n",
      "\u001b[32mLearned Step : 2167772\n",
      "\u001b[34mAVG   Return : 2.9800\n",
      "saved step 2167772 in ckpt/\n"
     ]
    },
    {
     "name": "stderr",
     "output_type": "stream",
     "text": [
      " 54%|█████▍    | 27150/50000 [11:30:35<10:18:59,  1.63s/it]"
     ]
    },
    {
     "name": "stdout",
     "output_type": "stream",
     "text": [
      "\u001b[31m[EPISODE 27150 / STEP 8695637] - EPSILON-GREEDY[final] : 0.1000\n",
      "\u001b[32mLearned Step : 2171556\n",
      "\u001b[34mAVG   Return : 2.3000\n",
      "saved step 2171556 in ckpt/\n"
     ]
    },
    {
     "name": "stderr",
     "output_type": "stream",
     "text": [
      " 54%|█████▍    | 27200/50000 [11:32:10<13:28:21,  2.13s/it]"
     ]
    },
    {
     "name": "stdout",
     "output_type": "stream",
     "text": [
      "\u001b[31m[EPISODE 27200 / STEP 8715216] - EPSILON-GREEDY[final] : 0.1000\n",
      "\u001b[32mLearned Step : 2176472\n",
      "\u001b[34mAVG   Return : 3.6800\n",
      "saved step 2176472 in ckpt/\n"
     ]
    },
    {
     "name": "stderr",
     "output_type": "stream",
     "text": [
      " 55%|█████▍    | 27250/50000 [11:33:39<12:08:17,  1.92s/it]"
     ]
    },
    {
     "name": "stdout",
     "output_type": "stream",
     "text": [
      "\u001b[31m[EPISODE 27250 / STEP 8733743] - EPSILON-GREEDY[final] : 0.1000\n",
      "\u001b[32mLearned Step : 2181124\n",
      "\u001b[34mAVG   Return : 3.4600\n",
      "saved step 2181124 in ckpt/\n"
     ]
    },
    {
     "name": "stderr",
     "output_type": "stream",
     "text": [
      " 55%|█████▍    | 27300/50000 [11:35:09<10:51:25,  1.72s/it]"
     ]
    },
    {
     "name": "stdout",
     "output_type": "stream",
     "text": [
      "\u001b[31m[EPISODE 27300 / STEP 8752658] - EPSILON-GREEDY[final] : 0.1000\n",
      "\u001b[32mLearned Step : 2185870\n",
      "\u001b[34mAVG   Return : 3.6400\n",
      "saved step 2185870 in ckpt/\n"
     ]
    },
    {
     "name": "stderr",
     "output_type": "stream",
     "text": [
      " 55%|█████▍    | 27350/50000 [11:36:42<12:22:30,  1.97s/it]"
     ]
    },
    {
     "name": "stdout",
     "output_type": "stream",
     "text": [
      "\u001b[31m[EPISODE 27350 / STEP 8771940] - EPSILON-GREEDY[final] : 0.1000\n",
      "\u001b[32mLearned Step : 2190709\n",
      "\u001b[34mAVG   Return : 3.9000\n",
      "saved step 2190709 in ckpt/\n"
     ]
    },
    {
     "name": "stderr",
     "output_type": "stream",
     "text": [
      " 55%|█████▍    | 27400/50000 [11:38:12<13:57:54,  2.22s/it]"
     ]
    },
    {
     "name": "stdout",
     "output_type": "stream",
     "text": [
      "\u001b[31m[EPISODE 27400 / STEP 8790398] - EPSILON-GREEDY[final] : 0.1000\n",
      "\u001b[32mLearned Step : 2195341\n",
      "\u001b[34mAVG   Return : 3.2800\n",
      "saved step 2195341 in ckpt/\n"
     ]
    },
    {
     "name": "stderr",
     "output_type": "stream",
     "text": [
      " 55%|█████▍    | 27450/50000 [11:39:41<10:40:16,  1.70s/it]"
     ]
    },
    {
     "name": "stdout",
     "output_type": "stream",
     "text": [
      "\u001b[31m[EPISODE 27450 / STEP 8808989] - EPSILON-GREEDY[final] : 0.1000\n",
      "\u001b[32mLearned Step : 2200006\n",
      "\u001b[34mAVG   Return : 3.7400\n",
      "saved step 2200006 in ckpt/\n"
     ]
    },
    {
     "name": "stderr",
     "output_type": "stream",
     "text": [
      " 55%|█████▌    | 27500/50000 [11:41:20<13:31:36,  2.16s/it]"
     ]
    },
    {
     "name": "stdout",
     "output_type": "stream",
     "text": [
      "\u001b[31m[EPISODE 27500 / STEP 8829364] - EPSILON-GREEDY[final] : 0.1000\n",
      "\u001b[32mLearned Step : 2205121\n",
      "\u001b[34mAVG   Return : 4.0000\n",
      "saved step 2205121 in ckpt/\n"
     ]
    },
    {
     "name": "stderr",
     "output_type": "stream",
     "text": [
      " 55%|█████▌    | 27550/50000 [11:42:55<9:18:29,  1.49s/it] "
     ]
    },
    {
     "name": "stdout",
     "output_type": "stream",
     "text": [
      "\u001b[31m[EPISODE 27550 / STEP 8849073] - EPSILON-GREEDY[final] : 0.1000\n",
      "\u001b[32mLearned Step : 2210068\n",
      "\u001b[34mAVG   Return : 3.7600\n",
      "saved step 2210068 in ckpt/\n"
     ]
    },
    {
     "name": "stderr",
     "output_type": "stream",
     "text": [
      " 55%|█████▌    | 27600/50000 [11:44:07<12:13:13,  1.96s/it]"
     ]
    },
    {
     "name": "stdout",
     "output_type": "stream",
     "text": [
      "\u001b[31m[EPISODE 27600 / STEP 8863946] - EPSILON-GREEDY[final] : 0.1000\n",
      "\u001b[32mLearned Step : 2213803\n",
      "\u001b[34mAVG   Return : 2.3800\n",
      "saved step 2213803 in ckpt/\n"
     ]
    },
    {
     "name": "stderr",
     "output_type": "stream",
     "text": [
      " 55%|█████▌    | 27650/50000 [11:45:22<10:09:07,  1.64s/it]"
     ]
    },
    {
     "name": "stdout",
     "output_type": "stream",
     "text": [
      "\u001b[31m[EPISODE 27650 / STEP 8879450] - EPSILON-GREEDY[final] : 0.1000\n",
      "\u001b[32mLearned Step : 2217700\n",
      "\u001b[34mAVG   Return : 2.4400\n",
      "saved step 2217700 in ckpt/\n"
     ]
    },
    {
     "name": "stderr",
     "output_type": "stream",
     "text": [
      " 55%|█████▌    | 27700/50000 [11:46:49<11:34:51,  1.87s/it]"
     ]
    },
    {
     "name": "stdout",
     "output_type": "stream",
     "text": [
      "\u001b[31m[EPISODE 27700 / STEP 8897517] - EPSILON-GREEDY[final] : 0.1000\n",
      "\u001b[32mLearned Step : 2222236\n",
      "\u001b[34mAVG   Return : 2.9400\n",
      "saved step 2222236 in ckpt/\n"
     ]
    },
    {
     "name": "stderr",
     "output_type": "stream",
     "text": [
      " 56%|█████▌    | 27750/50000 [11:48:13<8:21:00,  1.35s/it] "
     ]
    },
    {
     "name": "stdout",
     "output_type": "stream",
     "text": [
      "\u001b[31m[EPISODE 27750 / STEP 8914974] - EPSILON-GREEDY[final] : 0.1000\n",
      "\u001b[32mLearned Step : 2226617\n",
      "\u001b[34mAVG   Return : 2.4400\n",
      "saved step 2226617 in ckpt/\n"
     ]
    },
    {
     "name": "stderr",
     "output_type": "stream",
     "text": [
      " 56%|█████▌    | 27800/50000 [11:49:47<11:18:44,  1.83s/it]"
     ]
    },
    {
     "name": "stdout",
     "output_type": "stream",
     "text": [
      "\u001b[31m[EPISODE 27800 / STEP 8934383] - EPSILON-GREEDY[final] : 0.1000\n",
      "\u001b[32mLearned Step : 2231488\n",
      "\u001b[34mAVG   Return : 3.2800\n",
      "saved step 2231488 in ckpt/\n"
     ]
    },
    {
     "name": "stderr",
     "output_type": "stream",
     "text": [
      " 56%|█████▌    | 27850/50000 [11:51:22<11:16:24,  1.83s/it]"
     ]
    },
    {
     "name": "stdout",
     "output_type": "stream",
     "text": [
      "\u001b[31m[EPISODE 27850 / STEP 8954030] - EPSILON-GREEDY[final] : 0.1000\n",
      "\u001b[32mLearned Step : 2236419\n",
      "\u001b[34mAVG   Return : 3.4000\n",
      "saved step 2236419 in ckpt/\n"
     ]
    },
    {
     "name": "stderr",
     "output_type": "stream",
     "text": [
      " 56%|█████▌    | 27900/50000 [11:53:02<11:16:49,  1.84s/it]"
     ]
    },
    {
     "name": "stdout",
     "output_type": "stream",
     "text": [
      "\u001b[31m[EPISODE 27900 / STEP 8974882] - EPSILON-GREEDY[final] : 0.1000\n",
      "\u001b[32mLearned Step : 2241647\n",
      "\u001b[34mAVG   Return : 3.9000\n",
      "saved step 2241647 in ckpt/\n"
     ]
    },
    {
     "name": "stderr",
     "output_type": "stream",
     "text": [
      " 56%|█████▌    | 27950/50000 [11:54:31<11:17:08,  1.84s/it]"
     ]
    },
    {
     "name": "stdout",
     "output_type": "stream",
     "text": [
      "\u001b[31m[EPISODE 27950 / STEP 8993350] - EPSILON-GREEDY[final] : 0.1000\n",
      "\u001b[32mLearned Step : 2246282\n",
      "\u001b[34mAVG   Return : 3.2400\n",
      "saved step 2246282 in ckpt/\n"
     ]
    },
    {
     "name": "stderr",
     "output_type": "stream",
     "text": [
      " 56%|█████▌    | 28000/50000 [11:56:09<11:55:55,  1.95s/it]"
     ]
    },
    {
     "name": "stdout",
     "output_type": "stream",
     "text": [
      "\u001b[31m[EPISODE 28000 / STEP 9013762] - EPSILON-GREEDY[final] : 0.1000\n",
      "\u001b[32mLearned Step : 2251401\n",
      "\u001b[34mAVG   Return : 3.3800\n",
      "saved step 2251401 in ckpt/\n"
     ]
    },
    {
     "name": "stderr",
     "output_type": "stream",
     "text": [
      " 56%|█████▌    | 28050/50000 [11:57:31<7:33:40,  1.24s/it] "
     ]
    },
    {
     "name": "stdout",
     "output_type": "stream",
     "text": [
      "\u001b[31m[EPISODE 28050 / STEP 9030782] - EPSILON-GREEDY[final] : 0.1000\n",
      "\u001b[32mLearned Step : 2255678\n",
      "\u001b[34mAVG   Return : 2.8200\n",
      "saved step 2255678 in ckpt/\n"
     ]
    },
    {
     "name": "stderr",
     "output_type": "stream",
     "text": [
      " 56%|█████▌    | 28100/50000 [11:58:59<7:08:58,  1.18s/it] "
     ]
    },
    {
     "name": "stdout",
     "output_type": "stream",
     "text": [
      "\u001b[31m[EPISODE 28100 / STEP 9049122] - EPSILON-GREEDY[final] : 0.1000\n",
      "\u001b[32mLearned Step : 2260278\n",
      "\u001b[34mAVG   Return : 3.0600\n",
      "saved step 2260278 in ckpt/\n"
     ]
    },
    {
     "name": "stderr",
     "output_type": "stream",
     "text": [
      " 56%|█████▋    | 28150/50000 [12:00:12<8:02:59,  1.33s/it] "
     ]
    },
    {
     "name": "stdout",
     "output_type": "stream",
     "text": [
      "\u001b[31m[EPISODE 28150 / STEP 9064216] - EPSILON-GREEDY[final] : 0.1000\n",
      "\u001b[32mLearned Step : 2264070\n",
      "\u001b[34mAVG   Return : 2.1000\n",
      "saved step 2264070 in ckpt/\n"
     ]
    },
    {
     "name": "stderr",
     "output_type": "stream",
     "text": [
      " 56%|█████▋    | 28200/50000 [12:01:30<8:37:01,  1.42s/it] "
     ]
    },
    {
     "name": "stdout",
     "output_type": "stream",
     "text": [
      "\u001b[31m[EPISODE 28200 / STEP 9080317] - EPSILON-GREEDY[final] : 0.1000\n",
      "\u001b[32mLearned Step : 2268117\n",
      "\u001b[34mAVG   Return : 1.9800\n",
      "saved step 2268117 in ckpt/\n"
     ]
    },
    {
     "name": "stderr",
     "output_type": "stream",
     "text": [
      " 56%|█████▋    | 28250/50000 [12:02:46<7:45:13,  1.28s/it] "
     ]
    },
    {
     "name": "stdout",
     "output_type": "stream",
     "text": [
      "\u001b[31m[EPISODE 28250 / STEP 9096041] - EPSILON-GREEDY[final] : 0.1000\n",
      "\u001b[32mLearned Step : 2272070\n",
      "\u001b[34mAVG   Return : 1.9800\n",
      "saved step 2272070 in ckpt/\n"
     ]
    },
    {
     "name": "stderr",
     "output_type": "stream",
     "text": [
      " 57%|█████▋    | 28300/50000 [12:04:00<11:53:22,  1.97s/it]"
     ]
    },
    {
     "name": "stdout",
     "output_type": "stream",
     "text": [
      "\u001b[31m[EPISODE 28300 / STEP 9111440] - EPSILON-GREEDY[final] : 0.1000\n",
      "\u001b[32mLearned Step : 2275943\n",
      "\u001b[34mAVG   Return : 2.1400\n",
      "saved step 2275943 in ckpt/\n"
     ]
    },
    {
     "name": "stderr",
     "output_type": "stream",
     "text": [
      " 57%|█████▋    | 28350/50000 [12:05:17<8:51:48,  1.47s/it] "
     ]
    },
    {
     "name": "stdout",
     "output_type": "stream",
     "text": [
      "\u001b[31m[EPISODE 28350 / STEP 9127378] - EPSILON-GREEDY[final] : 0.1000\n",
      "\u001b[32mLearned Step : 2279948\n",
      "\u001b[34mAVG   Return : 1.9600\n",
      "saved step 2279948 in ckpt/\n"
     ]
    },
    {
     "name": "stderr",
     "output_type": "stream",
     "text": [
      " 57%|█████▋    | 28400/50000 [12:06:34<7:27:00,  1.24s/it] "
     ]
    },
    {
     "name": "stdout",
     "output_type": "stream",
     "text": [
      "\u001b[31m[EPISODE 28400 / STEP 9143492] - EPSILON-GREEDY[final] : 0.1000\n",
      "\u001b[32mLearned Step : 2283997\n",
      "\u001b[34mAVG   Return : 2.3400\n",
      "saved step 2283997 in ckpt/\n"
     ]
    },
    {
     "name": "stderr",
     "output_type": "stream",
     "text": [
      " 57%|█████▋    | 28450/50000 [12:07:56<9:21:23,  1.56s/it] "
     ]
    },
    {
     "name": "stdout",
     "output_type": "stream",
     "text": [
      "\u001b[31m[EPISODE 28450 / STEP 9160750] - EPSILON-GREEDY[final] : 0.1000\n",
      "\u001b[32mLearned Step : 2288331\n",
      "\u001b[34mAVG   Return : 2.8400\n",
      "saved step 2288331 in ckpt/\n"
     ]
    },
    {
     "name": "stderr",
     "output_type": "stream",
     "text": [
      " 57%|█████▋    | 28500/50000 [12:09:24<8:53:32,  1.49s/it] "
     ]
    },
    {
     "name": "stdout",
     "output_type": "stream",
     "text": [
      "\u001b[31m[EPISODE 28500 / STEP 9179062] - EPSILON-GREEDY[final] : 0.1000\n",
      "\u001b[32mLearned Step : 2292927\n",
      "\u001b[34mAVG   Return : 2.8400\n",
      "saved step 2292927 in ckpt/\n"
     ]
    },
    {
     "name": "stderr",
     "output_type": "stream",
     "text": [
      " 57%|█████▋    | 28550/50000 [12:10:42<7:45:02,  1.30s/it] "
     ]
    },
    {
     "name": "stdout",
     "output_type": "stream",
     "text": [
      "\u001b[31m[EPISODE 28550 / STEP 9195243] - EPSILON-GREEDY[final] : 0.1000\n",
      "\u001b[32mLearned Step : 2296989\n",
      "\u001b[34mAVG   Return : 2.2600\n",
      "saved step 2296989 in ckpt/\n"
     ]
    },
    {
     "name": "stderr",
     "output_type": "stream",
     "text": [
      " 57%|█████▋    | 28600/50000 [12:11:58<10:32:01,  1.77s/it]"
     ]
    },
    {
     "name": "stdout",
     "output_type": "stream",
     "text": [
      "\u001b[31m[EPISODE 28600 / STEP 9210994] - EPSILON-GREEDY[final] : 0.1000\n",
      "\u001b[32mLearned Step : 2300946\n",
      "\u001b[34mAVG   Return : 2.2400\n",
      "saved step 2300946 in ckpt/\n"
     ]
    },
    {
     "name": "stderr",
     "output_type": "stream",
     "text": [
      " 57%|█████▋    | 28650/50000 [12:13:10<7:41:14,  1.30s/it] "
     ]
    },
    {
     "name": "stdout",
     "output_type": "stream",
     "text": [
      "\u001b[31m[EPISODE 28650 / STEP 9225806] - EPSILON-GREEDY[final] : 0.1000\n",
      "\u001b[32mLearned Step : 2304668\n",
      "\u001b[34mAVG   Return : 2.1800\n",
      "saved step 2304668 in ckpt/\n"
     ]
    },
    {
     "name": "stderr",
     "output_type": "stream",
     "text": [
      " 57%|█████▋    | 28700/50000 [12:14:35<9:36:00,  1.62s/it] "
     ]
    },
    {
     "name": "stdout",
     "output_type": "stream",
     "text": [
      "\u001b[31m[EPISODE 28700 / STEP 9243536] - EPSILON-GREEDY[final] : 0.1000\n",
      "\u001b[32mLearned Step : 2309117\n",
      "\u001b[34mAVG   Return : 2.9200\n",
      "saved step 2309117 in ckpt/\n"
     ]
    },
    {
     "name": "stderr",
     "output_type": "stream",
     "text": [
      " 57%|█████▊    | 28750/50000 [12:16:07<12:10:49,  2.06s/it]"
     ]
    },
    {
     "name": "stdout",
     "output_type": "stream",
     "text": [
      "\u001b[31m[EPISODE 28750 / STEP 9262313] - EPSILON-GREEDY[final] : 0.1000\n",
      "\u001b[32mLearned Step : 2313831\n",
      "\u001b[34mAVG   Return : 3.0600\n",
      "saved step 2313831 in ckpt/\n"
     ]
    },
    {
     "name": "stderr",
     "output_type": "stream",
     "text": [
      " 58%|█████▊    | 28800/50000 [12:17:24<8:18:11,  1.41s/it] "
     ]
    },
    {
     "name": "stdout",
     "output_type": "stream",
     "text": [
      "\u001b[31m[EPISODE 28800 / STEP 9278313] - EPSILON-GREEDY[final] : 0.1000\n",
      "\u001b[32mLearned Step : 2317848\n",
      "\u001b[34mAVG   Return : 2.3800\n",
      "saved step 2317848 in ckpt/\n"
     ]
    },
    {
     "name": "stderr",
     "output_type": "stream",
     "text": [
      " 58%|█████▊    | 28850/50000 [12:18:49<10:45:44,  1.83s/it]"
     ]
    },
    {
     "name": "stdout",
     "output_type": "stream",
     "text": [
      "\u001b[31m[EPISODE 28850 / STEP 9295938] - EPSILON-GREEDY[final] : 0.1000\n",
      "\u001b[32mLearned Step : 2322272\n",
      "\u001b[34mAVG   Return : 3.3000\n",
      "saved step 2322272 in ckpt/\n"
     ]
    },
    {
     "name": "stderr",
     "output_type": "stream",
     "text": [
      " 58%|█████▊    | 28900/50000 [12:20:16<10:02:17,  1.71s/it]"
     ]
    },
    {
     "name": "stdout",
     "output_type": "stream",
     "text": [
      "\u001b[31m[EPISODE 28900 / STEP 9314032] - EPSILON-GREEDY[final] : 0.1000\n",
      "\u001b[32mLearned Step : 2326815\n",
      "\u001b[34mAVG   Return : 3.3800\n",
      "saved step 2326815 in ckpt/\n"
     ]
    },
    {
     "name": "stderr",
     "output_type": "stream",
     "text": [
      " 58%|█████▊    | 28950/50000 [12:21:41<10:13:50,  1.75s/it]"
     ]
    },
    {
     "name": "stdout",
     "output_type": "stream",
     "text": [
      "\u001b[31m[EPISODE 28950 / STEP 9331642] - EPSILON-GREEDY[final] : 0.1000\n",
      "\u001b[32mLearned Step : 2331236\n",
      "\u001b[34mAVG   Return : 3.3000\n",
      "saved step 2331236 in ckpt/\n"
     ]
    },
    {
     "name": "stderr",
     "output_type": "stream",
     "text": [
      " 58%|█████▊    | 29000/50000 [12:22:52<8:28:24,  1.45s/it] "
     ]
    },
    {
     "name": "stdout",
     "output_type": "stream",
     "text": [
      "\u001b[31m[EPISODE 29000 / STEP 9346112] - EPSILON-GREEDY[final] : 0.1000\n",
      "\u001b[32mLearned Step : 2334874\n",
      "\u001b[34mAVG   Return : 2.1800\n",
      "saved step 2334874 in ckpt/\n"
     ]
    },
    {
     "name": "stderr",
     "output_type": "stream",
     "text": [
      " 58%|█████▊    | 29050/50000 [12:24:13<12:10:26,  2.09s/it]"
     ]
    },
    {
     "name": "stdout",
     "output_type": "stream",
     "text": [
      "\u001b[31m[EPISODE 29050 / STEP 9362917] - EPSILON-GREEDY[final] : 0.1000\n",
      "\u001b[32mLearned Step : 2339094\n",
      "\u001b[34mAVG   Return : 2.7800\n",
      "saved step 2339094 in ckpt/\n"
     ]
    },
    {
     "name": "stderr",
     "output_type": "stream",
     "text": [
      " 58%|█████▊    | 29100/50000 [12:25:25<6:30:51,  1.12s/it] "
     ]
    },
    {
     "name": "stdout",
     "output_type": "stream",
     "text": [
      "\u001b[31m[EPISODE 29100 / STEP 9377819] - EPSILON-GREEDY[final] : 0.1000\n",
      "\u001b[32mLearned Step : 2342837\n",
      "\u001b[34mAVG   Return : 2.1000\n",
      "saved step 2342837 in ckpt/\n"
     ]
    },
    {
     "name": "stderr",
     "output_type": "stream",
     "text": [
      " 58%|█████▊    | 29150/50000 [12:26:35<8:52:44,  1.53s/it] "
     ]
    },
    {
     "name": "stdout",
     "output_type": "stream",
     "text": [
      "\u001b[31m[EPISODE 29150 / STEP 9392250] - EPSILON-GREEDY[final] : 0.1000\n",
      "\u001b[32mLearned Step : 2346463\n",
      "\u001b[34mAVG   Return : 1.8000\n",
      "saved step 2346463 in ckpt/\n"
     ]
    },
    {
     "name": "stderr",
     "output_type": "stream",
     "text": [
      " 58%|█████▊    | 29200/50000 [12:27:44<5:41:01,  1.02it/s] "
     ]
    },
    {
     "name": "stdout",
     "output_type": "stream",
     "text": [
      "\u001b[31m[EPISODE 29200 / STEP 9406594] - EPSILON-GREEDY[final] : 0.1000\n",
      "\u001b[32mLearned Step : 2350068\n",
      "\u001b[34mAVG   Return : 2.1600\n",
      "saved step 2350068 in ckpt/\n"
     ]
    },
    {
     "name": "stderr",
     "output_type": "stream",
     "text": [
      " 58%|█████▊    | 29250/50000 [12:28:53<7:19:35,  1.27s/it] "
     ]
    },
    {
     "name": "stdout",
     "output_type": "stream",
     "text": [
      "\u001b[31m[EPISODE 29250 / STEP 9420884] - EPSILON-GREEDY[final] : 0.1000\n",
      "\u001b[32mLearned Step : 2353660\n",
      "\u001b[34mAVG   Return : 1.9000\n",
      "saved step 2353660 in ckpt/\n"
     ]
    },
    {
     "name": "stderr",
     "output_type": "stream",
     "text": [
      " 59%|█████▊    | 29300/50000 [12:30:07<6:56:46,  1.21s/it] "
     ]
    },
    {
     "name": "stdout",
     "output_type": "stream",
     "text": [
      "\u001b[31m[EPISODE 29300 / STEP 9435982] - EPSILON-GREEDY[final] : 0.1000\n",
      "\u001b[32mLearned Step : 2357454\n",
      "\u001b[34mAVG   Return : 2.2200\n",
      "saved step 2357454 in ckpt/\n"
     ]
    },
    {
     "name": "stderr",
     "output_type": "stream",
     "text": [
      " 59%|█████▊    | 29350/50000 [12:31:24<6:34:28,  1.15s/it] "
     ]
    },
    {
     "name": "stdout",
     "output_type": "stream",
     "text": [
      "\u001b[31m[EPISODE 29350 / STEP 9451839] - EPSILON-GREEDY[final] : 0.1000\n",
      "\u001b[32mLearned Step : 2361436\n",
      "\u001b[34mAVG   Return : 2.3800\n",
      "saved step 2361436 in ckpt/\n"
     ]
    },
    {
     "name": "stderr",
     "output_type": "stream",
     "text": [
      " 59%|█████▉    | 29400/50000 [12:32:47<6:38:44,  1.16s/it] "
     ]
    },
    {
     "name": "stdout",
     "output_type": "stream",
     "text": [
      "\u001b[31m[EPISODE 29400 / STEP 9469185] - EPSILON-GREEDY[final] : 0.1000\n",
      "\u001b[32mLearned Step : 2365791\n",
      "\u001b[34mAVG   Return : 2.4400\n",
      "saved step 2365791 in ckpt/\n"
     ]
    },
    {
     "name": "stderr",
     "output_type": "stream",
     "text": [
      " 59%|█████▉    | 29450/50000 [12:33:58<7:53:02,  1.38s/it] "
     ]
    },
    {
     "name": "stdout",
     "output_type": "stream",
     "text": [
      "\u001b[31m[EPISODE 29450 / STEP 9483702] - EPSILON-GREEDY[final] : 0.1000\n",
      "\u001b[32mLearned Step : 2369438\n",
      "\u001b[34mAVG   Return : 2.1000\n",
      "saved step 2369438 in ckpt/\n"
     ]
    },
    {
     "name": "stderr",
     "output_type": "stream",
     "text": [
      " 59%|█████▉    | 29500/50000 [12:35:09<7:13:38,  1.27s/it] "
     ]
    },
    {
     "name": "stdout",
     "output_type": "stream",
     "text": [
      "\u001b[31m[EPISODE 29500 / STEP 9498492] - EPSILON-GREEDY[final] : 0.1000\n",
      "\u001b[32mLearned Step : 2373151\n",
      "\u001b[34mAVG   Return : 2.1000\n",
      "saved step 2373151 in ckpt/\n"
     ]
    },
    {
     "name": "stderr",
     "output_type": "stream",
     "text": [
      " 59%|█████▉    | 29550/50000 [12:36:22<7:09:13,  1.26s/it] "
     ]
    },
    {
     "name": "stdout",
     "output_type": "stream",
     "text": [
      "\u001b[31m[EPISODE 29550 / STEP 9513277] - EPSILON-GREEDY[final] : 0.1000\n",
      "\u001b[32mLearned Step : 2376868\n",
      "\u001b[34mAVG   Return : 2.3200\n",
      "saved step 2376868 in ckpt/\n"
     ]
    },
    {
     "name": "stderr",
     "output_type": "stream",
     "text": [
      " 59%|█████▉    | 29600/50000 [12:37:42<11:10:44,  1.97s/it]"
     ]
    },
    {
     "name": "stdout",
     "output_type": "stream",
     "text": [
      "\u001b[31m[EPISODE 29600 / STEP 9529911] - EPSILON-GREEDY[final] : 0.1000\n",
      "\u001b[32mLearned Step : 2381048\n",
      "\u001b[34mAVG   Return : 3.0600\n",
      "saved step 2381048 in ckpt/\n"
     ]
    },
    {
     "name": "stderr",
     "output_type": "stream",
     "text": [
      " 59%|█████▉    | 29650/50000 [12:38:54<9:09:28,  1.62s/it] "
     ]
    },
    {
     "name": "stdout",
     "output_type": "stream",
     "text": [
      "\u001b[31m[EPISODE 29650 / STEP 9544871] - EPSILON-GREEDY[final] : 0.1000\n",
      "\u001b[32mLearned Step : 2384806\n",
      "\u001b[34mAVG   Return : 2.2200\n",
      "saved step 2384806 in ckpt/\n"
     ]
    },
    {
     "name": "stderr",
     "output_type": "stream",
     "text": [
      " 59%|█████▉    | 29700/50000 [12:40:07<7:15:11,  1.29s/it] "
     ]
    },
    {
     "name": "stdout",
     "output_type": "stream",
     "text": [
      "\u001b[31m[EPISODE 29700 / STEP 9560028] - EPSILON-GREEDY[final] : 0.1000\n",
      "\u001b[32mLearned Step : 2388615\n",
      "\u001b[34mAVG   Return : 2.4200\n",
      "saved step 2388615 in ckpt/\n"
     ]
    },
    {
     "name": "stderr",
     "output_type": "stream",
     "text": [
      " 60%|█████▉    | 29750/50000 [12:41:18<7:26:44,  1.32s/it] "
     ]
    },
    {
     "name": "stdout",
     "output_type": "stream",
     "text": [
      "\u001b[31m[EPISODE 29750 / STEP 9574493] - EPSILON-GREEDY[final] : 0.1000\n",
      "\u001b[32mLearned Step : 2392254\n",
      "\u001b[34mAVG   Return : 2.2200\n",
      "saved step 2392254 in ckpt/\n"
     ]
    },
    {
     "name": "stderr",
     "output_type": "stream",
     "text": [
      " 60%|█████▉    | 29800/50000 [12:42:35<6:18:12,  1.12s/it] "
     ]
    },
    {
     "name": "stdout",
     "output_type": "stream",
     "text": [
      "\u001b[31m[EPISODE 29800 / STEP 9590262] - EPSILON-GREEDY[final] : 0.1000\n",
      "\u001b[32mLearned Step : 2396215\n",
      "\u001b[34mAVG   Return : 2.5200\n",
      "saved step 2396215 in ckpt/\n"
     ]
    },
    {
     "name": "stderr",
     "output_type": "stream",
     "text": [
      " 60%|█████▉    | 29850/50000 [12:44:10<8:32:42,  1.53s/it] "
     ]
    },
    {
     "name": "stdout",
     "output_type": "stream",
     "text": [
      "\u001b[31m[EPISODE 29850 / STEP 9609877] - EPSILON-GREEDY[final] : 0.1000\n",
      "\u001b[32mLearned Step : 2401138\n",
      "\u001b[34mAVG   Return : 3.9000\n",
      "saved step 2401138 in ckpt/\n"
     ]
    },
    {
     "name": "stderr",
     "output_type": "stream",
     "text": [
      " 60%|█████▉    | 29900/50000 [12:45:46<10:06:02,  1.81s/it]"
     ]
    },
    {
     "name": "stdout",
     "output_type": "stream",
     "text": [
      "\u001b[31m[EPISODE 29900 / STEP 9629951] - EPSILON-GREEDY[final] : 0.1000\n",
      "\u001b[32mLearned Step : 2406174\n",
      "\u001b[34mAVG   Return : 4.0600\n",
      "saved step 2406174 in ckpt/\n"
     ]
    },
    {
     "name": "stderr",
     "output_type": "stream",
     "text": [
      " 60%|█████▉    | 29950/50000 [12:47:20<12:17:09,  2.21s/it]"
     ]
    },
    {
     "name": "stdout",
     "output_type": "stream",
     "text": [
      "\u001b[31m[EPISODE 29950 / STEP 9649410] - EPSILON-GREEDY[final] : 0.1000\n",
      "\u001b[32mLearned Step : 2411058\n",
      "\u001b[34mAVG   Return : 3.9000\n",
      "saved step 2411058 in ckpt/\n"
     ]
    },
    {
     "name": "stderr",
     "output_type": "stream",
     "text": [
      " 60%|██████    | 30000/50000 [12:48:44<8:22:18,  1.51s/it] "
     ]
    },
    {
     "name": "stdout",
     "output_type": "stream",
     "text": [
      "\u001b[31m[EPISODE 30000 / STEP 9666807] - EPSILON-GREEDY[final] : 0.1000\n",
      "\u001b[32mLearned Step : 2415428\n",
      "\u001b[34mAVG   Return : 3.3000\n",
      "saved step 2415428 in ckpt/\n"
     ]
    },
    {
     "name": "stderr",
     "output_type": "stream",
     "text": [
      " 60%|██████    | 30050/50000 [12:50:11<7:27:46,  1.35s/it] "
     ]
    },
    {
     "name": "stdout",
     "output_type": "stream",
     "text": [
      "\u001b[31m[EPISODE 30050 / STEP 9684648] - EPSILON-GREEDY[final] : 0.1000\n",
      "\u001b[32mLearned Step : 2419907\n",
      "\u001b[34mAVG   Return : 3.2200\n",
      "saved step 2419907 in ckpt/\n"
     ]
    },
    {
     "name": "stderr",
     "output_type": "stream",
     "text": [
      " 60%|██████    | 30100/50000 [12:51:31<8:27:57,  1.53s/it] "
     ]
    },
    {
     "name": "stdout",
     "output_type": "stream",
     "text": [
      "\u001b[31m[EPISODE 30100 / STEP 9701190] - EPSILON-GREEDY[final] : 0.1000\n",
      "\u001b[32mLearned Step : 2424061\n",
      "\u001b[34mAVG   Return : 2.9000\n",
      "saved step 2424061 in ckpt/\n"
     ]
    },
    {
     "name": "stderr",
     "output_type": "stream",
     "text": [
      " 60%|██████    | 30150/50000 [12:52:41<9:37:08,  1.74s/it] "
     ]
    },
    {
     "name": "stdout",
     "output_type": "stream",
     "text": [
      "\u001b[31m[EPISODE 30150 / STEP 9715789] - EPSILON-GREEDY[final] : 0.1000\n",
      "\u001b[32mLearned Step : 2427730\n",
      "\u001b[34mAVG   Return : 2.1400\n",
      "saved step 2427730 in ckpt/\n"
     ]
    },
    {
     "name": "stderr",
     "output_type": "stream",
     "text": [
      " 60%|██████    | 30200/50000 [12:53:55<7:08:54,  1.30s/it] "
     ]
    },
    {
     "name": "stdout",
     "output_type": "stream",
     "text": [
      "\u001b[31m[EPISODE 30200 / STEP 9730995] - EPSILON-GREEDY[final] : 0.1000\n",
      "\u001b[32mLearned Step : 2431550\n",
      "\u001b[34mAVG   Return : 2.3800\n",
      "saved step 2431550 in ckpt/\n"
     ]
    },
    {
     "name": "stderr",
     "output_type": "stream",
     "text": [
      " 60%|██████    | 30250/50000 [12:55:22<7:35:17,  1.38s/it] "
     ]
    },
    {
     "name": "stdout",
     "output_type": "stream",
     "text": [
      "\u001b[31m[EPISODE 30250 / STEP 9749038] - EPSILON-GREEDY[final] : 0.1000\n",
      "\u001b[32mLearned Step : 2436080\n",
      "\u001b[34mAVG   Return : 3.3000\n",
      "saved step 2436080 in ckpt/\n"
     ]
    },
    {
     "name": "stderr",
     "output_type": "stream",
     "text": [
      " 61%|██████    | 30300/50000 [12:56:54<9:28:07,  1.73s/it] "
     ]
    },
    {
     "name": "stdout",
     "output_type": "stream",
     "text": [
      "\u001b[31m[EPISODE 30300 / STEP 9768054] - EPSILON-GREEDY[final] : 0.1000\n",
      "\u001b[32mLearned Step : 2440852\n",
      "\u001b[34mAVG   Return : 3.5000\n",
      "saved step 2440852 in ckpt/\n"
     ]
    },
    {
     "name": "stderr",
     "output_type": "stream",
     "text": [
      " 61%|██████    | 30350/50000 [12:58:28<9:32:49,  1.75s/it] "
     ]
    },
    {
     "name": "stdout",
     "output_type": "stream",
     "text": [
      "\u001b[31m[EPISODE 30350 / STEP 9787592] - EPSILON-GREEDY[final] : 0.1000\n",
      "\u001b[32mLearned Step : 2445753\n",
      "\u001b[34mAVG   Return : 3.9600\n",
      "saved step 2445753 in ckpt/\n"
     ]
    },
    {
     "name": "stderr",
     "output_type": "stream",
     "text": [
      " 61%|██████    | 30400/50000 [13:00:09<10:15:39,  1.88s/it]"
     ]
    },
    {
     "name": "stdout",
     "output_type": "stream",
     "text": [
      "\u001b[31m[EPISODE 30400 / STEP 9808692] - EPSILON-GREEDY[final] : 0.1000\n",
      "\u001b[32mLearned Step : 2451049\n",
      "\u001b[34mAVG   Return : 4.3400\n",
      "saved step 2451049 in ckpt/\n"
     ]
    },
    {
     "name": "stderr",
     "output_type": "stream",
     "text": [
      " 61%|██████    | 30450/50000 [13:01:42<9:14:51,  1.70s/it] "
     ]
    },
    {
     "name": "stdout",
     "output_type": "stream",
     "text": [
      "\u001b[31m[EPISODE 30450 / STEP 9827966] - EPSILON-GREEDY[final] : 0.1000\n",
      "\u001b[32mLearned Step : 2455884\n",
      "\u001b[34mAVG   Return : 4.1200\n",
      "saved step 2455884 in ckpt/\n"
     ]
    },
    {
     "name": "stderr",
     "output_type": "stream",
     "text": [
      " 61%|██████    | 30500/50000 [13:03:14<9:40:26,  1.79s/it] "
     ]
    },
    {
     "name": "stdout",
     "output_type": "stream",
     "text": [
      "\u001b[31m[EPISODE 30500 / STEP 9846790] - EPSILON-GREEDY[final] : 0.1000\n",
      "\u001b[32mLearned Step : 2460616\n",
      "\u001b[34mAVG   Return : 3.6800\n",
      "saved step 2460616 in ckpt/\n"
     ]
    },
    {
     "name": "stderr",
     "output_type": "stream",
     "text": [
      " 61%|██████    | 30550/50000 [13:04:31<9:48:31,  1.82s/it] "
     ]
    },
    {
     "name": "stdout",
     "output_type": "stream",
     "text": [
      "\u001b[31m[EPISODE 30550 / STEP 9862682] - EPSILON-GREEDY[final] : 0.1000\n",
      "\u001b[32mLearned Step : 2464608\n",
      "\u001b[34mAVG   Return : 2.6400\n",
      "saved step 2464608 in ckpt/\n"
     ]
    },
    {
     "name": "stderr",
     "output_type": "stream",
     "text": [
      " 61%|██████    | 30600/50000 [13:05:36<6:14:16,  1.16s/it] "
     ]
    },
    {
     "name": "stdout",
     "output_type": "stream",
     "text": [
      "\u001b[31m[EPISODE 30600 / STEP 9875999] - EPSILON-GREEDY[final] : 0.1000\n",
      "\u001b[32mLearned Step : 2467957\n",
      "\u001b[34mAVG   Return : 1.8600\n",
      "saved step 2467957 in ckpt/\n"
     ]
    },
    {
     "name": "stderr",
     "output_type": "stream",
     "text": [
      " 61%|██████▏   | 30650/50000 [13:06:48<7:26:56,  1.39s/it] "
     ]
    },
    {
     "name": "stdout",
     "output_type": "stream",
     "text": [
      "\u001b[31m[EPISODE 30650 / STEP 9890965] - EPSILON-GREEDY[final] : 0.1000\n",
      "\u001b[32mLearned Step : 2471718\n",
      "\u001b[34mAVG   Return : 2.3600\n",
      "saved step 2471718 in ckpt/\n"
     ]
    },
    {
     "name": "stderr",
     "output_type": "stream",
     "text": [
      " 61%|██████▏   | 30700/50000 [13:08:04<9:05:47,  1.70s/it] "
     ]
    },
    {
     "name": "stdout",
     "output_type": "stream",
     "text": [
      "\u001b[31m[EPISODE 30700 / STEP 9906737] - EPSILON-GREEDY[final] : 0.1000\n",
      "\u001b[32mLearned Step : 2475681\n",
      "\u001b[34mAVG   Return : 2.6200\n",
      "saved step 2475681 in ckpt/\n"
     ]
    },
    {
     "name": "stderr",
     "output_type": "stream",
     "text": [
      " 62%|██████▏   | 30750/50000 [13:09:36<9:49:17,  1.84s/it] "
     ]
    },
    {
     "name": "stdout",
     "output_type": "stream",
     "text": [
      "\u001b[31m[EPISODE 30750 / STEP 9925807] - EPSILON-GREEDY[final] : 0.1000\n",
      "\u001b[32mLearned Step : 2480467\n",
      "\u001b[34mAVG   Return : 4.0600\n",
      "saved step 2480467 in ckpt/\n"
     ]
    },
    {
     "name": "stderr",
     "output_type": "stream",
     "text": [
      " 62%|██████▏   | 30800/50000 [13:11:04<9:12:26,  1.73s/it] "
     ]
    },
    {
     "name": "stdout",
     "output_type": "stream",
     "text": [
      "\u001b[31m[EPISODE 30800 / STEP 9943959] - EPSILON-GREEDY[final] : 0.1000\n",
      "\u001b[32mLearned Step : 2485024\n",
      "\u001b[34mAVG   Return : 3.5600\n",
      "saved step 2485024 in ckpt/\n"
     ]
    },
    {
     "name": "stderr",
     "output_type": "stream",
     "text": [
      " 62%|██████▏   | 30850/50000 [13:12:22<8:44:15,  1.64s/it] "
     ]
    },
    {
     "name": "stdout",
     "output_type": "stream",
     "text": [
      "\u001b[31m[EPISODE 30850 / STEP 9960149] - EPSILON-GREEDY[final] : 0.1000\n",
      "\u001b[32mLearned Step : 2489090\n",
      "\u001b[34mAVG   Return : 3.0600\n",
      "saved step 2489090 in ckpt/\n"
     ]
    },
    {
     "name": "stderr",
     "output_type": "stream",
     "text": [
      " 62%|██████▏   | 30900/50000 [13:14:03<10:30:52,  1.98s/it]"
     ]
    },
    {
     "name": "stdout",
     "output_type": "stream",
     "text": [
      "\u001b[31m[EPISODE 30900 / STEP 9980975] - EPSILON-GREEDY[final] : 0.1000\n",
      "\u001b[32mLearned Step : 2494313\n",
      "\u001b[34mAVG   Return : 4.7400\n",
      "saved step 2494313 in ckpt/\n"
     ]
    },
    {
     "name": "stderr",
     "output_type": "stream",
     "text": [
      " 62%|██████▏   | 30950/50000 [13:15:38<11:11:08,  2.11s/it]"
     ]
    },
    {
     "name": "stdout",
     "output_type": "stream",
     "text": [
      "\u001b[31m[EPISODE 30950 / STEP 10000643] - EPSILON-GREEDY[final] : 0.1000\n",
      "\u001b[32mLearned Step : 2499249\n",
      "\u001b[34mAVG   Return : 4.0200\n",
      "saved step 2499249 in ckpt/\n"
     ]
    },
    {
     "name": "stderr",
     "output_type": "stream",
     "text": [
      " 62%|██████▏   | 31000/50000 [13:17:12<12:41:23,  2.40s/it]"
     ]
    },
    {
     "name": "stdout",
     "output_type": "stream",
     "text": [
      "\u001b[31m[EPISODE 31000 / STEP 10019927] - EPSILON-GREEDY[final] : 0.1000\n",
      "\u001b[32mLearned Step : 2504091\n",
      "\u001b[34mAVG   Return : 4.1400\n",
      "saved step 2504091 in ckpt/\n"
     ]
    },
    {
     "name": "stderr",
     "output_type": "stream",
     "text": [
      " 62%|██████▏   | 31050/50000 [13:18:49<9:49:00,  1.86s/it] "
     ]
    },
    {
     "name": "stdout",
     "output_type": "stream",
     "text": [
      "\u001b[31m[EPISODE 31050 / STEP 10040216] - EPSILON-GREEDY[final] : 0.1000\n",
      "\u001b[32mLearned Step : 2509180\n",
      "\u001b[34mAVG   Return : 4.3600\n",
      "saved step 2509180 in ckpt/\n"
     ]
    },
    {
     "name": "stderr",
     "output_type": "stream",
     "text": [
      " 62%|██████▏   | 31100/50000 [13:20:27<8:44:25,  1.66s/it] "
     ]
    },
    {
     "name": "stdout",
     "output_type": "stream",
     "text": [
      "\u001b[31m[EPISODE 31100 / STEP 10060583] - EPSILON-GREEDY[final] : 0.1000\n",
      "\u001b[32mLearned Step : 2514291\n",
      "\u001b[34mAVG   Return : 4.6400\n",
      "saved step 2514291 in ckpt/\n"
     ]
    },
    {
     "name": "stderr",
     "output_type": "stream",
     "text": [
      " 62%|██████▏   | 31150/50000 [13:21:51<9:48:33,  1.87s/it] "
     ]
    },
    {
     "name": "stdout",
     "output_type": "stream",
     "text": [
      "\u001b[31m[EPISODE 31150 / STEP 10078050] - EPSILON-GREEDY[final] : 0.1000\n",
      "\u001b[32mLearned Step : 2518679\n",
      "\u001b[34mAVG   Return : 3.3200\n",
      "saved step 2518679 in ckpt/\n"
     ]
    },
    {
     "name": "stderr",
     "output_type": "stream",
     "text": [
      " 62%|██████▏   | 31200/50000 [13:23:07<8:07:07,  1.55s/it] "
     ]
    },
    {
     "name": "stdout",
     "output_type": "stream",
     "text": [
      "\u001b[31m[EPISODE 31200 / STEP 10093554] - EPSILON-GREEDY[final] : 0.1000\n",
      "\u001b[32mLearned Step : 2522575\n",
      "\u001b[34mAVG   Return : 2.3800\n",
      "saved step 2522575 in ckpt/\n"
     ]
    },
    {
     "name": "stderr",
     "output_type": "stream",
     "text": [
      " 62%|██████▎   | 31250/50000 [13:24:27<6:31:54,  1.25s/it] "
     ]
    },
    {
     "name": "stdout",
     "output_type": "stream",
     "text": [
      "\u001b[31m[EPISODE 31250 / STEP 10109960] - EPSILON-GREEDY[final] : 0.1000\n",
      "\u001b[32mLearned Step : 2526696\n",
      "\u001b[34mAVG   Return : 2.8600\n",
      "saved step 2526696 in ckpt/\n"
     ]
    },
    {
     "name": "stderr",
     "output_type": "stream",
     "text": [
      " 63%|██████▎   | 31300/50000 [13:25:52<8:08:53,  1.57s/it] "
     ]
    },
    {
     "name": "stdout",
     "output_type": "stream",
     "text": [
      "\u001b[31m[EPISODE 31300 / STEP 10127653] - EPSILON-GREEDY[final] : 0.1000\n",
      "\u001b[32mLearned Step : 2531139\n",
      "\u001b[34mAVG   Return : 3.0600\n",
      "saved step 2531139 in ckpt/\n"
     ]
    },
    {
     "name": "stderr",
     "output_type": "stream",
     "text": [
      " 63%|██████▎   | 31350/50000 [13:27:08<8:15:09,  1.59s/it] "
     ]
    },
    {
     "name": "stdout",
     "output_type": "stream",
     "text": [
      "\u001b[31m[EPISODE 31350 / STEP 10143309] - EPSILON-GREEDY[final] : 0.1000\n",
      "\u001b[32mLearned Step : 2535068\n",
      "\u001b[34mAVG   Return : 2.6200\n",
      "saved step 2535068 in ckpt/\n"
     ]
    },
    {
     "name": "stderr",
     "output_type": "stream",
     "text": [
      " 63%|██████▎   | 31400/50000 [13:28:29<9:32:28,  1.85s/it] "
     ]
    },
    {
     "name": "stdout",
     "output_type": "stream",
     "text": [
      "\u001b[31m[EPISODE 31400 / STEP 10160083] - EPSILON-GREEDY[final] : 0.1000\n",
      "\u001b[32mLearned Step : 2539279\n",
      "\u001b[34mAVG   Return : 2.7000\n",
      "saved step 2539279 in ckpt/\n"
     ]
    },
    {
     "name": "stderr",
     "output_type": "stream",
     "text": [
      " 63%|██████▎   | 31450/50000 [13:30:06<9:11:13,  1.78s/it] "
     ]
    },
    {
     "name": "stdout",
     "output_type": "stream",
     "text": [
      "\u001b[31m[EPISODE 31450 / STEP 10180119] - EPSILON-GREEDY[final] : 0.1000\n",
      "\u001b[32mLearned Step : 2544307\n",
      "\u001b[34mAVG   Return : 3.7800\n",
      "saved step 2544307 in ckpt/\n"
     ]
    },
    {
     "name": "stderr",
     "output_type": "stream",
     "text": [
      " 63%|██████▎   | 31500/50000 [13:31:40<7:43:03,  1.50s/it] "
     ]
    },
    {
     "name": "stdout",
     "output_type": "stream",
     "text": [
      "\u001b[31m[EPISODE 31500 / STEP 10199665] - EPSILON-GREEDY[final] : 0.1000\n",
      "\u001b[32mLearned Step : 2549214\n",
      "\u001b[34mAVG   Return : 3.6800\n",
      "saved step 2549214 in ckpt/\n"
     ]
    },
    {
     "name": "stderr",
     "output_type": "stream",
     "text": [
      " 63%|██████▎   | 31550/50000 [13:33:06<8:31:14,  1.66s/it] "
     ]
    },
    {
     "name": "stdout",
     "output_type": "stream",
     "text": [
      "\u001b[31m[EPISODE 31550 / STEP 10217497] - EPSILON-GREEDY[final] : 0.1000\n",
      "\u001b[32mLearned Step : 2553692\n",
      "\u001b[34mAVG   Return : 3.5000\n",
      "saved step 2553692 in ckpt/\n"
     ]
    },
    {
     "name": "stderr",
     "output_type": "stream",
     "text": [
      " 63%|██████▎   | 31600/50000 [13:34:28<8:31:28,  1.67s/it] "
     ]
    },
    {
     "name": "stdout",
     "output_type": "stream",
     "text": [
      "\u001b[31m[EPISODE 31600 / STEP 10234313] - EPSILON-GREEDY[final] : 0.1000\n",
      "\u001b[32mLearned Step : 2557915\n",
      "\u001b[34mAVG   Return : 3.1800\n",
      "saved step 2557915 in ckpt/\n"
     ]
    },
    {
     "name": "stderr",
     "output_type": "stream",
     "text": [
      " 63%|██████▎   | 31650/50000 [13:35:53<11:27:05,  2.25s/it]"
     ]
    },
    {
     "name": "stdout",
     "output_type": "stream",
     "text": [
      "\u001b[31m[EPISODE 31650 / STEP 10252048] - EPSILON-GREEDY[final] : 0.1000\n",
      "\u001b[32mLearned Step : 2562369\n",
      "\u001b[34mAVG   Return : 3.3800\n",
      "saved step 2562369 in ckpt/\n"
     ]
    },
    {
     "name": "stderr",
     "output_type": "stream",
     "text": [
      " 63%|██████▎   | 31700/50000 [13:37:22<11:09:23,  2.19s/it]"
     ]
    },
    {
     "name": "stdout",
     "output_type": "stream",
     "text": [
      "\u001b[31m[EPISODE 31700 / STEP 10270331] - EPSILON-GREEDY[final] : 0.1000\n",
      "\u001b[32mLearned Step : 2566960\n",
      "\u001b[34mAVG   Return : 3.3200\n",
      "saved step 2566960 in ckpt/\n"
     ]
    },
    {
     "name": "stderr",
     "output_type": "stream",
     "text": [
      " 64%|██████▎   | 31750/50000 [13:38:57<10:25:00,  2.05s/it]"
     ]
    },
    {
     "name": "stdout",
     "output_type": "stream",
     "text": [
      "\u001b[31m[EPISODE 31750 / STEP 10289908] - EPSILON-GREEDY[final] : 0.1000\n",
      "\u001b[32mLearned Step : 2571874\n",
      "\u001b[34mAVG   Return : 3.9400\n",
      "saved step 2571874 in ckpt/\n"
     ]
    },
    {
     "name": "stderr",
     "output_type": "stream",
     "text": [
      " 64%|██████▎   | 31800/50000 [13:40:29<9:58:15,  1.97s/it] "
     ]
    },
    {
     "name": "stdout",
     "output_type": "stream",
     "text": [
      "\u001b[31m[EPISODE 31800 / STEP 10308934] - EPSILON-GREEDY[final] : 0.1000\n",
      "\u001b[32mLearned Step : 2576648\n",
      "\u001b[34mAVG   Return : 3.6800\n",
      "saved step 2576648 in ckpt/\n"
     ]
    },
    {
     "name": "stderr",
     "output_type": "stream",
     "text": [
      " 64%|██████▎   | 31850/50000 [13:41:45<7:04:55,  1.40s/it] "
     ]
    },
    {
     "name": "stdout",
     "output_type": "stream",
     "text": [
      "\u001b[31m[EPISODE 31850 / STEP 10324643] - EPSILON-GREEDY[final] : 0.1000\n",
      "\u001b[32mLearned Step : 2580595\n",
      "\u001b[34mAVG   Return : 2.5400\n",
      "saved step 2580595 in ckpt/\n"
     ]
    },
    {
     "name": "stderr",
     "output_type": "stream",
     "text": [
      " 64%|██████▍   | 31900/50000 [13:43:10<7:35:04,  1.51s/it] "
     ]
    },
    {
     "name": "stdout",
     "output_type": "stream",
     "text": [
      "\u001b[31m[EPISODE 31900 / STEP 10341994] - EPSILON-GREEDY[final] : 0.1000\n",
      "\u001b[32mLearned Step : 2584951\n",
      "\u001b[34mAVG   Return : 2.7200\n",
      "saved step 2584951 in ckpt/\n"
     ]
    },
    {
     "name": "stderr",
     "output_type": "stream",
     "text": [
      " 64%|██████▍   | 31950/50000 [13:44:26<7:02:24,  1.40s/it] "
     ]
    },
    {
     "name": "stdout",
     "output_type": "stream",
     "text": [
      "\u001b[31m[EPISODE 31950 / STEP 10357863] - EPSILON-GREEDY[final] : 0.1000\n",
      "\u001b[32mLearned Step : 2588936\n",
      "\u001b[34mAVG   Return : 2.2400\n",
      "saved step 2588936 in ckpt/\n"
     ]
    },
    {
     "name": "stderr",
     "output_type": "stream",
     "text": [
      " 64%|██████▍   | 32000/50000 [13:45:44<8:30:45,  1.70s/it] "
     ]
    },
    {
     "name": "stdout",
     "output_type": "stream",
     "text": [
      "\u001b[31m[EPISODE 32000 / STEP 10373934] - EPSILON-GREEDY[final] : 0.1000\n",
      "\u001b[32mLearned Step : 2592971\n",
      "\u001b[34mAVG   Return : 2.0800\n",
      "saved step 2592971 in ckpt/\n"
     ]
    },
    {
     "name": "stderr",
     "output_type": "stream",
     "text": [
      " 64%|██████▍   | 32050/50000 [13:46:56<8:42:20,  1.75s/it] "
     ]
    },
    {
     "name": "stdout",
     "output_type": "stream",
     "text": [
      "\u001b[31m[EPISODE 32050 / STEP 10388771] - EPSILON-GREEDY[final] : 0.1000\n",
      "\u001b[32mLearned Step : 2596698\n",
      "\u001b[34mAVG   Return : 2.1600\n",
      "saved step 2596698 in ckpt/\n"
     ]
    },
    {
     "name": "stderr",
     "output_type": "stream",
     "text": [
      " 64%|██████▍   | 32100/50000 [13:48:13<7:54:41,  1.59s/it] "
     ]
    },
    {
     "name": "stdout",
     "output_type": "stream",
     "text": [
      "\u001b[31m[EPISODE 32100 / STEP 10404725] - EPSILON-GREEDY[final] : 0.1000\n",
      "\u001b[32mLearned Step : 2600708\n",
      "\u001b[34mAVG   Return : 2.5200\n",
      "saved step 2600708 in ckpt/\n"
     ]
    },
    {
     "name": "stderr",
     "output_type": "stream",
     "text": [
      " 64%|██████▍   | 32150/50000 [13:49:29<6:36:22,  1.33s/it] "
     ]
    },
    {
     "name": "stdout",
     "output_type": "stream",
     "text": [
      "\u001b[31m[EPISODE 32150 / STEP 10420479] - EPSILON-GREEDY[final] : 0.1000\n",
      "\u001b[32mLearned Step : 2604665\n",
      "\u001b[34mAVG   Return : 2.3800\n",
      "saved step 2604665 in ckpt/\n"
     ]
    },
    {
     "name": "stderr",
     "output_type": "stream",
     "text": [
      " 64%|██████▍   | 32200/50000 [13:50:50<8:18:37,  1.68s/it] "
     ]
    },
    {
     "name": "stdout",
     "output_type": "stream",
     "text": [
      "\u001b[31m[EPISODE 32200 / STEP 10437134] - EPSILON-GREEDY[final] : 0.1000\n",
      "\u001b[32mLearned Step : 2608849\n",
      "\u001b[34mAVG   Return : 3.0400\n",
      "saved step 2608849 in ckpt/\n"
     ]
    },
    {
     "name": "stderr",
     "output_type": "stream",
     "text": [
      " 64%|██████▍   | 32250/50000 [13:52:27<9:07:21,  1.85s/it] "
     ]
    },
    {
     "name": "stdout",
     "output_type": "stream",
     "text": [
      "\u001b[31m[EPISODE 32250 / STEP 10457117] - EPSILON-GREEDY[final] : 0.1000\n",
      "\u001b[32mLearned Step : 2613863\n",
      "\u001b[34mAVG   Return : 3.5600\n",
      "saved step 2613863 in ckpt/\n"
     ]
    },
    {
     "name": "stderr",
     "output_type": "stream",
     "text": [
      " 65%|██████▍   | 32300/50000 [13:53:52<8:30:24,  1.73s/it] "
     ]
    },
    {
     "name": "stdout",
     "output_type": "stream",
     "text": [
      "\u001b[31m[EPISODE 32300 / STEP 10474713] - EPSILON-GREEDY[final] : 0.1000\n",
      "\u001b[32mLearned Step : 2618279\n",
      "\u001b[34mAVG   Return : 3.2800\n",
      "saved step 2618279 in ckpt/\n"
     ]
    },
    {
     "name": "stderr",
     "output_type": "stream",
     "text": [
      " 65%|██████▍   | 32350/50000 [13:55:24<9:21:20,  1.91s/it] "
     ]
    },
    {
     "name": "stdout",
     "output_type": "stream",
     "text": [
      "\u001b[31m[EPISODE 32350 / STEP 10493683] - EPSILON-GREEDY[final] : 0.1000\n",
      "\u001b[32mLearned Step : 2623042\n",
      "\u001b[34mAVG   Return : 3.9200\n",
      "saved step 2623042 in ckpt/\n"
     ]
    },
    {
     "name": "stderr",
     "output_type": "stream",
     "text": [
      " 65%|██████▍   | 32400/50000 [13:57:05<8:35:13,  1.76s/it] "
     ]
    },
    {
     "name": "stdout",
     "output_type": "stream",
     "text": [
      "\u001b[31m[EPISODE 32400 / STEP 10514527] - EPSILON-GREEDY[final] : 0.1000\n",
      "\u001b[32mLearned Step : 2628268\n",
      "\u001b[34mAVG   Return : 4.2600\n",
      "saved step 2628268 in ckpt/\n"
     ]
    },
    {
     "name": "stderr",
     "output_type": "stream",
     "text": [
      " 65%|██████▍   | 32450/50000 [13:58:31<8:54:52,  1.83s/it] "
     ]
    },
    {
     "name": "stdout",
     "output_type": "stream",
     "text": [
      "\u001b[31m[EPISODE 32450 / STEP 10532534] - EPSILON-GREEDY[final] : 0.1000\n",
      "\u001b[32mLearned Step : 2632787\n",
      "\u001b[34mAVG   Return : 3.4800\n",
      "saved step 2632787 in ckpt/\n"
     ]
    },
    {
     "name": "stderr",
     "output_type": "stream",
     "text": [
      " 65%|██████▌   | 32500/50000 [13:59:58<7:14:03,  1.49s/it] "
     ]
    },
    {
     "name": "stdout",
     "output_type": "stream",
     "text": [
      "\u001b[31m[EPISODE 32500 / STEP 10550587] - EPSILON-GREEDY[final] : 0.1000\n",
      "\u001b[32mLearned Step : 2637318\n",
      "\u001b[34mAVG   Return : 3.5200\n",
      "saved step 2637318 in ckpt/\n"
     ]
    },
    {
     "name": "stderr",
     "output_type": "stream",
     "text": [
      " 65%|██████▌   | 32550/50000 [14:01:25<8:21:05,  1.72s/it] "
     ]
    },
    {
     "name": "stdout",
     "output_type": "stream",
     "text": [
      "\u001b[31m[EPISODE 32550 / STEP 10568486] - EPSILON-GREEDY[final] : 0.1000\n",
      "\u001b[32mLearned Step : 2641813\n",
      "\u001b[34mAVG   Return : 3.5000\n",
      "saved step 2641813 in ckpt/\n"
     ]
    },
    {
     "name": "stderr",
     "output_type": "stream",
     "text": [
      " 65%|██████▌   | 32600/50000 [14:02:57<8:52:21,  1.84s/it] "
     ]
    },
    {
     "name": "stdout",
     "output_type": "stream",
     "text": [
      "\u001b[31m[EPISODE 32600 / STEP 10587332] - EPSILON-GREEDY[final] : 0.1000\n",
      "\u001b[32mLearned Step : 2646541\n",
      "\u001b[34mAVG   Return : 3.8600\n",
      "saved step 2646541 in ckpt/\n"
     ]
    },
    {
     "name": "stderr",
     "output_type": "stream",
     "text": [
      " 65%|██████▌   | 32650/50000 [14:04:34<7:59:10,  1.66s/it] "
     ]
    },
    {
     "name": "stdout",
     "output_type": "stream",
     "text": [
      "\u001b[31m[EPISODE 32650 / STEP 10607405] - EPSILON-GREEDY[final] : 0.1000\n",
      "\u001b[32mLearned Step : 2651579\n",
      "\u001b[34mAVG   Return : 3.9600\n",
      "saved step 2651579 in ckpt/\n"
     ]
    },
    {
     "name": "stderr",
     "output_type": "stream",
     "text": [
      " 65%|██████▌   | 32700/50000 [14:06:08<11:00:57,  2.29s/it]"
     ]
    },
    {
     "name": "stdout",
     "output_type": "stream",
     "text": [
      "\u001b[31m[EPISODE 32700 / STEP 10626855] - EPSILON-GREEDY[final] : 0.1000\n",
      "\u001b[32mLearned Step : 2656459\n",
      "\u001b[34mAVG   Return : 3.6800\n",
      "saved step 2656459 in ckpt/\n"
     ]
    },
    {
     "name": "stderr",
     "output_type": "stream",
     "text": [
      " 66%|██████▌   | 32750/50000 [14:07:33<6:46:13,  1.41s/it] "
     ]
    },
    {
     "name": "stdout",
     "output_type": "stream",
     "text": [
      "\u001b[31m[EPISODE 32750 / STEP 10644306] - EPSILON-GREEDY[final] : 0.1000\n",
      "\u001b[32mLearned Step : 2660841\n",
      "\u001b[34mAVG   Return : 3.1600\n",
      "saved step 2660841 in ckpt/\n"
     ]
    },
    {
     "name": "stderr",
     "output_type": "stream",
     "text": [
      " 66%|██████▌   | 32800/50000 [14:09:05<8:33:59,  1.79s/it] "
     ]
    },
    {
     "name": "stdout",
     "output_type": "stream",
     "text": [
      "\u001b[31m[EPISODE 32800 / STEP 10663212] - EPSILON-GREEDY[final] : 0.1000\n",
      "\u001b[32mLearned Step : 2665587\n",
      "\u001b[34mAVG   Return : 3.7000\n",
      "saved step 2665587 in ckpt/\n"
     ]
    },
    {
     "name": "stderr",
     "output_type": "stream",
     "text": [
      " 66%|██████▌   | 32850/50000 [14:10:25<5:10:54,  1.09s/it] "
     ]
    },
    {
     "name": "stdout",
     "output_type": "stream",
     "text": [
      "\u001b[31m[EPISODE 32850 / STEP 10679922] - EPSILON-GREEDY[final] : 0.1000\n",
      "\u001b[32mLearned Step : 2669782\n",
      "\u001b[34mAVG   Return : 2.5400\n",
      "saved step 2669782 in ckpt/\n"
     ]
    },
    {
     "name": "stderr",
     "output_type": "stream",
     "text": [
      " 66%|██████▌   | 32900/50000 [14:11:46<10:18:26,  2.17s/it]"
     ]
    },
    {
     "name": "stdout",
     "output_type": "stream",
     "text": [
      "\u001b[31m[EPISODE 32900 / STEP 10696662] - EPSILON-GREEDY[final] : 0.1000\n",
      "\u001b[32mLearned Step : 2673983\n",
      "\u001b[34mAVG   Return : 2.5000\n",
      "saved step 2673983 in ckpt/\n"
     ]
    },
    {
     "name": "stderr",
     "output_type": "stream",
     "text": [
      " 66%|██████▌   | 32950/50000 [14:13:00<6:57:48,  1.47s/it] "
     ]
    },
    {
     "name": "stdout",
     "output_type": "stream",
     "text": [
      "\u001b[31m[EPISODE 32950 / STEP 10712186] - EPSILON-GREEDY[final] : 0.1000\n",
      "\u001b[32mLearned Step : 2677881\n",
      "\u001b[34mAVG   Return : 2.0000\n",
      "saved step 2677881 in ckpt/\n"
     ]
    },
    {
     "name": "stderr",
     "output_type": "stream",
     "text": [
      " 66%|██████▌   | 33000/50000 [14:14:16<6:25:30,  1.36s/it] "
     ]
    },
    {
     "name": "stdout",
     "output_type": "stream",
     "text": [
      "\u001b[31m[EPISODE 33000 / STEP 10728009] - EPSILON-GREEDY[final] : 0.1000\n",
      "\u001b[32mLearned Step : 2681856\n",
      "\u001b[34mAVG   Return : 2.2600\n",
      "saved step 2681856 in ckpt/\n"
     ]
    },
    {
     "name": "stderr",
     "output_type": "stream",
     "text": [
      " 66%|██████▌   | 33050/50000 [14:15:30<7:58:43,  1.69s/it]"
     ]
    },
    {
     "name": "stdout",
     "output_type": "stream",
     "text": [
      "\u001b[31m[EPISODE 33050 / STEP 10743107] - EPSILON-GREEDY[final] : 0.1000\n",
      "\u001b[32mLearned Step : 2685645\n",
      "\u001b[34mAVG   Return : 2.2400\n",
      "saved step 2685645 in ckpt/\n"
     ]
    },
    {
     "name": "stderr",
     "output_type": "stream",
     "text": [
      " 66%|██████▌   | 33100/50000 [14:16:53<7:43:53,  1.65s/it] "
     ]
    },
    {
     "name": "stdout",
     "output_type": "stream",
     "text": [
      "\u001b[31m[EPISODE 33100 / STEP 10760259] - EPSILON-GREEDY[final] : 0.1000\n",
      "\u001b[32mLearned Step : 2689949\n",
      "\u001b[34mAVG   Return : 3.1200\n",
      "saved step 2689949 in ckpt/\n"
     ]
    },
    {
     "name": "stderr",
     "output_type": "stream",
     "text": [
      " 66%|██████▋   | 33150/50000 [14:18:10<7:11:09,  1.54s/it] "
     ]
    },
    {
     "name": "stdout",
     "output_type": "stream",
     "text": [
      "\u001b[31m[EPISODE 33150 / STEP 10776025] - EPSILON-GREEDY[final] : 0.1000\n",
      "\u001b[32mLearned Step : 2693909\n",
      "\u001b[34mAVG   Return : 2.4400\n",
      "saved step 2693909 in ckpt/\n"
     ]
    },
    {
     "name": "stderr",
     "output_type": "stream",
     "text": [
      " 66%|██████▋   | 33200/50000 [14:19:33<8:53:56,  1.91s/it]"
     ]
    },
    {
     "name": "stdout",
     "output_type": "stream",
     "text": [
      "\u001b[31m[EPISODE 33200 / STEP 10793320] - EPSILON-GREEDY[final] : 0.1000\n",
      "\u001b[32mLearned Step : 2698252\n",
      "\u001b[34mAVG   Return : 3.2600\n",
      "saved step 2698252 in ckpt/\n"
     ]
    },
    {
     "name": "stderr",
     "output_type": "stream",
     "text": [
      " 66%|██████▋   | 33250/50000 [14:21:02<8:28:28,  1.82s/it] "
     ]
    },
    {
     "name": "stdout",
     "output_type": "stream",
     "text": [
      "\u001b[31m[EPISODE 33250 / STEP 10811733] - EPSILON-GREEDY[final] : 0.1000\n",
      "\u001b[32mLearned Step : 2702872\n",
      "\u001b[34mAVG   Return : 3.7600\n",
      "saved step 2702872 in ckpt/\n"
     ]
    },
    {
     "name": "stderr",
     "output_type": "stream",
     "text": [
      " 67%|██████▋   | 33300/50000 [14:22:23<8:49:46,  1.90s/it] "
     ]
    },
    {
     "name": "stdout",
     "output_type": "stream",
     "text": [
      "\u001b[31m[EPISODE 33300 / STEP 10828536] - EPSILON-GREEDY[final] : 0.1000\n",
      "\u001b[32mLearned Step : 2707087\n",
      "\u001b[34mAVG   Return : 3.1600\n",
      "saved step 2707087 in ckpt/\n"
     ]
    },
    {
     "name": "stderr",
     "output_type": "stream",
     "text": [
      " 67%|██████▋   | 33350/50000 [14:23:42<7:24:14,  1.60s/it]"
     ]
    },
    {
     "name": "stdout",
     "output_type": "stream",
     "text": [
      "\u001b[31m[EPISODE 33350 / STEP 10845009] - EPSILON-GREEDY[final] : 0.1000\n",
      "\u001b[32mLearned Step : 2711225\n",
      "\u001b[34mAVG   Return : 3.0400\n",
      "saved step 2711225 in ckpt/\n"
     ]
    },
    {
     "name": "stderr",
     "output_type": "stream",
     "text": [
      " 67%|██████▋   | 33400/50000 [14:24:57<7:13:24,  1.57s/it]"
     ]
    },
    {
     "name": "stdout",
     "output_type": "stream",
     "text": [
      "\u001b[31m[EPISODE 33400 / STEP 10860696] - EPSILON-GREEDY[final] : 0.1000\n",
      "\u001b[32mLearned Step : 2715164\n",
      "\u001b[34mAVG   Return : 2.4600\n",
      "saved step 2715164 in ckpt/\n"
     ]
    },
    {
     "name": "stderr",
     "output_type": "stream",
     "text": [
      " 67%|██████▋   | 33450/50000 [14:26:23<6:21:21,  1.38s/it] "
     ]
    },
    {
     "name": "stdout",
     "output_type": "stream",
     "text": [
      "\u001b[31m[EPISODE 33450 / STEP 10878511] - EPSILON-GREEDY[final] : 0.1000\n",
      "\u001b[32mLearned Step : 2719638\n",
      "\u001b[34mAVG   Return : 3.4200\n",
      "saved step 2719638 in ckpt/\n"
     ]
    },
    {
     "name": "stderr",
     "output_type": "stream",
     "text": [
      " 67%|██████▋   | 33500/50000 [14:27:50<7:02:01,  1.53s/it] "
     ]
    },
    {
     "name": "stdout",
     "output_type": "stream",
     "text": [
      "\u001b[31m[EPISODE 33500 / STEP 10896374] - EPSILON-GREEDY[final] : 0.1000\n",
      "\u001b[32mLearned Step : 2724126\n",
      "\u001b[34mAVG   Return : 3.4200\n",
      "saved step 2724126 in ckpt/\n"
     ]
    },
    {
     "name": "stderr",
     "output_type": "stream",
     "text": [
      " 67%|██████▋   | 33550/50000 [14:29:16<9:00:13,  1.97s/it]"
     ]
    },
    {
     "name": "stdout",
     "output_type": "stream",
     "text": [
      "\u001b[31m[EPISODE 33550 / STEP 10914108] - EPSILON-GREEDY[final] : 0.1000\n",
      "\u001b[32mLearned Step : 2728577\n",
      "\u001b[34mAVG   Return : 3.3200\n",
      "saved step 2728577 in ckpt/\n"
     ]
    },
    {
     "name": "stderr",
     "output_type": "stream",
     "text": [
      " 67%|██████▋   | 33600/50000 [14:30:42<7:33:08,  1.66s/it] "
     ]
    },
    {
     "name": "stdout",
     "output_type": "stream",
     "text": [
      "\u001b[31m[EPISODE 33600 / STEP 10932067] - EPSILON-GREEDY[final] : 0.1000\n",
      "\u001b[32mLearned Step : 2733083\n",
      "\u001b[34mAVG   Return : 3.4200\n",
      "saved step 2733083 in ckpt/\n"
     ]
    },
    {
     "name": "stderr",
     "output_type": "stream",
     "text": [
      " 67%|██████▋   | 33650/50000 [14:31:53<4:43:33,  1.04s/it]"
     ]
    },
    {
     "name": "stdout",
     "output_type": "stream",
     "text": [
      "\u001b[31m[EPISODE 33650 / STEP 10946940] - EPSILON-GREEDY[final] : 0.1000\n",
      "\u001b[32mLearned Step : 2736815\n",
      "\u001b[34mAVG   Return : 2.5400\n",
      "saved step 2736815 in ckpt/\n"
     ]
    },
    {
     "name": "stderr",
     "output_type": "stream",
     "text": [
      " 67%|██████▋   | 33700/50000 [14:33:08<7:58:41,  1.76s/it]"
     ]
    },
    {
     "name": "stdout",
     "output_type": "stream",
     "text": [
      "\u001b[31m[EPISODE 33700 / STEP 10962421] - EPSILON-GREEDY[final] : 0.1000\n",
      "\u001b[32mLearned Step : 2740706\n",
      "\u001b[34mAVG   Return : 2.5600\n",
      "saved step 2740706 in ckpt/\n"
     ]
    },
    {
     "name": "stderr",
     "output_type": "stream",
     "text": [
      " 68%|██████▊   | 33750/50000 [14:34:32<9:25:18,  2.09s/it] "
     ]
    },
    {
     "name": "stdout",
     "output_type": "stream",
     "text": [
      "\u001b[31m[EPISODE 33750 / STEP 10979911] - EPSILON-GREEDY[final] : 0.1000\n",
      "\u001b[32mLearned Step : 2745097\n",
      "\u001b[34mAVG   Return : 3.0400\n",
      "saved step 2745097 in ckpt/\n"
     ]
    },
    {
     "name": "stderr",
     "output_type": "stream",
     "text": [
      " 68%|██████▊   | 33800/50000 [14:35:42<6:26:23,  1.43s/it]"
     ]
    },
    {
     "name": "stdout",
     "output_type": "stream",
     "text": [
      "\u001b[31m[EPISODE 33800 / STEP 10994262] - EPSILON-GREEDY[final] : 0.1000\n",
      "\u001b[32mLearned Step : 2748704\n",
      "\u001b[34mAVG   Return : 2.0800\n",
      "saved step 2748704 in ckpt/\n"
     ]
    },
    {
     "name": "stderr",
     "output_type": "stream",
     "text": [
      " 68%|██████▊   | 33850/50000 [14:36:58<8:30:06,  1.90s/it]"
     ]
    },
    {
     "name": "stdout",
     "output_type": "stream",
     "text": [
      "\u001b[31m[EPISODE 33850 / STEP 11009810] - EPSILON-GREEDY[final] : 0.1000\n",
      "\u001b[32mLearned Step : 2752609\n",
      "\u001b[34mAVG   Return : 2.8000\n",
      "saved step 2752609 in ckpt/\n"
     ]
    },
    {
     "name": "stderr",
     "output_type": "stream",
     "text": [
      " 68%|██████▊   | 33900/50000 [14:38:27<6:50:14,  1.53s/it] "
     ]
    },
    {
     "name": "stdout",
     "output_type": "stream",
     "text": [
      "\u001b[31m[EPISODE 33900 / STEP 11028257] - EPSILON-GREEDY[final] : 0.1000\n",
      "\u001b[32mLearned Step : 2757239\n",
      "\u001b[34mAVG   Return : 3.7800\n",
      "saved step 2757239 in ckpt/\n"
     ]
    },
    {
     "name": "stderr",
     "output_type": "stream",
     "text": [
      " 68%|██████▊   | 33950/50000 [14:40:07<9:09:10,  2.05s/it] "
     ]
    },
    {
     "name": "stdout",
     "output_type": "stream",
     "text": [
      "\u001b[31m[EPISODE 33950 / STEP 11049135] - EPSILON-GREEDY[final] : 0.1000\n",
      "\u001b[32mLearned Step : 2762476\n",
      "\u001b[34mAVG   Return : 4.1600\n",
      "saved step 2762476 in ckpt/\n"
     ]
    },
    {
     "name": "stderr",
     "output_type": "stream",
     "text": [
      " 68%|██████▊   | 34000/50000 [14:41:47<9:20:38,  2.10s/it] "
     ]
    },
    {
     "name": "stdout",
     "output_type": "stream",
     "text": [
      "\u001b[31m[EPISODE 34000 / STEP 11069877] - EPSILON-GREEDY[final] : 0.1000\n",
      "\u001b[32mLearned Step : 2767677\n",
      "\u001b[34mAVG   Return : 4.9000\n",
      "saved step 2767677 in ckpt/\n"
     ]
    },
    {
     "name": "stderr",
     "output_type": "stream",
     "text": [
      " 68%|██████▊   | 34050/50000 [14:43:10<6:29:47,  1.47s/it] "
     ]
    },
    {
     "name": "stdout",
     "output_type": "stream",
     "text": [
      "\u001b[31m[EPISODE 34050 / STEP 11087047] - EPSILON-GREEDY[final] : 0.1000\n",
      "\u001b[32mLearned Step : 2771987\n",
      "\u001b[34mAVG   Return : 3.2400\n",
      "saved step 2771987 in ckpt/\n"
     ]
    },
    {
     "name": "stderr",
     "output_type": "stream",
     "text": [
      " 68%|██████▊   | 34100/50000 [14:44:20<4:57:48,  1.12s/it]"
     ]
    },
    {
     "name": "stdout",
     "output_type": "stream",
     "text": [
      "\u001b[31m[EPISODE 34100 / STEP 11101693] - EPSILON-GREEDY[final] : 0.1000\n",
      "\u001b[32mLearned Step : 2775668\n",
      "\u001b[34mAVG   Return : 2.4400\n",
      "saved step 2775668 in ckpt/\n"
     ]
    },
    {
     "name": "stderr",
     "output_type": "stream",
     "text": [
      " 68%|██████▊   | 34150/50000 [14:45:34<6:17:59,  1.43s/it]"
     ]
    },
    {
     "name": "stdout",
     "output_type": "stream",
     "text": [
      "\u001b[31m[EPISODE 34150 / STEP 11116919] - EPSILON-GREEDY[final] : 0.1000\n",
      "\u001b[32mLearned Step : 2779494\n",
      "\u001b[34mAVG   Return : 2.4200\n",
      "saved step 2779494 in ckpt/\n"
     ]
    },
    {
     "name": "stderr",
     "output_type": "stream",
     "text": [
      " 68%|██████▊   | 34200/50000 [14:46:40<6:05:51,  1.39s/it]"
     ]
    },
    {
     "name": "stdout",
     "output_type": "stream",
     "text": [
      "\u001b[31m[EPISODE 34200 / STEP 11130322] - EPSILON-GREEDY[final] : 0.1000\n",
      "\u001b[32mLearned Step : 2782863\n",
      "\u001b[34mAVG   Return : 1.6600\n",
      "saved step 2782863 in ckpt/\n"
     ]
    },
    {
     "name": "stderr",
     "output_type": "stream",
     "text": [
      " 68%|██████▊   | 34250/50000 [14:47:56<5:07:31,  1.17s/it] "
     ]
    },
    {
     "name": "stdout",
     "output_type": "stream",
     "text": [
      "\u001b[31m[EPISODE 34250 / STEP 11145872] - EPSILON-GREEDY[final] : 0.1000\n",
      "\u001b[32mLearned Step : 2786768\n",
      "\u001b[34mAVG   Return : 2.5800\n",
      "saved step 2786768 in ckpt/\n"
     ]
    },
    {
     "name": "stderr",
     "output_type": "stream",
     "text": [
      " 69%|██████▊   | 34300/50000 [14:49:14<6:27:06,  1.48s/it] "
     ]
    },
    {
     "name": "stdout",
     "output_type": "stream",
     "text": [
      "\u001b[31m[EPISODE 34300 / STEP 11161901] - EPSILON-GREEDY[final] : 0.1000\n",
      "\u001b[32mLearned Step : 2790793\n",
      "\u001b[34mAVG   Return : 2.7400\n",
      "saved step 2790793 in ckpt/\n"
     ]
    },
    {
     "name": "stderr",
     "output_type": "stream",
     "text": [
      " 69%|██████▊   | 34350/50000 [14:50:29<7:55:16,  1.82s/it]"
     ]
    },
    {
     "name": "stdout",
     "output_type": "stream",
     "text": [
      "\u001b[31m[EPISODE 34350 / STEP 11177528] - EPSILON-GREEDY[final] : 0.1000\n",
      "\u001b[32mLearned Step : 2794718\n",
      "\u001b[34mAVG   Return : 2.7200\n",
      "saved step 2794718 in ckpt/\n"
     ]
    },
    {
     "name": "stderr",
     "output_type": "stream",
     "text": [
      " 69%|██████▉   | 34400/50000 [14:51:47<4:42:40,  1.09s/it] "
     ]
    },
    {
     "name": "stdout",
     "output_type": "stream",
     "text": [
      "\u001b[31m[EPISODE 34400 / STEP 11193708] - EPSILON-GREEDY[final] : 0.1000\n",
      "\u001b[32mLearned Step : 2798779\n",
      "\u001b[34mAVG   Return : 2.7800\n",
      "saved step 2798779 in ckpt/\n"
     ]
    },
    {
     "name": "stderr",
     "output_type": "stream",
     "text": [
      " 69%|██████▉   | 34450/50000 [14:53:23<9:36:22,  2.22s/it] "
     ]
    },
    {
     "name": "stdout",
     "output_type": "stream",
     "text": [
      "\u001b[31m[EPISODE 34450 / STEP 11213416] - EPSILON-GREEDY[final] : 0.1000\n",
      "\u001b[32mLearned Step : 2803728\n",
      "\u001b[34mAVG   Return : 4.0600\n",
      "saved step 2803728 in ckpt/\n"
     ]
    },
    {
     "name": "stderr",
     "output_type": "stream",
     "text": [
      " 69%|██████▉   | 34500/50000 [14:54:41<5:36:20,  1.30s/it]"
     ]
    },
    {
     "name": "stdout",
     "output_type": "stream",
     "text": [
      "\u001b[31m[EPISODE 34500 / STEP 11229584] - EPSILON-GREEDY[final] : 0.1000\n",
      "\u001b[32mLearned Step : 2807790\n",
      "\u001b[34mAVG   Return : 2.6600\n",
      "saved step 2807790 in ckpt/\n"
     ]
    },
    {
     "name": "stderr",
     "output_type": "stream",
     "text": [
      " 69%|██████▉   | 34550/50000 [14:55:59<4:54:20,  1.14s/it]"
     ]
    },
    {
     "name": "stdout",
     "output_type": "stream",
     "text": [
      "\u001b[31m[EPISODE 34550 / STEP 11245620] - EPSILON-GREEDY[final] : 0.1000\n",
      "\u001b[32mLearned Step : 2811817\n",
      "\u001b[34mAVG   Return : 2.7200\n",
      "saved step 2811817 in ckpt/\n"
     ]
    },
    {
     "name": "stderr",
     "output_type": "stream",
     "text": [
      " 69%|██████▉   | 34600/50000 [14:57:24<12:26:43,  2.91s/it]"
     ]
    },
    {
     "name": "stdout",
     "output_type": "stream",
     "text": [
      "\u001b[31m[EPISODE 34600 / STEP 11263337] - EPSILON-GREEDY[final] : 0.1000\n",
      "\u001b[32mLearned Step : 2816264\n",
      "\u001b[34mAVG   Return : 2.9000\n",
      "saved step 2816264 in ckpt/\n"
     ]
    },
    {
     "name": "stderr",
     "output_type": "stream",
     "text": [
      " 69%|██████▉   | 34650/50000 [14:58:46<5:18:29,  1.24s/it] "
     ]
    },
    {
     "name": "stdout",
     "output_type": "stream",
     "text": [
      "\u001b[31m[EPISODE 34650 / STEP 11280295] - EPSILON-GREEDY[final] : 0.1000\n",
      "\u001b[32mLearned Step : 2820525\n",
      "\u001b[34mAVG   Return : 2.9600\n",
      "saved step 2820525 in ckpt/\n"
     ]
    },
    {
     "name": "stderr",
     "output_type": "stream",
     "text": [
      " 69%|██████▉   | 34700/50000 [15:00:03<5:13:23,  1.23s/it]"
     ]
    },
    {
     "name": "stdout",
     "output_type": "stream",
     "text": [
      "\u001b[31m[EPISODE 34700 / STEP 11296103] - EPSILON-GREEDY[final] : 0.1000\n",
      "\u001b[32mLearned Step : 2824494\n",
      "\u001b[34mAVG   Return : 2.4800\n",
      "saved step 2824494 in ckpt/\n"
     ]
    },
    {
     "name": "stderr",
     "output_type": "stream",
     "text": [
      " 70%|██████▉   | 34750/50000 [15:01:37<8:58:39,  2.12s/it] "
     ]
    },
    {
     "name": "stdout",
     "output_type": "stream",
     "text": [
      "\u001b[31m[EPISODE 34750 / STEP 11315118] - EPSILON-GREEDY[final] : 0.1000\n",
      "\u001b[32mLearned Step : 2829272\n",
      "\u001b[34mAVG   Return : 3.6200\n",
      "saved step 2829272 in ckpt/\n"
     ]
    },
    {
     "name": "stderr",
     "output_type": "stream",
     "text": [
      " 70%|██████▉   | 34800/50000 [15:03:09<9:29:02,  2.25s/it] "
     ]
    },
    {
     "name": "stdout",
     "output_type": "stream",
     "text": [
      "\u001b[31m[EPISODE 34800 / STEP 11334491] - EPSILON-GREEDY[final] : 0.1000\n",
      "\u001b[32mLearned Step : 2834137\n",
      "\u001b[34mAVG   Return : 3.8400\n",
      "saved step 2834137 in ckpt/\n"
     ]
    },
    {
     "name": "stderr",
     "output_type": "stream",
     "text": [
      " 70%|██████▉   | 34850/50000 [15:04:38<8:18:34,  1.97s/it]"
     ]
    },
    {
     "name": "stdout",
     "output_type": "stream",
     "text": [
      "\u001b[31m[EPISODE 34850 / STEP 11352789] - EPSILON-GREEDY[final] : 0.1000\n",
      "\u001b[32mLearned Step : 2838729\n",
      "\u001b[34mAVG   Return : 3.3400\n",
      "saved step 2838729 in ckpt/\n"
     ]
    },
    {
     "name": "stderr",
     "output_type": "stream",
     "text": [
      " 70%|██████▉   | 34900/50000 [15:06:00<6:35:18,  1.57s/it]"
     ]
    },
    {
     "name": "stdout",
     "output_type": "stream",
     "text": [
      "\u001b[31m[EPISODE 34900 / STEP 11369688] - EPSILON-GREEDY[final] : 0.1000\n",
      "\u001b[32mLearned Step : 2842975\n",
      "\u001b[34mAVG   Return : 3.1400\n",
      "saved step 2842975 in ckpt/\n"
     ]
    },
    {
     "name": "stderr",
     "output_type": "stream",
     "text": [
      " 70%|██████▉   | 34950/50000 [15:07:33<9:07:11,  2.18s/it] "
     ]
    },
    {
     "name": "stdout",
     "output_type": "stream",
     "text": [
      "\u001b[31m[EPISODE 34950 / STEP 11389106] - EPSILON-GREEDY[final] : 0.1000\n",
      "\u001b[32mLearned Step : 2847848\n",
      "\u001b[34mAVG   Return : 3.6000\n",
      "saved step 2847848 in ckpt/\n"
     ]
    },
    {
     "name": "stderr",
     "output_type": "stream",
     "text": [
      " 70%|███████   | 35000/50000 [15:08:55<5:15:16,  1.26s/it]"
     ]
    },
    {
     "name": "stdout",
     "output_type": "stream",
     "text": [
      "\u001b[31m[EPISODE 35000 / STEP 11406121] - EPSILON-GREEDY[final] : 0.1000\n",
      "\u001b[32mLearned Step : 2852123\n",
      "\u001b[34mAVG   Return : 3.1000\n",
      "saved step 2852123 in ckpt/\n"
     ]
    },
    {
     "name": "stderr",
     "output_type": "stream",
     "text": [
      " 70%|███████   | 35050/50000 [15:10:26<6:10:46,  1.49s/it] "
     ]
    },
    {
     "name": "stdout",
     "output_type": "stream",
     "text": [
      "\u001b[31m[EPISODE 35050 / STEP 11424934] - EPSILON-GREEDY[final] : 0.1000\n",
      "\u001b[32mLearned Step : 2856846\n",
      "\u001b[34mAVG   Return : 3.3800\n",
      "saved step 2856846 in ckpt/\n"
     ]
    },
    {
     "name": "stderr",
     "output_type": "stream",
     "text": [
      " 70%|███████   | 35100/50000 [15:12:06<9:26:14,  2.28s/it] "
     ]
    },
    {
     "name": "stdout",
     "output_type": "stream",
     "text": [
      "\u001b[31m[EPISODE 35100 / STEP 11445685] - EPSILON-GREEDY[final] : 0.1000\n",
      "\u001b[32mLearned Step : 2862055\n",
      "\u001b[34mAVG   Return : 4.3200\n",
      "saved step 2862055 in ckpt/\n"
     ]
    },
    {
     "name": "stderr",
     "output_type": "stream",
     "text": [
      " 70%|███████   | 35150/50000 [15:13:31<8:38:31,  2.10s/it]"
     ]
    },
    {
     "name": "stdout",
     "output_type": "stream",
     "text": [
      "\u001b[31m[EPISODE 35150 / STEP 11463228] - EPSILON-GREEDY[final] : 0.1000\n",
      "\u001b[32mLearned Step : 2866455\n",
      "\u001b[34mAVG   Return : 3.0600\n",
      "saved step 2866455 in ckpt/\n"
     ]
    },
    {
     "name": "stderr",
     "output_type": "stream",
     "text": [
      " 70%|███████   | 35200/50000 [15:14:53<8:53:47,  2.16s/it]"
     ]
    },
    {
     "name": "stdout",
     "output_type": "stream",
     "text": [
      "\u001b[31m[EPISODE 35200 / STEP 11480163] - EPSILON-GREEDY[final] : 0.1000\n",
      "\u001b[32mLearned Step : 2870705\n",
      "\u001b[34mAVG   Return : 2.7400\n",
      "saved step 2870705 in ckpt/\n"
     ]
    },
    {
     "name": "stderr",
     "output_type": "stream",
     "text": [
      " 70%|███████   | 35250/50000 [15:16:21<8:14:21,  2.01s/it] "
     ]
    },
    {
     "name": "stdout",
     "output_type": "stream",
     "text": [
      "\u001b[31m[EPISODE 35250 / STEP 11498107] - EPSILON-GREEDY[final] : 0.1000\n",
      "\u001b[32mLearned Step : 2875205\n",
      "\u001b[34mAVG   Return : 2.7800\n",
      "saved step 2875205 in ckpt/\n"
     ]
    },
    {
     "name": "stderr",
     "output_type": "stream",
     "text": [
      " 71%|███████   | 35300/50000 [15:17:37<5:34:02,  1.36s/it]"
     ]
    },
    {
     "name": "stdout",
     "output_type": "stream",
     "text": [
      "\u001b[31m[EPISODE 35300 / STEP 11513789] - EPSILON-GREEDY[final] : 0.1000\n",
      "\u001b[32mLearned Step : 2879145\n",
      "\u001b[34mAVG   Return : 2.2800\n",
      "saved step 2879145 in ckpt/\n"
     ]
    },
    {
     "name": "stderr",
     "output_type": "stream",
     "text": [
      " 71%|███████   | 35350/50000 [15:18:57<7:08:16,  1.75s/it]"
     ]
    },
    {
     "name": "stdout",
     "output_type": "stream",
     "text": [
      "\u001b[31m[EPISODE 35350 / STEP 11530377] - EPSILON-GREEDY[final] : 0.1000\n",
      "\u001b[32mLearned Step : 2883310\n",
      "\u001b[34mAVG   Return : 2.3000\n",
      "saved step 2883310 in ckpt/\n"
     ]
    },
    {
     "name": "stderr",
     "output_type": "stream",
     "text": [
      " 71%|███████   | 35400/50000 [15:20:12<5:07:10,  1.26s/it]"
     ]
    },
    {
     "name": "stdout",
     "output_type": "stream",
     "text": [
      "\u001b[31m[EPISODE 35400 / STEP 11545740] - EPSILON-GREEDY[final] : 0.1000\n",
      "\u001b[32mLearned Step : 2887174\n",
      "\u001b[34mAVG   Return : 2.4200\n",
      "saved step 2887174 in ckpt/\n"
     ]
    },
    {
     "name": "stderr",
     "output_type": "stream",
     "text": [
      " 71%|███████   | 35450/50000 [15:21:37<6:39:40,  1.65s/it]"
     ]
    },
    {
     "name": "stdout",
     "output_type": "stream",
     "text": [
      "\u001b[31m[EPISODE 35450 / STEP 11563357] - EPSILON-GREEDY[final] : 0.1000\n",
      "\u001b[32mLearned Step : 2891596\n",
      "\u001b[34mAVG   Return : 2.9200\n",
      "saved step 2891596 in ckpt/\n"
     ]
    },
    {
     "name": "stderr",
     "output_type": "stream",
     "text": [
      " 71%|███████   | 35500/50000 [15:23:01<7:07:12,  1.77s/it] "
     ]
    },
    {
     "name": "stdout",
     "output_type": "stream",
     "text": [
      "\u001b[31m[EPISODE 35500 / STEP 11581015] - EPSILON-GREEDY[final] : 0.1000\n",
      "\u001b[32mLearned Step : 2896031\n",
      "\u001b[34mAVG   Return : 3.1000\n",
      "saved step 2896031 in ckpt/\n"
     ]
    },
    {
     "name": "stderr",
     "output_type": "stream",
     "text": [
      " 71%|███████   | 35550/50000 [15:24:40<6:47:27,  1.69s/it] "
     ]
    },
    {
     "name": "stdout",
     "output_type": "stream",
     "text": [
      "\u001b[31m[EPISODE 35550 / STEP 11601314] - EPSILON-GREEDY[final] : 0.1000\n",
      "\u001b[32mLearned Step : 2901124\n",
      "\u001b[34mAVG   Return : 3.9600\n",
      "saved step 2901124 in ckpt/\n"
     ]
    },
    {
     "name": "stderr",
     "output_type": "stream",
     "text": [
      " 71%|███████   | 35600/50000 [15:26:08<6:40:44,  1.67s/it]"
     ]
    },
    {
     "name": "stdout",
     "output_type": "stream",
     "text": [
      "\u001b[31m[EPISODE 35600 / STEP 11619495] - EPSILON-GREEDY[final] : 0.1000\n",
      "\u001b[32mLearned Step : 2905687\n",
      "\u001b[34mAVG   Return : 3.6400\n",
      "saved step 2905687 in ckpt/\n"
     ]
    },
    {
     "name": "stderr",
     "output_type": "stream",
     "text": [
      " 71%|███████▏  | 35650/50000 [15:27:39<7:01:32,  1.76s/it]"
     ]
    },
    {
     "name": "stdout",
     "output_type": "stream",
     "text": [
      "\u001b[31m[EPISODE 35650 / STEP 11638322] - EPSILON-GREEDY[final] : 0.1000\n",
      "\u001b[32mLearned Step : 2910410\n",
      "\u001b[34mAVG   Return : 3.8600\n",
      "saved step 2910410 in ckpt/\n"
     ]
    },
    {
     "name": "stderr",
     "output_type": "stream",
     "text": [
      " 71%|███████▏  | 35700/50000 [15:29:05<5:34:29,  1.40s/it]"
     ]
    },
    {
     "name": "stdout",
     "output_type": "stream",
     "text": [
      "\u001b[31m[EPISODE 35700 / STEP 11655965] - EPSILON-GREEDY[final] : 0.1000\n",
      "\u001b[32mLearned Step : 2914841\n",
      "\u001b[34mAVG   Return : 3.2400\n",
      "saved step 2914841 in ckpt/\n"
     ]
    },
    {
     "name": "stderr",
     "output_type": "stream",
     "text": [
      " 72%|███████▏  | 35750/50000 [15:30:37<10:21:46,  2.62s/it]"
     ]
    },
    {
     "name": "stdout",
     "output_type": "stream",
     "text": [
      "\u001b[31m[EPISODE 35750 / STEP 11675099] - EPSILON-GREEDY[final] : 0.1000\n",
      "\u001b[32mLearned Step : 2919644\n",
      "\u001b[34mAVG   Return : 3.8000\n",
      "saved step 2919644 in ckpt/\n"
     ]
    },
    {
     "name": "stderr",
     "output_type": "stream",
     "text": [
      " 72%|███████▏  | 35800/50000 [15:32:04<6:38:40,  1.68s/it] "
     ]
    },
    {
     "name": "stdout",
     "output_type": "stream",
     "text": [
      "\u001b[31m[EPISODE 35800 / STEP 11693075] - EPSILON-GREEDY[final] : 0.1000\n",
      "\u001b[32mLearned Step : 2924156\n",
      "\u001b[34mAVG   Return : 2.9400\n",
      "saved step 2924156 in ckpt/\n"
     ]
    },
    {
     "name": "stderr",
     "output_type": "stream",
     "text": [
      " 72%|███████▏  | 35850/50000 [15:33:29<5:36:27,  1.43s/it]"
     ]
    },
    {
     "name": "stdout",
     "output_type": "stream",
     "text": [
      "\u001b[31m[EPISODE 35850 / STEP 11710560] - EPSILON-GREEDY[final] : 0.1000\n",
      "\u001b[32mLearned Step : 2928543\n",
      "\u001b[34mAVG   Return : 3.2200\n",
      "saved step 2928543 in ckpt/\n"
     ]
    },
    {
     "name": "stderr",
     "output_type": "stream",
     "text": [
      " 72%|███████▏  | 35900/50000 [15:34:55<6:44:33,  1.72s/it]"
     ]
    },
    {
     "name": "stdout",
     "output_type": "stream",
     "text": [
      "\u001b[31m[EPISODE 35900 / STEP 11728315] - EPSILON-GREEDY[final] : 0.1000\n",
      "\u001b[32mLearned Step : 2933004\n",
      "\u001b[34mAVG   Return : 3.0800\n",
      "saved step 2933004 in ckpt/\n"
     ]
    },
    {
     "name": "stderr",
     "output_type": "stream",
     "text": [
      " 72%|███████▏  | 35950/50000 [15:36:11<6:08:32,  1.57s/it]"
     ]
    },
    {
     "name": "stdout",
     "output_type": "stream",
     "text": [
      "\u001b[31m[EPISODE 35950 / STEP 11744208] - EPSILON-GREEDY[final] : 0.1000\n",
      "\u001b[32mLearned Step : 2936996\n",
      "\u001b[34mAVG   Return : 2.4200\n",
      "saved step 2936996 in ckpt/\n"
     ]
    },
    {
     "name": "stderr",
     "output_type": "stream",
     "text": [
      " 72%|███████▏  | 36000/50000 [15:37:35<4:33:04,  1.17s/it]"
     ]
    },
    {
     "name": "stdout",
     "output_type": "stream",
     "text": [
      "\u001b[31m[EPISODE 36000 / STEP 11761426] - EPSILON-GREEDY[final] : 0.1000\n",
      "\u001b[32mLearned Step : 2941315\n",
      "\u001b[34mAVG   Return : 2.8600\n",
      "saved step 2941315 in ckpt/\n"
     ]
    },
    {
     "name": "stderr",
     "output_type": "stream",
     "text": [
      " 72%|███████▏  | 36050/50000 [15:39:01<5:34:39,  1.44s/it]"
     ]
    },
    {
     "name": "stdout",
     "output_type": "stream",
     "text": [
      "\u001b[31m[EPISODE 36050 / STEP 11778991] - EPSILON-GREEDY[final] : 0.1000\n",
      "\u001b[32mLearned Step : 2945728\n",
      "\u001b[34mAVG   Return : 3.3400\n",
      "saved step 2945728 in ckpt/\n"
     ]
    },
    {
     "name": "stderr",
     "output_type": "stream",
     "text": [
      " 72%|███████▏  | 36100/50000 [15:40:30<8:00:23,  2.07s/it]"
     ]
    },
    {
     "name": "stdout",
     "output_type": "stream",
     "text": [
      "\u001b[31m[EPISODE 36100 / STEP 11797389] - EPSILON-GREEDY[final] : 0.1000\n",
      "\u001b[32mLearned Step : 2950345\n",
      "\u001b[34mAVG   Return : 3.1200\n",
      "saved step 2950345 in ckpt/\n"
     ]
    },
    {
     "name": "stderr",
     "output_type": "stream",
     "text": [
      " 72%|███████▏  | 36150/50000 [15:42:04<8:20:58,  2.17s/it]"
     ]
    },
    {
     "name": "stdout",
     "output_type": "stream",
     "text": [
      "\u001b[31m[EPISODE 36150 / STEP 11816731] - EPSILON-GREEDY[final] : 0.1000\n",
      "\u001b[32mLearned Step : 2955194\n",
      "\u001b[34mAVG   Return : 3.6200\n",
      "saved step 2955194 in ckpt/\n"
     ]
    },
    {
     "name": "stderr",
     "output_type": "stream",
     "text": [
      " 72%|███████▏  | 36200/50000 [15:43:34<5:49:32,  1.52s/it] "
     ]
    },
    {
     "name": "stdout",
     "output_type": "stream",
     "text": [
      "\u001b[31m[EPISODE 36200 / STEP 11835545] - EPSILON-GREEDY[final] : 0.1000\n",
      "\u001b[32mLearned Step : 2959917\n",
      "\u001b[34mAVG   Return : 3.4200\n",
      "saved step 2959917 in ckpt/\n"
     ]
    },
    {
     "name": "stderr",
     "output_type": "stream",
     "text": [
      " 72%|███████▎  | 36250/50000 [15:44:55<7:09:04,  1.87s/it] "
     ]
    },
    {
     "name": "stdout",
     "output_type": "stream",
     "text": [
      "\u001b[31m[EPISODE 36250 / STEP 11851996] - EPSILON-GREEDY[final] : 0.1000\n",
      "\u001b[32mLearned Step : 2964048\n",
      "\u001b[34mAVG   Return : 2.5800\n",
      "saved step 2964048 in ckpt/\n"
     ]
    },
    {
     "name": "stderr",
     "output_type": "stream",
     "text": [
      " 73%|███████▎  | 36300/50000 [15:46:03<5:16:21,  1.39s/it]"
     ]
    },
    {
     "name": "stdout",
     "output_type": "stream",
     "text": [
      "\u001b[31m[EPISODE 36300 / STEP 11866008] - EPSILON-GREEDY[final] : 0.1000\n",
      "\u001b[32mLearned Step : 2967570\n",
      "\u001b[34mAVG   Return : 1.9200\n",
      "saved step 2967570 in ckpt/\n"
     ]
    },
    {
     "name": "stderr",
     "output_type": "stream",
     "text": [
      " 73%|███████▎  | 36350/50000 [15:47:15<6:28:57,  1.71s/it]"
     ]
    },
    {
     "name": "stdout",
     "output_type": "stream",
     "text": [
      "\u001b[31m[EPISODE 36350 / STEP 11880890] - EPSILON-GREEDY[final] : 0.1000\n",
      "\u001b[32mLearned Step : 2971308\n",
      "\u001b[34mAVG   Return : 2.3400\n",
      "saved step 2971308 in ckpt/\n"
     ]
    },
    {
     "name": "stderr",
     "output_type": "stream",
     "text": [
      " 73%|███████▎  | 36400/50000 [15:48:30<4:13:54,  1.12s/it]"
     ]
    },
    {
     "name": "stdout",
     "output_type": "stream",
     "text": [
      "\u001b[31m[EPISODE 36400 / STEP 11896289] - EPSILON-GREEDY[final] : 0.1000\n",
      "\u001b[32mLearned Step : 2975179\n",
      "\u001b[34mAVG   Return : 2.4000\n",
      "saved step 2975179 in ckpt/\n"
     ]
    },
    {
     "name": "stderr",
     "output_type": "stream",
     "text": [
      " 73%|███████▎  | 36450/50000 [15:49:48<6:09:13,  1.63s/it]"
     ]
    },
    {
     "name": "stdout",
     "output_type": "stream",
     "text": [
      "\u001b[31m[EPISODE 36450 / STEP 11912521] - EPSILON-GREEDY[final] : 0.1000\n",
      "\u001b[32mLearned Step : 2979254\n",
      "\u001b[34mAVG   Return : 2.7200\n",
      "saved step 2979254 in ckpt/\n"
     ]
    },
    {
     "name": "stderr",
     "output_type": "stream",
     "text": [
      " 73%|███████▎  | 36500/50000 [15:51:06<4:58:50,  1.33s/it]"
     ]
    },
    {
     "name": "stdout",
     "output_type": "stream",
     "text": [
      "\u001b[31m[EPISODE 36500 / STEP 11928534] - EPSILON-GREEDY[final] : 0.1000\n",
      "\u001b[32mLearned Step : 2983278\n",
      "\u001b[34mAVG   Return : 2.6200\n",
      "saved step 2983278 in ckpt/\n"
     ]
    },
    {
     "name": "stderr",
     "output_type": "stream",
     "text": [
      " 73%|███████▎  | 36550/50000 [15:52:37<6:19:17,  1.69s/it] "
     ]
    },
    {
     "name": "stdout",
     "output_type": "stream",
     "text": [
      "\u001b[31m[EPISODE 36550 / STEP 11947474] - EPSILON-GREEDY[final] : 0.1000\n",
      "\u001b[32mLearned Step : 2988030\n",
      "\u001b[34mAVG   Return : 3.8600\n",
      "saved step 2988030 in ckpt/\n"
     ]
    },
    {
     "name": "stderr",
     "output_type": "stream",
     "text": [
      " 73%|███████▎  | 36600/50000 [15:54:17<6:56:33,  1.87s/it]"
     ]
    },
    {
     "name": "stdout",
     "output_type": "stream",
     "text": [
      "\u001b[31m[EPISODE 36600 / STEP 11968238] - EPSILON-GREEDY[final] : 0.1000\n",
      "\u001b[32mLearned Step : 2993242\n",
      "\u001b[34mAVG   Return : 4.3600\n",
      "saved step 2993242 in ckpt/\n"
     ]
    },
    {
     "name": "stderr",
     "output_type": "stream",
     "text": [
      " 73%|███████▎  | 36650/50000 [15:55:47<7:10:55,  1.94s/it]"
     ]
    },
    {
     "name": "stdout",
     "output_type": "stream",
     "text": [
      "\u001b[31m[EPISODE 36650 / STEP 11986606] - EPSILON-GREEDY[final] : 0.1000\n",
      "\u001b[32mLearned Step : 2997852\n",
      "\u001b[34mAVG   Return : 3.6400\n",
      "saved step 2997852 in ckpt/\n"
     ]
    },
    {
     "name": "stderr",
     "output_type": "stream",
     "text": [
      " 73%|███████▎  | 36700/50000 [15:57:13<6:17:35,  1.70s/it]"
     ]
    },
    {
     "name": "stdout",
     "output_type": "stream",
     "text": [
      "\u001b[31m[EPISODE 36700 / STEP 12004436] - EPSILON-GREEDY[final] : 0.1000\n",
      "\u001b[32mLearned Step : 3002327\n",
      "\u001b[34mAVG   Return : 3.5800\n",
      "saved step 3002327 in ckpt/\n"
     ]
    },
    {
     "name": "stderr",
     "output_type": "stream",
     "text": [
      " 74%|███████▎  | 36750/50000 [15:58:44<6:54:48,  1.88s/it]"
     ]
    },
    {
     "name": "stdout",
     "output_type": "stream",
     "text": [
      "\u001b[31m[EPISODE 36750 / STEP 12023293] - EPSILON-GREEDY[final] : 0.1000\n",
      "\u001b[32mLearned Step : 3007059\n",
      "\u001b[34mAVG   Return : 3.8000\n",
      "saved step 3007059 in ckpt/\n"
     ]
    },
    {
     "name": "stderr",
     "output_type": "stream",
     "text": [
      " 74%|███████▎  | 36800/50000 [16:00:01<6:20:33,  1.73s/it]"
     ]
    },
    {
     "name": "stdout",
     "output_type": "stream",
     "text": [
      "\u001b[31m[EPISODE 36800 / STEP 12039112] - EPSILON-GREEDY[final] : 0.1000\n",
      "\u001b[32mLearned Step : 3011033\n",
      "\u001b[34mAVG   Return : 2.7600\n",
      "saved step 3011033 in ckpt/\n"
     ]
    },
    {
     "name": "stderr",
     "output_type": "stream",
     "text": [
      " 74%|███████▎  | 36850/50000 [16:01:14<4:56:34,  1.35s/it]"
     ]
    },
    {
     "name": "stdout",
     "output_type": "stream",
     "text": [
      "\u001b[31m[EPISODE 36850 / STEP 12054222] - EPSILON-GREEDY[final] : 0.1000\n",
      "\u001b[32mLearned Step : 3014832\n",
      "\u001b[34mAVG   Return : 2.6800\n",
      "saved step 3014832 in ckpt/\n"
     ]
    },
    {
     "name": "stderr",
     "output_type": "stream",
     "text": [
      " 74%|███████▍  | 36900/50000 [16:02:28<5:04:24,  1.39s/it]"
     ]
    },
    {
     "name": "stdout",
     "output_type": "stream",
     "text": [
      "\u001b[31m[EPISODE 36900 / STEP 12069600] - EPSILON-GREEDY[final] : 0.1000\n",
      "\u001b[32mLearned Step : 3018697\n",
      "\u001b[34mAVG   Return : 2.7200\n",
      "saved step 3018697 in ckpt/\n"
     ]
    },
    {
     "name": "stderr",
     "output_type": "stream",
     "text": [
      " 74%|███████▍  | 36950/50000 [16:03:43<5:06:21,  1.41s/it]"
     ]
    },
    {
     "name": "stdout",
     "output_type": "stream",
     "text": [
      "\u001b[31m[EPISODE 36950 / STEP 12085039] - EPSILON-GREEDY[final] : 0.1000\n",
      "\u001b[32mLearned Step : 3022577\n",
      "\u001b[34mAVG   Return : 2.5000\n",
      "saved step 3022577 in ckpt/\n"
     ]
    },
    {
     "name": "stderr",
     "output_type": "stream",
     "text": [
      " 74%|███████▍  | 37000/50000 [16:04:58<4:56:56,  1.37s/it]"
     ]
    },
    {
     "name": "stdout",
     "output_type": "stream",
     "text": [
      "\u001b[31m[EPISODE 37000 / STEP 12100588] - EPSILON-GREEDY[final] : 0.1000\n",
      "\u001b[32mLearned Step : 3026484\n",
      "\u001b[34mAVG   Return : 2.4200\n",
      "saved step 3026484 in ckpt/\n"
     ]
    },
    {
     "name": "stderr",
     "output_type": "stream",
     "text": [
      " 74%|███████▍  | 37050/50000 [16:06:12<3:47:38,  1.05s/it]"
     ]
    },
    {
     "name": "stdout",
     "output_type": "stream",
     "text": [
      "\u001b[31m[EPISODE 37050 / STEP 12115963] - EPSILON-GREEDY[final] : 0.1000\n",
      "\u001b[32mLearned Step : 3030348\n",
      "\u001b[34mAVG   Return : 2.5400\n",
      "saved step 3030348 in ckpt/\n"
     ]
    },
    {
     "name": "stderr",
     "output_type": "stream",
     "text": [
      " 74%|███████▍  | 37100/50000 [16:07:15<6:16:29,  1.75s/it]"
     ]
    },
    {
     "name": "stdout",
     "output_type": "stream",
     "text": [
      "\u001b[31m[EPISODE 37100 / STEP 12128810] - EPSILON-GREEDY[final] : 0.1000\n",
      "\u001b[32mLearned Step : 3033578\n",
      "\u001b[34mAVG   Return : 1.6800\n",
      "saved step 3033578 in ckpt/\n"
     ]
    },
    {
     "name": "stderr",
     "output_type": "stream",
     "text": [
      " 74%|███████▍  | 37150/50000 [16:08:32<4:57:25,  1.39s/it]"
     ]
    },
    {
     "name": "stdout",
     "output_type": "stream",
     "text": [
      "\u001b[31m[EPISODE 37150 / STEP 12144718] - EPSILON-GREEDY[final] : 0.1000\n",
      "\u001b[32mLearned Step : 3037574\n",
      "\u001b[34mAVG   Return : 2.7800\n",
      "saved step 3037574 in ckpt/\n"
     ]
    },
    {
     "name": "stderr",
     "output_type": "stream",
     "text": [
      " 74%|███████▍  | 37200/50000 [16:09:46<5:02:13,  1.42s/it]"
     ]
    },
    {
     "name": "stdout",
     "output_type": "stream",
     "text": [
      "\u001b[31m[EPISODE 37200 / STEP 12159886] - EPSILON-GREEDY[final] : 0.1000\n",
      "\u001b[32mLearned Step : 3041386\n",
      "\u001b[34mAVG   Return : 2.4800\n",
      "saved step 3041386 in ckpt/\n"
     ]
    },
    {
     "name": "stderr",
     "output_type": "stream",
     "text": [
      " 74%|███████▍  | 37250/50000 [16:11:00<4:59:14,  1.41s/it]"
     ]
    },
    {
     "name": "stdout",
     "output_type": "stream",
     "text": [
      "\u001b[31m[EPISODE 37250 / STEP 12175458] - EPSILON-GREEDY[final] : 0.1000\n",
      "\u001b[32mLearned Step : 3045298\n",
      "\u001b[34mAVG   Return : 2.5000\n",
      "saved step 3045298 in ckpt/\n"
     ]
    },
    {
     "name": "stderr",
     "output_type": "stream",
     "text": [
      " 75%|███████▍  | 37300/50000 [16:12:21<5:44:03,  1.63s/it]"
     ]
    },
    {
     "name": "stdout",
     "output_type": "stream",
     "text": [
      "\u001b[31m[EPISODE 37300 / STEP 12192187] - EPSILON-GREEDY[final] : 0.1000\n",
      "\u001b[32mLearned Step : 3049503\n",
      "\u001b[34mAVG   Return : 2.6600\n",
      "saved step 3049503 in ckpt/\n"
     ]
    },
    {
     "name": "stderr",
     "output_type": "stream",
     "text": [
      " 75%|███████▍  | 37350/50000 [16:14:03<6:10:57,  1.76s/it]"
     ]
    },
    {
     "name": "stdout",
     "output_type": "stream",
     "text": [
      "\u001b[31m[EPISODE 37350 / STEP 12212943] - EPSILON-GREEDY[final] : 0.1000\n",
      "\u001b[32mLearned Step : 3054711\n",
      "\u001b[34mAVG   Return : 4.5600\n",
      "saved step 3054711 in ckpt/\n"
     ]
    },
    {
     "name": "stderr",
     "output_type": "stream",
     "text": [
      " 75%|███████▍  | 37400/50000 [16:15:47<6:34:01,  1.88s/it]"
     ]
    },
    {
     "name": "stdout",
     "output_type": "stream",
     "text": [
      "\u001b[31m[EPISODE 37400 / STEP 12234551] - EPSILON-GREEDY[final] : 0.1000\n",
      "\u001b[32mLearned Step : 3060131\n",
      "\u001b[34mAVG   Return : 4.9400\n",
      "saved step 3060131 in ckpt/\n"
     ]
    },
    {
     "name": "stderr",
     "output_type": "stream",
     "text": [
      " 75%|███████▍  | 37450/50000 [16:17:20<5:46:28,  1.66s/it]"
     ]
    },
    {
     "name": "stdout",
     "output_type": "stream",
     "text": [
      "\u001b[31m[EPISODE 37450 / STEP 12253808] - EPSILON-GREEDY[final] : 0.1000\n",
      "\u001b[32mLearned Step : 3064968\n",
      "\u001b[34mAVG   Return : 4.2000\n",
      "saved step 3064968 in ckpt/\n"
     ]
    },
    {
     "name": "stderr",
     "output_type": "stream",
     "text": [
      " 75%|███████▌  | 37500/50000 [16:18:53<6:21:19,  1.83s/it]"
     ]
    },
    {
     "name": "stdout",
     "output_type": "stream",
     "text": [
      "\u001b[31m[EPISODE 37500 / STEP 12273341] - EPSILON-GREEDY[final] : 0.1000\n",
      "\u001b[32mLearned Step : 3069872\n",
      "\u001b[34mAVG   Return : 4.2000\n",
      "saved step 3069872 in ckpt/\n"
     ]
    },
    {
     "name": "stderr",
     "output_type": "stream",
     "text": [
      " 75%|███████▌  | 37550/50000 [16:20:29<6:21:47,  1.84s/it]"
     ]
    },
    {
     "name": "stdout",
     "output_type": "stream",
     "text": [
      "\u001b[31m[EPISODE 37550 / STEP 12293071] - EPSILON-GREEDY[final] : 0.1000\n",
      "\u001b[32mLearned Step : 3074822\n",
      "\u001b[34mAVG   Return : 4.4200\n",
      "saved step 3074822 in ckpt/\n"
     ]
    },
    {
     "name": "stderr",
     "output_type": "stream",
     "text": [
      " 75%|███████▌  | 37600/50000 [16:21:50<5:50:30,  1.70s/it]"
     ]
    },
    {
     "name": "stdout",
     "output_type": "stream",
     "text": [
      "\u001b[31m[EPISODE 37600 / STEP 12309966] - EPSILON-GREEDY[final] : 0.1000\n",
      "\u001b[32mLearned Step : 3079063\n",
      "\u001b[34mAVG   Return : 3.0800\n",
      "saved step 3079063 in ckpt/\n"
     ]
    },
    {
     "name": "stderr",
     "output_type": "stream",
     "text": [
      " 75%|███████▌  | 37650/50000 [16:23:11<5:53:36,  1.72s/it]"
     ]
    },
    {
     "name": "stdout",
     "output_type": "stream",
     "text": [
      "\u001b[31m[EPISODE 37650 / STEP 12326752] - EPSILON-GREEDY[final] : 0.1000\n",
      "\u001b[32mLearned Step : 3083279\n",
      "\u001b[34mAVG   Return : 3.0000\n",
      "saved step 3083279 in ckpt/\n"
     ]
    },
    {
     "name": "stderr",
     "output_type": "stream",
     "text": [
      " 75%|███████▌  | 37700/50000 [16:24:36<5:23:08,  1.58s/it]"
     ]
    },
    {
     "name": "stdout",
     "output_type": "stream",
     "text": [
      "\u001b[31m[EPISODE 37700 / STEP 12344432] - EPSILON-GREEDY[final] : 0.1000\n",
      "\u001b[32mLearned Step : 3087719\n",
      "\u001b[34mAVG   Return : 3.2800\n",
      "saved step 3087719 in ckpt/\n"
     ]
    },
    {
     "name": "stderr",
     "output_type": "stream",
     "text": [
      " 76%|███████▌  | 37750/50000 [16:26:02<5:23:19,  1.58s/it]"
     ]
    },
    {
     "name": "stdout",
     "output_type": "stream",
     "text": [
      "\u001b[31m[EPISODE 37750 / STEP 12362268] - EPSILON-GREEDY[final] : 0.1000\n",
      "\u001b[32mLearned Step : 3092198\n",
      "\u001b[34mAVG   Return : 3.4600\n",
      "saved step 3092198 in ckpt/\n"
     ]
    },
    {
     "name": "stderr",
     "output_type": "stream",
     "text": [
      " 76%|███████▌  | 37800/50000 [16:27:36<4:43:41,  1.40s/it]"
     ]
    },
    {
     "name": "stdout",
     "output_type": "stream",
     "text": [
      "\u001b[31m[EPISODE 37800 / STEP 12381566] - EPSILON-GREEDY[final] : 0.1000\n",
      "\u001b[32mLearned Step : 3097045\n",
      "\u001b[34mAVG   Return : 4.0600\n",
      "saved step 3097045 in ckpt/\n"
     ]
    },
    {
     "name": "stderr",
     "output_type": "stream",
     "text": [
      " 76%|███████▌  | 37850/50000 [16:29:05<5:05:20,  1.51s/it]"
     ]
    },
    {
     "name": "stdout",
     "output_type": "stream",
     "text": [
      "\u001b[31m[EPISODE 37850 / STEP 12400221] - EPSILON-GREEDY[final] : 0.1000\n",
      "\u001b[32mLearned Step : 3101727\n",
      "\u001b[34mAVG   Return : 3.5400\n",
      "saved step 3101727 in ckpt/\n"
     ]
    },
    {
     "name": "stderr",
     "output_type": "stream",
     "text": [
      " 76%|███████▌  | 37900/50000 [16:30:42<5:15:04,  1.56s/it]"
     ]
    },
    {
     "name": "stdout",
     "output_type": "stream",
     "text": [
      "\u001b[31m[EPISODE 37900 / STEP 12420410] - EPSILON-GREEDY[final] : 0.1000\n",
      "\u001b[32mLearned Step : 3106789\n",
      "\u001b[34mAVG   Return : 4.1200\n",
      "saved step 3106789 in ckpt/\n"
     ]
    },
    {
     "name": "stderr",
     "output_type": "stream",
     "text": [
      " 76%|███████▌  | 37950/50000 [16:32:13<6:13:15,  1.86s/it]"
     ]
    },
    {
     "name": "stdout",
     "output_type": "stream",
     "text": [
      "\u001b[31m[EPISODE 37950 / STEP 12439286] - EPSILON-GREEDY[final] : 0.1000\n",
      "\u001b[32mLearned Step : 3111529\n",
      "\u001b[34mAVG   Return : 3.5800\n",
      "saved step 3111529 in ckpt/\n"
     ]
    },
    {
     "name": "stderr",
     "output_type": "stream",
     "text": [
      " 76%|███████▌  | 38000/50000 [16:33:43<7:24:51,  2.22s/it]"
     ]
    },
    {
     "name": "stdout",
     "output_type": "stream",
     "text": [
      "\u001b[31m[EPISODE 38000 / STEP 12457859] - EPSILON-GREEDY[final] : 0.1000\n",
      "\u001b[32mLearned Step : 3116193\n",
      "\u001b[34mAVG   Return : 3.5200\n",
      "saved step 3116193 in ckpt/\n"
     ]
    },
    {
     "name": "stderr",
     "output_type": "stream",
     "text": [
      " 76%|███████▌  | 38050/50000 [16:35:19<6:24:37,  1.93s/it]"
     ]
    },
    {
     "name": "stdout",
     "output_type": "stream",
     "text": [
      "\u001b[31m[EPISODE 38050 / STEP 12477647] - EPSILON-GREEDY[final] : 0.1000\n",
      "\u001b[32mLearned Step : 3121158\n",
      "\u001b[34mAVG   Return : 3.5800\n",
      "saved step 3121158 in ckpt/\n"
     ]
    },
    {
     "name": "stderr",
     "output_type": "stream",
     "text": [
      " 76%|███████▌  | 38100/50000 [16:36:42<6:39:45,  2.02s/it]"
     ]
    },
    {
     "name": "stdout",
     "output_type": "stream",
     "text": [
      "\u001b[31m[EPISODE 38100 / STEP 12494795] - EPSILON-GREEDY[final] : 0.1000\n",
      "\u001b[32mLearned Step : 3125464\n",
      "\u001b[34mAVG   Return : 2.6600\n",
      "saved step 3125464 in ckpt/\n"
     ]
    },
    {
     "name": "stderr",
     "output_type": "stream",
     "text": [
      " 76%|███████▋  | 38150/50000 [16:38:14<6:38:31,  2.02s/it]"
     ]
    },
    {
     "name": "stdout",
     "output_type": "stream",
     "text": [
      "\u001b[31m[EPISODE 38150 / STEP 12514050] - EPSILON-GREEDY[final] : 0.1000\n",
      "\u001b[32mLearned Step : 3130296\n",
      "\u001b[34mAVG   Return : 3.3800\n",
      "saved step 3130296 in ckpt/\n"
     ]
    },
    {
     "name": "stderr",
     "output_type": "stream",
     "text": [
      " 76%|███████▋  | 38200/50000 [16:39:52<6:24:12,  1.95s/it]"
     ]
    },
    {
     "name": "stdout",
     "output_type": "stream",
     "text": [
      "\u001b[31m[EPISODE 38200 / STEP 12534152] - EPSILON-GREEDY[final] : 0.1000\n",
      "\u001b[32mLearned Step : 3135337\n",
      "\u001b[34mAVG   Return : 3.4800\n",
      "saved step 3135337 in ckpt/\n"
     ]
    },
    {
     "name": "stderr",
     "output_type": "stream",
     "text": [
      " 76%|███████▋  | 38250/50000 [16:41:23<4:40:46,  1.43s/it]"
     ]
    },
    {
     "name": "stdout",
     "output_type": "stream",
     "text": [
      "\u001b[31m[EPISODE 38250 / STEP 12553001] - EPSILON-GREEDY[final] : 0.1000\n",
      "\u001b[32mLearned Step : 3140068\n",
      "\u001b[34mAVG   Return : 3.7000\n",
      "saved step 3140068 in ckpt/\n"
     ]
    },
    {
     "name": "stderr",
     "output_type": "stream",
     "text": [
      " 77%|███████▋  | 38300/50000 [16:42:50<6:21:16,  1.96s/it]"
     ]
    },
    {
     "name": "stdout",
     "output_type": "stream",
     "text": [
      "\u001b[31m[EPISODE 38300 / STEP 12570752] - EPSILON-GREEDY[final] : 0.1000\n",
      "\u001b[32mLearned Step : 3144524\n",
      "\u001b[34mAVG   Return : 3.2000\n",
      "saved step 3144524 in ckpt/\n"
     ]
    },
    {
     "name": "stderr",
     "output_type": "stream",
     "text": [
      " 77%|███████▋  | 38350/50000 [16:44:23<4:37:53,  1.43s/it] "
     ]
    },
    {
     "name": "stdout",
     "output_type": "stream",
     "text": [
      "\u001b[31m[EPISODE 38350 / STEP 12589996] - EPSILON-GREEDY[final] : 0.1000\n",
      "\u001b[32mLearned Step : 3149355\n",
      "\u001b[34mAVG   Return : 3.3400\n",
      "saved step 3149355 in ckpt/\n"
     ]
    },
    {
     "name": "stderr",
     "output_type": "stream",
     "text": [
      " 77%|███████▋  | 38400/50000 [16:45:41<5:40:13,  1.76s/it]"
     ]
    },
    {
     "name": "stdout",
     "output_type": "stream",
     "text": [
      "\u001b[31m[EPISODE 38400 / STEP 12605935] - EPSILON-GREEDY[final] : 0.1000\n",
      "\u001b[32mLearned Step : 3153357\n",
      "\u001b[34mAVG   Return : 2.7200\n",
      "saved step 3153357 in ckpt/\n"
     ]
    },
    {
     "name": "stderr",
     "output_type": "stream",
     "text": [
      " 77%|███████▋  | 38450/50000 [16:46:47<4:49:52,  1.51s/it]"
     ]
    },
    {
     "name": "stdout",
     "output_type": "stream",
     "text": [
      "\u001b[31m[EPISODE 38450 / STEP 12619654] - EPSILON-GREEDY[final] : 0.1000\n",
      "\u001b[32mLearned Step : 3156804\n",
      "\u001b[34mAVG   Return : 1.9600\n",
      "saved step 3156804 in ckpt/\n"
     ]
    },
    {
     "name": "stderr",
     "output_type": "stream",
     "text": [
      " 77%|███████▋  | 38500/50000 [16:48:06<5:38:06,  1.76s/it]"
     ]
    },
    {
     "name": "stdout",
     "output_type": "stream",
     "text": [
      "\u001b[31m[EPISODE 38500 / STEP 12636043] - EPSILON-GREEDY[final] : 0.1000\n",
      "\u001b[32mLearned Step : 3160922\n",
      "\u001b[34mAVG   Return : 2.9200\n",
      "saved step 3160922 in ckpt/\n"
     ]
    },
    {
     "name": "stderr",
     "output_type": "stream",
     "text": [
      " 77%|███████▋  | 38550/50000 [16:49:24<4:50:39,  1.52s/it]"
     ]
    },
    {
     "name": "stdout",
     "output_type": "stream",
     "text": [
      "\u001b[31m[EPISODE 38550 / STEP 12651907] - EPSILON-GREEDY[final] : 0.1000\n",
      "\u001b[32mLearned Step : 3164910\n",
      "\u001b[34mAVG   Return : 2.6400\n",
      "saved step 3164910 in ckpt/\n"
     ]
    },
    {
     "name": "stderr",
     "output_type": "stream",
     "text": [
      " 77%|███████▋  | 38600/50000 [16:50:57<5:58:07,  1.88s/it] "
     ]
    },
    {
     "name": "stdout",
     "output_type": "stream",
     "text": [
      "\u001b[31m[EPISODE 38600 / STEP 12671203] - EPSILON-GREEDY[final] : 0.1000\n",
      "\u001b[32mLearned Step : 3169752\n",
      "\u001b[34mAVG   Return : 3.1600\n",
      "saved step 3169752 in ckpt/\n"
     ]
    },
    {
     "name": "stderr",
     "output_type": "stream",
     "text": [
      " 77%|███████▋  | 38650/50000 [16:52:24<5:08:38,  1.63s/it]"
     ]
    },
    {
     "name": "stdout",
     "output_type": "stream",
     "text": [
      "\u001b[31m[EPISODE 38650 / STEP 12689448] - EPSILON-GREEDY[final] : 0.1000\n",
      "\u001b[32mLearned Step : 3174330\n",
      "\u001b[34mAVG   Return : 3.4000\n",
      "saved step 3174330 in ckpt/\n"
     ]
    },
    {
     "name": "stderr",
     "output_type": "stream",
     "text": [
      " 77%|███████▋  | 38700/50000 [16:53:57<6:27:19,  2.06s/it]"
     ]
    },
    {
     "name": "stdout",
     "output_type": "stream",
     "text": [
      "\u001b[31m[EPISODE 38700 / STEP 12708515] - EPSILON-GREEDY[final] : 0.1000\n",
      "\u001b[32mLearned Step : 3179115\n",
      "\u001b[34mAVG   Return : 3.8400\n",
      "saved step 3179115 in ckpt/\n"
     ]
    },
    {
     "name": "stderr",
     "output_type": "stream",
     "text": [
      " 78%|███████▊  | 38750/50000 [16:55:20<4:21:21,  1.39s/it]"
     ]
    },
    {
     "name": "stdout",
     "output_type": "stream",
     "text": [
      "\u001b[31m[EPISODE 38750 / STEP 12725609] - EPSILON-GREEDY[final] : 0.1000\n",
      "\u001b[32mLearned Step : 3183408\n",
      "\u001b[34mAVG   Return : 3.2000\n",
      "saved step 3183408 in ckpt/\n"
     ]
    },
    {
     "name": "stderr",
     "output_type": "stream",
     "text": [
      " 78%|███████▊  | 38800/50000 [16:56:30<4:12:17,  1.35s/it]"
     ]
    },
    {
     "name": "stdout",
     "output_type": "stream",
     "text": [
      "\u001b[31m[EPISODE 38800 / STEP 12740056] - EPSILON-GREEDY[final] : 0.1000\n",
      "\u001b[32mLearned Step : 3187038\n",
      "\u001b[34mAVG   Return : 2.1200\n",
      "saved step 3187038 in ckpt/\n"
     ]
    },
    {
     "name": "stderr",
     "output_type": "stream",
     "text": [
      " 78%|███████▊  | 38850/50000 [16:57:46<5:10:04,  1.67s/it]"
     ]
    },
    {
     "name": "stdout",
     "output_type": "stream",
     "text": [
      "\u001b[31m[EPISODE 38850 / STEP 12756027] - EPSILON-GREEDY[final] : 0.1000\n",
      "\u001b[32mLearned Step : 3191051\n",
      "\u001b[34mAVG   Return : 2.9200\n",
      "saved step 3191051 in ckpt/\n"
     ]
    },
    {
     "name": "stderr",
     "output_type": "stream",
     "text": [
      " 78%|███████▊  | 38900/50000 [16:59:11<4:40:37,  1.52s/it]"
     ]
    },
    {
     "name": "stdout",
     "output_type": "stream",
     "text": [
      "\u001b[31m[EPISODE 38900 / STEP 12773764] - EPSILON-GREEDY[final] : 0.1000\n",
      "\u001b[32mLearned Step : 3195503\n",
      "\u001b[34mAVG   Return : 3.2000\n",
      "saved step 3195503 in ckpt/\n"
     ]
    },
    {
     "name": "stderr",
     "output_type": "stream",
     "text": [
      " 78%|███████▊  | 38950/50000 [17:00:35<4:25:43,  1.44s/it]"
     ]
    },
    {
     "name": "stdout",
     "output_type": "stream",
     "text": [
      "\u001b[31m[EPISODE 38950 / STEP 12790920] - EPSILON-GREEDY[final] : 0.1000\n",
      "\u001b[32mLearned Step : 3199810\n",
      "\u001b[34mAVG   Return : 3.2000\n",
      "saved step 3199810 in ckpt/\n"
     ]
    },
    {
     "name": "stderr",
     "output_type": "stream",
     "text": [
      " 78%|███████▊  | 39000/50000 [17:01:52<4:20:53,  1.42s/it]"
     ]
    },
    {
     "name": "stdout",
     "output_type": "stream",
     "text": [
      "\u001b[31m[EPISODE 39000 / STEP 12806771] - EPSILON-GREEDY[final] : 0.1000\n",
      "\u001b[32mLearned Step : 3203791\n",
      "\u001b[34mAVG   Return : 2.6600\n",
      "saved step 3203791 in ckpt/\n"
     ]
    },
    {
     "name": "stderr",
     "output_type": "stream",
     "text": [
      " 78%|███████▊  | 39050/50000 [17:03:10<5:11:59,  1.71s/it]"
     ]
    },
    {
     "name": "stdout",
     "output_type": "stream",
     "text": [
      "\u001b[31m[EPISODE 39050 / STEP 12822916] - EPSILON-GREEDY[final] : 0.1000\n",
      "\u001b[32mLearned Step : 3207848\n",
      "\u001b[34mAVG   Return : 2.8400\n",
      "saved step 3207848 in ckpt/\n"
     ]
    },
    {
     "name": "stderr",
     "output_type": "stream",
     "text": [
      " 78%|███████▊  | 39100/50000 [17:04:22<4:59:46,  1.65s/it]"
     ]
    },
    {
     "name": "stdout",
     "output_type": "stream",
     "text": [
      "\u001b[31m[EPISODE 39100 / STEP 12837983] - EPSILON-GREEDY[final] : 0.1000\n",
      "\u001b[32mLearned Step : 3211636\n",
      "\u001b[34mAVG   Return : 2.3600\n",
      "saved step 3211636 in ckpt/\n"
     ]
    },
    {
     "name": "stderr",
     "output_type": "stream",
     "text": [
      " 78%|███████▊  | 39150/50000 [17:05:40<4:36:08,  1.53s/it]"
     ]
    },
    {
     "name": "stdout",
     "output_type": "stream",
     "text": [
      "\u001b[31m[EPISODE 39150 / STEP 12854067] - EPSILON-GREEDY[final] : 0.1000\n",
      "\u001b[32mLearned Step : 3215678\n",
      "\u001b[34mAVG   Return : 2.4400\n",
      "saved step 3215678 in ckpt/\n"
     ]
    },
    {
     "name": "stderr",
     "output_type": "stream",
     "text": [
      " 78%|███████▊  | 39200/50000 [17:06:56<4:38:40,  1.55s/it]"
     ]
    },
    {
     "name": "stdout",
     "output_type": "stream",
     "text": [
      "\u001b[31m[EPISODE 39200 / STEP 12869782] - EPSILON-GREEDY[final] : 0.1000\n",
      "\u001b[32mLearned Step : 3219623\n",
      "\u001b[34mAVG   Return : 2.6800\n",
      "saved step 3219623 in ckpt/\n"
     ]
    },
    {
     "name": "stderr",
     "output_type": "stream",
     "text": [
      " 78%|███████▊  | 39250/50000 [17:08:04<4:41:23,  1.57s/it]"
     ]
    },
    {
     "name": "stdout",
     "output_type": "stream",
     "text": [
      "\u001b[31m[EPISODE 39250 / STEP 12883946] - EPSILON-GREEDY[final] : 0.1000\n",
      "\u001b[32mLearned Step : 3223182\n",
      "\u001b[34mAVG   Return : 2.1200\n",
      "saved step 3223182 in ckpt/\n"
     ]
    },
    {
     "name": "stderr",
     "output_type": "stream",
     "text": [
      " 79%|███████▊  | 39300/50000 [17:09:21<4:59:28,  1.68s/it]"
     ]
    },
    {
     "name": "stdout",
     "output_type": "stream",
     "text": [
      "\u001b[31m[EPISODE 39300 / STEP 12900008] - EPSILON-GREEDY[final] : 0.1000\n",
      "\u001b[32mLearned Step : 3227217\n",
      "\u001b[34mAVG   Return : 2.8400\n",
      "saved step 3227217 in ckpt/\n"
     ]
    },
    {
     "name": "stderr",
     "output_type": "stream",
     "text": [
      " 79%|███████▊  | 39350/50000 [17:10:53<5:05:40,  1.72s/it]"
     ]
    },
    {
     "name": "stdout",
     "output_type": "stream",
     "text": [
      "\u001b[31m[EPISODE 39350 / STEP 12919239] - EPSILON-GREEDY[final] : 0.1000\n",
      "\u001b[32mLearned Step : 3232040\n",
      "\u001b[34mAVG   Return : 3.9800\n",
      "saved step 3232040 in ckpt/\n"
     ]
    },
    {
     "name": "stderr",
     "output_type": "stream",
     "text": [
      " 79%|███████▉  | 39400/50000 [17:12:22<4:53:59,  1.66s/it]"
     ]
    },
    {
     "name": "stdout",
     "output_type": "stream",
     "text": [
      "\u001b[31m[EPISODE 39400 / STEP 12937735] - EPSILON-GREEDY[final] : 0.1000\n",
      "\u001b[32mLearned Step : 3236677\n",
      "\u001b[34mAVG   Return : 3.6600\n",
      "saved step 3236677 in ckpt/\n"
     ]
    },
    {
     "name": "stderr",
     "output_type": "stream",
     "text": [
      " 79%|███████▉  | 39450/50000 [17:13:50<3:49:19,  1.30s/it]"
     ]
    },
    {
     "name": "stdout",
     "output_type": "stream",
     "text": [
      "\u001b[31m[EPISODE 39450 / STEP 12955662] - EPSILON-GREEDY[final] : 0.1000\n",
      "\u001b[32mLearned Step : 3241181\n",
      "\u001b[34mAVG   Return : 3.5800\n",
      "saved step 3241181 in ckpt/\n"
     ]
    },
    {
     "name": "stderr",
     "output_type": "stream",
     "text": [
      " 79%|███████▉  | 39500/50000 [17:15:23<6:16:45,  2.15s/it]"
     ]
    },
    {
     "name": "stdout",
     "output_type": "stream",
     "text": [
      "\u001b[31m[EPISODE 39500 / STEP 12975118] - EPSILON-GREEDY[final] : 0.1000\n",
      "\u001b[32mLearned Step : 3246065\n",
      "\u001b[34mAVG   Return : 4.2800\n",
      "saved step 3246065 in ckpt/\n"
     ]
    },
    {
     "name": "stderr",
     "output_type": "stream",
     "text": [
      " 79%|███████▉  | 39550/50000 [17:16:52<5:03:18,  1.74s/it]"
     ]
    },
    {
     "name": "stdout",
     "output_type": "stream",
     "text": [
      "\u001b[31m[EPISODE 39550 / STEP 12993469] - EPSILON-GREEDY[final] : 0.1000\n",
      "\u001b[32mLearned Step : 3250672\n",
      "\u001b[34mAVG   Return : 3.8600\n",
      "saved step 3250672 in ckpt/\n"
     ]
    },
    {
     "name": "stderr",
     "output_type": "stream",
     "text": [
      " 79%|███████▉  | 39600/50000 [17:18:13<4:24:49,  1.53s/it]"
     ]
    },
    {
     "name": "stdout",
     "output_type": "stream",
     "text": [
      "\u001b[31m[EPISODE 39600 / STEP 13010161] - EPSILON-GREEDY[final] : 0.1000\n",
      "\u001b[32mLearned Step : 3254863\n",
      "\u001b[34mAVG   Return : 3.2800\n",
      "saved step 3254863 in ckpt/\n"
     ]
    },
    {
     "name": "stderr",
     "output_type": "stream",
     "text": [
      " 79%|███████▉  | 39650/50000 [17:19:30<4:09:52,  1.45s/it]"
     ]
    },
    {
     "name": "stdout",
     "output_type": "stream",
     "text": [
      "\u001b[31m[EPISODE 39650 / STEP 13026109] - EPSILON-GREEDY[final] : 0.1000\n",
      "\u001b[32mLearned Step : 3258871\n",
      "\u001b[34mAVG   Return : 2.8400\n",
      "saved step 3258871 in ckpt/\n"
     ]
    },
    {
     "name": "stderr",
     "output_type": "stream",
     "text": [
      " 79%|███████▉  | 39700/50000 [17:21:05<4:35:22,  1.60s/it]"
     ]
    },
    {
     "name": "stdout",
     "output_type": "stream",
     "text": [
      "\u001b[31m[EPISODE 39700 / STEP 13045866] - EPSILON-GREEDY[final] : 0.1000\n",
      "\u001b[32mLearned Step : 3263831\n",
      "\u001b[34mAVG   Return : 3.7200\n",
      "saved step 3263831 in ckpt/\n"
     ]
    },
    {
     "name": "stderr",
     "output_type": "stream",
     "text": [
      " 80%|███████▉  | 39750/50000 [17:22:31<6:04:47,  2.14s/it]"
     ]
    },
    {
     "name": "stdout",
     "output_type": "stream",
     "text": [
      "\u001b[31m[EPISODE 39750 / STEP 13063859] - EPSILON-GREEDY[final] : 0.1000\n",
      "\u001b[32mLearned Step : 3268350\n",
      "\u001b[34mAVG   Return : 3.0400\n",
      "saved step 3268350 in ckpt/\n"
     ]
    },
    {
     "name": "stderr",
     "output_type": "stream",
     "text": [
      " 80%|███████▉  | 39800/50000 [17:24:08<5:03:51,  1.79s/it]"
     ]
    },
    {
     "name": "stdout",
     "output_type": "stream",
     "text": [
      "\u001b[31m[EPISODE 39800 / STEP 13083704] - EPSILON-GREEDY[final] : 0.1000\n",
      "\u001b[32mLearned Step : 3273325\n",
      "\u001b[34mAVG   Return : 3.8600\n",
      "saved step 3273325 in ckpt/\n"
     ]
    },
    {
     "name": "stderr",
     "output_type": "stream",
     "text": [
      " 80%|███████▉  | 39850/50000 [17:25:49<6:05:54,  2.16s/it]"
     ]
    },
    {
     "name": "stdout",
     "output_type": "stream",
     "text": [
      "\u001b[31m[EPISODE 39850 / STEP 13104763] - EPSILON-GREEDY[final] : 0.1000\n",
      "\u001b[32mLearned Step : 3278608\n",
      "\u001b[34mAVG   Return : 4.5600\n",
      "saved step 3278608 in ckpt/\n"
     ]
    },
    {
     "name": "stderr",
     "output_type": "stream",
     "text": [
      " 80%|███████▉  | 39900/50000 [17:27:17<4:15:40,  1.52s/it]"
     ]
    },
    {
     "name": "stdout",
     "output_type": "stream",
     "text": [
      "\u001b[31m[EPISODE 39900 / STEP 13122995] - EPSILON-GREEDY[final] : 0.1000\n",
      "\u001b[32mLearned Step : 3283186\n",
      "\u001b[34mAVG   Return : 3.4000\n",
      "saved step 3283186 in ckpt/\n"
     ]
    },
    {
     "name": "stderr",
     "output_type": "stream",
     "text": [
      " 80%|███████▉  | 39950/50000 [17:28:49<4:44:35,  1.70s/it]"
     ]
    },
    {
     "name": "stdout",
     "output_type": "stream",
     "text": [
      "\u001b[31m[EPISODE 39950 / STEP 13142029] - EPSILON-GREEDY[final] : 0.1000\n",
      "\u001b[32mLearned Step : 3287961\n",
      "\u001b[34mAVG   Return : 3.7000\n",
      "saved step 3287961 in ckpt/\n"
     ]
    },
    {
     "name": "stderr",
     "output_type": "stream",
     "text": [
      " 80%|████████  | 40000/50000 [17:30:12<5:10:30,  1.86s/it]"
     ]
    },
    {
     "name": "stdout",
     "output_type": "stream",
     "text": [
      "\u001b[31m[EPISODE 40000 / STEP 13159181] - EPSILON-GREEDY[final] : 0.1000\n",
      "\u001b[32mLearned Step : 3292266\n",
      "\u001b[34mAVG   Return : 2.8000\n",
      "saved step 3292266 in ckpt/\n"
     ]
    },
    {
     "name": "stderr",
     "output_type": "stream",
     "text": [
      " 80%|████████  | 40050/50000 [17:31:31<6:21:19,  2.30s/it]"
     ]
    },
    {
     "name": "stdout",
     "output_type": "stream",
     "text": [
      "\u001b[31m[EPISODE 40050 / STEP 13175601] - EPSILON-GREEDY[final] : 0.1000\n",
      "\u001b[32mLearned Step : 3296387\n",
      "\u001b[34mAVG   Return : 2.9600\n",
      "saved step 3296387 in ckpt/\n"
     ]
    },
    {
     "name": "stderr",
     "output_type": "stream",
     "text": [
      " 80%|████████  | 40100/50000 [17:32:38<3:36:10,  1.31s/it]"
     ]
    },
    {
     "name": "stdout",
     "output_type": "stream",
     "text": [
      "\u001b[31m[EPISODE 40100 / STEP 13189289] - EPSILON-GREEDY[final] : 0.1000\n",
      "\u001b[32mLearned Step : 3299826\n",
      "\u001b[34mAVG   Return : 1.9600\n",
      "saved step 3299826 in ckpt/\n"
     ]
    },
    {
     "name": "stderr",
     "output_type": "stream",
     "text": [
      " 80%|████████  | 40150/50000 [17:34:01<4:46:32,  1.75s/it]"
     ]
    },
    {
     "name": "stdout",
     "output_type": "stream",
     "text": [
      "\u001b[31m[EPISODE 40150 / STEP 13206503] - EPSILON-GREEDY[final] : 0.1000\n",
      "\u001b[32mLearned Step : 3304147\n",
      "\u001b[34mAVG   Return : 3.1400\n",
      "saved step 3304147 in ckpt/\n"
     ]
    },
    {
     "name": "stderr",
     "output_type": "stream",
     "text": [
      " 80%|████████  | 40200/50000 [17:35:28<4:34:26,  1.68s/it]"
     ]
    },
    {
     "name": "stdout",
     "output_type": "stream",
     "text": [
      "\u001b[31m[EPISODE 40200 / STEP 13224602] - EPSILON-GREEDY[final] : 0.1000\n",
      "\u001b[32mLearned Step : 3308688\n",
      "\u001b[34mAVG   Return : 3.1200\n",
      "saved step 3308688 in ckpt/\n"
     ]
    },
    {
     "name": "stderr",
     "output_type": "stream",
     "text": [
      " 80%|████████  | 40250/50000 [17:36:52<4:02:49,  1.49s/it]"
     ]
    },
    {
     "name": "stdout",
     "output_type": "stream",
     "text": [
      "\u001b[31m[EPISODE 40250 / STEP 13241913] - EPSILON-GREEDY[final] : 0.1000\n",
      "\u001b[32mLearned Step : 3313035\n",
      "\u001b[34mAVG   Return : 3.0600\n",
      "saved step 3313035 in ckpt/\n"
     ]
    },
    {
     "name": "stderr",
     "output_type": "stream",
     "text": [
      " 81%|████████  | 40300/50000 [17:38:09<4:54:04,  1.82s/it]"
     ]
    },
    {
     "name": "stdout",
     "output_type": "stream",
     "text": [
      "\u001b[31m[EPISODE 40300 / STEP 13257991] - EPSILON-GREEDY[final] : 0.1000\n",
      "\u001b[32mLearned Step : 3317073\n",
      "\u001b[34mAVG   Return : 2.6000\n",
      "saved step 3317073 in ckpt/\n"
     ]
    },
    {
     "name": "stderr",
     "output_type": "stream",
     "text": [
      " 81%|████████  | 40350/50000 [17:39:22<3:08:07,  1.17s/it]"
     ]
    },
    {
     "name": "stdout",
     "output_type": "stream",
     "text": [
      "\u001b[31m[EPISODE 40350 / STEP 13273033] - EPSILON-GREEDY[final] : 0.1000\n",
      "\u001b[32mLearned Step : 3320850\n",
      "\u001b[34mAVG   Return : 2.1800\n",
      "saved step 3320850 in ckpt/\n"
     ]
    },
    {
     "name": "stderr",
     "output_type": "stream",
     "text": [
      " 81%|████████  | 40400/50000 [17:40:52<4:55:37,  1.85s/it]"
     ]
    },
    {
     "name": "stdout",
     "output_type": "stream",
     "text": [
      "\u001b[31m[EPISODE 40400 / STEP 13291906] - EPSILON-GREEDY[final] : 0.1000\n",
      "\u001b[32mLearned Step : 3325585\n",
      "\u001b[34mAVG   Return : 3.4200\n",
      "saved step 3325585 in ckpt/\n"
     ]
    },
    {
     "name": "stderr",
     "output_type": "stream",
     "text": [
      " 81%|████████  | 40450/50000 [17:42:07<5:00:09,  1.89s/it]"
     ]
    },
    {
     "name": "stdout",
     "output_type": "stream",
     "text": [
      "\u001b[31m[EPISODE 40450 / STEP 13307144] - EPSILON-GREEDY[final] : 0.1000\n",
      "\u001b[32mLearned Step : 3329414\n",
      "\u001b[34mAVG   Return : 2.5600\n",
      "saved step 3329414 in ckpt/\n"
     ]
    },
    {
     "name": "stderr",
     "output_type": "stream",
     "text": [
      " 81%|████████  | 40500/50000 [17:43:23<3:59:04,  1.51s/it]"
     ]
    },
    {
     "name": "stdout",
     "output_type": "stream",
     "text": [
      "\u001b[31m[EPISODE 40500 / STEP 13322962] - EPSILON-GREEDY[final] : 0.1000\n",
      "\u001b[32mLearned Step : 3333383\n",
      "\u001b[34mAVG   Return : 2.5600\n",
      "saved step 3333383 in ckpt/\n"
     ]
    },
    {
     "name": "stderr",
     "output_type": "stream",
     "text": [
      " 81%|████████  | 40550/50000 [17:44:50<4:57:59,  1.89s/it]"
     ]
    },
    {
     "name": "stdout",
     "output_type": "stream",
     "text": [
      "\u001b[31m[EPISODE 40550 / STEP 13340755] - EPSILON-GREEDY[final] : 0.1000\n",
      "\u001b[32mLearned Step : 3337849\n",
      "\u001b[34mAVG   Return : 3.2400\n",
      "saved step 3337849 in ckpt/\n"
     ]
    },
    {
     "name": "stderr",
     "output_type": "stream",
     "text": [
      " 81%|████████  | 40600/50000 [17:46:19<4:40:57,  1.79s/it]"
     ]
    },
    {
     "name": "stdout",
     "output_type": "stream",
     "text": [
      "\u001b[31m[EPISODE 40600 / STEP 13359108] - EPSILON-GREEDY[final] : 0.1000\n",
      "\u001b[32mLearned Step : 3342456\n",
      "\u001b[34mAVG   Return : 3.6600\n",
      "saved step 3342456 in ckpt/\n"
     ]
    },
    {
     "name": "stderr",
     "output_type": "stream",
     "text": [
      " 81%|████████▏ | 40650/50000 [17:47:48<5:16:06,  2.03s/it]"
     ]
    },
    {
     "name": "stdout",
     "output_type": "stream",
     "text": [
      "\u001b[31m[EPISODE 40650 / STEP 13377390] - EPSILON-GREEDY[final] : 0.1000\n",
      "\u001b[32mLearned Step : 3347048\n",
      "\u001b[34mAVG   Return : 3.3400\n",
      "saved step 3347048 in ckpt/\n"
     ]
    },
    {
     "name": "stderr",
     "output_type": "stream",
     "text": [
      " 81%|████████▏ | 40700/50000 [17:49:05<5:28:27,  2.12s/it]"
     ]
    },
    {
     "name": "stdout",
     "output_type": "stream",
     "text": [
      "\u001b[31m[EPISODE 40700 / STEP 13393393] - EPSILON-GREEDY[final] : 0.1000\n",
      "\u001b[32mLearned Step : 3351063\n",
      "\u001b[34mAVG   Return : 2.7400\n",
      "saved step 3351063 in ckpt/\n"
     ]
    },
    {
     "name": "stderr",
     "output_type": "stream",
     "text": [
      " 82%|████████▏ | 40750/50000 [17:50:26<4:01:01,  1.56s/it]"
     ]
    },
    {
     "name": "stdout",
     "output_type": "stream",
     "text": [
      "\u001b[31m[EPISODE 40750 / STEP 13410099] - EPSILON-GREEDY[final] : 0.1000\n",
      "\u001b[32mLearned Step : 3355260\n",
      "\u001b[34mAVG   Return : 3.0600\n",
      "saved step 3355260 in ckpt/\n"
     ]
    },
    {
     "name": "stderr",
     "output_type": "stream",
     "text": [
      " 82%|████████▏ | 40800/50000 [17:51:39<2:47:03,  1.09s/it]"
     ]
    },
    {
     "name": "stdout",
     "output_type": "stream",
     "text": [
      "\u001b[31m[EPISODE 40800 / STEP 13425089] - EPSILON-GREEDY[final] : 0.1000\n",
      "\u001b[32mLearned Step : 3359030\n",
      "\u001b[34mAVG   Return : 2.3800\n",
      "saved step 3359030 in ckpt/\n"
     ]
    },
    {
     "name": "stderr",
     "output_type": "stream",
     "text": [
      " 82%|████████▏ | 40850/50000 [17:52:47<3:38:04,  1.43s/it]"
     ]
    },
    {
     "name": "stdout",
     "output_type": "stream",
     "text": [
      "\u001b[31m[EPISODE 40850 / STEP 13439136] - EPSILON-GREEDY[final] : 0.1000\n",
      "\u001b[32mLearned Step : 3362565\n",
      "\u001b[34mAVG   Return : 2.0000\n",
      "saved step 3362565 in ckpt/\n"
     ]
    },
    {
     "name": "stderr",
     "output_type": "stream",
     "text": [
      " 82%|████████▏ | 40900/50000 [17:53:57<2:45:34,  1.09s/it]"
     ]
    },
    {
     "name": "stdout",
     "output_type": "stream",
     "text": [
      "\u001b[31m[EPISODE 40900 / STEP 13453429] - EPSILON-GREEDY[final] : 0.1000\n",
      "\u001b[32mLearned Step : 3366154\n",
      "\u001b[34mAVG   Return : 2.2000\n",
      "saved step 3366154 in ckpt/\n"
     ]
    },
    {
     "name": "stderr",
     "output_type": "stream",
     "text": [
      " 82%|████████▏ | 40950/50000 [17:55:14<3:53:06,  1.55s/it]"
     ]
    },
    {
     "name": "stdout",
     "output_type": "stream",
     "text": [
      "\u001b[31m[EPISODE 40950 / STEP 13469439] - EPSILON-GREEDY[final] : 0.1000\n",
      "\u001b[32mLearned Step : 3370174\n",
      "\u001b[34mAVG   Return : 2.6400\n",
      "saved step 3370174 in ckpt/\n"
     ]
    },
    {
     "name": "stderr",
     "output_type": "stream",
     "text": [
      " 82%|████████▏ | 41000/50000 [17:56:29<2:57:36,  1.18s/it]"
     ]
    },
    {
     "name": "stdout",
     "output_type": "stream",
     "text": [
      "\u001b[31m[EPISODE 41000 / STEP 13484734] - EPSILON-GREEDY[final] : 0.1000\n",
      "\u001b[32mLearned Step : 3374017\n",
      "\u001b[34mAVG   Return : 2.1000\n",
      "saved step 3374017 in ckpt/\n"
     ]
    },
    {
     "name": "stderr",
     "output_type": "stream",
     "text": [
      " 82%|████████▏ | 41050/50000 [17:57:43<3:21:29,  1.35s/it]"
     ]
    },
    {
     "name": "stdout",
     "output_type": "stream",
     "text": [
      "\u001b[31m[EPISODE 41050 / STEP 13500020] - EPSILON-GREEDY[final] : 0.1000\n",
      "\u001b[32mLearned Step : 3377859\n",
      "\u001b[34mAVG   Return : 2.6000\n",
      "saved step 3377859 in ckpt/\n"
     ]
    },
    {
     "name": "stderr",
     "output_type": "stream",
     "text": [
      " 82%|████████▏ | 41100/50000 [17:58:56<4:22:07,  1.77s/it]"
     ]
    },
    {
     "name": "stdout",
     "output_type": "stream",
     "text": [
      "\u001b[31m[EPISODE 41100 / STEP 13514864] - EPSILON-GREEDY[final] : 0.1000\n",
      "\u001b[32mLearned Step : 3381591\n",
      "\u001b[34mAVG   Return : 2.2000\n",
      "saved step 3381591 in ckpt/\n"
     ]
    },
    {
     "name": "stderr",
     "output_type": "stream",
     "text": [
      " 82%|████████▏ | 41150/50000 [18:00:19<5:43:37,  2.33s/it]"
     ]
    },
    {
     "name": "stdout",
     "output_type": "stream",
     "text": [
      "\u001b[31m[EPISODE 41150 / STEP 13532055] - EPSILON-GREEDY[final] : 0.1000\n",
      "\u001b[32mLearned Step : 3385909\n",
      "\u001b[34mAVG   Return : 3.0200\n",
      "saved step 3385909 in ckpt/\n"
     ]
    },
    {
     "name": "stderr",
     "output_type": "stream",
     "text": [
      " 82%|████████▏ | 41200/50000 [18:01:53<4:55:04,  2.01s/it]"
     ]
    },
    {
     "name": "stdout",
     "output_type": "stream",
     "text": [
      "\u001b[31m[EPISODE 41200 / STEP 13551560] - EPSILON-GREEDY[final] : 0.1000\n",
      "\u001b[32mLearned Step : 3390806\n",
      "\u001b[34mAVG   Return : 3.9600\n",
      "saved step 3390806 in ckpt/\n"
     ]
    },
    {
     "name": "stderr",
     "output_type": "stream",
     "text": [
      " 82%|████████▎ | 41250/50000 [18:03:27<3:12:59,  1.32s/it]"
     ]
    },
    {
     "name": "stdout",
     "output_type": "stream",
     "text": [
      "\u001b[31m[EPISODE 41250 / STEP 13570903] - EPSILON-GREEDY[final] : 0.1000\n",
      "\u001b[32mLearned Step : 3395662\n",
      "\u001b[34mAVG   Return : 3.9000\n",
      "saved step 3395662 in ckpt/\n"
     ]
    },
    {
     "name": "stderr",
     "output_type": "stream",
     "text": [
      " 83%|████████▎ | 41300/50000 [18:04:51<5:41:41,  2.36s/it]"
     ]
    },
    {
     "name": "stdout",
     "output_type": "stream",
     "text": [
      "\u001b[31m[EPISODE 41300 / STEP 13588220] - EPSILON-GREEDY[final] : 0.1000\n",
      "\u001b[32mLearned Step : 3400007\n",
      "\u001b[34mAVG   Return : 3.1800\n",
      "saved step 3400007 in ckpt/\n"
     ]
    },
    {
     "name": "stderr",
     "output_type": "stream",
     "text": [
      " 83%|████████▎ | 41350/50000 [18:06:18<4:42:00,  1.96s/it]"
     ]
    },
    {
     "name": "stdout",
     "output_type": "stream",
     "text": [
      "\u001b[31m[EPISODE 41350 / STEP 13606230] - EPSILON-GREEDY[final] : 0.1000\n",
      "\u001b[32mLearned Step : 3404530\n",
      "\u001b[34mAVG   Return : 3.5200\n",
      "saved step 3404530 in ckpt/\n"
     ]
    },
    {
     "name": "stderr",
     "output_type": "stream",
     "text": [
      " 83%|████████▎ | 41400/50000 [18:07:38<4:57:49,  2.08s/it]"
     ]
    },
    {
     "name": "stdout",
     "output_type": "stream",
     "text": [
      "\u001b[31m[EPISODE 41400 / STEP 13622901] - EPSILON-GREEDY[final] : 0.1000\n",
      "\u001b[32mLearned Step : 3408720\n",
      "\u001b[34mAVG   Return : 2.9400\n",
      "saved step 3408720 in ckpt/\n"
     ]
    },
    {
     "name": "stderr",
     "output_type": "stream",
     "text": [
      " 83%|████████▎ | 41450/50000 [18:09:02<3:09:09,  1.33s/it]"
     ]
    },
    {
     "name": "stdout",
     "output_type": "stream",
     "text": [
      "\u001b[31m[EPISODE 41450 / STEP 13640086] - EPSILON-GREEDY[final] : 0.1000\n",
      "\u001b[32mLearned Step : 3413036\n",
      "\u001b[34mAVG   Return : 3.1600\n",
      "saved step 3413036 in ckpt/\n"
     ]
    },
    {
     "name": "stderr",
     "output_type": "stream",
     "text": [
      " 83%|████████▎ | 41500/50000 [18:10:10<2:05:19,  1.13it/s]"
     ]
    },
    {
     "name": "stdout",
     "output_type": "stream",
     "text": [
      "\u001b[31m[EPISODE 41500 / STEP 13654198] - EPSILON-GREEDY[final] : 0.1000\n",
      "\u001b[32mLearned Step : 3416581\n",
      "\u001b[34mAVG   Return : 2.0000\n",
      "saved step 3416581 in ckpt/\n"
     ]
    },
    {
     "name": "stderr",
     "output_type": "stream",
     "text": [
      " 83%|████████▎ | 41550/50000 [18:11:26<4:08:50,  1.77s/it]"
     ]
    },
    {
     "name": "stdout",
     "output_type": "stream",
     "text": [
      "\u001b[31m[EPISODE 41550 / STEP 13669882] - EPSILON-GREEDY[final] : 0.1000\n",
      "\u001b[32mLearned Step : 3420521\n",
      "\u001b[34mAVG   Return : 2.3000\n",
      "saved step 3420521 in ckpt/\n"
     ]
    },
    {
     "name": "stderr",
     "output_type": "stream",
     "text": [
      " 83%|████████▎ | 41600/50000 [18:12:37<2:53:21,  1.24s/it]"
     ]
    },
    {
     "name": "stdout",
     "output_type": "stream",
     "text": [
      "\u001b[31m[EPISODE 41600 / STEP 13684588] - EPSILON-GREEDY[final] : 0.1000\n",
      "\u001b[32mLearned Step : 3424216\n",
      "\u001b[34mAVG   Return : 2.1800\n",
      "saved step 3424216 in ckpt/\n"
     ]
    },
    {
     "name": "stderr",
     "output_type": "stream",
     "text": [
      " 83%|████████▎ | 41650/50000 [18:13:48<2:47:24,  1.20s/it]"
     ]
    },
    {
     "name": "stdout",
     "output_type": "stream",
     "text": [
      "\u001b[31m[EPISODE 41650 / STEP 13699312] - EPSILON-GREEDY[final] : 0.1000\n",
      "\u001b[32mLearned Step : 3427913\n",
      "\u001b[34mAVG   Return : 2.0200\n",
      "saved step 3427913 in ckpt/\n"
     ]
    },
    {
     "name": "stderr",
     "output_type": "stream",
     "text": [
      " 83%|████████▎ | 41700/50000 [18:15:09<3:08:45,  1.36s/it]"
     ]
    },
    {
     "name": "stdout",
     "output_type": "stream",
     "text": [
      "\u001b[31m[EPISODE 41700 / STEP 13716091] - EPSILON-GREEDY[final] : 0.1000\n",
      "\u001b[32mLearned Step : 3432125\n",
      "\u001b[34mAVG   Return : 2.6800\n",
      "saved step 3432125 in ckpt/\n"
     ]
    },
    {
     "name": "stderr",
     "output_type": "stream",
     "text": [
      " 84%|████████▎ | 41750/50000 [18:16:26<3:55:51,  1.72s/it]"
     ]
    },
    {
     "name": "stdout",
     "output_type": "stream",
     "text": [
      "\u001b[31m[EPISODE 41750 / STEP 13732140] - EPSILON-GREEDY[final] : 0.1000\n",
      "\u001b[32mLearned Step : 3436151\n",
      "\u001b[34mAVG   Return : 2.7000\n",
      "saved step 3436151 in ckpt/\n"
     ]
    },
    {
     "name": "stderr",
     "output_type": "stream",
     "text": [
      " 84%|████████▎ | 41800/50000 [18:17:47<4:11:14,  1.84s/it]"
     ]
    },
    {
     "name": "stdout",
     "output_type": "stream",
     "text": [
      "\u001b[31m[EPISODE 41800 / STEP 13748789] - EPSILON-GREEDY[final] : 0.1000\n",
      "\u001b[32mLearned Step : 3440334\n",
      "\u001b[34mAVG   Return : 3.1800\n",
      "saved step 3440334 in ckpt/\n"
     ]
    },
    {
     "name": "stderr",
     "output_type": "stream",
     "text": [
      " 84%|████████▎ | 41850/50000 [18:19:12<4:05:34,  1.81s/it]"
     ]
    },
    {
     "name": "stdout",
     "output_type": "stream",
     "text": [
      "\u001b[31m[EPISODE 41850 / STEP 13766322] - EPSILON-GREEDY[final] : 0.1000\n",
      "\u001b[32mLearned Step : 3444737\n",
      "\u001b[34mAVG   Return : 3.1200\n",
      "saved step 3444737 in ckpt/\n"
     ]
    },
    {
     "name": "stderr",
     "output_type": "stream",
     "text": [
      " 84%|████████▍ | 41900/50000 [18:20:38<2:43:00,  1.21s/it]"
     ]
    },
    {
     "name": "stdout",
     "output_type": "stream",
     "text": [
      "\u001b[31m[EPISODE 41900 / STEP 13784168] - EPSILON-GREEDY[final] : 0.1000\n",
      "\u001b[32mLearned Step : 3449222\n",
      "\u001b[34mAVG   Return : 3.0200\n",
      "saved step 3449222 in ckpt/\n"
     ]
    },
    {
     "name": "stderr",
     "output_type": "stream",
     "text": [
      " 84%|████████▍ | 41950/50000 [18:22:00<3:38:25,  1.63s/it]"
     ]
    },
    {
     "name": "stdout",
     "output_type": "stream",
     "text": [
      "\u001b[31m[EPISODE 41950 / STEP 13800883] - EPSILON-GREEDY[final] : 0.1000\n",
      "\u001b[32mLearned Step : 3453419\n",
      "\u001b[34mAVG   Return : 3.0000\n",
      "saved step 3453419 in ckpt/\n"
     ]
    },
    {
     "name": "stderr",
     "output_type": "stream",
     "text": [
      " 84%|████████▍ | 42000/50000 [18:23:24<5:03:02,  2.27s/it]"
     ]
    },
    {
     "name": "stdout",
     "output_type": "stream",
     "text": [
      "\u001b[31m[EPISODE 42000 / STEP 13818172] - EPSILON-GREEDY[final] : 0.1000\n",
      "\u001b[32mLearned Step : 3457761\n",
      "\u001b[34mAVG   Return : 3.3800\n",
      "saved step 3457761 in ckpt/\n"
     ]
    },
    {
     "name": "stderr",
     "output_type": "stream",
     "text": [
      " 84%|████████▍ | 42050/50000 [18:24:57<4:00:23,  1.81s/it]"
     ]
    },
    {
     "name": "stdout",
     "output_type": "stream",
     "text": [
      "\u001b[31m[EPISODE 42050 / STEP 13837366] - EPSILON-GREEDY[final] : 0.1000\n",
      "\u001b[32mLearned Step : 3462577\n",
      "\u001b[34mAVG   Return : 3.6800\n",
      "saved step 3462577 in ckpt/\n"
     ]
    },
    {
     "name": "stderr",
     "output_type": "stream",
     "text": [
      " 84%|████████▍ | 42100/50000 [18:26:30<4:11:34,  1.91s/it]"
     ]
    },
    {
     "name": "stdout",
     "output_type": "stream",
     "text": [
      "\u001b[31m[EPISODE 42100 / STEP 13856651] - EPSILON-GREEDY[final] : 0.1000\n",
      "\u001b[32mLearned Step : 3467417\n",
      "\u001b[34mAVG   Return : 3.9600\n",
      "saved step 3467417 in ckpt/\n"
     ]
    },
    {
     "name": "stderr",
     "output_type": "stream",
     "text": [
      " 84%|████████▍ | 42150/50000 [18:28:04<4:01:59,  1.85s/it]"
     ]
    },
    {
     "name": "stdout",
     "output_type": "stream",
     "text": [
      "\u001b[31m[EPISODE 42150 / STEP 13876151] - EPSILON-GREEDY[final] : 0.1000\n",
      "\u001b[32mLearned Step : 3472314\n",
      "\u001b[34mAVG   Return : 3.8600\n",
      "saved step 3472314 in ckpt/\n"
     ]
    },
    {
     "name": "stderr",
     "output_type": "stream",
     "text": [
      " 84%|████████▍ | 42200/50000 [18:29:33<3:05:14,  1.42s/it]"
     ]
    },
    {
     "name": "stdout",
     "output_type": "stream",
     "text": [
      "\u001b[31m[EPISODE 42200 / STEP 13894659] - EPSILON-GREEDY[final] : 0.1000\n",
      "\u001b[32mLearned Step : 3476960\n",
      "\u001b[34mAVG   Return : 3.6200\n",
      "saved step 3476960 in ckpt/\n"
     ]
    },
    {
     "name": "stderr",
     "output_type": "stream",
     "text": [
      " 84%|████████▍ | 42250/50000 [18:30:48<3:35:30,  1.67s/it]"
     ]
    },
    {
     "name": "stdout",
     "output_type": "stream",
     "text": [
      "\u001b[31m[EPISODE 42250 / STEP 13910309] - EPSILON-GREEDY[final] : 0.1000\n",
      "\u001b[32mLearned Step : 3480885\n",
      "\u001b[34mAVG   Return : 2.6600\n",
      "saved step 3480885 in ckpt/\n"
     ]
    },
    {
     "name": "stderr",
     "output_type": "stream",
     "text": [
      " 85%|████████▍ | 42300/50000 [18:31:58<3:18:48,  1.55s/it]"
     ]
    },
    {
     "name": "stdout",
     "output_type": "stream",
     "text": [
      "\u001b[31m[EPISODE 42300 / STEP 13924660] - EPSILON-GREEDY[final] : 0.1000\n",
      "\u001b[32mLearned Step : 3484491\n",
      "\u001b[34mAVG   Return : 2.2000\n",
      "saved step 3484491 in ckpt/\n"
     ]
    },
    {
     "name": "stderr",
     "output_type": "stream",
     "text": [
      " 85%|████████▍ | 42350/50000 [18:33:15<3:31:13,  1.66s/it]"
     ]
    },
    {
     "name": "stdout",
     "output_type": "stream",
     "text": [
      "\u001b[31m[EPISODE 42350 / STEP 13940466] - EPSILON-GREEDY[final] : 0.1000\n",
      "\u001b[32mLearned Step : 3488464\n",
      "\u001b[34mAVG   Return : 2.5800\n",
      "saved step 3488464 in ckpt/\n"
     ]
    },
    {
     "name": "stderr",
     "output_type": "stream",
     "text": [
      " 85%|████████▍ | 42400/50000 [18:34:26<3:42:15,  1.75s/it]"
     ]
    },
    {
     "name": "stdout",
     "output_type": "stream",
     "text": [
      "\u001b[31m[EPISODE 42400 / STEP 13955022] - EPSILON-GREEDY[final] : 0.1000\n",
      "\u001b[32mLearned Step : 3492121\n",
      "\u001b[34mAVG   Return : 2.1800\n",
      "saved step 3492121 in ckpt/\n"
     ]
    },
    {
     "name": "stderr",
     "output_type": "stream",
     "text": [
      " 85%|████████▍ | 42450/50000 [18:35:46<3:20:31,  1.59s/it]"
     ]
    },
    {
     "name": "stdout",
     "output_type": "stream",
     "text": [
      "\u001b[31m[EPISODE 42450 / STEP 13971623] - EPSILON-GREEDY[final] : 0.1000\n",
      "\u001b[32mLearned Step : 3496288\n",
      "\u001b[34mAVG   Return : 2.9600\n",
      "saved step 3496288 in ckpt/\n"
     ]
    },
    {
     "name": "stderr",
     "output_type": "stream",
     "text": [
      " 85%|████████▌ | 42500/50000 [18:37:08<4:28:43,  2.15s/it]"
     ]
    },
    {
     "name": "stdout",
     "output_type": "stream",
     "text": [
      "\u001b[31m[EPISODE 42500 / STEP 13988482] - EPSILON-GREEDY[final] : 0.1000\n",
      "\u001b[32mLearned Step : 3500524\n",
      "\u001b[34mAVG   Return : 2.8600\n",
      "saved step 3500524 in ckpt/\n"
     ]
    },
    {
     "name": "stderr",
     "output_type": "stream",
     "text": [
      " 85%|████████▌ | 42550/50000 [18:38:50<4:40:19,  2.26s/it]"
     ]
    },
    {
     "name": "stdout",
     "output_type": "stream",
     "text": [
      "\u001b[31m[EPISODE 42550 / STEP 14009754] - EPSILON-GREEDY[final] : 0.1000\n",
      "\u001b[32mLearned Step : 3505859\n",
      "\u001b[34mAVG   Return : 4.3600\n",
      "saved step 3505859 in ckpt/\n"
     ]
    },
    {
     "name": "stderr",
     "output_type": "stream",
     "text": [
      " 85%|████████▌ | 42600/50000 [18:40:25<4:33:20,  2.22s/it]"
     ]
    },
    {
     "name": "stdout",
     "output_type": "stream",
     "text": [
      "\u001b[31m[EPISODE 42600 / STEP 14029496] - EPSILON-GREEDY[final] : 0.1000\n",
      "\u001b[32mLearned Step : 3510811\n",
      "\u001b[34mAVG   Return : 3.7000\n",
      "saved step 3510811 in ckpt/\n"
     ]
    },
    {
     "name": "stderr",
     "output_type": "stream",
     "text": [
      " 85%|████████▌ | 42650/50000 [18:42:01<3:26:58,  1.69s/it]"
     ]
    },
    {
     "name": "stdout",
     "output_type": "stream",
     "text": [
      "\u001b[31m[EPISODE 42650 / STEP 14049322] - EPSILON-GREEDY[final] : 0.1000\n",
      "\u001b[32mLearned Step : 3515787\n",
      "\u001b[34mAVG   Return : 4.0800\n",
      "saved step 3515787 in ckpt/\n"
     ]
    },
    {
     "name": "stderr",
     "output_type": "stream",
     "text": [
      " 85%|████████▌ | 42700/50000 [18:43:30<3:10:33,  1.57s/it]"
     ]
    },
    {
     "name": "stdout",
     "output_type": "stream",
     "text": [
      "\u001b[31m[EPISODE 42700 / STEP 14067927] - EPSILON-GREEDY[final] : 0.1000\n",
      "\u001b[32mLearned Step : 3520459\n",
      "\u001b[34mAVG   Return : 3.7000\n",
      "saved step 3520459 in ckpt/\n"
     ]
    },
    {
     "name": "stderr",
     "output_type": "stream",
     "text": [
      " 86%|████████▌ | 42750/50000 [18:44:52<3:32:25,  1.76s/it]"
     ]
    },
    {
     "name": "stdout",
     "output_type": "stream",
     "text": [
      "\u001b[31m[EPISODE 42750 / STEP 14084958] - EPSILON-GREEDY[final] : 0.1000\n",
      "\u001b[32mLearned Step : 3524739\n",
      "\u001b[34mAVG   Return : 3.2000\n",
      "saved step 3524739 in ckpt/\n"
     ]
    },
    {
     "name": "stderr",
     "output_type": "stream",
     "text": [
      " 86%|████████▌ | 42800/50000 [18:46:31<3:25:30,  1.71s/it]"
     ]
    },
    {
     "name": "stdout",
     "output_type": "stream",
     "text": [
      "\u001b[31m[EPISODE 42800 / STEP 14105310] - EPSILON-GREEDY[final] : 0.1000\n",
      "\u001b[32mLearned Step : 3529849\n",
      "\u001b[34mAVG   Return : 4.1600\n",
      "saved step 3529849 in ckpt/\n"
     ]
    },
    {
     "name": "stderr",
     "output_type": "stream",
     "text": [
      " 86%|████████▌ | 42850/50000 [18:47:51<3:17:17,  1.66s/it]"
     ]
    },
    {
     "name": "stdout",
     "output_type": "stream",
     "text": [
      "\u001b[31m[EPISODE 42850 / STEP 14121898] - EPSILON-GREEDY[final] : 0.1000\n",
      "\u001b[32mLearned Step : 3534014\n",
      "\u001b[34mAVG   Return : 2.9000\n",
      "saved step 3534014 in ckpt/\n"
     ]
    },
    {
     "name": "stderr",
     "output_type": "stream",
     "text": [
      " 86%|████████▌ | 42900/50000 [18:49:07<2:48:38,  1.43s/it]"
     ]
    },
    {
     "name": "stdout",
     "output_type": "stream",
     "text": [
      "\u001b[31m[EPISODE 42900 / STEP 14137807] - EPSILON-GREEDY[final] : 0.1000\n",
      "\u001b[32mLearned Step : 3538007\n",
      "\u001b[34mAVG   Return : 2.4600\n",
      "saved step 3538007 in ckpt/\n"
     ]
    },
    {
     "name": "stderr",
     "output_type": "stream",
     "text": [
      " 86%|████████▌ | 42950/50000 [18:50:23<2:36:01,  1.33s/it]"
     ]
    },
    {
     "name": "stdout",
     "output_type": "stream",
     "text": [
      "\u001b[31m[EPISODE 42950 / STEP 14153638] - EPSILON-GREEDY[final] : 0.1000\n",
      "\u001b[32mLearned Step : 3541984\n",
      "\u001b[34mAVG   Return : 2.6000\n",
      "saved step 3541984 in ckpt/\n"
     ]
    },
    {
     "name": "stderr",
     "output_type": "stream",
     "text": [
      " 86%|████████▌ | 43000/50000 [18:51:33<2:30:25,  1.29s/it]"
     ]
    },
    {
     "name": "stdout",
     "output_type": "stream",
     "text": [
      "\u001b[31m[EPISODE 43000 / STEP 14167840] - EPSILON-GREEDY[final] : 0.1000\n",
      "\u001b[32mLearned Step : 3545554\n",
      "\u001b[34mAVG   Return : 2.0000\n",
      "saved step 3545554 in ckpt/\n"
     ]
    },
    {
     "name": "stderr",
     "output_type": "stream",
     "text": [
      " 86%|████████▌ | 43050/50000 [18:52:44<2:13:04,  1.15s/it]"
     ]
    },
    {
     "name": "stdout",
     "output_type": "stream",
     "text": [
      "\u001b[31m[EPISODE 43050 / STEP 14182546] - EPSILON-GREEDY[final] : 0.1000\n",
      "\u001b[32mLearned Step : 3549249\n",
      "\u001b[34mAVG   Return : 2.3400\n",
      "saved step 3549249 in ckpt/\n"
     ]
    },
    {
     "name": "stderr",
     "output_type": "stream",
     "text": [
      " 86%|████████▌ | 43100/50000 [18:53:55<3:22:38,  1.76s/it]"
     ]
    },
    {
     "name": "stdout",
     "output_type": "stream",
     "text": [
      "\u001b[31m[EPISODE 43100 / STEP 14197133] - EPSILON-GREEDY[final] : 0.1000\n",
      "\u001b[32mLearned Step : 3552916\n",
      "\u001b[34mAVG   Return : 2.1400\n",
      "saved step 3552916 in ckpt/\n"
     ]
    },
    {
     "name": "stderr",
     "output_type": "stream",
     "text": [
      " 86%|████████▋ | 43150/50000 [18:55:20<2:55:16,  1.54s/it]"
     ]
    },
    {
     "name": "stdout",
     "output_type": "stream",
     "text": [
      "\u001b[31m[EPISODE 43150 / STEP 14213799] - EPSILON-GREEDY[final] : 0.1000\n",
      "\u001b[32mLearned Step : 3557103\n",
      "\u001b[34mAVG   Return : 2.9800\n",
      "saved step 3557103 in ckpt/\n"
     ]
    },
    {
     "name": "stderr",
     "output_type": "stream",
     "text": [
      " 86%|████████▋ | 43200/50000 [18:56:46<2:49:28,  1.50s/it]"
     ]
    },
    {
     "name": "stdout",
     "output_type": "stream",
     "text": [
      "\u001b[31m[EPISODE 43200 / STEP 14228562] - EPSILON-GREEDY[final] : 0.1000\n",
      "\u001b[32mLearned Step : 3560812\n",
      "\u001b[34mAVG   Return : 2.0200\n",
      "saved step 3560812 in ckpt/\n"
     ]
    },
    {
     "name": "stderr",
     "output_type": "stream",
     "text": [
      " 86%|████████▋ | 43250/50000 [18:58:05<3:40:09,  1.96s/it]"
     ]
    },
    {
     "name": "stdout",
     "output_type": "stream",
     "text": [
      "\u001b[31m[EPISODE 43250 / STEP 14242818] - EPSILON-GREEDY[final] : 0.1000\n",
      "\u001b[32mLearned Step : 3564392\n",
      "\u001b[34mAVG   Return : 2.2200\n",
      "saved step 3564392 in ckpt/\n"
     ]
    },
    {
     "name": "stderr",
     "output_type": "stream",
     "text": [
      " 87%|████████▋ | 43300/50000 [18:59:47<5:07:07,  2.75s/it]"
     ]
    },
    {
     "name": "stdout",
     "output_type": "stream",
     "text": [
      "\u001b[31m[EPISODE 43300 / STEP 14261085] - EPSILON-GREEDY[final] : 0.1000\n",
      "\u001b[32mLearned Step : 3568978\n",
      "\u001b[34mAVG   Return : 3.4800\n",
      "saved step 3568978 in ckpt/\n"
     ]
    },
    {
     "name": "stderr",
     "output_type": "stream",
     "text": [
      " 87%|████████▋ | 43350/50000 [19:01:28<3:04:26,  1.66s/it]"
     ]
    },
    {
     "name": "stdout",
     "output_type": "stream",
     "text": [
      "\u001b[31m[EPISODE 43350 / STEP 14281035] - EPSILON-GREEDY[final] : 0.1000\n",
      "\u001b[32mLearned Step : 3573984\n",
      "\u001b[34mAVG   Return : 4.2200\n",
      "saved step 3573984 in ckpt/\n"
     ]
    },
    {
     "name": "stderr",
     "output_type": "stream",
     "text": [
      " 87%|████████▋ | 43400/50000 [19:03:08<3:34:15,  1.95s/it]"
     ]
    },
    {
     "name": "stdout",
     "output_type": "stream",
     "text": [
      "\u001b[31m[EPISODE 43400 / STEP 14301440] - EPSILON-GREEDY[final] : 0.1000\n",
      "\u001b[32mLearned Step : 3579103\n",
      "\u001b[34mAVG   Return : 4.7200\n",
      "saved step 3579103 in ckpt/\n"
     ]
    },
    {
     "name": "stderr",
     "output_type": "stream",
     "text": [
      " 87%|████████▋ | 43450/50000 [19:04:44<3:19:39,  1.83s/it]"
     ]
    },
    {
     "name": "stdout",
     "output_type": "stream",
     "text": [
      "\u001b[31m[EPISODE 43450 / STEP 14321107] - EPSILON-GREEDY[final] : 0.1000\n",
      "\u001b[32mLearned Step : 3584043\n",
      "\u001b[34mAVG   Return : 4.0200\n",
      "saved step 3584043 in ckpt/\n"
     ]
    },
    {
     "name": "stderr",
     "output_type": "stream",
     "text": [
      " 87%|████████▋ | 43500/50000 [19:06:12<2:49:15,  1.56s/it]"
     ]
    },
    {
     "name": "stdout",
     "output_type": "stream",
     "text": [
      "\u001b[31m[EPISODE 43500 / STEP 14338828] - EPSILON-GREEDY[final] : 0.1000\n",
      "\u001b[32mLearned Step : 3588490\n",
      "\u001b[34mAVG   Return : 3.6400\n",
      "saved step 3588490 in ckpt/\n"
     ]
    },
    {
     "name": "stderr",
     "output_type": "stream",
     "text": [
      " 87%|████████▋ | 43550/50000 [19:07:29<2:55:04,  1.63s/it]"
     ]
    },
    {
     "name": "stdout",
     "output_type": "stream",
     "text": [
      "\u001b[31m[EPISODE 43550 / STEP 14354619] - EPSILON-GREEDY[final] : 0.1000\n",
      "\u001b[32mLearned Step : 3592456\n",
      "\u001b[34mAVG   Return : 2.6200\n",
      "saved step 3592456 in ckpt/\n"
     ]
    },
    {
     "name": "stderr",
     "output_type": "stream",
     "text": [
      " 87%|████████▋ | 43600/50000 [19:08:38<2:40:55,  1.51s/it]"
     ]
    },
    {
     "name": "stdout",
     "output_type": "stream",
     "text": [
      "\u001b[31m[EPISODE 43600 / STEP 14368904] - EPSILON-GREEDY[final] : 0.1000\n",
      "\u001b[32mLearned Step : 3596044\n",
      "\u001b[34mAVG   Return : 2.2400\n",
      "saved step 3596044 in ckpt/\n"
     ]
    },
    {
     "name": "stderr",
     "output_type": "stream",
     "text": [
      " 87%|████████▋ | 43650/50000 [19:10:01<2:15:24,  1.28s/it]"
     ]
    },
    {
     "name": "stdout",
     "output_type": "stream",
     "text": [
      "\u001b[31m[EPISODE 43650 / STEP 14385819] - EPSILON-GREEDY[final] : 0.1000\n",
      "\u001b[32mLearned Step : 3600290\n",
      "\u001b[34mAVG   Return : 3.1800\n",
      "saved step 3600290 in ckpt/\n"
     ]
    },
    {
     "name": "stderr",
     "output_type": "stream",
     "text": [
      " 87%|████████▋ | 43700/50000 [19:11:29<3:41:11,  2.11s/it]"
     ]
    },
    {
     "name": "stdout",
     "output_type": "stream",
     "text": [
      "\u001b[31m[EPISODE 43700 / STEP 14404048] - EPSILON-GREEDY[final] : 0.1000\n",
      "\u001b[32mLearned Step : 3604869\n",
      "\u001b[34mAVG   Return : 3.6400\n",
      "saved step 3604869 in ckpt/\n"
     ]
    },
    {
     "name": "stderr",
     "output_type": "stream",
     "text": [
      " 88%|████████▊ | 43750/50000 [19:13:00<3:57:48,  2.28s/it]"
     ]
    },
    {
     "name": "stdout",
     "output_type": "stream",
     "text": [
      "\u001b[31m[EPISODE 43750 / STEP 14422864] - EPSILON-GREEDY[final] : 0.1000\n",
      "\u001b[32mLearned Step : 3609593\n",
      "\u001b[34mAVG   Return : 3.9000\n",
      "saved step 3609593 in ckpt/\n"
     ]
    },
    {
     "name": "stderr",
     "output_type": "stream",
     "text": [
      " 88%|████████▊ | 43800/50000 [19:14:31<3:37:08,  2.10s/it]"
     ]
    },
    {
     "name": "stdout",
     "output_type": "stream",
     "text": [
      "\u001b[31m[EPISODE 43800 / STEP 14441715] - EPSILON-GREEDY[final] : 0.1000\n",
      "\u001b[32mLearned Step : 3614326\n",
      "\u001b[34mAVG   Return : 3.6000\n",
      "saved step 3614326 in ckpt/\n"
     ]
    },
    {
     "name": "stderr",
     "output_type": "stream",
     "text": [
      " 88%|████████▊ | 43850/50000 [19:15:48<2:55:27,  1.71s/it]"
     ]
    },
    {
     "name": "stdout",
     "output_type": "stream",
     "text": [
      "\u001b[31m[EPISODE 43850 / STEP 14457687] - EPSILON-GREEDY[final] : 0.1000\n",
      "\u001b[32mLearned Step : 3618336\n",
      "\u001b[34mAVG   Return : 2.6800\n",
      "saved step 3618336 in ckpt/\n"
     ]
    },
    {
     "name": "stderr",
     "output_type": "stream",
     "text": [
      " 88%|████████▊ | 43900/50000 [19:17:12<2:11:12,  1.29s/it]"
     ]
    },
    {
     "name": "stdout",
     "output_type": "stream",
     "text": [
      "\u001b[31m[EPISODE 43900 / STEP 14475140] - EPSILON-GREEDY[final] : 0.1000\n",
      "\u001b[32mLearned Step : 3622715\n",
      "\u001b[34mAVG   Return : 3.1800\n",
      "saved step 3622715 in ckpt/\n"
     ]
    },
    {
     "name": "stderr",
     "output_type": "stream",
     "text": [
      " 88%|████████▊ | 43950/50000 [19:18:28<3:47:35,  2.26s/it]"
     ]
    },
    {
     "name": "stdout",
     "output_type": "stream",
     "text": [
      "\u001b[31m[EPISODE 43950 / STEP 14490612] - EPSILON-GREEDY[final] : 0.1000\n",
      "\u001b[32mLearned Step : 3626605\n",
      "\u001b[34mAVG   Return : 2.6200\n",
      "saved step 3626605 in ckpt/\n"
     ]
    },
    {
     "name": "stderr",
     "output_type": "stream",
     "text": [
      " 88%|████████▊ | 44000/50000 [19:19:57<3:52:20,  2.32s/it]"
     ]
    },
    {
     "name": "stdout",
     "output_type": "stream",
     "text": [
      "\u001b[31m[EPISODE 44000 / STEP 14509151] - EPSILON-GREEDY[final] : 0.1000\n",
      "\u001b[32mLearned Step : 3631260\n",
      "\u001b[34mAVG   Return : 3.5200\n",
      "saved step 3631260 in ckpt/\n"
     ]
    },
    {
     "name": "stderr",
     "output_type": "stream",
     "text": [
      " 88%|████████▊ | 44050/50000 [19:21:32<3:00:22,  1.82s/it]"
     ]
    },
    {
     "name": "stdout",
     "output_type": "stream",
     "text": [
      "\u001b[31m[EPISODE 44050 / STEP 14528678] - EPSILON-GREEDY[final] : 0.1000\n",
      "\u001b[32mLearned Step : 3636158\n",
      "\u001b[34mAVG   Return : 3.8400\n",
      "saved step 3636158 in ckpt/\n"
     ]
    },
    {
     "name": "stderr",
     "output_type": "stream",
     "text": [
      " 88%|████████▊ | 44100/50000 [19:23:11<2:12:30,  1.35s/it]"
     ]
    },
    {
     "name": "stdout",
     "output_type": "stream",
     "text": [
      "\u001b[31m[EPISODE 44100 / STEP 14549269] - EPSILON-GREEDY[final] : 0.1000\n",
      "\u001b[32mLearned Step : 3641325\n",
      "\u001b[34mAVG   Return : 3.9400\n",
      "saved step 3641325 in ckpt/\n"
     ]
    },
    {
     "name": "stderr",
     "output_type": "stream",
     "text": [
      " 88%|████████▊ | 44150/50000 [19:24:39<2:31:37,  1.56s/it]"
     ]
    },
    {
     "name": "stdout",
     "output_type": "stream",
     "text": [
      "\u001b[31m[EPISODE 44150 / STEP 14567685] - EPSILON-GREEDY[final] : 0.1000\n",
      "\u001b[32mLearned Step : 3645949\n",
      "\u001b[34mAVG   Return : 3.0400\n",
      "saved step 3645949 in ckpt/\n"
     ]
    },
    {
     "name": "stderr",
     "output_type": "stream",
     "text": [
      " 88%|████████▊ | 44200/50000 [19:25:56<3:21:14,  2.08s/it]"
     ]
    },
    {
     "name": "stdout",
     "output_type": "stream",
     "text": [
      "\u001b[31m[EPISODE 44200 / STEP 14583466] - EPSILON-GREEDY[final] : 0.1000\n",
      "\u001b[32mLearned Step : 3649913\n",
      "\u001b[34mAVG   Return : 2.7200\n",
      "saved step 3649913 in ckpt/\n"
     ]
    },
    {
     "name": "stderr",
     "output_type": "stream",
     "text": [
      " 88%|████████▊ | 44250/50000 [19:27:04<1:51:44,  1.17s/it]"
     ]
    },
    {
     "name": "stdout",
     "output_type": "stream",
     "text": [
      "\u001b[31m[EPISODE 44250 / STEP 14597415] - EPSILON-GREEDY[final] : 0.1000\n",
      "\u001b[32mLearned Step : 3653419\n",
      "\u001b[34mAVG   Return : 1.9200\n",
      "saved step 3653419 in ckpt/\n"
     ]
    },
    {
     "name": "stderr",
     "output_type": "stream",
     "text": [
      " 89%|████████▊ | 44300/50000 [19:28:14<2:30:49,  1.59s/it]"
     ]
    },
    {
     "name": "stdout",
     "output_type": "stream",
     "text": [
      "\u001b[31m[EPISODE 44300 / STEP 14612058] - EPSILON-GREEDY[final] : 0.1000\n",
      "\u001b[32mLearned Step : 3657098\n",
      "\u001b[34mAVG   Return : 2.2000\n",
      "saved step 3657098 in ckpt/\n"
     ]
    },
    {
     "name": "stderr",
     "output_type": "stream",
     "text": [
      " 89%|████████▊ | 44350/50000 [19:29:20<2:15:48,  1.44s/it]"
     ]
    },
    {
     "name": "stdout",
     "output_type": "stream",
     "text": [
      "\u001b[31m[EPISODE 44350 / STEP 14625600] - EPSILON-GREEDY[final] : 0.1000\n",
      "\u001b[32mLearned Step : 3660506\n",
      "\u001b[34mAVG   Return : 1.7800\n",
      "saved step 3660506 in ckpt/\n"
     ]
    },
    {
     "name": "stderr",
     "output_type": "stream",
     "text": [
      " 89%|████████▉ | 44400/50000 [19:30:27<2:04:15,  1.33s/it]"
     ]
    },
    {
     "name": "stdout",
     "output_type": "stream",
     "text": [
      "\u001b[31m[EPISODE 44400 / STEP 14639406] - EPSILON-GREEDY[final] : 0.1000\n",
      "\u001b[32mLearned Step : 3663976\n",
      "\u001b[34mAVG   Return : 2.0200\n",
      "saved step 3663976 in ckpt/\n"
     ]
    },
    {
     "name": "stderr",
     "output_type": "stream",
     "text": [
      " 89%|████████▉ | 44450/50000 [19:31:37<2:23:51,  1.56s/it]"
     ]
    },
    {
     "name": "stdout",
     "output_type": "stream",
     "text": [
      "\u001b[31m[EPISODE 44450 / STEP 14653930] - EPSILON-GREEDY[final] : 0.1000\n",
      "\u001b[32mLearned Step : 3667624\n",
      "\u001b[34mAVG   Return : 1.8200\n",
      "saved step 3667624 in ckpt/\n"
     ]
    },
    {
     "name": "stderr",
     "output_type": "stream",
     "text": [
      " 89%|████████▉ | 44500/50000 [19:32:54<2:23:26,  1.56s/it]"
     ]
    },
    {
     "name": "stdout",
     "output_type": "stream",
     "text": [
      "\u001b[31m[EPISODE 44500 / STEP 14669644] - EPSILON-GREEDY[final] : 0.1000\n",
      "\u001b[32mLearned Step : 3671572\n",
      "\u001b[34mAVG   Return : 2.9200\n",
      "saved step 3671572 in ckpt/\n"
     ]
    },
    {
     "name": "stderr",
     "output_type": "stream",
     "text": [
      " 89%|████████▉ | 44550/50000 [19:34:25<3:02:31,  2.01s/it]"
     ]
    },
    {
     "name": "stdout",
     "output_type": "stream",
     "text": [
      "\u001b[31m[EPISODE 44550 / STEP 14688523] - EPSILON-GREEDY[final] : 0.1000\n",
      "\u001b[32mLearned Step : 3676311\n",
      "\u001b[34mAVG   Return : 3.4200\n",
      "saved step 3676311 in ckpt/\n"
     ]
    },
    {
     "name": "stderr",
     "output_type": "stream",
     "text": [
      " 89%|████████▉ | 44600/50000 [19:36:05<3:40:55,  2.45s/it]"
     ]
    },
    {
     "name": "stdout",
     "output_type": "stream",
     "text": [
      "\u001b[31m[EPISODE 44600 / STEP 14709404] - EPSILON-GREEDY[final] : 0.1000\n",
      "\u001b[32mLearned Step : 3681549\n",
      "\u001b[34mAVG   Return : 4.1600\n",
      "saved step 3681549 in ckpt/\n"
     ]
    },
    {
     "name": "stderr",
     "output_type": "stream",
     "text": [
      " 89%|████████▉ | 44650/50000 [19:37:38<2:39:12,  1.79s/it]"
     ]
    },
    {
     "name": "stdout",
     "output_type": "stream",
     "text": [
      "\u001b[31m[EPISODE 44650 / STEP 14728699] - EPSILON-GREEDY[final] : 0.1000\n",
      "\u001b[32mLearned Step : 3686390\n",
      "\u001b[34mAVG   Return : 3.8400\n",
      "saved step 3686390 in ckpt/\n"
     ]
    },
    {
     "name": "stderr",
     "output_type": "stream",
     "text": [
      " 89%|████████▉ | 44700/50000 [19:39:17<2:54:10,  1.97s/it]"
     ]
    },
    {
     "name": "stdout",
     "output_type": "stream",
     "text": [
      "\u001b[31m[EPISODE 44700 / STEP 14749228] - EPSILON-GREEDY[final] : 0.1000\n",
      "\u001b[32mLearned Step : 3691540\n",
      "\u001b[34mAVG   Return : 4.3800\n",
      "saved step 3691540 in ckpt/\n"
     ]
    },
    {
     "name": "stderr",
     "output_type": "stream",
     "text": [
      " 90%|████████▉ | 44750/50000 [19:40:55<2:48:55,  1.93s/it]"
     ]
    },
    {
     "name": "stdout",
     "output_type": "stream",
     "text": [
      "\u001b[31m[EPISODE 44750 / STEP 14769420] - EPSILON-GREEDY[final] : 0.1000\n",
      "\u001b[32mLearned Step : 3696607\n",
      "\u001b[34mAVG   Return : 4.1400\n",
      "saved step 3696607 in ckpt/\n"
     ]
    },
    {
     "name": "stderr",
     "output_type": "stream",
     "text": [
      " 90%|████████▉ | 44800/50000 [19:42:22<2:02:24,  1.41s/it]"
     ]
    },
    {
     "name": "stdout",
     "output_type": "stream",
     "text": [
      "\u001b[31m[EPISODE 44800 / STEP 14787424] - EPSILON-GREEDY[final] : 0.1000\n",
      "\u001b[32mLearned Step : 3701125\n",
      "\u001b[34mAVG   Return : 3.4200\n",
      "saved step 3701125 in ckpt/\n"
     ]
    },
    {
     "name": "stderr",
     "output_type": "stream",
     "text": [
      " 90%|████████▉ | 44850/50000 [19:43:50<2:09:26,  1.51s/it]"
     ]
    },
    {
     "name": "stdout",
     "output_type": "stream",
     "text": [
      "\u001b[31m[EPISODE 44850 / STEP 14805730] - EPSILON-GREEDY[final] : 0.1000\n",
      "\u001b[32mLearned Step : 3705719\n",
      "\u001b[34mAVG   Return : 3.0400\n",
      "saved step 3705719 in ckpt/\n"
     ]
    },
    {
     "name": "stderr",
     "output_type": "stream",
     "text": [
      " 90%|████████▉ | 44900/50000 [19:45:19<2:49:49,  2.00s/it]"
     ]
    },
    {
     "name": "stdout",
     "output_type": "stream",
     "text": [
      "\u001b[31m[EPISODE 44900 / STEP 14824173] - EPSILON-GREEDY[final] : 0.1000\n",
      "\u001b[32mLearned Step : 3710350\n",
      "\u001b[34mAVG   Return : 3.3600\n",
      "saved step 3710350 in ckpt/\n"
     ]
    },
    {
     "name": "stderr",
     "output_type": "stream",
     "text": [
      " 90%|████████▉ | 44950/50000 [19:46:38<2:10:59,  1.56s/it]"
     ]
    },
    {
     "name": "stdout",
     "output_type": "stream",
     "text": [
      "\u001b[31m[EPISODE 44950 / STEP 14840402] - EPSILON-GREEDY[final] : 0.1000\n",
      "\u001b[32mLearned Step : 3714428\n",
      "\u001b[34mAVG   Return : 2.8800\n",
      "saved step 3714428 in ckpt/\n"
     ]
    },
    {
     "name": "stderr",
     "output_type": "stream",
     "text": [
      " 90%|█████████ | 45000/50000 [19:48:05<1:58:22,  1.42s/it]"
     ]
    },
    {
     "name": "stdout",
     "output_type": "stream",
     "text": [
      "\u001b[31m[EPISODE 45000 / STEP 14858467] - EPSILON-GREEDY[final] : 0.1000\n",
      "\u001b[32mLearned Step : 3718965\n",
      "\u001b[34mAVG   Return : 3.4600\n",
      "saved step 3718965 in ckpt/\n"
     ]
    },
    {
     "name": "stderr",
     "output_type": "stream",
     "text": [
      " 90%|█████████ | 45050/50000 [19:49:21<2:17:09,  1.66s/it]"
     ]
    },
    {
     "name": "stdout",
     "output_type": "stream",
     "text": [
      "\u001b[31m[EPISODE 45050 / STEP 14874136] - EPSILON-GREEDY[final] : 0.1000\n",
      "\u001b[32mLearned Step : 3722902\n",
      "\u001b[34mAVG   Return : 2.3400\n",
      "saved step 3722902 in ckpt/\n"
     ]
    },
    {
     "name": "stderr",
     "output_type": "stream",
     "text": [
      " 90%|█████████ | 45100/50000 [19:50:36<2:10:40,  1.60s/it]"
     ]
    },
    {
     "name": "stdout",
     "output_type": "stream",
     "text": [
      "\u001b[31m[EPISODE 45100 / STEP 14889764] - EPSILON-GREEDY[final] : 0.1000\n",
      "\u001b[32mLearned Step : 3726828\n",
      "\u001b[34mAVG   Return : 2.5200\n",
      "saved step 3726828 in ckpt/\n"
     ]
    },
    {
     "name": "stderr",
     "output_type": "stream",
     "text": [
      " 90%|█████████ | 45150/50000 [19:52:05<2:40:26,  1.98s/it]"
     ]
    },
    {
     "name": "stdout",
     "output_type": "stream",
     "text": [
      "\u001b[31m[EPISODE 45150 / STEP 14908080] - EPSILON-GREEDY[final] : 0.1000\n",
      "\u001b[32mLearned Step : 3731426\n",
      "\u001b[34mAVG   Return : 3.6200\n",
      "saved step 3731426 in ckpt/\n"
     ]
    },
    {
     "name": "stderr",
     "output_type": "stream",
     "text": [
      " 90%|█████████ | 45200/50000 [19:53:33<1:47:24,  1.34s/it]"
     ]
    },
    {
     "name": "stdout",
     "output_type": "stream",
     "text": [
      "\u001b[31m[EPISODE 45200 / STEP 14926330] - EPSILON-GREEDY[final] : 0.1000\n",
      "\u001b[32mLearned Step : 3736008\n",
      "\u001b[34mAVG   Return : 3.0000\n",
      "saved step 3736008 in ckpt/\n"
     ]
    },
    {
     "name": "stderr",
     "output_type": "stream",
     "text": [
      " 90%|█████████ | 45250/50000 [19:54:55<1:45:25,  1.33s/it]"
     ]
    },
    {
     "name": "stdout",
     "output_type": "stream",
     "text": [
      "\u001b[31m[EPISODE 45250 / STEP 14943383] - EPSILON-GREEDY[final] : 0.1000\n",
      "\u001b[32mLearned Step : 3740290\n",
      "\u001b[34mAVG   Return : 2.8400\n",
      "saved step 3740290 in ckpt/\n"
     ]
    },
    {
     "name": "stderr",
     "output_type": "stream",
     "text": [
      " 91%|█████████ | 45300/50000 [19:56:16<1:45:22,  1.35s/it]"
     ]
    },
    {
     "name": "stdout",
     "output_type": "stream",
     "text": [
      "\u001b[31m[EPISODE 45300 / STEP 14960360] - EPSILON-GREEDY[final] : 0.1000\n",
      "\u001b[32mLearned Step : 3744554\n",
      "\u001b[34mAVG   Return : 2.8000\n",
      "saved step 3744554 in ckpt/\n"
     ]
    },
    {
     "name": "stderr",
     "output_type": "stream",
     "text": [
      " 91%|█████████ | 45350/50000 [19:57:37<1:56:29,  1.50s/it]"
     ]
    },
    {
     "name": "stdout",
     "output_type": "stream",
     "text": [
      "\u001b[31m[EPISODE 45350 / STEP 14977022] - EPSILON-GREEDY[final] : 0.1000\n",
      "\u001b[32mLearned Step : 3748735\n",
      "\u001b[34mAVG   Return : 2.7400\n",
      "saved step 3748735 in ckpt/\n"
     ]
    },
    {
     "name": "stderr",
     "output_type": "stream",
     "text": [
      " 91%|█████████ | 45400/50000 [19:58:57<2:26:39,  1.91s/it]"
     ]
    },
    {
     "name": "stdout",
     "output_type": "stream",
     "text": [
      "\u001b[31m[EPISODE 45400 / STEP 14993884] - EPSILON-GREEDY[final] : 0.1000\n",
      "\u001b[32mLearned Step : 3752966\n",
      "\u001b[34mAVG   Return : 2.5800\n",
      "saved step 3752966 in ckpt/\n"
     ]
    },
    {
     "name": "stderr",
     "output_type": "stream",
     "text": [
      " 91%|█████████ | 45450/50000 [20:00:11<1:45:11,  1.39s/it]"
     ]
    },
    {
     "name": "stdout",
     "output_type": "stream",
     "text": [
      "\u001b[31m[EPISODE 45450 / STEP 15009226] - EPSILON-GREEDY[final] : 0.1000\n",
      "\u001b[32mLearned Step : 3756821\n",
      "\u001b[34mAVG   Return : 2.2000\n",
      "saved step 3756821 in ckpt/\n"
     ]
    },
    {
     "name": "stderr",
     "output_type": "stream",
     "text": [
      " 91%|█████████ | 45500/50000 [20:01:26<2:10:08,  1.74s/it]"
     ]
    },
    {
     "name": "stdout",
     "output_type": "stream",
     "text": [
      "\u001b[31m[EPISODE 45500 / STEP 15024501] - EPSILON-GREEDY[final] : 0.1000\n",
      "\u001b[32mLearned Step : 3760661\n",
      "\u001b[34mAVG   Return : 2.3800\n",
      "saved step 3760661 in ckpt/\n"
     ]
    },
    {
     "name": "stderr",
     "output_type": "stream",
     "text": [
      " 91%|█████████ | 45550/50000 [20:02:45<1:33:51,  1.27s/it]"
     ]
    },
    {
     "name": "stdout",
     "output_type": "stream",
     "text": [
      "\u001b[31m[EPISODE 45550 / STEP 15040713] - EPSILON-GREEDY[final] : 0.1000\n",
      "\u001b[32mLearned Step : 3764731\n",
      "\u001b[34mAVG   Return : 2.7600\n",
      "saved step 3764731 in ckpt/\n"
     ]
    },
    {
     "name": "stderr",
     "output_type": "stream",
     "text": [
      " 91%|█████████ | 45600/50000 [20:04:01<2:02:35,  1.67s/it]"
     ]
    },
    {
     "name": "stdout",
     "output_type": "stream",
     "text": [
      "\u001b[31m[EPISODE 45600 / STEP 15056436] - EPSILON-GREEDY[final] : 0.1000\n",
      "\u001b[32mLearned Step : 3768678\n",
      "\u001b[34mAVG   Return : 2.3400\n",
      "saved step 3768678 in ckpt/\n"
     ]
    },
    {
     "name": "stderr",
     "output_type": "stream",
     "text": [
      " 91%|█████████▏| 45650/50000 [20:05:23<1:56:06,  1.60s/it]"
     ]
    },
    {
     "name": "stdout",
     "output_type": "stream",
     "text": [
      "\u001b[31m[EPISODE 45650 / STEP 15073198] - EPSILON-GREEDY[final] : 0.1000\n",
      "\u001b[32mLearned Step : 3772887\n",
      "\u001b[34mAVG   Return : 2.4600\n",
      "saved step 3772887 in ckpt/\n"
     ]
    },
    {
     "name": "stderr",
     "output_type": "stream",
     "text": [
      " 91%|█████████▏| 45700/50000 [20:06:40<1:59:36,  1.67s/it]"
     ]
    },
    {
     "name": "stdout",
     "output_type": "stream",
     "text": [
      "\u001b[31m[EPISODE 45700 / STEP 15089260] - EPSILON-GREEDY[final] : 0.1000\n",
      "\u001b[32mLearned Step : 3776920\n",
      "\u001b[34mAVG   Return : 2.8000\n",
      "saved step 3776920 in ckpt/\n"
     ]
    },
    {
     "name": "stderr",
     "output_type": "stream",
     "text": [
      " 92%|█████████▏| 45750/50000 [20:08:00<1:43:29,  1.46s/it]"
     ]
    },
    {
     "name": "stdout",
     "output_type": "stream",
     "text": [
      "\u001b[31m[EPISODE 45750 / STEP 15105962] - EPSILON-GREEDY[final] : 0.1000\n",
      "\u001b[32mLearned Step : 3781116\n",
      "\u001b[34mAVG   Return : 2.9000\n",
      "saved step 3781116 in ckpt/\n"
     ]
    },
    {
     "name": "stderr",
     "output_type": "stream",
     "text": [
      " 92%|█████████▏| 45800/50000 [20:09:27<1:46:46,  1.53s/it]"
     ]
    },
    {
     "name": "stdout",
     "output_type": "stream",
     "text": [
      "\u001b[31m[EPISODE 45800 / STEP 15123934] - EPSILON-GREEDY[final] : 0.1000\n",
      "\u001b[32mLearned Step : 3785626\n",
      "\u001b[34mAVG   Return : 3.4000\n",
      "saved step 3785626 in ckpt/\n"
     ]
    },
    {
     "name": "stderr",
     "output_type": "stream",
     "text": [
      " 92%|█████████▏| 45850/50000 [20:10:52<2:03:52,  1.79s/it]"
     ]
    },
    {
     "name": "stdout",
     "output_type": "stream",
     "text": [
      "\u001b[31m[EPISODE 45850 / STEP 15141632] - EPSILON-GREEDY[final] : 0.1000\n",
      "\u001b[32mLearned Step : 3790066\n",
      "\u001b[34mAVG   Return : 3.2600\n",
      "saved step 3790066 in ckpt/\n"
     ]
    },
    {
     "name": "stderr",
     "output_type": "stream",
     "text": [
      " 92%|█████████▏| 45900/50000 [20:12:12<1:46:57,  1.57s/it]"
     ]
    },
    {
     "name": "stdout",
     "output_type": "stream",
     "text": [
      "\u001b[31m[EPISODE 45900 / STEP 15158356] - EPSILON-GREEDY[final] : 0.1000\n",
      "\u001b[32mLearned Step : 3794271\n",
      "\u001b[34mAVG   Return : 2.8000\n",
      "saved step 3794271 in ckpt/\n"
     ]
    },
    {
     "name": "stderr",
     "output_type": "stream",
     "text": [
      " 92%|█████████▏| 45950/50000 [20:13:15<1:50:18,  1.63s/it]"
     ]
    },
    {
     "name": "stdout",
     "output_type": "stream",
     "text": [
      "\u001b[31m[EPISODE 45950 / STEP 15171358] - EPSILON-GREEDY[final] : 0.1000\n",
      "\u001b[32mLearned Step : 3797538\n",
      "\u001b[34mAVG   Return : 1.8000\n",
      "saved step 3797538 in ckpt/\n"
     ]
    },
    {
     "name": "stderr",
     "output_type": "stream",
     "text": [
      " 92%|█████████▏| 46000/50000 [20:14:28<1:33:52,  1.41s/it]"
     ]
    },
    {
     "name": "stdout",
     "output_type": "stream",
     "text": [
      "\u001b[31m[EPISODE 46000 / STEP 15186797] - EPSILON-GREEDY[final] : 0.1000\n",
      "\u001b[32mLearned Step : 3801414\n",
      "\u001b[34mAVG   Return : 2.6600\n",
      "saved step 3801414 in ckpt/\n"
     ]
    },
    {
     "name": "stderr",
     "output_type": "stream",
     "text": [
      " 92%|█████████▏| 46050/50000 [20:15:40<1:21:03,  1.23s/it]"
     ]
    },
    {
     "name": "stdout",
     "output_type": "stream",
     "text": [
      "\u001b[31m[EPISODE 46050 / STEP 15201897] - EPSILON-GREEDY[final] : 0.1000\n",
      "\u001b[32mLearned Step : 3805207\n",
      "\u001b[34mAVG   Return : 2.6200\n",
      "saved step 3805207 in ckpt/\n"
     ]
    },
    {
     "name": "stderr",
     "output_type": "stream",
     "text": [
      " 92%|█████████▏| 46100/50000 [20:16:59<1:44:38,  1.61s/it]"
     ]
    },
    {
     "name": "stdout",
     "output_type": "stream",
     "text": [
      "\u001b[31m[EPISODE 46100 / STEP 15218124] - EPSILON-GREEDY[final] : 0.1000\n",
      "\u001b[32mLearned Step : 3809281\n",
      "\u001b[34mAVG   Return : 2.8800\n",
      "saved step 3809281 in ckpt/\n"
     ]
    },
    {
     "name": "stderr",
     "output_type": "stream",
     "text": [
      " 92%|█████████▏| 46150/50000 [20:18:31<2:05:24,  1.95s/it]"
     ]
    },
    {
     "name": "stdout",
     "output_type": "stream",
     "text": [
      "\u001b[31m[EPISODE 46150 / STEP 15237167] - EPSILON-GREEDY[final] : 0.1000\n",
      "\u001b[32mLearned Step : 3814065\n",
      "\u001b[34mAVG   Return : 3.4200\n",
      "saved step 3814065 in ckpt/\n"
     ]
    },
    {
     "name": "stderr",
     "output_type": "stream",
     "text": [
      " 92%|█████████▏| 46200/50000 [20:20:07<1:42:21,  1.62s/it]"
     ]
    },
    {
     "name": "stdout",
     "output_type": "stream",
     "text": [
      "\u001b[31m[EPISODE 46200 / STEP 15257025] - EPSILON-GREEDY[final] : 0.1000\n",
      "\u001b[32mLearned Step : 3819047\n",
      "\u001b[34mAVG   Return : 3.9000\n",
      "saved step 3819047 in ckpt/\n"
     ]
    },
    {
     "name": "stderr",
     "output_type": "stream",
     "text": [
      " 92%|█████████▎| 46250/50000 [20:21:38<1:45:22,  1.69s/it]"
     ]
    },
    {
     "name": "stdout",
     "output_type": "stream",
     "text": [
      "\u001b[31m[EPISODE 46250 / STEP 15275838] - EPSILON-GREEDY[final] : 0.1000\n",
      "\u001b[32mLearned Step : 3823774\n",
      "\u001b[34mAVG   Return : 3.7000\n",
      "saved step 3823774 in ckpt/\n"
     ]
    },
    {
     "name": "stderr",
     "output_type": "stream",
     "text": [
      " 93%|█████████▎| 46300/50000 [20:22:59<1:03:26,  1.03s/it]"
     ]
    },
    {
     "name": "stdout",
     "output_type": "stream",
     "text": [
      "\u001b[31m[EPISODE 46300 / STEP 15292427] - EPSILON-GREEDY[final] : 0.1000\n",
      "\u001b[32mLearned Step : 3827943\n",
      "\u001b[34mAVG   Return : 3.0200\n",
      "saved step 3827943 in ckpt/\n"
     ]
    },
    {
     "name": "stderr",
     "output_type": "stream",
     "text": [
      " 93%|█████████▎| 46350/50000 [20:24:30<1:53:31,  1.87s/it]"
     ]
    },
    {
     "name": "stdout",
     "output_type": "stream",
     "text": [
      "\u001b[31m[EPISODE 46350 / STEP 15311432] - EPSILON-GREEDY[final] : 0.1000\n",
      "\u001b[32mLearned Step : 3832713\n",
      "\u001b[34mAVG   Return : 3.6000\n",
      "saved step 3832713 in ckpt/\n"
     ]
    },
    {
     "name": "stderr",
     "output_type": "stream",
     "text": [
      " 93%|█████████▎| 46400/50000 [20:25:47<1:46:54,  1.78s/it]"
     ]
    },
    {
     "name": "stdout",
     "output_type": "stream",
     "text": [
      "\u001b[31m[EPISODE 46400 / STEP 15327187] - EPSILON-GREEDY[final] : 0.1000\n",
      "\u001b[32mLearned Step : 3836669\n",
      "\u001b[34mAVG   Return : 2.6800\n",
      "saved step 3836669 in ckpt/\n"
     ]
    },
    {
     "name": "stderr",
     "output_type": "stream",
     "text": [
      " 93%|█████████▎| 46450/50000 [20:27:07<1:21:47,  1.38s/it]"
     ]
    },
    {
     "name": "stdout",
     "output_type": "stream",
     "text": [
      "\u001b[31m[EPISODE 46450 / STEP 15343953] - EPSILON-GREEDY[final] : 0.1000\n",
      "\u001b[32mLearned Step : 3840878\n",
      "\u001b[34mAVG   Return : 3.0000\n",
      "saved step 3840878 in ckpt/\n"
     ]
    },
    {
     "name": "stderr",
     "output_type": "stream",
     "text": [
      " 93%|█████████▎| 46500/50000 [20:28:26<1:09:49,  1.20s/it]"
     ]
    },
    {
     "name": "stdout",
     "output_type": "stream",
     "text": [
      "\u001b[31m[EPISODE 46500 / STEP 15360305] - EPSILON-GREEDY[final] : 0.1000\n",
      "\u001b[32mLearned Step : 3844983\n",
      "\u001b[34mAVG   Return : 2.7400\n",
      "saved step 3844983 in ckpt/\n"
     ]
    },
    {
     "name": "stderr",
     "output_type": "stream",
     "text": [
      " 93%|█████████▎| 46550/50000 [20:29:45<1:44:47,  1.82s/it]"
     ]
    },
    {
     "name": "stdout",
     "output_type": "stream",
     "text": [
      "\u001b[31m[EPISODE 46550 / STEP 15376461] - EPSILON-GREEDY[final] : 0.1000\n",
      "\u001b[32mLearned Step : 3849040\n",
      "\u001b[34mAVG   Return : 2.9600\n",
      "saved step 3849040 in ckpt/\n"
     ]
    },
    {
     "name": "stderr",
     "output_type": "stream",
     "text": [
      " 93%|█████████▎| 46600/50000 [20:31:01<1:04:43,  1.14s/it]"
     ]
    },
    {
     "name": "stdout",
     "output_type": "stream",
     "text": [
      "\u001b[31m[EPISODE 46600 / STEP 15392110] - EPSILON-GREEDY[final] : 0.1000\n",
      "\u001b[32mLearned Step : 3852968\n",
      "\u001b[34mAVG   Return : 2.6600\n",
      "saved step 3852968 in ckpt/\n"
     ]
    },
    {
     "name": "stderr",
     "output_type": "stream",
     "text": [
      " 93%|█████████▎| 46650/50000 [20:32:25<1:28:33,  1.59s/it]"
     ]
    },
    {
     "name": "stdout",
     "output_type": "stream",
     "text": [
      "\u001b[31m[EPISODE 46650 / STEP 15409427] - EPSILON-GREEDY[final] : 0.1000\n",
      "\u001b[32mLearned Step : 3857316\n",
      "\u001b[34mAVG   Return : 3.2600\n",
      "saved step 3857316 in ckpt/\n"
     ]
    },
    {
     "name": "stderr",
     "output_type": "stream",
     "text": [
      " 93%|█████████▎| 46700/50000 [20:33:43<1:11:26,  1.30s/it]"
     ]
    },
    {
     "name": "stdout",
     "output_type": "stream",
     "text": [
      "\u001b[31m[EPISODE 46700 / STEP 15425374] - EPSILON-GREEDY[final] : 0.1000\n",
      "\u001b[32mLearned Step : 3861321\n",
      "\u001b[34mAVG   Return : 2.7800\n",
      "saved step 3861321 in ckpt/\n"
     ]
    },
    {
     "name": "stderr",
     "output_type": "stream",
     "text": [
      " 94%|█████████▎| 46750/50000 [20:34:56<1:01:23,  1.13s/it]"
     ]
    },
    {
     "name": "stdout",
     "output_type": "stream",
     "text": [
      "\u001b[31m[EPISODE 46750 / STEP 15440412] - EPSILON-GREEDY[final] : 0.1000\n",
      "\u001b[32mLearned Step : 3865099\n",
      "\u001b[34mAVG   Return : 2.5000\n",
      "saved step 3865099 in ckpt/\n"
     ]
    },
    {
     "name": "stderr",
     "output_type": "stream",
     "text": [
      " 94%|█████████▎| 46800/50000 [20:36:06<1:12:53,  1.37s/it]"
     ]
    },
    {
     "name": "stdout",
     "output_type": "stream",
     "text": [
      "\u001b[31m[EPISODE 46800 / STEP 15455131] - EPSILON-GREEDY[final] : 0.1000\n",
      "\u001b[32mLearned Step : 3868796\n",
      "\u001b[34mAVG   Return : 2.3400\n",
      "saved step 3868796 in ckpt/\n"
     ]
    },
    {
     "name": "stderr",
     "output_type": "stream",
     "text": [
      " 94%|█████████▎| 46850/50000 [20:37:24<1:06:31,  1.27s/it]"
     ]
    },
    {
     "name": "stdout",
     "output_type": "stream",
     "text": [
      "\u001b[31m[EPISODE 46850 / STEP 15471158] - EPSILON-GREEDY[final] : 0.1000\n",
      "\u001b[32mLearned Step : 3872824\n",
      "\u001b[34mAVG   Return : 2.4200\n",
      "saved step 3872824 in ckpt/\n"
     ]
    },
    {
     "name": "stderr",
     "output_type": "stream",
     "text": [
      " 94%|█████████▍| 46900/50000 [20:38:43<1:11:02,  1.37s/it]"
     ]
    },
    {
     "name": "stdout",
     "output_type": "stream",
     "text": [
      "\u001b[31m[EPISODE 46900 / STEP 15487562] - EPSILON-GREEDY[final] : 0.1000\n",
      "\u001b[32mLearned Step : 3876946\n",
      "\u001b[34mAVG   Return : 2.8000\n",
      "saved step 3876946 in ckpt/\n"
     ]
    },
    {
     "name": "stderr",
     "output_type": "stream",
     "text": [
      " 94%|█████████▍| 46950/50000 [20:40:02<1:22:56,  1.63s/it]"
     ]
    },
    {
     "name": "stdout",
     "output_type": "stream",
     "text": [
      "\u001b[31m[EPISODE 46950 / STEP 15503709] - EPSILON-GREEDY[final] : 0.1000\n",
      "\u001b[32mLearned Step : 3881000\n",
      "\u001b[34mAVG   Return : 2.9400\n",
      "saved step 3881000 in ckpt/\n"
     ]
    },
    {
     "name": "stderr",
     "output_type": "stream",
     "text": [
      " 94%|█████████▍| 47000/50000 [20:41:22<1:28:56,  1.78s/it]"
     ]
    },
    {
     "name": "stdout",
     "output_type": "stream",
     "text": [
      "\u001b[31m[EPISODE 47000 / STEP 15520224] - EPSILON-GREEDY[final] : 0.1000\n",
      "\u001b[32mLearned Step : 3885147\n",
      "\u001b[34mAVG   Return : 3.1000\n",
      "saved step 3885147 in ckpt/\n"
     ]
    },
    {
     "name": "stderr",
     "output_type": "stream",
     "text": [
      " 94%|█████████▍| 47050/50000 [20:42:41<1:28:24,  1.80s/it]"
     ]
    },
    {
     "name": "stdout",
     "output_type": "stream",
     "text": [
      "\u001b[31m[EPISODE 47050 / STEP 15536611] - EPSILON-GREEDY[final] : 0.1000\n",
      "\u001b[32mLearned Step : 3889263\n",
      "\u001b[34mAVG   Return : 3.1000\n",
      "saved step 3889263 in ckpt/\n"
     ]
    },
    {
     "name": "stderr",
     "output_type": "stream",
     "text": [
      " 94%|█████████▍| 47100/50000 [20:43:57<1:11:41,  1.48s/it]"
     ]
    },
    {
     "name": "stdout",
     "output_type": "stream",
     "text": [
      "\u001b[31m[EPISODE 47100 / STEP 15552205] - EPSILON-GREEDY[final] : 0.1000\n",
      "\u001b[32mLearned Step : 3893183\n",
      "\u001b[34mAVG   Return : 2.6800\n",
      "saved step 3893183 in ckpt/\n"
     ]
    },
    {
     "name": "stderr",
     "output_type": "stream",
     "text": [
      " 94%|█████████▍| 47150/50000 [20:45:14<1:01:49,  1.30s/it]"
     ]
    },
    {
     "name": "stdout",
     "output_type": "stream",
     "text": [
      "\u001b[31m[EPISODE 47150 / STEP 15568075] - EPSILON-GREEDY[final] : 0.1000\n",
      "\u001b[32mLearned Step : 3897172\n",
      "\u001b[34mAVG   Return : 3.0200\n",
      "saved step 3897172 in ckpt/\n"
     ]
    },
    {
     "name": "stderr",
     "output_type": "stream",
     "text": [
      " 94%|█████████▍| 47200/50000 [20:46:35<1:14:55,  1.61s/it]"
     ]
    },
    {
     "name": "stdout",
     "output_type": "stream",
     "text": [
      "\u001b[31m[EPISODE 47200 / STEP 15584913] - EPSILON-GREEDY[final] : 0.1000\n",
      "\u001b[32mLearned Step : 3901396\n",
      "\u001b[34mAVG   Return : 3.0000\n",
      "saved step 3901396 in ckpt/\n"
     ]
    },
    {
     "name": "stderr",
     "output_type": "stream",
     "text": [
      " 94%|█████████▍| 47250/50000 [20:47:56<1:08:11,  1.49s/it]"
     ]
    },
    {
     "name": "stdout",
     "output_type": "stream",
     "text": [
      "\u001b[31m[EPISODE 47250 / STEP 15601625] - EPSILON-GREEDY[final] : 0.1000\n",
      "\u001b[32mLearned Step : 3905593\n",
      "\u001b[34mAVG   Return : 3.1000\n",
      "saved step 3905593 in ckpt/\n"
     ]
    },
    {
     "name": "stderr",
     "output_type": "stream",
     "text": [
      " 95%|█████████▍| 47300/50000 [20:49:18<1:08:37,  1.52s/it]"
     ]
    },
    {
     "name": "stdout",
     "output_type": "stream",
     "text": [
      "\u001b[31m[EPISODE 47300 / STEP 15618661] - EPSILON-GREEDY[final] : 0.1000\n",
      "\u001b[32mLearned Step : 3909868\n",
      "\u001b[34mAVG   Return : 2.9800\n",
      "saved step 3909868 in ckpt/\n"
     ]
    },
    {
     "name": "stderr",
     "output_type": "stream",
     "text": [
      " 95%|█████████▍| 47350/50000 [20:50:43<1:14:03,  1.68s/it]"
     ]
    },
    {
     "name": "stdout",
     "output_type": "stream",
     "text": [
      "\u001b[31m[EPISODE 47350 / STEP 15636195] - EPSILON-GREEDY[final] : 0.1000\n",
      "\u001b[32mLearned Step : 3914272\n",
      "\u001b[34mAVG   Return : 3.1800\n",
      "saved step 3914272 in ckpt/\n"
     ]
    },
    {
     "name": "stderr",
     "output_type": "stream",
     "text": [
      " 95%|█████████▍| 47400/50000 [20:52:15<1:26:08,  1.99s/it]"
     ]
    },
    {
     "name": "stdout",
     "output_type": "stream",
     "text": [
      "\u001b[31m[EPISODE 47400 / STEP 15655255] - EPSILON-GREEDY[final] : 0.1000\n",
      "\u001b[32mLearned Step : 3919059\n",
      "\u001b[34mAVG   Return : 3.6000\n",
      "saved step 3919059 in ckpt/\n"
     ]
    },
    {
     "name": "stderr",
     "output_type": "stream",
     "text": [
      " 95%|█████████▍| 47450/50000 [20:53:49<53:00,  1.25s/it]  "
     ]
    },
    {
     "name": "stdout",
     "output_type": "stream",
     "text": [
      "\u001b[31m[EPISODE 47450 / STEP 15674806] - EPSILON-GREEDY[final] : 0.1000\n",
      "\u001b[32mLearned Step : 3923967\n",
      "\u001b[34mAVG   Return : 3.6200\n",
      "saved step 3923967 in ckpt/\n"
     ]
    },
    {
     "name": "stderr",
     "output_type": "stream",
     "text": [
      " 95%|█████████▌| 47500/50000 [20:55:03<1:11:22,  1.71s/it]"
     ]
    },
    {
     "name": "stdout",
     "output_type": "stream",
     "text": [
      "\u001b[31m[EPISODE 47500 / STEP 15690042] - EPSILON-GREEDY[final] : 0.1000\n",
      "\u001b[32mLearned Step : 3927795\n",
      "\u001b[34mAVG   Return : 2.4000\n",
      "saved step 3927795 in ckpt/\n"
     ]
    },
    {
     "name": "stderr",
     "output_type": "stream",
     "text": [
      " 95%|█████████▌| 47550/50000 [20:56:18<51:59,  1.27s/it]  "
     ]
    },
    {
     "name": "stdout",
     "output_type": "stream",
     "text": [
      "\u001b[31m[EPISODE 47550 / STEP 15705554] - EPSILON-GREEDY[final] : 0.1000\n",
      "\u001b[32mLearned Step : 3931692\n",
      "\u001b[34mAVG   Return : 2.5400\n",
      "saved step 3931692 in ckpt/\n"
     ]
    },
    {
     "name": "stderr",
     "output_type": "stream",
     "text": [
      " 95%|█████████▌| 47600/50000 [20:57:37<56:16,  1.41s/it]  "
     ]
    },
    {
     "name": "stdout",
     "output_type": "stream",
     "text": [
      "\u001b[31m[EPISODE 47600 / STEP 15722084] - EPSILON-GREEDY[final] : 0.1000\n",
      "\u001b[32mLearned Step : 3935846\n",
      "\u001b[34mAVG   Return : 3.0800\n",
      "saved step 3935846 in ckpt/\n"
     ]
    },
    {
     "name": "stderr",
     "output_type": "stream",
     "text": [
      " 95%|█████████▌| 47650/50000 [20:59:11<1:13:59,  1.89s/it]"
     ]
    },
    {
     "name": "stdout",
     "output_type": "stream",
     "text": [
      "\u001b[31m[EPISODE 47650 / STEP 15741571] - EPSILON-GREEDY[final] : 0.1000\n",
      "\u001b[32mLearned Step : 3940739\n",
      "\u001b[34mAVG   Return : 3.7800\n",
      "saved step 3940739 in ckpt/\n"
     ]
    },
    {
     "name": "stderr",
     "output_type": "stream",
     "text": [
      " 95%|█████████▌| 47700/50000 [21:00:30<58:51,  1.54s/it]  "
     ]
    },
    {
     "name": "stdout",
     "output_type": "stream",
     "text": [
      "\u001b[31m[EPISODE 47700 / STEP 15757813] - EPSILON-GREEDY[final] : 0.1000\n",
      "\u001b[32mLearned Step : 3944819\n",
      "\u001b[34mAVG   Return : 2.7600\n",
      "saved step 3944819 in ckpt/\n"
     ]
    },
    {
     "name": "stderr",
     "output_type": "stream",
     "text": [
      " 96%|█████████▌| 47750/50000 [21:01:43<41:44,  1.11s/it]  "
     ]
    },
    {
     "name": "stdout",
     "output_type": "stream",
     "text": [
      "\u001b[31m[EPISODE 47750 / STEP 15772987] - EPSILON-GREEDY[final] : 0.1000\n",
      "\u001b[32mLearned Step : 3948635\n",
      "\u001b[34mAVG   Return : 2.3600\n",
      "saved step 3948635 in ckpt/\n"
     ]
    },
    {
     "name": "stderr",
     "output_type": "stream",
     "text": [
      " 96%|█████████▌| 47800/50000 [21:03:07<1:16:32,  2.09s/it]"
     ]
    },
    {
     "name": "stdout",
     "output_type": "stream",
     "text": [
      "\u001b[31m[EPISODE 47800 / STEP 15790230] - EPSILON-GREEDY[final] : 0.1000\n",
      "\u001b[32mLearned Step : 3952965\n",
      "\u001b[34mAVG   Return : 3.3000\n",
      "saved step 3952965 in ckpt/\n"
     ]
    },
    {
     "name": "stderr",
     "output_type": "stream",
     "text": [
      " 96%|█████████▌| 47850/50000 [21:04:22<35:09,  1.02it/s]  "
     ]
    },
    {
     "name": "stdout",
     "output_type": "stream",
     "text": [
      "\u001b[31m[EPISODE 47850 / STEP 15805750] - EPSILON-GREEDY[final] : 0.1000\n",
      "\u001b[32mLearned Step : 3956863\n",
      "\u001b[34mAVG   Return : 2.5400\n",
      "saved step 3956863 in ckpt/\n"
     ]
    },
    {
     "name": "stderr",
     "output_type": "stream",
     "text": [
      " 96%|█████████▌| 47900/50000 [21:05:31<51:58,  1.49s/it]  "
     ]
    },
    {
     "name": "stdout",
     "output_type": "stream",
     "text": [
      "\u001b[31m[EPISODE 47900 / STEP 15820219] - EPSILON-GREEDY[final] : 0.1000\n",
      "\u001b[32mLearned Step : 3960497\n",
      "\u001b[34mAVG   Return : 2.2800\n",
      "saved step 3960497 in ckpt/\n"
     ]
    },
    {
     "name": "stderr",
     "output_type": "stream",
     "text": [
      " 96%|█████████▌| 47950/50000 [21:06:49<1:03:09,  1.85s/it]"
     ]
    },
    {
     "name": "stdout",
     "output_type": "stream",
     "text": [
      "\u001b[31m[EPISODE 47950 / STEP 15836394] - EPSILON-GREEDY[final] : 0.1000\n",
      "\u001b[32mLearned Step : 3964556\n",
      "\u001b[34mAVG   Return : 2.5400\n",
      "saved step 3964556 in ckpt/\n"
     ]
    },
    {
     "name": "stderr",
     "output_type": "stream",
     "text": [
      " 96%|█████████▌| 48000/50000 [21:08:00<47:21,  1.42s/it]  "
     ]
    },
    {
     "name": "stdout",
     "output_type": "stream",
     "text": [
      "\u001b[31m[EPISODE 48000 / STEP 15851161] - EPSILON-GREEDY[final] : 0.1000\n",
      "\u001b[32mLearned Step : 3968266\n",
      "\u001b[34mAVG   Return : 2.3400\n",
      "saved step 3968266 in ckpt/\n"
     ]
    },
    {
     "name": "stderr",
     "output_type": "stream",
     "text": [
      " 96%|█████████▌| 48050/50000 [21:09:26<1:02:59,  1.94s/it]"
     ]
    },
    {
     "name": "stdout",
     "output_type": "stream",
     "text": [
      "\u001b[31m[EPISODE 48050 / STEP 15868918] - EPSILON-GREEDY[final] : 0.1000\n",
      "\u001b[32mLearned Step : 3972721\n",
      "\u001b[34mAVG   Return : 3.1800\n",
      "saved step 3972721 in ckpt/\n"
     ]
    },
    {
     "name": "stderr",
     "output_type": "stream",
     "text": [
      " 96%|█████████▌| 48100/50000 [21:10:49<44:37,  1.41s/it]  "
     ]
    },
    {
     "name": "stdout",
     "output_type": "stream",
     "text": [
      "\u001b[31m[EPISODE 48100 / STEP 15886037] - EPSILON-GREEDY[final] : 0.1000\n",
      "\u001b[32mLearned Step : 3977020\n",
      "\u001b[34mAVG   Return : 2.8000\n",
      "saved step 3977020 in ckpt/\n"
     ]
    },
    {
     "name": "stderr",
     "output_type": "stream",
     "text": [
      " 96%|█████████▋| 48150/50000 [21:12:06<42:13,  1.37s/it]  "
     ]
    },
    {
     "name": "stdout",
     "output_type": "stream",
     "text": [
      "\u001b[31m[EPISODE 48150 / STEP 15901960] - EPSILON-GREEDY[final] : 0.1000\n",
      "\u001b[32mLearned Step : 3981018\n",
      "\u001b[34mAVG   Return : 2.7000\n",
      "saved step 3981018 in ckpt/\n"
     ]
    },
    {
     "name": "stderr",
     "output_type": "stream",
     "text": [
      " 96%|█████████▋| 48200/50000 [21:13:24<42:20,  1.41s/it]  "
     ]
    },
    {
     "name": "stdout",
     "output_type": "stream",
     "text": [
      "\u001b[31m[EPISODE 48200 / STEP 15918124] - EPSILON-GREEDY[final] : 0.1000\n",
      "\u001b[32mLearned Step : 3985076\n",
      "\u001b[34mAVG   Return : 2.1400\n",
      "saved step 3985076 in ckpt/\n"
     ]
    },
    {
     "name": "stderr",
     "output_type": "stream",
     "text": [
      " 96%|█████████▋| 48250/50000 [21:14:43<1:01:32,  2.11s/it]"
     ]
    },
    {
     "name": "stdout",
     "output_type": "stream",
     "text": [
      "\u001b[31m[EPISODE 48250 / STEP 15934455] - EPSILON-GREEDY[final] : 0.1000\n",
      "\u001b[32mLearned Step : 3989180\n",
      "\u001b[34mAVG   Return : 2.4000\n",
      "saved step 3989180 in ckpt/\n"
     ]
    },
    {
     "name": "stderr",
     "output_type": "stream",
     "text": [
      " 97%|█████████▋| 48300/50000 [21:16:06<41:57,  1.48s/it]  "
     ]
    },
    {
     "name": "stdout",
     "output_type": "stream",
     "text": [
      "\u001b[31m[EPISODE 48300 / STEP 15951695] - EPSILON-GREEDY[final] : 0.1000\n",
      "\u001b[32mLearned Step : 3993508\n",
      "\u001b[34mAVG   Return : 2.9400\n",
      "saved step 3993508 in ckpt/\n"
     ]
    },
    {
     "name": "stderr",
     "output_type": "stream",
     "text": [
      " 97%|█████████▋| 48350/50000 [21:17:18<46:45,  1.70s/it]"
     ]
    },
    {
     "name": "stdout",
     "output_type": "stream",
     "text": [
      "\u001b[31m[EPISODE 48350 / STEP 15966636] - EPSILON-GREEDY[final] : 0.1000\n",
      "\u001b[32mLearned Step : 3997261\n",
      "\u001b[34mAVG   Return : 2.1800\n",
      "saved step 3997261 in ckpt/\n"
     ]
    },
    {
     "name": "stderr",
     "output_type": "stream",
     "text": [
      " 97%|█████████▋| 48400/50000 [21:18:34<40:25,  1.52s/it]  "
     ]
    },
    {
     "name": "stdout",
     "output_type": "stream",
     "text": [
      "\u001b[31m[EPISODE 48400 / STEP 15982276] - EPSILON-GREEDY[final] : 0.1000\n",
      "\u001b[32mLearned Step : 4001191\n",
      "\u001b[34mAVG   Return : 2.8600\n",
      "saved step 4001191 in ckpt/\n"
     ]
    },
    {
     "name": "stderr",
     "output_type": "stream",
     "text": [
      " 97%|█████████▋| 48450/50000 [21:19:42<35:43,  1.38s/it]"
     ]
    },
    {
     "name": "stdout",
     "output_type": "stream",
     "text": [
      "\u001b[31m[EPISODE 48450 / STEP 15996467] - EPSILON-GREEDY[final] : 0.1000\n",
      "\u001b[32mLearned Step : 4004759\n",
      "\u001b[34mAVG   Return : 1.9800\n",
      "saved step 4004759 in ckpt/\n"
     ]
    },
    {
     "name": "stderr",
     "output_type": "stream",
     "text": [
      " 97%|█████████▋| 48500/50000 [21:21:02<28:00,  1.12s/it]"
     ]
    },
    {
     "name": "stdout",
     "output_type": "stream",
     "text": [
      "\u001b[31m[EPISODE 48500 / STEP 16012977] - EPSILON-GREEDY[final] : 0.1000\n",
      "\u001b[32mLearned Step : 4008904\n",
      "\u001b[34mAVG   Return : 2.5800\n",
      "saved step 4008904 in ckpt/\n"
     ]
    },
    {
     "name": "stderr",
     "output_type": "stream",
     "text": [
      " 97%|█████████▋| 48550/50000 [21:22:15<28:42,  1.19s/it]  "
     ]
    },
    {
     "name": "stdout",
     "output_type": "stream",
     "text": [
      "\u001b[31m[EPISODE 48550 / STEP 16027831] - EPSILON-GREEDY[final] : 0.1000\n",
      "\u001b[32mLearned Step : 4012638\n",
      "\u001b[34mAVG   Return : 2.1200\n",
      "saved step 4012638 in ckpt/\n"
     ]
    },
    {
     "name": "stderr",
     "output_type": "stream",
     "text": [
      " 97%|█████████▋| 48600/50000 [21:23:43<39:33,  1.70s/it]"
     ]
    },
    {
     "name": "stdout",
     "output_type": "stream",
     "text": [
      "\u001b[31m[EPISODE 48600 / STEP 16045878] - EPSILON-GREEDY[final] : 0.1000\n",
      "\u001b[32mLearned Step : 4017172\n",
      "\u001b[34mAVG   Return : 3.2800\n",
      "saved step 4017172 in ckpt/\n"
     ]
    },
    {
     "name": "stderr",
     "output_type": "stream",
     "text": [
      " 97%|█████████▋| 48650/50000 [21:25:15<42:35,  1.89s/it]"
     ]
    },
    {
     "name": "stdout",
     "output_type": "stream",
     "text": [
      "\u001b[31m[EPISODE 48650 / STEP 16064947] - EPSILON-GREEDY[final] : 0.1000\n",
      "\u001b[32mLearned Step : 4021960\n",
      "\u001b[34mAVG   Return : 3.8000\n",
      "saved step 4021960 in ckpt/\n"
     ]
    },
    {
     "name": "stderr",
     "output_type": "stream",
     "text": [
      " 97%|█████████▋| 48700/50000 [21:26:53<32:30,  1.50s/it]  "
     ]
    },
    {
     "name": "stdout",
     "output_type": "stream",
     "text": [
      "\u001b[31m[EPISODE 48700 / STEP 16085235] - EPSILON-GREEDY[final] : 0.1000\n",
      "\u001b[32mLearned Step : 4027051\n",
      "\u001b[34mAVG   Return : 3.9000\n",
      "saved step 4027051 in ckpt/\n"
     ]
    },
    {
     "name": "stderr",
     "output_type": "stream",
     "text": [
      " 98%|█████████▊| 48750/50000 [21:28:10<37:23,  1.79s/it]"
     ]
    },
    {
     "name": "stdout",
     "output_type": "stream",
     "text": [
      "\u001b[31m[EPISODE 48750 / STEP 16101227] - EPSILON-GREEDY[final] : 0.1000\n",
      "\u001b[32mLearned Step : 4031069\n",
      "\u001b[34mAVG   Return : 3.0400\n",
      "saved step 4031069 in ckpt/\n"
     ]
    },
    {
     "name": "stderr",
     "output_type": "stream",
     "text": [
      " 98%|█████████▊| 48800/50000 [21:29:34<32:15,  1.61s/it]"
     ]
    },
    {
     "name": "stdout",
     "output_type": "stream",
     "text": [
      "\u001b[31m[EPISODE 48800 / STEP 16118598] - EPSILON-GREEDY[final] : 0.1000\n",
      "\u001b[32mLearned Step : 4035431\n",
      "\u001b[34mAVG   Return : 3.0600\n",
      "saved step 4035431 in ckpt/\n"
     ]
    },
    {
     "name": "stderr",
     "output_type": "stream",
     "text": [
      " 98%|█████████▊| 48850/50000 [21:30:48<29:57,  1.56s/it]"
     ]
    },
    {
     "name": "stdout",
     "output_type": "stream",
     "text": [
      "\u001b[31m[EPISODE 48850 / STEP 16133886] - EPSILON-GREEDY[final] : 0.1000\n",
      "\u001b[32mLearned Step : 4039269\n",
      "\u001b[34mAVG   Return : 2.4200\n",
      "saved step 4039269 in ckpt/\n"
     ]
    },
    {
     "name": "stderr",
     "output_type": "stream",
     "text": [
      " 98%|█████████▊| 48900/50000 [21:32:03<35:56,  1.96s/it]"
     ]
    },
    {
     "name": "stdout",
     "output_type": "stream",
     "text": [
      "\u001b[31m[EPISODE 48900 / STEP 16149562] - EPSILON-GREEDY[final] : 0.1000\n",
      "\u001b[32mLearned Step : 4043205\n",
      "\u001b[34mAVG   Return : 2.5800\n",
      "saved step 4043205 in ckpt/\n"
     ]
    },
    {
     "name": "stderr",
     "output_type": "stream",
     "text": [
      " 98%|█████████▊| 48950/50000 [21:33:20<30:10,  1.72s/it]"
     ]
    },
    {
     "name": "stdout",
     "output_type": "stream",
     "text": [
      "\u001b[31m[EPISODE 48950 / STEP 16165338] - EPSILON-GREEDY[final] : 0.1000\n",
      "\u001b[32mLearned Step : 4047168\n",
      "\u001b[34mAVG   Return : 2.3600\n",
      "saved step 4047168 in ckpt/\n"
     ]
    },
    {
     "name": "stderr",
     "output_type": "stream",
     "text": [
      " 98%|█████████▊| 49000/50000 [21:34:55<30:14,  1.81s/it]"
     ]
    },
    {
     "name": "stdout",
     "output_type": "stream",
     "text": [
      "\u001b[31m[EPISODE 49000 / STEP 16185144] - EPSILON-GREEDY[final] : 0.1000\n",
      "\u001b[32mLearned Step : 4052140\n",
      "\u001b[34mAVG   Return : 3.9400\n",
      "saved step 4052140 in ckpt/\n"
     ]
    },
    {
     "name": "stderr",
     "output_type": "stream",
     "text": [
      " 98%|█████████▊| 49050/50000 [21:36:29<29:32,  1.87s/it]"
     ]
    },
    {
     "name": "stdout",
     "output_type": "stream",
     "text": [
      "\u001b[31m[EPISODE 49050 / STEP 16204459] - EPSILON-GREEDY[final] : 0.1000\n",
      "\u001b[32mLearned Step : 4056987\n",
      "\u001b[34mAVG   Return : 3.6600\n",
      "saved step 4056987 in ckpt/\n"
     ]
    },
    {
     "name": "stderr",
     "output_type": "stream",
     "text": [
      " 98%|█████████▊| 49100/50000 [21:38:10<28:25,  1.90s/it]"
     ]
    },
    {
     "name": "stdout",
     "output_type": "stream",
     "text": [
      "\u001b[31m[EPISODE 49100 / STEP 16225107] - EPSILON-GREEDY[final] : 0.1000\n",
      "\u001b[32mLearned Step : 4062168\n",
      "\u001b[34mAVG   Return : 3.8200\n",
      "saved step 4062168 in ckpt/\n"
     ]
    },
    {
     "name": "stderr",
     "output_type": "stream",
     "text": [
      " 98%|█████████▊| 49150/50000 [21:39:35<27:21,  1.93s/it]"
     ]
    },
    {
     "name": "stdout",
     "output_type": "stream",
     "text": [
      "\u001b[31m[EPISODE 49150 / STEP 16242739] - EPSILON-GREEDY[final] : 0.1000\n",
      "\u001b[32mLearned Step : 4066595\n",
      "\u001b[34mAVG   Return : 3.0800\n",
      "saved step 4066595 in ckpt/\n"
     ]
    },
    {
     "name": "stderr",
     "output_type": "stream",
     "text": [
      " 98%|█████████▊| 49200/50000 [21:41:01<20:28,  1.54s/it]"
     ]
    },
    {
     "name": "stdout",
     "output_type": "stream",
     "text": [
      "\u001b[31m[EPISODE 49200 / STEP 16260427] - EPSILON-GREEDY[final] : 0.1000\n",
      "\u001b[32mLearned Step : 4071036\n",
      "\u001b[34mAVG   Return : 3.5200\n",
      "saved step 4071036 in ckpt/\n"
     ]
    },
    {
     "name": "stderr",
     "output_type": "stream",
     "text": [
      " 98%|█████████▊| 49250/50000 [21:42:10<26:45,  2.14s/it]"
     ]
    },
    {
     "name": "stdout",
     "output_type": "stream",
     "text": [
      "\u001b[31m[EPISODE 49250 / STEP 16274628] - EPSILON-GREEDY[final] : 0.1000\n",
      "\u001b[32mLearned Step : 4074602\n",
      "\u001b[34mAVG   Return : 2.2600\n",
      "saved step 4074602 in ckpt/\n"
     ]
    },
    {
     "name": "stderr",
     "output_type": "stream",
     "text": [
      " 99%|█████████▊| 49300/50000 [21:43:12<16:16,  1.39s/it]"
     ]
    },
    {
     "name": "stdout",
     "output_type": "stream",
     "text": [
      "\u001b[31m[EPISODE 49300 / STEP 16287397] - EPSILON-GREEDY[final] : 0.1000\n",
      "\u001b[32mLearned Step : 4077816\n",
      "\u001b[34mAVG   Return : 1.4400\n",
      "saved step 4077816 in ckpt/\n"
     ]
    },
    {
     "name": "stderr",
     "output_type": "stream",
     "text": [
      " 99%|█████████▊| 49350/50000 [21:44:22<12:02,  1.11s/it]"
     ]
    },
    {
     "name": "stdout",
     "output_type": "stream",
     "text": [
      "\u001b[31m[EPISODE 49350 / STEP 16301745] - EPSILON-GREEDY[final] : 0.1000\n",
      "\u001b[32mLearned Step : 4081418\n",
      "\u001b[34mAVG   Return : 2.0600\n",
      "saved step 4081418 in ckpt/\n"
     ]
    },
    {
     "name": "stderr",
     "output_type": "stream",
     "text": [
      " 99%|█████████▉| 49400/50000 [21:45:32<12:09,  1.22s/it]"
     ]
    },
    {
     "name": "stdout",
     "output_type": "stream",
     "text": [
      "\u001b[31m[EPISODE 49400 / STEP 16316330] - EPSILON-GREEDY[final] : 0.1000\n",
      "\u001b[32mLearned Step : 4085081\n",
      "\u001b[34mAVG   Return : 2.0800\n",
      "saved step 4085081 in ckpt/\n"
     ]
    },
    {
     "name": "stderr",
     "output_type": "stream",
     "text": [
      " 99%|█████████▉| 49450/50000 [21:46:39<09:58,  1.09s/it]"
     ]
    },
    {
     "name": "stdout",
     "output_type": "stream",
     "text": [
      "\u001b[31m[EPISODE 49450 / STEP 16330123] - EPSILON-GREEDY[final] : 0.1000\n",
      "\u001b[32mLearned Step : 4088547\n",
      "\u001b[34mAVG   Return : 1.8800\n",
      "saved step 4088547 in ckpt/\n"
     ]
    },
    {
     "name": "stderr",
     "output_type": "stream",
     "text": [
      " 99%|█████████▉| 49500/50000 [21:47:56<15:48,  1.90s/it]"
     ]
    },
    {
     "name": "stdout",
     "output_type": "stream",
     "text": [
      "\u001b[31m[EPISODE 49500 / STEP 16345957] - EPSILON-GREEDY[final] : 0.1000\n",
      "\u001b[32mLearned Step : 4092528\n",
      "\u001b[34mAVG   Return : 2.4000\n",
      "saved step 4092528 in ckpt/\n"
     ]
    },
    {
     "name": "stderr",
     "output_type": "stream",
     "text": [
      " 99%|█████████▉| 49550/50000 [21:49:09<13:40,  1.82s/it]"
     ]
    },
    {
     "name": "stdout",
     "output_type": "stream",
     "text": [
      "\u001b[31m[EPISODE 49550 / STEP 16360872] - EPSILON-GREEDY[final] : 0.1000\n",
      "\u001b[32mLearned Step : 4096278\n",
      "\u001b[34mAVG   Return : 2.2200\n",
      "saved step 4096278 in ckpt/\n"
     ]
    },
    {
     "name": "stderr",
     "output_type": "stream",
     "text": [
      " 99%|█████████▉| 49600/50000 [21:50:21<07:41,  1.15s/it]"
     ]
    },
    {
     "name": "stdout",
     "output_type": "stream",
     "text": [
      "\u001b[31m[EPISODE 49600 / STEP 16375825] - EPSILON-GREEDY[final] : 0.1000\n",
      "\u001b[32mLearned Step : 4100034\n",
      "\u001b[34mAVG   Return : 2.4600\n",
      "saved step 4100034 in ckpt/\n"
     ]
    },
    {
     "name": "stderr",
     "output_type": "stream",
     "text": [
      " 99%|█████████▉| 49650/50000 [21:51:39<10:32,  1.81s/it]"
     ]
    },
    {
     "name": "stdout",
     "output_type": "stream",
     "text": [
      "\u001b[31m[EPISODE 49650 / STEP 16391613] - EPSILON-GREEDY[final] : 0.1000\n",
      "\u001b[32mLearned Step : 4104003\n",
      "\u001b[34mAVG   Return : 2.8200\n",
      "saved step 4104003 in ckpt/\n"
     ]
    },
    {
     "name": "stderr",
     "output_type": "stream",
     "text": [
      " 99%|█████████▉| 49700/50000 [21:52:58<10:07,  2.03s/it]"
     ]
    },
    {
     "name": "stdout",
     "output_type": "stream",
     "text": [
      "\u001b[31m[EPISODE 49700 / STEP 16408116] - EPSILON-GREEDY[final] : 0.1000\n",
      "\u001b[32mLearned Step : 4108148\n",
      "\u001b[34mAVG   Return : 2.9800\n",
      "saved step 4108148 in ckpt/\n"
     ]
    },
    {
     "name": "stderr",
     "output_type": "stream",
     "text": [
      "100%|█████████▉| 49750/50000 [21:54:25<07:14,  1.74s/it]"
     ]
    },
    {
     "name": "stdout",
     "output_type": "stream",
     "text": [
      "\u001b[31m[EPISODE 49750 / STEP 16425948] - EPSILON-GREEDY[final] : 0.1000\n",
      "\u001b[32mLearned Step : 4112624\n",
      "\u001b[34mAVG   Return : 3.4800\n",
      "saved step 4112624 in ckpt/\n"
     ]
    },
    {
     "name": "stderr",
     "output_type": "stream",
     "text": [
      "100%|█████████▉| 49800/50000 [21:55:50<05:59,  1.80s/it]"
     ]
    },
    {
     "name": "stdout",
     "output_type": "stream",
     "text": [
      "\u001b[31m[EPISODE 49800 / STEP 16443730] - EPSILON-GREEDY[final] : 0.1000\n",
      "\u001b[32mLearned Step : 4117090\n",
      "\u001b[34mAVG   Return : 3.5000\n",
      "saved step 4117090 in ckpt/\n"
     ]
    },
    {
     "name": "stderr",
     "output_type": "stream",
     "text": [
      "100%|█████████▉| 49850/50000 [21:57:10<03:18,  1.32s/it]"
     ]
    },
    {
     "name": "stdout",
     "output_type": "stream",
     "text": [
      "\u001b[31m[EPISODE 49850 / STEP 16459979] - EPSILON-GREEDY[final] : 0.1000\n",
      "\u001b[32mLearned Step : 4121173\n",
      "\u001b[34mAVG   Return : 3.0000\n",
      "saved step 4121173 in ckpt/\n"
     ]
    },
    {
     "name": "stderr",
     "output_type": "stream",
     "text": [
      "100%|█████████▉| 49900/50000 [21:58:26<02:38,  1.58s/it]"
     ]
    },
    {
     "name": "stdout",
     "output_type": "stream",
     "text": [
      "\u001b[31m[EPISODE 49900 / STEP 16475824] - EPSILON-GREEDY[final] : 0.1000\n",
      "\u001b[32mLearned Step : 4125155\n",
      "\u001b[34mAVG   Return : 2.6200\n",
      "saved step 4125155 in ckpt/\n"
     ]
    },
    {
     "name": "stderr",
     "output_type": "stream",
     "text": [
      "100%|█████████▉| 49950/50000 [21:59:42<01:41,  2.02s/it]"
     ]
    },
    {
     "name": "stdout",
     "output_type": "stream",
     "text": [
      "\u001b[31m[EPISODE 49950 / STEP 16491423] - EPSILON-GREEDY[final] : 0.1000\n",
      "\u001b[32mLearned Step : 4129072\n",
      "\u001b[34mAVG   Return : 2.6800\n",
      "saved step 4129072 in ckpt/\n"
     ]
    },
    {
     "name": "stderr",
     "output_type": "stream",
     "text": [
      "100%|██████████| 50000/50000 [22:00:57<00:00,  1.31s/it]"
     ]
    },
    {
     "name": "stdout",
     "output_type": "stream",
     "text": [
      "\u001b[31m[EPISODE 50000 / STEP 16507093] - EPSILON-GREEDY[final] : 0.1000\n",
      "\u001b[32mLearned Step : 4133009\n",
      "\u001b[34mAVG   Return : 2.7800\n",
      "saved step 4133009 in ckpt/\n"
     ]
    },
    {
     "name": "stderr",
     "output_type": "stream",
     "text": [
      "\n"
     ]
    }
   ],
   "source": [
    "# 50000 episode of training takes 22 hours using GTX-1080ti \n",
    "# you can use pretrained weights below.\n",
    "env.train(episode=50000, max_step=1000, minibatch_size=32, initial_life=5, verbose = 50, saving=True)"
   ]
  },
  {
   "cell_type": "code",
   "execution_count": 11,
   "metadata": {},
   "outputs": [
    {
     "name": "stdout",
     "output_type": "stream",
     "text": [
      "INFO:tensorflow:Restoring parameters from ckpt/-2066631\n"
     ]
    }
   ],
   "source": [
    "# which was my best step\n",
    "env.load(2066631)"
   ]
  },
  {
   "cell_type": "code",
   "execution_count": 9,
   "metadata": {},
   "outputs": [
    {
     "name": "stdout",
     "output_type": "stream",
     "text": [
      "\u001b[32mEPISODE   0: REWARD: 6.0\n",
      "\u001b[32mEPISODE   1: REWARD: 8.0\n",
      "\u001b[32mEPISODE   2: REWARD: 7.0\n",
      "\u001b[32mEPISODE   3: REWARD: 7.0\n",
      "\u001b[32mEPISODE   4: REWARD: 6.0\n",
      "\u001b[32mEPISODE   5: REWARD: 7.0\n",
      "\u001b[32mEPISODE   6: REWARD: 7.0\n",
      "\u001b[32mEPISODE   7: REWARD: 9.0\n",
      "\u001b[32mEPISODE   8: REWARD: 2.0\n",
      "\u001b[32mEPISODE   9: REWARD: 5.0\n",
      "\u001b[32mEPISODE  10: REWARD: 11.0\n",
      "\u001b[32mEPISODE  11: REWARD: 2.0\n",
      "\u001b[32mEPISODE  12: REWARD: 10.0\n",
      "\u001b[32mEPISODE  13: REWARD: 7.0\n",
      "\u001b[32mEPISODE  14: REWARD: 12.0\n",
      "\u001b[32mEPISODE  15: REWARD: 8.0\n",
      "\u001b[32mEPISODE  16: REWARD: 4.0\n",
      "\u001b[32mEPISODE  17: REWARD: 2.0\n",
      "\u001b[32mEPISODE  18: REWARD: 2.0\n",
      "\u001b[32mEPISODE  19: REWARD: 6.0\n",
      "\u001b[32mEPISODE  20: REWARD: 6.0\n",
      "\u001b[32mEPISODE  21: REWARD: 19.0\n",
      "\u001b[32mEPISODE  22: REWARD: 4.0\n",
      "\u001b[32mEPISODE  23: REWARD: 10.0\n",
      "\u001b[32mEPISODE  24: REWARD: 10.0\n",
      "\u001b[32mEPISODE  25: REWARD: 5.0\n",
      "\u001b[32mEPISODE  26: REWARD: 3.0\n",
      "\u001b[32mEPISODE  27: REWARD: 6.0\n",
      "\u001b[32mEPISODE  28: REWARD: 6.0\n",
      "\u001b[32mEPISODE  29: REWARD: 10.0\n",
      "\u001b[32mEPISODE  30: REWARD: 4.0\n",
      "\u001b[32mEPISODE  31: REWARD: 9.0\n",
      "\u001b[32mEPISODE  32: REWARD: 1.0\n",
      "\u001b[32mEPISODE  33: REWARD: 3.0\n",
      "\u001b[32mEPISODE  34: REWARD: 2.0\n",
      "\u001b[32mEPISODE  35: REWARD: 8.0\n",
      "\u001b[32mEPISODE  36: REWARD: 3.0\n",
      "\u001b[32mEPISODE  37: REWARD: 10.0\n",
      "\u001b[32mEPISODE  38: REWARD: 10.0\n",
      "\u001b[32mEPISODE  39: REWARD: 7.0\n",
      "\u001b[32mEPISODE  40: REWARD: 10.0\n",
      "\u001b[32mEPISODE  41: REWARD: 3.0\n",
      "\u001b[32mEPISODE  42: REWARD: 3.0\n",
      "\u001b[32mEPISODE  43: REWARD: 7.0\n",
      "\u001b[32mEPISODE  44: REWARD: 9.0\n",
      "\u001b[32mEPISODE  45: REWARD: 2.0\n",
      "\u001b[32mEPISODE  46: REWARD: 14.0\n",
      "\u001b[32mEPISODE  47: REWARD: 1.0\n",
      "\u001b[32mEPISODE  48: REWARD: 3.0\n",
      "\u001b[32mEPISODE  49: REWARD: 12.0\n",
      "\u001b[31mAVG REWARD : 6.56\n",
      "\u001b[34mMAX REWARD : 19.0\n"
     ]
    }
   ],
   "source": [
    "env.simulate(50, render= True)"
   ]
  },
  {
   "cell_type": "code",
   "execution_count": null,
   "metadata": {},
   "outputs": [],
   "source": []
  }
 ],
 "metadata": {
  "kernelspec": {
   "display_name": "clasic368",
   "language": "python",
   "name": "classic368"
  },
  "language_info": {
   "codemirror_mode": {
    "name": "ipython",
    "version": 3
   },
   "file_extension": ".py",
   "mimetype": "text/x-python",
   "name": "python",
   "nbconvert_exporter": "python",
   "pygments_lexer": "ipython3",
   "version": "3.6.8"
  }
 },
 "nbformat": 4,
 "nbformat_minor": 2
}
