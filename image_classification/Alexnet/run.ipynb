{
 "cells": [
  {
   "cell_type": "code",
   "execution_count": 1,
   "metadata": {},
   "outputs": [],
   "source": [
    "import tensorflow as tf\n",
    "import tensorflow.contrib.eager as tfe\n",
    "\n",
    "\n",
    "# eagerly (declared only once)\n",
    "tf.enable_eager_execution(device_policy=tfe.DEVICE_PLACEMENT_SILENT)\n"
   ]
  },
  {
   "cell_type": "code",
   "execution_count": 2,
   "metadata": {},
   "outputs": [],
   "source": [
    "from preprocess import prerprocess_train, prerprocess_test"
   ]
  },
  {
   "cell_type": "code",
   "execution_count": 3,
   "metadata": {},
   "outputs": [
    {
     "data": {
      "text/plain": [
       "((50000, 32, 32, 3), (50000,))"
      ]
     },
     "execution_count": 3,
     "metadata": {},
     "output_type": "execute_result"
    }
   ],
   "source": [
    "X_train, y_train = prerprocess_train(\"../data/cifar-10-batches-py/\")\n",
    "X_train.shape, y_train.shape"
   ]
  },
  {
   "cell_type": "code",
   "execution_count": 4,
   "metadata": {},
   "outputs": [
    {
     "data": {
      "text/plain": [
       "((10000, 32, 32, 3), (10000,))"
      ]
     },
     "execution_count": 4,
     "metadata": {},
     "output_type": "execute_result"
    }
   ],
   "source": [
    "X_test, y_test = prerprocess_test(\"../data/cifar-10-batches-py/\")\n",
    "X_test.shape, y_test.shape"
   ]
  },
  {
   "cell_type": "code",
   "execution_count": 5,
   "metadata": {},
   "outputs": [],
   "source": [
    "%matplotlib inline\n",
    "import matplotlib.pyplot as plt\n"
   ]
  },
  {
   "cell_type": "code",
   "execution_count": 6,
   "metadata": {},
   "outputs": [],
   "source": [
    "import pickle\n",
    "with open(\"../data/cifar-10-batches-py/batches.meta\", \"rb\") as f:\n",
    "    label_dict = pickle.load(f)"
   ]
  },
  {
   "cell_type": "code",
   "execution_count": 7,
   "metadata": {},
   "outputs": [
    {
     "name": "stdout",
     "output_type": "stream",
     "text": [
      "automobile\n"
     ]
    },
    {
     "data": {
      "image/png": "[encoded data removed]",
      "text/plain": [
       "<Figure size 432x288 with 1 Axes>"
      ]
     },
     "metadata": {
      "needs_background": "light"
     },
     "output_type": "display_data"
    }
   ],
   "source": [
    "plt.imshow(X_train[5])\n",
    "print(label_dict['label_names'][y_train[5]])"
   ]
  },
  {
   "cell_type": "code",
   "execution_count": 8,
   "metadata": {
    "scrolled": true
   },
   "outputs": [
    {
     "name": "stdout",
     "output_type": "stream",
     "text": [
      "horse\n"
     ]
    },
    {
     "data": {
      "image/png": "[encoded data removed]",
      "text/plain": [
       "<Figure size 432x288 with 1 Axes>"
      ]
     },
     "metadata": {
      "needs_background": "light"
     },
     "output_type": "display_data"
    }
   ],
   "source": [
    "plt.imshow(X_train[7])\n",
    "print(label_dict['label_names'][y_train[7]])"
   ]
  },
  {
   "cell_type": "code",
   "execution_count": 9,
   "metadata": {},
   "outputs": [],
   "source": [
    "from alexnet import Alexnet"
   ]
  },
  {
   "cell_type": "code",
   "execution_count": 10,
   "metadata": {},
   "outputs": [],
   "source": [
    "alex_model = Alexnet(device_name=\"gpu:0\")"
   ]
  },
  {
   "cell_type": "code",
   "execution_count": 11,
   "metadata": {},
   "outputs": [
    {
     "name": "stdout",
     "output_type": "stream",
     "text": [
      "_________________________________________________________________\n",
      "Layer (type)                 Output Shape              Param #   \n",
      "=================================================================\n",
      "conv2d_1 (Conv2D)            multiple                  1216      \n",
      "_________________________________________________________________\n",
      "max_pooling2d_1 (MaxPooling2 multiple                  0         \n",
      "_________________________________________________________________\n",
      "conv2d_2 (Conv2D)            multiple                  19248     \n",
      "_________________________________________________________________\n",
      "max_pooling2d_2 (MaxPooling2 multiple                  0         \n",
      "_________________________________________________________________\n",
      "conv2d_3 (Conv2D)            multiple                  31176     \n",
      "_________________________________________________________________\n",
      "conv2d_4 (Conv2D)            multiple                  46728     \n",
      "_________________________________________________________________\n",
      "conv2d_5 (Conv2D)            multiple                  31152     \n",
      "_________________________________________________________________\n",
      "max_pooling2d_3 (MaxPooling2 multiple                  0         \n",
      "_________________________________________________________________\n",
      "flatten_1 (Flatten)          multiple                  0         \n",
      "_________________________________________________________________\n",
      "dense_1 (Dense)              multiple                  98432     \n",
      "_________________________________________________________________\n",
      "dropout_1 (Dropout)          multiple                  0         \n",
      "_________________________________________________________________\n",
      "dense_2 (Dense)              multiple                  16512     \n",
      "_________________________________________________________________\n",
      "dropout_2 (Dropout)          multiple                  0         \n",
      "_________________________________________________________________\n",
      "dense_3 (Dense)              multiple                  1290      \n",
      "=================================================================\n",
      "Total params: 245,754\n",
      "Trainable params: 245,754\n",
      "Non-trainable params: 0\n",
      "_________________________________________________________________\n"
     ]
    }
   ],
   "source": [
    "alex_model(tf.convert_to_tensor(X_train[:1]), True)\n",
    "alex_model.summary()"
   ]
  },
  {
   "cell_type": "code",
   "execution_count": 12,
   "metadata": {},
   "outputs": [
    {
     "name": "stderr",
     "output_type": "stream",
     "text": [
      "GLOBAL 1: 100%|██████████| 391/391 [00:16<00:00, 23.74it/s]\n",
      "GLOBAL 1: 100%|██████████| 79/79 [00:10<00:00,  7.76it/s]\n"
     ]
    },
    {
     "name": "stdout",
     "output_type": "stream",
     "text": [
      "\u001b[31m=========================\n",
      "[EPOCH 1 / STEP 1]\n",
      "TRAIN loss   : 1.6413\n",
      "VAL   loss   : 1.3394\n",
      "VAL   acc    : 51.0500%\n",
      "=========================\u001b[0m\n"
     ]
    },
    {
     "name": "stderr",
     "output_type": "stream",
     "text": [
      "GLOBAL 2: 100%|██████████| 391/391 [00:16<00:00, 24.31it/s]\n",
      "GLOBAL 2: 100%|██████████| 79/79 [00:10<00:00,  7.68it/s]\n"
     ]
    },
    {
     "name": "stdout",
     "output_type": "stream",
     "text": [
      "\u001b[31m=========================\n",
      "[EPOCH 2 / STEP 2]\n",
      "TRAIN loss   : 1.2341\n",
      "VAL   loss   : 1.1430\n",
      "VAL   acc    : 59.1800%\n",
      "=========================\u001b[0m\n"
     ]
    },
    {
     "name": "stderr",
     "output_type": "stream",
     "text": [
      "GLOBAL 3: 100%|██████████| 391/391 [00:17<00:00, 22.95it/s]\n",
      "GLOBAL 3: 100%|██████████| 79/79 [00:10<00:00,  7.65it/s]\n"
     ]
    },
    {
     "name": "stdout",
     "output_type": "stream",
     "text": [
      "\u001b[31m=========================\n",
      "[EPOCH 3 / STEP 3]\n",
      "TRAIN loss   : 1.0546\n",
      "VAL   loss   : 1.0357\n",
      "VAL   acc    : 63.6600%\n",
      "=========================\u001b[0m\n"
     ]
    },
    {
     "name": "stderr",
     "output_type": "stream",
     "text": [
      "GLOBAL 4: 100%|██████████| 391/391 [00:16<00:00, 23.68it/s]\n",
      "GLOBAL 4: 100%|██████████| 79/79 [00:10<00:00,  7.57it/s]\n"
     ]
    },
    {
     "name": "stdout",
     "output_type": "stream",
     "text": [
      "\u001b[31m=========================\n",
      "[EPOCH 4 / STEP 4]\n",
      "TRAIN loss   : 0.9344\n",
      "VAL   loss   : 0.9691\n",
      "VAL   acc    : 65.7800%\n",
      "=========================\u001b[0m\n"
     ]
    },
    {
     "name": "stderr",
     "output_type": "stream",
     "text": [
      "GLOBAL 5: 100%|██████████| 391/391 [00:16<00:00,  6.03it/s]\n",
      "GLOBAL 5: 100%|██████████| 79/79 [00:10<00:00,  1.12it/s]\n"
     ]
    },
    {
     "name": "stdout",
     "output_type": "stream",
     "text": [
      "\u001b[31m=========================\n",
      "[EPOCH 5 / STEP 5]\n",
      "TRAIN loss   : 0.8413\n",
      "VAL   loss   : 0.9005\n",
      "VAL   acc    : 68.4300%\n",
      "=========================\u001b[0m\n"
     ]
    },
    {
     "name": "stderr",
     "output_type": "stream",
     "text": [
      "GLOBAL 6: 100%|██████████| 391/391 [00:16<00:00, 23.72it/s]\n",
      "GLOBAL 6: 100%|██████████| 79/79 [00:10<00:00,  7.57it/s]\n"
     ]
    },
    {
     "name": "stdout",
     "output_type": "stream",
     "text": [
      "\u001b[31m=========================\n",
      "[EPOCH 6 / STEP 6]\n",
      "TRAIN loss   : 0.7664\n",
      "VAL   loss   : 0.8621\n",
      "VAL   acc    : 69.5900%\n",
      "=========================\u001b[0m\n"
     ]
    },
    {
     "name": "stderr",
     "output_type": "stream",
     "text": [
      "GLOBAL 7: 100%|██████████| 391/391 [00:16<00:00, 24.26it/s]\n",
      "GLOBAL 7: 100%|██████████| 79/79 [00:10<00:00,  7.58it/s]\n"
     ]
    },
    {
     "name": "stdout",
     "output_type": "stream",
     "text": [
      "\u001b[31m=========================\n",
      "[EPOCH 7 / STEP 7]\n",
      "TRAIN loss   : 0.7086\n",
      "VAL   loss   : 0.8118\n",
      "VAL   acc    : 72.0000%\n",
      "=========================\u001b[0m\n"
     ]
    },
    {
     "name": "stderr",
     "output_type": "stream",
     "text": [
      "GLOBAL 8: 100%|██████████| 391/391 [00:16<00:00,  7.48it/s]\n",
      "GLOBAL 8: 100%|██████████| 79/79 [00:10<00:00,  7.82it/s]\n"
     ]
    },
    {
     "name": "stdout",
     "output_type": "stream",
     "text": [
      "\u001b[31m=========================\n",
      "[EPOCH 8 / STEP 8]\n",
      "TRAIN loss   : 0.6482\n",
      "VAL   loss   : 0.8651\n",
      "VAL   acc    : 70.7700%\n",
      "=========================\u001b[0m\n"
     ]
    },
    {
     "name": "stderr",
     "output_type": "stream",
     "text": [
      "GLOBAL 9: 100%|██████████| 391/391 [00:16<00:00,  7.57it/s]\n",
      "GLOBAL 9: 100%|██████████| 79/79 [00:10<00:00,  7.68it/s]\n"
     ]
    },
    {
     "name": "stdout",
     "output_type": "stream",
     "text": [
      "\u001b[31m=========================\n",
      "[EPOCH 9 / STEP 9]\n",
      "TRAIN loss   : 0.6012\n",
      "VAL   loss   : 0.8148\n",
      "VAL   acc    : 72.4200%\n",
      "=========================\u001b[0m\n"
     ]
    },
    {
     "name": "stderr",
     "output_type": "stream",
     "text": [
      "GLOBAL 10: 100%|██████████| 391/391 [00:16<00:00, 23.03it/s]\n",
      "GLOBAL 10: 100%|██████████| 79/79 [00:10<00:00,  7.67it/s]\n"
     ]
    },
    {
     "name": "stdout",
     "output_type": "stream",
     "text": [
      "\u001b[31m=========================\n",
      "[EPOCH 10 / STEP 10]\n",
      "TRAIN loss   : 0.5658\n",
      "VAL   loss   : 0.8008\n",
      "VAL   acc    : 72.6500%\n",
      "=========================\u001b[0m\n",
      "CPU times: user 2min 18s, sys: 1min 53s, total: 4min 12s\n",
      "Wall time: 4min 39s\n"
     ]
    }
   ],
   "source": [
    "%%time\n",
    "alex_model.fit(X_train, y_train, X_test, y_test, epochs=10, verbose=1, batch_size=128, tqdm_option=\"normal\")"
   ]
  },
  {
   "cell_type": "code",
   "execution_count": null,
   "metadata": {},
   "outputs": [],
   "source": []
  }
 ],
 "metadata": {
  "kernelspec": {
   "display_name": "clasic36",
   "language": "python",
   "name": "classic36"
  },
  "language_info": {
   "codemirror_mode": {
    "name": "ipython",
    "version": 3
   },
   "file_extension": ".py",
   "mimetype": "text/x-python",
   "name": "python",
   "nbconvert_exporter": "python",
   "pygments_lexer": "ipython3",
   "version": "3.6.7"
  }
 },
 "nbformat": 4,
 "nbformat_minor": 2
}
