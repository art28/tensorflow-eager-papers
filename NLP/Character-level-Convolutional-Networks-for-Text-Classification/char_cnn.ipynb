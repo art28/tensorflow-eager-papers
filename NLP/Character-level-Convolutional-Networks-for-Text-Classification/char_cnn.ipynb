{
 "cells": [
  {
   "cell_type": "code",
   "execution_count": 1,
   "metadata": {},
   "outputs": [],
   "source": [
    "%load_ext autoreload\n",
    "%autoreload 2"
   ]
  },
  {
   "cell_type": "code",
   "execution_count": 2,
   "metadata": {},
   "outputs": [],
   "source": [
    "import os\n",
    "from os import listdir, remove\n",
    "from os.path import isfile, join\n",
    "import numpy as np"
   ]
  },
  {
   "cell_type": "markdown",
   "metadata": {},
   "source": [
    "## Download Dataset"
   ]
  },
  {
   "cell_type": "code",
   "execution_count": 3,
   "metadata": {},
   "outputs": [
    {
     "name": "stderr",
     "output_type": "stream",
     "text": [
      "[nltk_data] Downloading package movie_reviews to\n",
      "[nltk_data]     /home/aksdmj/nltk_data...\n",
      "[nltk_data]   Package movie_reviews is already up-to-date!\n"
     ]
    },
    {
     "data": {
      "text/plain": [
       "True"
      ]
     },
     "execution_count": 3,
     "metadata": {},
     "output_type": "execute_result"
    }
   ],
   "source": [
    "import nltk\n",
    "import ssl\n",
    "\n",
    "try:\n",
    "    _create_unverified_https_context = ssl._create_unverified_context\n",
    "except AttributeError:\n",
    "    pass\n",
    "else:\n",
    "    ssl._create_default_https_context = _create_unverified_https_context\n",
    "\n",
    "nltk.download(\"movie_reviews\")"
   ]
  },
  {
   "cell_type": "code",
   "execution_count": 4,
   "metadata": {},
   "outputs": [],
   "source": [
    "from nltk.corpus import movie_reviews as mr\n",
    "from collections import defaultdict"
   ]
  },
  {
   "cell_type": "code",
   "execution_count": 5,
   "metadata": {},
   "outputs": [],
   "source": [
    "# divide filenames by its sentiment\n",
    "# error-avoiding method\n",
    "documents = defaultdict(list)\n",
    "for i in mr.fileids():\n",
    "    documents[i.split('/')[0]].append(i)"
   ]
  },
  {
   "cell_type": "code",
   "execution_count": 6,
   "metadata": {},
   "outputs": [
    {
     "data": {
      "text/plain": [
       "14957"
      ]
     },
     "execution_count": 6,
     "metadata": {},
     "output_type": "execute_result"
    }
   ],
   "source": [
    "# calculate maximum length of text\n",
    "lens = [len(mr.raw(i)) for i  in mr.fileids()]\n",
    "max_num_characters = max(lens)\n",
    "max_num_characters"
   ]
  },
  {
   "cell_type": "code",
   "execution_count": 7,
   "metadata": {},
   "outputs": [],
   "source": [
    "import matplotlib.pyplot as plt\n",
    "import seaborn as sns\n",
    "%matplotlib inline"
   ]
  },
  {
   "cell_type": "code",
   "execution_count": 8,
   "metadata": {},
   "outputs": [
    {
     "data": {
      "text/plain": [
       "<matplotlib.axes._subplots.AxesSubplot at 0x7f946043bd30>"
      ]
     },
     "execution_count": 8,
     "metadata": {},
     "output_type": "execute_result"
    },
    {
     "data": {
      "image/png": "[encoded data removed]",
      "text/plain": [
       "<Figure size 432x288 with 1 Axes>"
      ]
     },
     "metadata": {
      "needs_background": "light"
     },
     "output_type": "display_data"
    }
   ],
   "source": [
    "sns.distplot(lens)"
   ]
  },
  {
   "cell_type": "code",
   "execution_count": 9,
   "metadata": {},
   "outputs": [
    {
     "data": {
      "text/plain": [
       "74"
      ]
     },
     "execution_count": 9,
     "metadata": {},
     "output_type": "execute_result"
    }
   ],
   "source": [
    "# count the number of unique words used in all texts\n",
    "# 70 non sapce characted is used in original paper.\n",
    "unique_chars = len(set(mr.raw()))\n",
    "unique_chars"
   ]
  },
  {
   "cell_type": "code",
   "execution_count": 10,
   "metadata": {},
   "outputs": [],
   "source": [
    "chars = sorted(list(set(mr.raw())))"
   ]
  },
  {
   "cell_type": "code",
   "execution_count": 11,
   "metadata": {},
   "outputs": [
    {
     "data": {
      "text/plain": [
       "8"
      ]
     },
     "execution_count": 11,
     "metadata": {},
     "output_type": "execute_result"
    }
   ],
   "source": [
    "char_dict_inv = {v:i+1 for i,v in enumerate(chars)}\n",
    "char_dict_inv[\"<PAD>\"] = 0\n",
    "char_dict_inv['!']"
   ]
  },
  {
   "cell_type": "markdown",
   "metadata": {},
   "source": [
    "# Model"
   ]
  },
  {
   "cell_type": "code",
   "execution_count": 12,
   "metadata": {},
   "outputs": [],
   "source": [
    "import tensorflow as tf\n",
    "import tensorflow.contrib.eager as tfe"
   ]
  },
  {
   "cell_type": "code",
   "execution_count": 13,
   "metadata": {},
   "outputs": [],
   "source": [
    "tfe.enable_eager_execution(device_policy=tfe.DEVICE_PLACEMENT_SILENT)"
   ]
  },
  {
   "cell_type": "code",
   "execution_count": null,
   "metadata": {},
   "outputs": [],
   "source": [
    "device = 'gpu:0' if tfe.num_gpus() > 0 else 'cpu:0'"
   ]
  },
  {
   "cell_type": "markdown",
   "metadata": {},
   "source": [
    "# Data preprocess"
   ]
  },
  {
   "cell_type": "code",
   "execution_count": 14,
   "metadata": {},
   "outputs": [],
   "source": [
    "# maximum character counts\n",
    "# original paper used only 1014 characters, but we will use 5000\n",
    "l0 = 5000"
   ]
  },
  {
   "cell_type": "code",
   "execution_count": 15,
   "metadata": {},
   "outputs": [],
   "source": [
    "def cut_or_padding(chars):\n",
    "    if len(chars) > l0:\n",
    "        # from back\n",
    "        # return chars[-l0:]\n",
    "        \n",
    "        # from front\n",
    "        return chars[:l0]\n",
    "    else:\n",
    "        return chars\n",
    "def chars2indexs(chars):\n",
    "    return np.array([char_dict_inv[char] for char in chars])\n",
    "\n",
    "def preprocess(document):\n",
    "    indexs = chars2indexs(cut_or_padding(mr.raw(document)))\n",
    "    temp = np.concatenate([indexs, np.zeros([l0 - indexs.shape[0]], dtype=\"int64\")])\n",
    "    return temp"
   ]
  },
  {
   "cell_type": "code",
   "execution_count": 16,
   "metadata": {},
   "outputs": [],
   "source": [
    "X = list()\n",
    "y = list()\n",
    "\n",
    "# 0 label for negative , 1 for positive\n",
    "for i in documents['neg']:\n",
    "    tx = preprocess(i)\n",
    "    X.append(tx)\n",
    "    y.append(0)\n",
    "    \n",
    "for i in documents['pos']:\n",
    "    tx = preprocess(i)\n",
    "    X.append(tx)\n",
    "    y.append(1)"
   ]
  },
  {
   "cell_type": "code",
   "execution_count": 17,
   "metadata": {},
   "outputs": [],
   "source": [
    "from sklearn.model_selection import train_test_split\n",
    "\n",
    "X_train, X_val, y_train, y_val = train_test_split(X, y, test_size=0.2, random_state=42)"
   ]
  },
  {
   "cell_type": "code",
   "execution_count": 18,
   "metadata": {},
   "outputs": [],
   "source": [
    "from charcter_cnn import CNN_character"
   ]
  },
  {
   "cell_type": "code",
   "execution_count": 19,
   "metadata": {},
   "outputs": [],
   "source": [
    "charcnn = CNN_character(num_chars=len(char_dict_inv), in_dim=l0, out_dim=2, device_name=device)"
   ]
  },
  {
   "cell_type": "code",
   "execution_count": 20,
   "metadata": {},
   "outputs": [
    {
     "name": "stdout",
     "output_type": "stream",
     "text": [
      "_________________________________________________________________\n",
      "Layer (type)                 Output Shape              Param #   \n",
      "=================================================================\n",
      "conv11 (Conv1D)              multiple                  538624    \n",
      "_________________________________________________________________\n",
      "conv12 (Conv1D)              multiple                  7341056   \n",
      "_________________________________________________________________\n",
      "conv13 (Conv1D)              multiple                  3146752   \n",
      "_________________________________________________________________\n",
      "conv14 (Conv1D)              multiple                  3146752   \n",
      "_________________________________________________________________\n",
      "conv15 (Conv1D)              multiple                  3146752   \n",
      "_________________________________________________________________\n",
      "conv16 (Conv1D)              multiple                  3146752   \n",
      "_________________________________________________________________\n",
      "maxpool1 (MaxPooling1D)      multiple                  0         \n",
      "_________________________________________________________________\n",
      "maxpool2 (MaxPooling1D)      multiple                  0         \n",
      "_________________________________________________________________\n",
      "maxpool3 (MaxPooling1D)      multiple                  0         \n",
      "_________________________________________________________________\n",
      "flatten (Flatten)            multiple                  0         \n",
      "_________________________________________________________________\n",
      "dropout (Dropout)            multiple                  0         \n",
      "_________________________________________________________________\n",
      "fc1 (Dense)                  multiple                  47448320  \n",
      "_________________________________________________________________\n",
      "fc2 (Dense)                  multiple                  32896     \n",
      "_________________________________________________________________\n",
      "out (Dense)                  multiple                  258       \n",
      "=================================================================\n",
      "Total params: 67,948,162\n",
      "Trainable params: 67,948,162\n",
      "Non-trainable params: 0\n",
      "_________________________________________________________________\n"
     ]
    }
   ],
   "source": [
    "charcnn(tf.convert_to_tensor(X_train[:1]), True)\n",
    "charcnn.summary()"
   ]
  },
  {
   "cell_type": "code",
   "execution_count": 21,
   "metadata": {},
   "outputs": [
    {
     "name": "stderr",
     "output_type": "stream",
     "text": [
      "TRAIN   1: 100%|██████████| 50/50 [00:33<00:00,  1.90it/s]\n",
      "VAL     1: 100%|██████████| 13/13 [00:11<00:00,  1.16s/it]\n"
     ]
    },
    {
     "name": "stdout",
     "output_type": "stream",
     "text": [
      "\u001b[31m=========================\n",
      "[EPOCH 1 / STEP 1]\n",
      "TRAIN loss   : 56094.2383\n",
      "VAL   loss   : 115285.3281\n",
      "VAL   acc    : 49.7500%\n",
      "=========================\u001b[0m\n"
     ]
    },
    {
     "name": "stderr",
     "output_type": "stream",
     "text": [
      "TRAIN   2: 100%|██████████| 50/50 [00:32<00:00,  2.00it/s]\n",
      "VAL     2: 100%|██████████| 13/13 [00:10<00:00,  1.04it/s]\n",
      "TRAIN   3: 100%|██████████| 50/50 [00:32<00:00,  1.71it/s]\n",
      "VAL     3: 100%|██████████| 13/13 [00:10<00:00,  1.04it/s]\n",
      "TRAIN   4: 100%|██████████| 50/50 [00:30<00:00,  2.00it/s]\n",
      "VAL     4: 100%|██████████| 13/13 [00:10<00:00,  1.03it/s]\n"
     ]
    },
    {
     "name": "stdout",
     "output_type": "stream",
     "text": [
      "\u001b[31m=========================\n",
      "[EPOCH 4 / STEP 4]\n",
      "TRAIN loss   : 18472.0996\n",
      "VAL   loss   : 4859.9292\n",
      "VAL   acc    : 50.2500%\n",
      "=========================\u001b[0m\n"
     ]
    },
    {
     "name": "stderr",
     "output_type": "stream",
     "text": [
      "TRAIN   5: 100%|██████████| 50/50 [00:31<00:00,  2.00it/s]\n",
      "VAL     5: 100%|██████████| 13/13 [00:10<00:00,  1.04it/s]\n",
      "TRAIN   6: 100%|██████████| 50/50 [00:31<00:00,  2.02it/s]\n",
      "VAL     6: 100%|██████████| 13/13 [00:10<00:00,  1.04it/s]\n",
      "TRAIN   7: 100%|██████████| 50/50 [00:31<00:00,  1.78it/s]\n",
      "VAL     7: 100%|██████████| 13/13 [00:11<00:00,  1.01s/it]\n",
      "TRAIN   8: 100%|██████████| 50/50 [00:32<00:00,  1.93it/s]\n",
      "VAL     8: 100%|██████████| 13/13 [00:10<00:00,  1.03it/s]\n"
     ]
    },
    {
     "name": "stdout",
     "output_type": "stream",
     "text": [
      "\u001b[31m=========================\n",
      "[EPOCH 8 / STEP 8]\n",
      "TRAIN loss   : 259.4607\n",
      "VAL   loss   : 282.5378\n",
      "VAL   acc    : 53.5000%\n",
      "=========================\u001b[0m\n"
     ]
    },
    {
     "name": "stderr",
     "output_type": "stream",
     "text": [
      "TRAIN   9: 100%|██████████| 50/50 [00:33<00:00,  1.88it/s]\n",
      "VAL     9: 100%|██████████| 13/13 [00:11<00:00,  1.03s/it]\n",
      "TRAIN  10: 100%|██████████| 50/50 [00:32<00:00,  1.85it/s]\n",
      "VAL    10: 100%|██████████| 13/13 [00:10<00:00,  1.01it/s]\n",
      "TRAIN  11: 100%|██████████| 50/50 [00:31<00:00,  2.00it/s]\n",
      "VAL    11: 100%|██████████| 13/13 [00:10<00:00,  1.01it/s]\n",
      "TRAIN  12: 100%|██████████| 50/50 [00:31<00:00,  2.01it/s]\n",
      "VAL    12: 100%|██████████| 13/13 [00:10<00:00,  1.01s/it]\n"
     ]
    },
    {
     "name": "stdout",
     "output_type": "stream",
     "text": [
      "\u001b[31m=========================\n",
      "[EPOCH 12 / STEP 12]\n",
      "TRAIN loss   : 418.5057\n",
      "VAL   loss   : 252.0976\n",
      "VAL   acc    : 46.7500%\n",
      "=========================\u001b[0m\n"
     ]
    },
    {
     "name": "stderr",
     "output_type": "stream",
     "text": [
      "TRAIN  13: 100%|██████████| 50/50 [00:31<00:00,  2.01it/s]\n",
      "VAL    13: 100%|██████████| 13/13 [00:10<00:00,  1.00s/it]\n",
      "TRAIN  14: 100%|██████████| 50/50 [00:34<00:00,  1.80it/s]\n",
      "VAL    14: 100%|██████████| 13/13 [00:11<00:00,  1.02s/it]\n",
      "TRAIN  15: 100%|██████████| 50/50 [00:34<00:00,  1.81it/s]\n",
      "VAL    15: 100%|██████████| 13/13 [00:11<00:00,  1.05s/it]\n",
      "TRAIN  16: 100%|██████████| 50/50 [00:34<00:00,  1.80it/s]\n",
      "VAL    16: 100%|██████████| 13/13 [00:11<00:00,  1.08s/it]\n"
     ]
    },
    {
     "name": "stdout",
     "output_type": "stream",
     "text": [
      "\u001b[31m=========================\n",
      "[EPOCH 16 / STEP 16]\n",
      "TRAIN loss   : 112.7941\n",
      "VAL   loss   : 146.6388\n",
      "VAL   acc    : 52.2500%\n",
      "=========================\u001b[0m\n"
     ]
    },
    {
     "name": "stderr",
     "output_type": "stream",
     "text": [
      "TRAIN  17: 100%|██████████| 50/50 [00:34<00:00,  1.79it/s]\n",
      "VAL    17: 100%|██████████| 13/13 [00:11<00:00,  1.06s/it]\n",
      "TRAIN  18: 100%|██████████| 50/50 [00:34<00:00,  1.78it/s]\n",
      "VAL    18: 100%|██████████| 13/13 [00:11<00:00,  1.04s/it]\n",
      "TRAIN  19: 100%|██████████| 50/50 [00:34<00:00,  1.80it/s]\n",
      "VAL    19: 100%|██████████| 13/13 [00:11<00:00,  1.04s/it]\n",
      "TRAIN  20: 100%|██████████| 50/50 [00:34<00:00,  1.79it/s]\n",
      "VAL    20: 100%|██████████| 13/13 [00:11<00:00,  1.04s/it]\n"
     ]
    },
    {
     "name": "stdout",
     "output_type": "stream",
     "text": [
      "\u001b[31m=========================\n",
      "[EPOCH 20 / STEP 20]\n",
      "TRAIN loss   : 40.5559\n",
      "VAL   loss   : 87.1154\n",
      "VAL   acc    : 53.5000%\n",
      "=========================\u001b[0m\n"
     ]
    }
   ],
   "source": [
    "# if you get OOM error, use smaller batch_size\n",
    "charcnn.fit(X_train,y_train, X_val, y_val, epochs=20, verbose=4, batch_size=32, tqdm_option=\"normal\")"
   ]
  },
  {
   "cell_type": "markdown",
   "metadata": {},
   "source": [
    "## lets do 10 more step..."
   ]
  },
  {
   "cell_type": "code",
   "execution_count": 23,
   "metadata": {},
   "outputs": [
    {
     "name": "stderr",
     "output_type": "stream",
     "text": [
      "TRAIN  21: 100%|██████████| 50/50 [00:33<00:00,  1.81it/s]\n",
      "VAL    21: 100%|██████████| 13/13 [00:11<00:00,  1.04s/it]\n"
     ]
    },
    {
     "name": "stdout",
     "output_type": "stream",
     "text": [
      "\u001b[31m=========================\n",
      "[EPOCH 1 / STEP 21]\n",
      "TRAIN loss   : 40.8943\n",
      "VAL   loss   : 55.5120\n",
      "VAL   acc    : 58.0000%\n",
      "=========================\u001b[0m\n"
     ]
    },
    {
     "name": "stderr",
     "output_type": "stream",
     "text": [
      "TRAIN  22: 100%|██████████| 50/50 [00:34<00:00,  1.81it/s]\n",
      "VAL    22: 100%|██████████| 13/13 [00:11<00:00,  1.01s/it]\n"
     ]
    },
    {
     "name": "stdout",
     "output_type": "stream",
     "text": [
      "\u001b[31m=========================\n",
      "[EPOCH 2 / STEP 22]\n",
      "TRAIN loss   : 29.5771\n",
      "VAL   loss   : 57.7745\n",
      "VAL   acc    : 53.0000%\n",
      "=========================\u001b[0m\n"
     ]
    },
    {
     "name": "stderr",
     "output_type": "stream",
     "text": [
      "TRAIN  23: 100%|██████████| 50/50 [00:33<00:00,  1.81it/s]\n",
      "VAL    23: 100%|██████████| 13/13 [00:11<00:00,  1.02s/it]\n"
     ]
    },
    {
     "name": "stdout",
     "output_type": "stream",
     "text": [
      "\u001b[31m=========================\n",
      "[EPOCH 3 / STEP 23]\n",
      "TRAIN loss   : 26.9711\n",
      "VAL   loss   : 69.9838\n",
      "VAL   acc    : 52.0000%\n",
      "=========================\u001b[0m\n"
     ]
    },
    {
     "name": "stderr",
     "output_type": "stream",
     "text": [
      "TRAIN  24: 100%|██████████| 50/50 [00:34<00:00,  1.82it/s]\n",
      "VAL    24: 100%|██████████| 13/13 [00:11<00:00,  1.03s/it]\n"
     ]
    },
    {
     "name": "stdout",
     "output_type": "stream",
     "text": [
      "\u001b[31m=========================\n",
      "[EPOCH 4 / STEP 24]\n",
      "TRAIN loss   : 33.7329\n",
      "VAL   loss   : 55.0650\n",
      "VAL   acc    : 57.7500%\n",
      "=========================\u001b[0m\n"
     ]
    },
    {
     "name": "stderr",
     "output_type": "stream",
     "text": [
      "TRAIN  25: 100%|██████████| 50/50 [00:34<00:00,  1.82it/s]\n",
      "VAL    25: 100%|██████████| 13/13 [00:11<00:00,  1.05s/it]\n"
     ]
    },
    {
     "name": "stdout",
     "output_type": "stream",
     "text": [
      "\u001b[31m=========================\n",
      "[EPOCH 5 / STEP 25]\n",
      "TRAIN loss   : 50.7456\n",
      "VAL   loss   : 55.0807\n",
      "VAL   acc    : 54.7500%\n",
      "=========================\u001b[0m\n"
     ]
    },
    {
     "name": "stderr",
     "output_type": "stream",
     "text": [
      "TRAIN  26: 100%|██████████| 50/50 [00:34<00:00,  1.78it/s]\n",
      "VAL    26: 100%|██████████| 13/13 [00:11<00:00,  1.06s/it]\n"
     ]
    },
    {
     "name": "stdout",
     "output_type": "stream",
     "text": [
      "\u001b[31m=========================\n",
      "[EPOCH 6 / STEP 26]\n",
      "TRAIN loss   : 47.6177\n",
      "VAL   loss   : 105.0159\n",
      "VAL   acc    : 50.2500%\n",
      "=========================\u001b[0m\n"
     ]
    },
    {
     "name": "stderr",
     "output_type": "stream",
     "text": [
      "TRAIN  27: 100%|██████████| 50/50 [00:34<00:00,  1.80it/s]\n",
      "VAL    27: 100%|██████████| 13/13 [00:11<00:00,  1.06s/it]\n"
     ]
    },
    {
     "name": "stdout",
     "output_type": "stream",
     "text": [
      "\u001b[31m=========================\n",
      "[EPOCH 7 / STEP 27]\n",
      "TRAIN loss   : 155.1989\n",
      "VAL   loss   : 117.7978\n",
      "VAL   acc    : 54.0000%\n",
      "=========================\u001b[0m\n"
     ]
    },
    {
     "name": "stderr",
     "output_type": "stream",
     "text": [
      "TRAIN  28: 100%|██████████| 50/50 [00:33<00:00,  1.83it/s]\n",
      "VAL    28: 100%|██████████| 13/13 [00:11<00:00,  1.02s/it]\n"
     ]
    },
    {
     "name": "stdout",
     "output_type": "stream",
     "text": [
      "\u001b[31m=========================\n",
      "[EPOCH 8 / STEP 28]\n",
      "TRAIN loss   : 147.5739\n",
      "VAL   loss   : 269.6201\n",
      "VAL   acc    : 52.7500%\n",
      "=========================\u001b[0m\n"
     ]
    },
    {
     "name": "stderr",
     "output_type": "stream",
     "text": [
      "TRAIN  29: 100%|██████████| 50/50 [00:33<00:00,  1.82it/s]\n",
      "VAL    29: 100%|██████████| 13/13 [00:11<00:00,  1.06s/it]\n"
     ]
    },
    {
     "name": "stdout",
     "output_type": "stream",
     "text": [
      "\u001b[31m=========================\n",
      "[EPOCH 9 / STEP 29]\n",
      "TRAIN loss   : 2319.7034\n",
      "VAL   loss   : 2925.7612\n",
      "VAL   acc    : 49.0000%\n",
      "=========================\u001b[0m\n"
     ]
    },
    {
     "name": "stderr",
     "output_type": "stream",
     "text": [
      "TRAIN  30: 100%|██████████| 50/50 [00:34<00:00,  1.79it/s]\n",
      "VAL    30: 100%|██████████| 13/13 [00:10<00:00,  1.03it/s]\n"
     ]
    },
    {
     "name": "stdout",
     "output_type": "stream",
     "text": [
      "\u001b[31m=========================\n",
      "[EPOCH 10 / STEP 30]\n",
      "TRAIN loss   : 824.2751\n",
      "VAL   loss   : 187.8260\n",
      "VAL   acc    : 53.2500%\n",
      "=========================\u001b[0m\n"
     ]
    }
   ],
   "source": [
    "charcnn.fit(X_train,y_train, X_val, y_val, epochs=10, verbose=1, batch_size=32, tqdm_option=\"normal\")"
   ]
  },
  {
   "cell_type": "code",
   "execution_count": null,
   "metadata": {},
   "outputs": [],
   "source": []
  }
 ],
 "metadata": {
  "kernelspec": {
   "display_name": "clasic36",
   "language": "python",
   "name": "classic36"
  },
  "language_info": {
   "codemirror_mode": {
    "name": "ipython",
    "version": 3
   },
   "file_extension": ".py",
   "mimetype": "text/x-python",
   "name": "python",
   "nbconvert_exporter": "python",
   "pygments_lexer": "ipython3",
   "version": "3.6.7"
  }
 },
 "nbformat": 4,
 "nbformat_minor": 2
}
