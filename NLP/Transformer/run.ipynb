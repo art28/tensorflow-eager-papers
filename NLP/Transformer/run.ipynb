{
 "cells": [
  {
   "cell_type": "markdown",
   "metadata": {},
   "source": [
    "# Corpus Handling"
   ]
  },
  {
   "cell_type": "markdown",
   "metadata": {},
   "source": [
    "## before run this script, make sure you initiate submodule(dataset) by\n",
    "```git submodule update```\n"
   ]
  },
  {
   "cell_type": "markdown",
   "metadata": {},
   "source": [
    "### *original repository of dataset is (https://github.com/jungyeul/korean-parallel-corpora)*"
   ]
  },
  {
   "cell_type": "code",
   "execution_count": 1,
   "metadata": {},
   "outputs": [],
   "source": [
    "import tarfile\n",
    "tar_name = \"./dataset/korean-english-news-v1/korean-english-park.train.tar.gz\""
   ]
  },
  {
   "cell_type": "code",
   "execution_count": 2,
   "metadata": {},
   "outputs": [],
   "source": [
    "tar = tarfile.open(tar_name, \"r:gz\")\n",
    "tar.extractall()\n",
    "tar.close()"
   ]
  },
  {
   "cell_type": "markdown",
   "metadata": {},
   "source": [
    "# Load Corpus and preprocessing"
   ]
  },
  {
   "cell_type": "code",
   "execution_count": 3,
   "metadata": {},
   "outputs": [],
   "source": [
    "import numpy as np\n",
    "from tqdm import tqdm\n",
    "from collections import defaultdict\n",
    "\n",
    "import re\n",
    "from nltk import word_tokenize\n",
    "from nltk.corpus import stopwords\n",
    "from konlpy.tag import Mecab\n",
    "\n",
    "mecab = Mecab()\n"
   ]
  },
  {
   "cell_type": "code",
   "execution_count": 4,
   "metadata": {},
   "outputs": [],
   "source": [
    "corpus_en = open(\"korean-english-park.train.en\", \"r\").read().splitlines()\n",
    "corpus_ko = open(\"korean-english-park.train.ko\", \"r\").read().splitlines()"
   ]
  },
  {
   "cell_type": "code",
   "execution_count": 5,
   "metadata": {},
   "outputs": [],
   "source": [
    "def preprocess_kor(kl):\n",
    "    \"\"\"make preprocessed korean morpheme list from korean sentence\n",
    "    Args:\n",
    "        kl : korean sentence\n",
    "    Return:\n",
    "        preprocessed korean morpheme list\n",
    "    \"\"\"\n",
    "    kl = kl.lower().strip()\n",
    "    kl = re.sub(r'[\" \"]+', \" \", kl)\n",
    "    kl = re.sub(r\"[^가-힣0-9?.!,¿]+\", \" \", kl)\n",
    "    kl = kl.rstrip().strip()\n",
    "    kl = mecab.morphs(kl)\n",
    "    return kl"
   ]
  },
  {
   "cell_type": "code",
   "execution_count": 6,
   "metadata": {},
   "outputs": [],
   "source": [
    "def preprocess_eng(el):\n",
    "    \"\"\"make preprocessed english word list from english sentence\n",
    "    Args:\n",
    "        el : english sentence\n",
    "    Return:\n",
    "        preprocessed english word list\n",
    "    \"\"\"\n",
    "    el = el.lower().strip()\n",
    "    el = re.sub(r'[\" \"]+', \" \", el)\n",
    "    el = re.sub(r\"[^a-zA-Z0-9?.!,¿]+\", \" \", el)\n",
    "    el = el.rstrip().strip()\n",
    "    el = word_tokenize(el)\n",
    "    el = el + [\"<EOS>\"]\n",
    "    return el"
   ]
  },
  {
   "cell_type": "code",
   "execution_count": 7,
   "metadata": {},
   "outputs": [
    {
     "name": "stdout",
     "output_type": "stream",
     "text": [
      "CPU times: user 27.8 s, sys: 407 ms, total: 28.3 s\n",
      "Wall time: 31.7 s\n"
     ]
    }
   ],
   "source": [
    "%%time\n",
    "tokens_eng = list(map(preprocess_eng,corpus_en))                   \n",
    "tokens_kor = list(map(preprocess_kor,corpus_ko))"
   ]
  },
  {
   "cell_type": "code",
   "execution_count": 8,
   "metadata": {},
   "outputs": [
    {
     "data": {
      "text/plain": [
       "(['much',\n",
       "  'of',\n",
       "  'personal',\n",
       "  'computing',\n",
       "  'is',\n",
       "  'about',\n",
       "  'can',\n",
       "  'you',\n",
       "  'top',\n",
       "  'this',\n",
       "  '?',\n",
       "  '<EOS>'],\n",
       " ['개인',\n",
       "  '용',\n",
       "  '컴퓨터',\n",
       "  '사용',\n",
       "  '의',\n",
       "  '상당',\n",
       "  '부분',\n",
       "  '은',\n",
       "  '이것',\n",
       "  '보다',\n",
       "  '뛰어날',\n",
       "  '수',\n",
       "  '있',\n",
       "  '느냐',\n",
       "  '?'])"
      ]
     },
     "execution_count": 8,
     "metadata": {},
     "output_type": "execute_result"
    }
   ],
   "source": [
    "tokens_eng[0] , tokens_kor[0]"
   ]
  },
  {
   "cell_type": "markdown",
   "metadata": {},
   "source": [
    "# Make Vacabualry Dictionary"
   ]
  },
  {
   "cell_type": "code",
   "execution_count": 9,
   "metadata": {},
   "outputs": [
    {
     "name": "stderr",
     "output_type": "stream",
     "text": [
      "100%|██████████| 94123/94123 [00:00<00:00, 216077.72it/s]\n"
     ]
    }
   ],
   "source": [
    "wordcnt_ko = defaultdict(lambda:0)\n",
    "for text_kor in tqdm(tokens_kor):\n",
    "    for tokens in text_kor:\n",
    "        wordcnt_ko[tokens] +=1"
   ]
  },
  {
   "cell_type": "code",
   "execution_count": 10,
   "metadata": {},
   "outputs": [
    {
     "name": "stderr",
     "output_type": "stream",
     "text": [
      "100%|██████████| 94123/94123 [00:00<00:00, 237853.81it/s]\n"
     ]
    }
   ],
   "source": [
    "wordcnt_en = defaultdict(lambda:0)\n",
    "for text_eng in tqdm(tokens_eng):\n",
    "    for tokens in text_eng:\n",
    "        wordcnt_en[tokens] +=1"
   ]
  },
  {
   "cell_type": "code",
   "execution_count": 11,
   "metadata": {},
   "outputs": [],
   "source": [
    "dict_kor = {k + 3: v for k,v in enumerate(wordcnt_ko.keys())}\n",
    "dict_kor[0] = \"<PAD>\"\n",
    "dict_kor[1] = \"<UNK>\"\n",
    "dict_kor[2] = \"<BOS>\""
   ]
  },
  {
   "cell_type": "code",
   "execution_count": 12,
   "metadata": {},
   "outputs": [],
   "source": [
    "dict_kor_inv = {v:k for k,v in dict_kor.items()}"
   ]
  },
  {
   "cell_type": "code",
   "execution_count": 13,
   "metadata": {},
   "outputs": [
    {
     "data": {
      "text/plain": [
       "2"
      ]
     },
     "execution_count": 13,
     "metadata": {},
     "output_type": "execute_result"
    }
   ],
   "source": [
    "dict_kor_inv[\"<BOS>\"]"
   ]
  },
  {
   "cell_type": "code",
   "execution_count": 14,
   "metadata": {},
   "outputs": [],
   "source": [
    "dict_eng = {k + 4: v for k,v in enumerate(wordcnt_en.keys())}\n",
    "dict_eng[0] = \"<PAD>\"\n",
    "dict_eng[1] = \"<UNK>\"\n",
    "dict_eng[2] = \"<BOS>\"\n",
    "dict_eng[3] = \"<EOS>\"\n",
    "dict_eng_inv = {v:k for k,v in dict_eng.items()}"
   ]
  },
  {
   "cell_type": "code",
   "execution_count": 15,
   "metadata": {},
   "outputs": [],
   "source": [
    "import matplotlib.pyplot as plt\n",
    "import seaborn as sns\n",
    "%matplotlib inline"
   ]
  },
  {
   "cell_type": "code",
   "execution_count": 16,
   "metadata": {},
   "outputs": [
    {
     "data": {
      "text/plain": [
       "<matplotlib.axes._subplots.AxesSubplot at 0x7fb06ddcf518>"
      ]
     },
     "execution_count": 16,
     "metadata": {},
     "output_type": "execute_result"
    },
    {
     "data": {
      "image/png": "[encoded data removed]",
      "text/plain": [
       "<Figure size 432x288 with 1 Axes>"
      ]
     },
     "metadata": {
      "needs_background": "light"
     },
     "output_type": "display_data"
    }
   ],
   "source": [
    "sns.distplot(list(map(len,tokens_kor)))"
   ]
  },
  {
   "cell_type": "code",
   "execution_count": 17,
   "metadata": {},
   "outputs": [
    {
     "data": {
      "text/plain": [
       "<matplotlib.axes._subplots.AxesSubplot at 0x7fb06a4cd2b0>"
      ]
     },
     "execution_count": 17,
     "metadata": {},
     "output_type": "execute_result"
    },
    {
     "data": {
      "image/png": "[encoded data removed]",
      "text/plain": [
       "<Figure size 432x288 with 1 Axes>"
      ]
     },
     "metadata": {
      "needs_background": "light"
     },
     "output_type": "display_data"
    }
   ],
   "source": [
    "sns.distplot(list(map(len,tokens_eng)))"
   ]
  },
  {
   "cell_type": "code",
   "execution_count": 18,
   "metadata": {},
   "outputs": [
    {
     "data": {
      "text/plain": [
       "(127, 101)"
      ]
     },
     "execution_count": 18,
     "metadata": {},
     "output_type": "execute_result"
    }
   ],
   "source": [
    "maxlen_kor = max(list(map(len,tokens_kor)))\n",
    "maxlen_eng = max(list(map(len,tokens_eng))) + 1 # target language needs additional space for <BOS>\n",
    "maxlen_kor, maxlen_eng"
   ]
  },
  {
   "cell_type": "markdown",
   "metadata": {},
   "source": [
    "# Transform Vocabulary to Index"
   ]
  },
  {
   "cell_type": "code",
   "execution_count": 19,
   "metadata": {},
   "outputs": [],
   "source": [
    "def tokens2indexes_kor(tokens, maxlen=maxlen_kor):\n",
    "    ret = np.zeros([maxlen], dtype=np.int32)\n",
    "    for i in range(min(maxlen, len(tokens))):\n",
    "        if tokens[i] in dict_kor_inv:\n",
    "            ret[i] = dict_kor_inv[tokens[i]]\n",
    "        else:\n",
    "            ret[i] = dict_kor_inv[\"<UNK>\"]\n",
    "    return ret"
   ]
  },
  {
   "cell_type": "code",
   "execution_count": 20,
   "metadata": {},
   "outputs": [],
   "source": [
    "array_kor = list(map(tokens2indexes_kor, tokens_kor))\n",
    "array_kor = np.array(array_kor)"
   ]
  },
  {
   "cell_type": "code",
   "execution_count": 21,
   "metadata": {},
   "outputs": [],
   "source": [
    "def tokens2indexes_eng(tokens, maxlen=maxlen_eng):\n",
    "    ret = np.zeros([maxlen], dtype=np.int32)\n",
    "    for i in range(min(maxlen, len(tokens))):\n",
    "        if tokens[i] in dict_eng_inv:\n",
    "            ret[i] = dict_eng_inv[tokens[i]]\n",
    "        else:\n",
    "            ret[i] = dict_eng_inv[\"<UNK>\"]\n",
    "    return ret"
   ]
  },
  {
   "cell_type": "code",
   "execution_count": 22,
   "metadata": {},
   "outputs": [],
   "source": [
    "array_eng = list(map(tokens2indexes_eng, tokens_eng))\n",
    "array_eng = np.array(array_eng)"
   ]
  },
  {
   "cell_type": "code",
   "execution_count": 23,
   "metadata": {},
   "outputs": [
    {
     "data": {
      "text/plain": [
       "array([[   4,    5,    6, ...,    0,    0,    0],\n",
       "       [  16,   17,   18, ...,    0,    0,    0],\n",
       "       [  31,   32,   24, ...,    0,    0,    0],\n",
       "       ...,\n",
       "       [  34,   46, 2862, ...,    0,    0,    0],\n",
       "       [1122,   68,  280, ...,    0,    0,    0],\n",
       "       [1787,   69, 4162, ...,    0,    0,    0]], dtype=int32)"
      ]
     },
     "execution_count": 23,
     "metadata": {},
     "output_type": "execute_result"
    }
   ],
   "source": [
    "array_eng"
   ]
  },
  {
   "cell_type": "markdown",
   "metadata": {},
   "source": [
    "# Dataset Prepare"
   ]
  },
  {
   "cell_type": "code",
   "execution_count": 24,
   "metadata": {},
   "outputs": [],
   "source": [
    "from sklearn.model_selection import train_test_split"
   ]
  },
  {
   "cell_type": "code",
   "execution_count": 25,
   "metadata": {},
   "outputs": [],
   "source": [
    "X_train, X_val, y_train, y_val = train_test_split(array_kor, array_eng, test_size=0.2, random_state=42)"
   ]
  },
  {
   "cell_type": "markdown",
   "metadata": {},
   "source": [
    "# Model loading"
   ]
  },
  {
   "cell_type": "code",
   "execution_count": 26,
   "metadata": {},
   "outputs": [],
   "source": [
    "import tensorflow as tf\n",
    "tf.enable_eager_execution()"
   ]
  },
  {
   "cell_type": "code",
   "execution_count": 27,
   "metadata": {},
   "outputs": [],
   "source": [
    "from transformer import Transformer\n",
    "import modules"
   ]
  },
  {
   "cell_type": "code",
   "execution_count": 28,
   "metadata": {},
   "outputs": [],
   "source": [
    "transformer_model = Transformer(100, 4, 0.5, maxlen_kor, maxlen_eng, len(dict_kor), len(dict_eng), 2, learning_rate=3e-3, device_name=\"gpu:0\")"
   ]
  },
  {
   "cell_type": "code",
   "execution_count": 29,
   "metadata": {},
   "outputs": [
    {
     "name": "stdout",
     "output_type": "stream",
     "text": [
      "____________________________________________________________________________________________________\n",
      "Layer (type)                                                          Output Sh Param #   \n",
      "====================================================================================================\n",
      "embedding_input (Embedding)                                           multiple  4391700   \n",
      "____________________________________________________________________________________________________\n",
      "embedding_target (Embedding)                                          multiple  4822900   \n",
      "____________________________________________________________________________________________________\n",
      "wrapped_attention_self_enc_0 (PrePostProcessingWrapper)               multiple  40200     \n",
      "____________________________________________________________________________________________________\n",
      "wrapped_attention_self_enc_1 (PrePostProcessingWrapper)               multiple  40200     \n",
      "____________________________________________________________________________________________________\n",
      "wrapped_ffn_enc_0 (PrePostProcessingWrapper)                          multiple  80700     \n",
      "____________________________________________________________________________________________________\n",
      "wrapped_ffn_enc_1 (PrePostProcessingWrapper)                          multiple  80700     \n",
      "____________________________________________________________________________________________________\n",
      "wrapped_attention_self_dec_0 (PrePostProcessingWrapper)               multiple  40200     \n",
      "____________________________________________________________________________________________________\n",
      "wrapped_attention_self_dec_1 (PrePostProcessingWrapper)               multiple  40200     \n",
      "____________________________________________________________________________________________________\n",
      "wrapped_attention_vanilla_dec_0 (PrePostProcessingWrapper)            multiple  40200     \n",
      "____________________________________________________________________________________________________\n",
      "wrapped_attention_vanilla_dec_1 (PrePostProcessingWrapper)            multiple  40200     \n",
      "____________________________________________________________________________________________________\n",
      "wrapped_ffn_dec_0 (PrePostProcessingWrapper)                          multiple  80700     \n",
      "____________________________________________________________________________________________________\n",
      "wrapped_ffn_dec_1 (PrePostProcessingWrapper)                          multiple  80700     \n",
      "____________________________________________________________________________________________________\n",
      "out (Dense)                                                           multiple  4871129   \n",
      "====================================================================================================\n",
      "Total params: 14,649,729\n",
      "Trainable params: 14,649,729\n",
      "Non-trainable params: 0\n",
      "____________________________________________________________________________________________________\n"
     ]
    }
   ],
   "source": [
    "transformer_model(tf.convert_to_tensor(array_kor[:1]), tf.convert_to_tensor(array_eng[:1]), True)\n",
    "transformer_model.summary(line_length=100, positions=[.70, .80, .90, 1.])"
   ]
  },
  {
   "cell_type": "code",
   "execution_count": 30,
   "metadata": {},
   "outputs": [
    {
     "name": "stderr",
     "output_type": "stream",
     "text": [
      "TRAIN  1: 100%|██████████| 2354/2354 [07:15<00:00,  1.24it/s]\n",
      "VAL    1: 100%|██████████| 589/589 [00:47<00:00,  2.52it/s]\n"
     ]
    },
    {
     "name": "stdout",
     "output_type": "stream",
     "text": [
      "\u001b[31m=========================\n",
      "[EPOCH 1 / STEP 1]\n",
      "TRAIN loss   : 1.5746\n",
      "VAL   loss   : 1.4774\n",
      "saved step 1 in ckpt/\n",
      "=========================\u001b[0m\n"
     ]
    },
    {
     "name": "stderr",
     "output_type": "stream",
     "text": [
      "TRAIN  2: 100%|██████████| 2354/2354 [07:13<00:00,  1.21it/s]\n",
      "VAL    2: 100%|██████████| 589/589 [00:47<00:00,  2.56it/s]\n"
     ]
    },
    {
     "name": "stdout",
     "output_type": "stream",
     "text": [
      "\u001b[31m=========================\n",
      "[EPOCH 2 / STEP 2]\n",
      "TRAIN loss   : 1.4199\n",
      "VAL   loss   : 1.4229\n",
      "saved step 2 in ckpt/\n",
      "=========================\u001b[0m\n"
     ]
    },
    {
     "name": "stderr",
     "output_type": "stream",
     "text": [
      "TRAIN  3: 100%|██████████| 2354/2354 [07:13<00:00,  1.21it/s]\n",
      "VAL    3: 100%|██████████| 589/589 [00:48<00:00,  2.56it/s]\n"
     ]
    },
    {
     "name": "stdout",
     "output_type": "stream",
     "text": [
      "\u001b[31m=========================\n",
      "[EPOCH 3 / STEP 3]\n",
      "TRAIN loss   : 1.3578\n",
      "VAL   loss   : 1.4103\n",
      "saved step 3 in ckpt/\n",
      "=========================\u001b[0m\n"
     ]
    },
    {
     "name": "stderr",
     "output_type": "stream",
     "text": [
      "TRAIN  4: 100%|██████████| 2354/2354 [07:15<00:00,  1.19it/s]\n",
      "VAL    4: 100%|██████████| 589/589 [00:47<00:00,  2.51it/s]\n"
     ]
    },
    {
     "name": "stdout",
     "output_type": "stream",
     "text": [
      "\u001b[31m=========================\n",
      "[EPOCH 4 / STEP 4]\n",
      "TRAIN loss   : 1.3202\n",
      "VAL   loss   : 1.4028\n",
      "saved step 4 in ckpt/\n",
      "=========================\u001b[0m\n"
     ]
    },
    {
     "name": "stderr",
     "output_type": "stream",
     "text": [
      "TRAIN  5: 100%|██████████| 2354/2354 [07:12<00:00,  1.22it/s]\n",
      "VAL    5: 100%|██████████| 589/589 [00:47<00:00,  2.54it/s]\n"
     ]
    },
    {
     "name": "stdout",
     "output_type": "stream",
     "text": [
      "\u001b[31m=========================\n",
      "[EPOCH 5 / STEP 5]\n",
      "TRAIN loss   : 1.2951\n",
      "VAL   loss   : 1.4003\n",
      "saved step 5 in ckpt/\n",
      "=========================\u001b[0m\n"
     ]
    },
    {
     "name": "stderr",
     "output_type": "stream",
     "text": [
      "TRAIN  6: 100%|██████████| 2354/2354 [07:12<00:00,  1.20it/s]\n",
      "VAL    6: 100%|██████████| 589/589 [00:47<00:00,  2.52it/s]\n"
     ]
    },
    {
     "name": "stdout",
     "output_type": "stream",
     "text": [
      "\u001b[31m=========================\n",
      "[EPOCH 6 / STEP 6]\n",
      "TRAIN loss   : 1.2758\n",
      "VAL   loss   : 1.4039\n",
      "saved step 6 in ckpt/\n",
      "=========================\u001b[0m\n"
     ]
    },
    {
     "name": "stderr",
     "output_type": "stream",
     "text": [
      "TRAIN  7: 100%|██████████| 2354/2354 [07:13<00:00,  1.23it/s]\n",
      "VAL    7: 100%|██████████| 589/589 [00:47<00:00,  2.53it/s]\n"
     ]
    },
    {
     "name": "stdout",
     "output_type": "stream",
     "text": [
      "\u001b[31m=========================\n",
      "[EPOCH 7 / STEP 7]\n",
      "TRAIN loss   : 1.2608\n",
      "VAL   loss   : 1.4064\n",
      "saved step 7 in ckpt/\n",
      "=========================\u001b[0m\n"
     ]
    },
    {
     "name": "stderr",
     "output_type": "stream",
     "text": [
      "TRAIN  8: 100%|██████████| 2354/2354 [07:11<00:00,  1.22it/s]\n",
      "VAL    8: 100%|██████████| 589/589 [00:48<00:00,  2.56it/s]\n"
     ]
    },
    {
     "name": "stdout",
     "output_type": "stream",
     "text": [
      "\u001b[31m=========================\n",
      "[EPOCH 8 / STEP 8]\n",
      "TRAIN loss   : 1.2485\n",
      "VAL   loss   : 1.3925\n",
      "saved step 8 in ckpt/\n",
      "=========================\u001b[0m\n"
     ]
    },
    {
     "name": "stderr",
     "output_type": "stream",
     "text": [
      "TRAIN  9: 100%|██████████| 2354/2354 [07:12<00:00,  1.20it/s]\n",
      "VAL    9: 100%|██████████| 589/589 [00:47<00:00,  2.54it/s]\n"
     ]
    },
    {
     "name": "stdout",
     "output_type": "stream",
     "text": [
      "\u001b[31m=========================\n",
      "[EPOCH 9 / STEP 9]\n",
      "TRAIN loss   : 1.2387\n",
      "VAL   loss   : 1.4089\n",
      "saved step 9 in ckpt/\n",
      "=========================\u001b[0m\n"
     ]
    },
    {
     "name": "stderr",
     "output_type": "stream",
     "text": [
      "TRAIN 10: 100%|██████████| 2354/2354 [07:13<00:00,  1.21it/s]\n",
      "VAL   10: 100%|██████████| 589/589 [00:47<00:00,  2.53it/s]\n"
     ]
    },
    {
     "name": "stdout",
     "output_type": "stream",
     "text": [
      "\u001b[31m=========================\n",
      "[EPOCH 10 / STEP 10]\n",
      "TRAIN loss   : 1.2299\n",
      "VAL   loss   : 1.4045\n",
      "saved step 10 in ckpt/\n",
      "=========================\u001b[0m\n"
     ]
    },
    {
     "name": "stderr",
     "output_type": "stream",
     "text": [
      "TRAIN 11: 100%|██████████| 2354/2354 [07:12<00:00,  1.20it/s]\n",
      "VAL   11: 100%|██████████| 589/589 [00:47<00:00,  2.50it/s]\n"
     ]
    },
    {
     "name": "stdout",
     "output_type": "stream",
     "text": [
      "\u001b[31m=========================\n",
      "[EPOCH 11 / STEP 11]\n",
      "TRAIN loss   : 1.2220\n",
      "VAL   loss   : 1.4003\n",
      "saved step 11 in ckpt/\n",
      "=========================\u001b[0m\n"
     ]
    },
    {
     "name": "stderr",
     "output_type": "stream",
     "text": [
      "TRAIN 12: 100%|██████████| 2354/2354 [07:12<00:00,  1.21it/s]\n",
      "VAL   12: 100%|██████████| 589/589 [00:47<00:00,  2.52it/s]\n"
     ]
    },
    {
     "name": "stdout",
     "output_type": "stream",
     "text": [
      "\u001b[31m=========================\n",
      "[EPOCH 12 / STEP 12]\n",
      "TRAIN loss   : 1.2144\n",
      "VAL   loss   : 1.4016\n",
      "saved step 12 in ckpt/\n",
      "=========================\u001b[0m\n"
     ]
    },
    {
     "name": "stderr",
     "output_type": "stream",
     "text": [
      "TRAIN 13: 100%|██████████| 2354/2354 [07:11<00:00,  1.20it/s]\n",
      "VAL   13: 100%|██████████| 589/589 [00:47<00:00,  2.54it/s]\n"
     ]
    },
    {
     "name": "stdout",
     "output_type": "stream",
     "text": [
      "\u001b[31m=========================\n",
      "[EPOCH 13 / STEP 13]\n",
      "TRAIN loss   : 1.2077\n",
      "VAL   loss   : 1.4080\n",
      "saved step 13 in ckpt/\n",
      "=========================\u001b[0m\n"
     ]
    },
    {
     "name": "stderr",
     "output_type": "stream",
     "text": [
      "TRAIN 14: 100%|██████████| 2354/2354 [07:13<00:00,  1.21it/s]\n",
      "VAL   14: 100%|██████████| 589/589 [00:47<00:00,  2.52it/s]\n"
     ]
    },
    {
     "name": "stdout",
     "output_type": "stream",
     "text": [
      "\u001b[31m=========================\n",
      "[EPOCH 14 / STEP 14]\n",
      "TRAIN loss   : 1.2019\n",
      "VAL   loss   : 1.4004\n",
      "saved step 14 in ckpt/\n",
      "=========================\u001b[0m\n"
     ]
    },
    {
     "name": "stderr",
     "output_type": "stream",
     "text": [
      "TRAIN 15: 100%|██████████| 2354/2354 [07:12<00:00,  1.20it/s]\n",
      "VAL   15: 100%|██████████| 589/589 [00:47<00:00,  2.53it/s]\n"
     ]
    },
    {
     "name": "stdout",
     "output_type": "stream",
     "text": [
      "\u001b[31m=========================\n",
      "[EPOCH 15 / STEP 15]\n",
      "TRAIN loss   : 1.1963\n",
      "VAL   loss   : 1.4073\n",
      "saved step 15 in ckpt/\n",
      "=========================\u001b[0m\n"
     ]
    },
    {
     "name": "stderr",
     "output_type": "stream",
     "text": [
      "TRAIN 16: 100%|██████████| 2354/2354 [07:14<00:00,  1.22it/s]\n",
      "VAL   16: 100%|██████████| 589/589 [00:47<00:00,  2.51it/s]\n"
     ]
    },
    {
     "name": "stdout",
     "output_type": "stream",
     "text": [
      "\u001b[31m=========================\n",
      "[EPOCH 16 / STEP 16]\n",
      "TRAIN loss   : 1.1906\n",
      "VAL   loss   : 1.4128\n",
      "saved step 16 in ckpt/\n",
      "=========================\u001b[0m\n"
     ]
    },
    {
     "name": "stderr",
     "output_type": "stream",
     "text": [
      "TRAIN 17: 100%|██████████| 2354/2354 [07:13<00:00,  1.23it/s]\n",
      "VAL   17: 100%|██████████| 589/589 [00:47<00:00,  2.52it/s]\n"
     ]
    },
    {
     "name": "stdout",
     "output_type": "stream",
     "text": [
      "\u001b[31m=========================\n",
      "[EPOCH 17 / STEP 17]\n",
      "TRAIN loss   : 1.1855\n",
      "VAL   loss   : 1.4081\n",
      "saved step 17 in ckpt/\n",
      "=========================\u001b[0m\n"
     ]
    },
    {
     "name": "stderr",
     "output_type": "stream",
     "text": [
      "TRAIN 18: 100%|██████████| 2354/2354 [07:13<00:00,  1.23it/s]\n",
      "VAL   18: 100%|██████████| 589/589 [00:47<00:00,  2.54it/s]\n"
     ]
    },
    {
     "name": "stdout",
     "output_type": "stream",
     "text": [
      "\u001b[31m=========================\n",
      "[EPOCH 18 / STEP 18]\n",
      "TRAIN loss   : 1.1814\n",
      "VAL   loss   : 1.4035\n",
      "saved step 18 in ckpt/\n",
      "=========================\u001b[0m\n"
     ]
    },
    {
     "name": "stderr",
     "output_type": "stream",
     "text": [
      "TRAIN 19: 100%|██████████| 2354/2354 [07:13<00:00,  1.21it/s]\n",
      "VAL   19: 100%|██████████| 589/589 [00:47<00:00,  2.48it/s]\n"
     ]
    },
    {
     "name": "stdout",
     "output_type": "stream",
     "text": [
      "\u001b[31m=========================\n",
      "[EPOCH 19 / STEP 19]\n",
      "TRAIN loss   : 1.1770\n",
      "VAL   loss   : 1.4065\n",
      "saved step 19 in ckpt/\n",
      "=========================\u001b[0m\n"
     ]
    },
    {
     "name": "stderr",
     "output_type": "stream",
     "text": [
      "TRAIN 20: 100%|██████████| 2354/2354 [07:13<00:00,  1.20it/s]\n",
      "VAL   20: 100%|██████████| 589/589 [00:47<00:00,  2.53it/s]\n"
     ]
    },
    {
     "name": "stdout",
     "output_type": "stream",
     "text": [
      "\u001b[31m=========================\n",
      "[EPOCH 20 / STEP 20]\n",
      "TRAIN loss   : 1.1728\n",
      "VAL   loss   : 1.4153\n",
      "saved step 20 in ckpt/\n",
      "=========================\u001b[0m\n"
     ]
    },
    {
     "name": "stderr",
     "output_type": "stream",
     "text": [
      "TRAIN 21: 100%|██████████| 2354/2354 [07:13<00:00,  1.21it/s]\n",
      "VAL   21: 100%|██████████| 589/589 [00:47<00:00,  2.51it/s]\n"
     ]
    },
    {
     "name": "stdout",
     "output_type": "stream",
     "text": [
      "\u001b[31m=========================\n",
      "[EPOCH 21 / STEP 21]\n",
      "TRAIN loss   : 1.1693\n",
      "VAL   loss   : 1.4051\n",
      "saved step 21 in ckpt/\n",
      "=========================\u001b[0m\n"
     ]
    },
    {
     "name": "stderr",
     "output_type": "stream",
     "text": [
      "TRAIN 22: 100%|██████████| 2354/2354 [07:12<00:00,  1.20it/s]\n",
      "VAL   22: 100%|██████████| 589/589 [00:47<00:00,  2.50it/s]\n"
     ]
    },
    {
     "name": "stdout",
     "output_type": "stream",
     "text": [
      "\u001b[31m=========================\n",
      "[EPOCH 22 / STEP 22]\n",
      "TRAIN loss   : 1.1653\n",
      "VAL   loss   : 1.4157\n",
      "saved step 22 in ckpt/\n",
      "=========================\u001b[0m\n"
     ]
    },
    {
     "name": "stderr",
     "output_type": "stream",
     "text": [
      "TRAIN 23: 100%|██████████| 2354/2354 [07:11<00:00,  1.21it/s]\n",
      "VAL   23: 100%|██████████| 589/589 [00:47<00:00,  2.57it/s]\n"
     ]
    },
    {
     "name": "stdout",
     "output_type": "stream",
     "text": [
      "\u001b[31m=========================\n",
      "[EPOCH 23 / STEP 23]\n",
      "TRAIN loss   : 1.1627\n",
      "VAL   loss   : 1.4110\n",
      "saved step 23 in ckpt/\n",
      "=========================\u001b[0m\n"
     ]
    },
    {
     "name": "stderr",
     "output_type": "stream",
     "text": [
      "TRAIN 24: 100%|██████████| 2354/2354 [07:12<00:00,  1.21it/s]\n",
      "VAL   24: 100%|██████████| 589/589 [00:48<00:00,  2.07it/s]\n"
     ]
    },
    {
     "name": "stdout",
     "output_type": "stream",
     "text": [
      "\u001b[31m=========================\n",
      "[EPOCH 24 / STEP 24]\n",
      "TRAIN loss   : 1.1594\n",
      "VAL   loss   : 1.4154\n",
      "saved step 24 in ckpt/\n",
      "=========================\u001b[0m\n"
     ]
    },
    {
     "name": "stderr",
     "output_type": "stream",
     "text": [
      "TRAIN 25: 100%|██████████| 2354/2354 [07:12<00:00,  1.21it/s]\n",
      "VAL   25: 100%|██████████| 589/589 [00:47<00:00,  2.50it/s]\n"
     ]
    },
    {
     "name": "stdout",
     "output_type": "stream",
     "text": [
      "\u001b[31m=========================\n",
      "[EPOCH 25 / STEP 25]\n",
      "TRAIN loss   : 1.1563\n",
      "VAL   loss   : 1.4200\n",
      "saved step 25 in ckpt/\n",
      "=========================\u001b[0m\n"
     ]
    },
    {
     "name": "stderr",
     "output_type": "stream",
     "text": [
      "TRAIN 26: 100%|██████████| 2354/2354 [07:13<00:00,  1.23it/s]\n",
      "VAL   26: 100%|██████████| 589/589 [00:48<00:00,  2.26it/s]\n"
     ]
    },
    {
     "name": "stdout",
     "output_type": "stream",
     "text": [
      "\u001b[31m=========================\n",
      "[EPOCH 26 / STEP 26]\n",
      "TRAIN loss   : 1.1542\n",
      "VAL   loss   : 1.4213\n",
      "saved step 26 in ckpt/\n",
      "=========================\u001b[0m\n"
     ]
    },
    {
     "name": "stderr",
     "output_type": "stream",
     "text": [
      "TRAIN 27: 100%|██████████| 2354/2354 [07:12<00:00,  1.20it/s]\n",
      "VAL   27: 100%|██████████| 589/589 [00:47<00:00,  2.51it/s]\n"
     ]
    },
    {
     "name": "stdout",
     "output_type": "stream",
     "text": [
      "\u001b[31m=========================\n",
      "[EPOCH 27 / STEP 27]\n",
      "TRAIN loss   : 1.1528\n",
      "VAL   loss   : 1.4245\n",
      "saved step 27 in ckpt/\n",
      "=========================\u001b[0m\n"
     ]
    },
    {
     "name": "stderr",
     "output_type": "stream",
     "text": [
      "TRAIN 28: 100%|██████████| 2354/2354 [07:13<00:00,  1.13it/s]\n",
      "VAL   28: 100%|██████████| 589/589 [00:47<00:00,  2.50it/s]\n"
     ]
    },
    {
     "name": "stdout",
     "output_type": "stream",
     "text": [
      "\u001b[31m=========================\n",
      "[EPOCH 28 / STEP 28]\n",
      "TRAIN loss   : 1.1496\n",
      "VAL   loss   : 1.4166\n",
      "saved step 28 in ckpt/\n",
      "=========================\u001b[0m\n"
     ]
    },
    {
     "name": "stderr",
     "output_type": "stream",
     "text": [
      "TRAIN 29: 100%|██████████| 2354/2354 [07:14<00:00,  1.22it/s]\n",
      "VAL   29: 100%|██████████| 589/589 [00:47<00:00,  2.49it/s]\n"
     ]
    },
    {
     "name": "stdout",
     "output_type": "stream",
     "text": [
      "\u001b[31m=========================\n",
      "[EPOCH 29 / STEP 29]\n",
      "TRAIN loss   : 1.1477\n",
      "VAL   loss   : 1.4123\n",
      "saved step 29 in ckpt/\n",
      "=========================\u001b[0m\n"
     ]
    },
    {
     "name": "stderr",
     "output_type": "stream",
     "text": [
      "TRAIN 30: 100%|██████████| 2354/2354 [07:13<00:00,  1.23it/s]\n",
      "VAL   30: 100%|██████████| 589/589 [00:47<00:00,  2.55it/s]\n"
     ]
    },
    {
     "name": "stdout",
     "output_type": "stream",
     "text": [
      "\u001b[31m=========================\n",
      "[EPOCH 30 / STEP 30]\n",
      "TRAIN loss   : 1.1452\n",
      "VAL   loss   : 1.4192\n",
      "saved step 30 in ckpt/\n",
      "=========================\u001b[0m\n"
     ]
    },
    {
     "name": "stderr",
     "output_type": "stream",
     "text": [
      "TRAIN 31: 100%|██████████| 2354/2354 [07:13<00:00,  1.20it/s]\n",
      "VAL   31: 100%|██████████| 589/589 [00:47<00:00,  2.48it/s]\n"
     ]
    },
    {
     "name": "stdout",
     "output_type": "stream",
     "text": [
      "\u001b[31m=========================\n",
      "[EPOCH 31 / STEP 31]\n",
      "TRAIN loss   : 1.1433\n",
      "VAL   loss   : 1.4240\n",
      "saved step 31 in ckpt/\n",
      "=========================\u001b[0m\n"
     ]
    },
    {
     "name": "stderr",
     "output_type": "stream",
     "text": [
      "TRAIN 32: 100%|██████████| 2354/2354 [07:14<00:00,  1.19it/s]\n",
      "VAL   32: 100%|██████████| 589/589 [00:47<00:00,  2.33it/s]\n"
     ]
    },
    {
     "name": "stdout",
     "output_type": "stream",
     "text": [
      "\u001b[31m=========================\n",
      "[EPOCH 32 / STEP 32]\n",
      "TRAIN loss   : 1.1422\n",
      "VAL   loss   : 1.4193\n",
      "saved step 32 in ckpt/\n",
      "=========================\u001b[0m\n"
     ]
    },
    {
     "name": "stderr",
     "output_type": "stream",
     "text": [
      "TRAIN 33: 100%|██████████| 2354/2354 [07:11<00:00,  1.20it/s]\n",
      "VAL   33: 100%|██████████| 589/589 [00:47<00:00,  2.51it/s]\n"
     ]
    },
    {
     "name": "stdout",
     "output_type": "stream",
     "text": [
      "\u001b[31m=========================\n",
      "[EPOCH 33 / STEP 33]\n",
      "TRAIN loss   : 1.1396\n",
      "VAL   loss   : 1.4182\n",
      "saved step 33 in ckpt/\n",
      "=========================\u001b[0m\n"
     ]
    },
    {
     "name": "stderr",
     "output_type": "stream",
     "text": [
      "TRAIN 34: 100%|██████████| 2354/2354 [07:13<00:00,  1.20it/s]\n",
      "VAL   34: 100%|██████████| 589/589 [00:47<00:00,  2.54it/s]\n"
     ]
    },
    {
     "name": "stdout",
     "output_type": "stream",
     "text": [
      "\u001b[31m=========================\n",
      "[EPOCH 34 / STEP 34]\n",
      "TRAIN loss   : 1.1384\n",
      "VAL   loss   : 1.4273\n",
      "saved step 34 in ckpt/\n",
      "=========================\u001b[0m\n"
     ]
    },
    {
     "name": "stderr",
     "output_type": "stream",
     "text": [
      "TRAIN 35: 100%|██████████| 2354/2354 [07:12<00:00,  1.20it/s]\n",
      "VAL   35: 100%|██████████| 589/589 [00:47<00:00,  2.50it/s]\n"
     ]
    },
    {
     "name": "stdout",
     "output_type": "stream",
     "text": [
      "\u001b[31m=========================\n",
      "[EPOCH 35 / STEP 35]\n",
      "TRAIN loss   : 1.1369\n",
      "VAL   loss   : 1.4241\n",
      "saved step 35 in ckpt/\n",
      "=========================\u001b[0m\n"
     ]
    },
    {
     "name": "stderr",
     "output_type": "stream",
     "text": [
      "TRAIN 36: 100%|██████████| 2354/2354 [07:12<00:00,  1.20it/s]\n",
      "VAL   36: 100%|██████████| 589/589 [00:47<00:00,  2.54it/s]\n"
     ]
    },
    {
     "name": "stdout",
     "output_type": "stream",
     "text": [
      "\u001b[31m=========================\n",
      "[EPOCH 36 / STEP 36]\n",
      "TRAIN loss   : 1.1364\n",
      "VAL   loss   : 1.4207\n",
      "saved step 36 in ckpt/\n",
      "=========================\u001b[0m\n"
     ]
    },
    {
     "name": "stderr",
     "output_type": "stream",
     "text": [
      "TRAIN 37: 100%|██████████| 2354/2354 [07:13<00:00,  1.21it/s]\n",
      "VAL   37: 100%|██████████| 589/589 [00:47<00:00,  2.55it/s]\n"
     ]
    },
    {
     "name": "stdout",
     "output_type": "stream",
     "text": [
      "\u001b[31m=========================\n",
      "[EPOCH 37 / STEP 37]\n",
      "TRAIN loss   : 1.1354\n",
      "VAL   loss   : 1.4205\n",
      "saved step 37 in ckpt/\n",
      "=========================\u001b[0m\n"
     ]
    },
    {
     "name": "stderr",
     "output_type": "stream",
     "text": [
      "TRAIN 38: 100%|██████████| 2354/2354 [07:13<00:00,  1.20it/s]\n",
      "VAL   38: 100%|██████████| 589/589 [00:47<00:00,  2.49it/s]\n"
     ]
    },
    {
     "name": "stdout",
     "output_type": "stream",
     "text": [
      "\u001b[31m=========================\n",
      "[EPOCH 38 / STEP 38]\n",
      "TRAIN loss   : 1.1338\n",
      "VAL   loss   : 1.4176\n",
      "saved step 38 in ckpt/\n",
      "=========================\u001b[0m\n"
     ]
    },
    {
     "name": "stderr",
     "output_type": "stream",
     "text": [
      "TRAIN 39: 100%|██████████| 2354/2354 [07:14<00:00,  1.17it/s]\n",
      "VAL   39: 100%|██████████| 589/589 [00:47<00:00,  2.25it/s]\n"
     ]
    },
    {
     "name": "stdout",
     "output_type": "stream",
     "text": [
      "\u001b[31m=========================\n",
      "[EPOCH 39 / STEP 39]\n",
      "TRAIN loss   : 1.1327\n",
      "VAL   loss   : 1.4263\n",
      "saved step 39 in ckpt/\n",
      "=========================\u001b[0m\n"
     ]
    },
    {
     "name": "stderr",
     "output_type": "stream",
     "text": [
      "TRAIN 40: 100%|██████████| 2354/2354 [07:13<00:00,  1.20it/s]\n",
      "VAL   40: 100%|██████████| 589/589 [00:47<00:00,  2.49it/s]\n"
     ]
    },
    {
     "name": "stdout",
     "output_type": "stream",
     "text": [
      "\u001b[31m=========================\n",
      "[EPOCH 40 / STEP 40]\n",
      "TRAIN loss   : 1.1321\n",
      "VAL   loss   : 1.4217\n",
      "saved step 40 in ckpt/\n",
      "=========================\u001b[0m\n"
     ]
    },
    {
     "name": "stderr",
     "output_type": "stream",
     "text": [
      "TRAIN 41: 100%|██████████| 2354/2354 [07:13<00:00,  1.20it/s]\n",
      "VAL   41: 100%|██████████| 589/589 [00:47<00:00,  2.54it/s]\n"
     ]
    },
    {
     "name": "stdout",
     "output_type": "stream",
     "text": [
      "\u001b[31m=========================\n",
      "[EPOCH 41 / STEP 41]\n",
      "TRAIN loss   : 1.1318\n",
      "VAL   loss   : 1.4152\n",
      "saved step 41 in ckpt/\n",
      "=========================\u001b[0m\n"
     ]
    },
    {
     "name": "stderr",
     "output_type": "stream",
     "text": [
      "TRAIN 42: 100%|██████████| 2354/2354 [07:13<00:00,  1.20it/s]\n",
      "VAL   42: 100%|██████████| 589/589 [00:47<00:00,  2.50it/s]\n"
     ]
    },
    {
     "name": "stdout",
     "output_type": "stream",
     "text": [
      "\u001b[31m=========================\n",
      "[EPOCH 42 / STEP 42]\n",
      "TRAIN loss   : 1.1311\n",
      "VAL   loss   : 1.4198\n",
      "saved step 42 in ckpt/\n",
      "=========================\u001b[0m\n"
     ]
    },
    {
     "name": "stderr",
     "output_type": "stream",
     "text": [
      "TRAIN 43: 100%|██████████| 2354/2354 [07:13<00:00,  1.20it/s]\n",
      "VAL   43: 100%|██████████| 589/589 [00:47<00:00,  2.50it/s]\n"
     ]
    },
    {
     "name": "stdout",
     "output_type": "stream",
     "text": [
      "\u001b[31m=========================\n",
      "[EPOCH 43 / STEP 43]\n",
      "TRAIN loss   : 1.1296\n",
      "VAL   loss   : 1.4225\n",
      "saved step 43 in ckpt/\n",
      "=========================\u001b[0m\n"
     ]
    },
    {
     "name": "stderr",
     "output_type": "stream",
     "text": [
      "TRAIN 44: 100%|██████████| 2354/2354 [07:12<00:00,  1.20it/s]\n",
      "VAL   44: 100%|██████████| 589/589 [00:47<00:00,  2.54it/s]\n"
     ]
    },
    {
     "name": "stdout",
     "output_type": "stream",
     "text": [
      "\u001b[31m=========================\n",
      "[EPOCH 44 / STEP 44]\n",
      "TRAIN loss   : 1.1282\n",
      "VAL   loss   : 1.4199\n",
      "saved step 44 in ckpt/\n",
      "=========================\u001b[0m\n"
     ]
    },
    {
     "name": "stderr",
     "output_type": "stream",
     "text": [
      "TRAIN 45: 100%|██████████| 2354/2354 [07:13<00:00,  1.20it/s]\n",
      "VAL   45: 100%|██████████| 589/589 [00:47<00:00,  2.54it/s]\n"
     ]
    },
    {
     "name": "stdout",
     "output_type": "stream",
     "text": [
      "\u001b[31m=========================\n",
      "[EPOCH 45 / STEP 45]\n",
      "TRAIN loss   : 1.1278\n",
      "VAL   loss   : 1.4169\n",
      "saved step 45 in ckpt/\n",
      "=========================\u001b[0m\n"
     ]
    },
    {
     "name": "stderr",
     "output_type": "stream",
     "text": [
      "TRAIN 46: 100%|██████████| 2354/2354 [07:13<00:00,  1.20it/s]\n",
      "VAL   46: 100%|██████████| 589/589 [00:47<00:00,  2.48it/s]\n"
     ]
    },
    {
     "name": "stdout",
     "output_type": "stream",
     "text": [
      "\u001b[31m=========================\n",
      "[EPOCH 46 / STEP 46]\n",
      "TRAIN loss   : 1.1267\n",
      "VAL   loss   : 1.4215\n",
      "saved step 46 in ckpt/\n",
      "=========================\u001b[0m\n"
     ]
    },
    {
     "name": "stderr",
     "output_type": "stream",
     "text": [
      "TRAIN 47: 100%|██████████| 2354/2354 [07:13<00:00,  1.20it/s]\n",
      "VAL   47: 100%|██████████| 589/589 [00:47<00:00,  2.49it/s]\n"
     ]
    },
    {
     "name": "stdout",
     "output_type": "stream",
     "text": [
      "\u001b[31m=========================\n",
      "[EPOCH 47 / STEP 47]\n",
      "TRAIN loss   : 1.1260\n",
      "VAL   loss   : 1.4180\n",
      "saved step 47 in ckpt/\n",
      "=========================\u001b[0m\n"
     ]
    },
    {
     "name": "stderr",
     "output_type": "stream",
     "text": [
      "TRAIN 48: 100%|██████████| 2354/2354 [07:13<00:00,  1.20it/s]\n",
      "VAL   48: 100%|██████████| 589/589 [00:47<00:00,  2.50it/s]\n"
     ]
    },
    {
     "name": "stdout",
     "output_type": "stream",
     "text": [
      "\u001b[31m=========================\n",
      "[EPOCH 48 / STEP 48]\n",
      "TRAIN loss   : 1.1256\n",
      "VAL   loss   : 1.4258\n",
      "saved step 48 in ckpt/\n",
      "=========================\u001b[0m\n"
     ]
    },
    {
     "name": "stderr",
     "output_type": "stream",
     "text": [
      "TRAIN 49: 100%|██████████| 2354/2354 [07:14<00:00,  1.20it/s]\n",
      "VAL   49: 100%|██████████| 589/589 [00:47<00:00,  2.49it/s]\n"
     ]
    },
    {
     "name": "stdout",
     "output_type": "stream",
     "text": [
      "\u001b[31m=========================\n",
      "[EPOCH 49 / STEP 49]\n",
      "TRAIN loss   : 1.1255\n",
      "VAL   loss   : 1.4218\n",
      "saved step 49 in ckpt/\n",
      "=========================\u001b[0m\n"
     ]
    },
    {
     "name": "stderr",
     "output_type": "stream",
     "text": [
      "TRAIN 50: 100%|██████████| 2354/2354 [07:13<00:00,  1.20it/s]\n",
      "VAL   50: 100%|██████████| 589/589 [00:47<00:00,  2.54it/s]\n"
     ]
    },
    {
     "name": "stdout",
     "output_type": "stream",
     "text": [
      "\u001b[31m=========================\n",
      "[EPOCH 50 / STEP 50]\n",
      "TRAIN loss   : 1.1253\n",
      "VAL   loss   : 1.4245\n",
      "saved step 50 in ckpt/\n",
      "=========================\u001b[0m\n"
     ]
    }
   ],
   "source": [
    "# if you get OOM Error, try reduce batch_size\n",
    "transformer_model.fit(X_train, y_train , X_val, y_val, bos_index=dict_eng_inv[\"<BOS>\"], epochs=50, batch_size=32, tqdm_option=\"normal\")"
   ]
  },
  {
   "cell_type": "markdown",
   "metadata": {},
   "source": [
    "# inference"
   ]
  },
  {
   "cell_type": "code",
   "execution_count": 31,
   "metadata": {},
   "outputs": [
    {
     "data": {
      "text/plain": [
       "<tf.Tensor: id=408047189, shape=(1, 101), dtype=int32, numpy=\n",
       "array([[2, 0, 0, 0, 0, 0, 0, 0, 0, 0, 0, 0, 0, 0, 0, 0, 0, 0, 0, 0, 0, 0,\n",
       "        0, 0, 0, 0, 0, 0, 0, 0, 0, 0, 0, 0, 0, 0, 0, 0, 0, 0, 0, 0, 0, 0,\n",
       "        0, 0, 0, 0, 0, 0, 0, 0, 0, 0, 0, 0, 0, 0, 0, 0, 0, 0, 0, 0, 0, 0,\n",
       "        0, 0, 0, 0, 0, 0, 0, 0, 0, 0, 0, 0, 0, 0, 0, 0, 0, 0, 0, 0, 0, 0,\n",
       "        0, 0, 0, 0, 0, 0, 0, 0, 0, 0, 0, 0, 0]], dtype=int32)>"
      ]
     },
     "execution_count": 31,
     "metadata": {},
     "output_type": "execute_result"
    }
   ],
   "source": [
    "# start token for initial target tensor\n",
    "start_token = tf.convert_to_tensor(np.expand_dims(tokens2indexes_eng([\"<BOS>\"]), 0))\n",
    "start_token"
   ]
  },
  {
   "cell_type": "code",
   "execution_count": 32,
   "metadata": {},
   "outputs": [
    {
     "data": {
      "text/plain": [
       "['그',\n",
       " '는',\n",
       " '성명',\n",
       " '에서',\n",
       " '높',\n",
       " '은',\n",
       " '산모',\n",
       " '사망률',\n",
       " '과',\n",
       " '5',\n",
       " '세',\n",
       " '이하',\n",
       " '유아',\n",
       " '사망',\n",
       " '률',\n",
       " '은',\n",
       " '깨끗',\n",
       " '한',\n",
       " '물',\n",
       " ',',\n",
       " '공중',\n",
       " '위생',\n",
       " ',',\n",
       " '예방',\n",
       " '접종',\n",
       " ',',\n",
       " '적절',\n",
       " '한',\n",
       " '영양',\n",
       " '섭취',\n",
       " '등',\n",
       " '기본',\n",
       " '서비스',\n",
       " '접근',\n",
       " '이',\n",
       " '부족',\n",
       " '하',\n",
       " '다는',\n",
       " '것',\n",
       " '을',\n",
       " '가리킨다',\n",
       " '고',\n",
       " '말',\n",
       " '했',\n",
       " '다',\n",
       " '.',\n",
       " '<PAD>',\n",
       " '<PAD>',\n",
       " '<PAD>',\n",
       " '<PAD>',\n",
       " '<PAD>',\n",
       " '<PAD>',\n",
       " '<PAD>',\n",
       " '<PAD>',\n",
       " '<PAD>',\n",
       " '<PAD>',\n",
       " '<PAD>',\n",
       " '<PAD>',\n",
       " '<PAD>',\n",
       " '<PAD>',\n",
       " '<PAD>',\n",
       " '<PAD>',\n",
       " '<PAD>',\n",
       " '<PAD>',\n",
       " '<PAD>',\n",
       " '<PAD>',\n",
       " '<PAD>',\n",
       " '<PAD>',\n",
       " '<PAD>',\n",
       " '<PAD>',\n",
       " '<PAD>',\n",
       " '<PAD>',\n",
       " '<PAD>',\n",
       " '<PAD>',\n",
       " '<PAD>',\n",
       " '<PAD>',\n",
       " '<PAD>',\n",
       " '<PAD>',\n",
       " '<PAD>',\n",
       " '<PAD>',\n",
       " '<PAD>',\n",
       " '<PAD>',\n",
       " '<PAD>',\n",
       " '<PAD>',\n",
       " '<PAD>',\n",
       " '<PAD>',\n",
       " '<PAD>',\n",
       " '<PAD>',\n",
       " '<PAD>',\n",
       " '<PAD>',\n",
       " '<PAD>',\n",
       " '<PAD>',\n",
       " '<PAD>',\n",
       " '<PAD>',\n",
       " '<PAD>',\n",
       " '<PAD>',\n",
       " '<PAD>',\n",
       " '<PAD>',\n",
       " '<PAD>',\n",
       " '<PAD>',\n",
       " '<PAD>',\n",
       " '<PAD>',\n",
       " '<PAD>',\n",
       " '<PAD>',\n",
       " '<PAD>',\n",
       " '<PAD>',\n",
       " '<PAD>',\n",
       " '<PAD>',\n",
       " '<PAD>',\n",
       " '<PAD>',\n",
       " '<PAD>',\n",
       " '<PAD>',\n",
       " '<PAD>',\n",
       " '<PAD>',\n",
       " '<PAD>',\n",
       " '<PAD>',\n",
       " '<PAD>',\n",
       " '<PAD>',\n",
       " '<PAD>',\n",
       " '<PAD>',\n",
       " '<PAD>',\n",
       " '<PAD>',\n",
       " '<PAD>',\n",
       " '<PAD>',\n",
       " '<PAD>',\n",
       " '<PAD>',\n",
       " '<PAD>']"
      ]
     },
     "execution_count": 32,
     "metadata": {},
     "output_type": "execute_result"
    }
   ],
   "source": [
    "input_seq = X_train[1234:1235] # 1 batch\n",
    "seq = input_seq[0]\n",
    "[dict_kor[idx] for idx in seq]"
   ]
  },
  {
   "cell_type": "code",
   "execution_count": 33,
   "metadata": {},
   "outputs": [
    {
     "data": {
      "text/plain": [
       "'high maternal , infant and under five mortality often indicates lack of access to basic services such as clean water and sanitation , immunizations and proper nutrition , she said in a statement . <EOS> <PAD> <PAD> <PAD> <PAD> <PAD> <PAD> <PAD> <PAD> <PAD> <PAD> <PAD> <PAD> <PAD> <PAD> <PAD> <PAD> <PAD> <PAD> <PAD> <PAD> <PAD> <PAD> <PAD> <PAD> <PAD> <PAD> <PAD> <PAD> <PAD> <PAD> <PAD> <PAD> <PAD> <PAD> <PAD> <PAD> <PAD> <PAD> <PAD> <PAD> <PAD> <PAD> <PAD> <PAD> <PAD> <PAD> <PAD> <PAD> <PAD> <PAD> <PAD> <PAD> <PAD> <PAD> <PAD> <PAD> <PAD> <PAD> <PAD> <PAD> <PAD> <PAD> <PAD> <PAD> <PAD> <PAD>'"
      ]
     },
     "execution_count": 33,
     "metadata": {},
     "output_type": "execute_result"
    }
   ],
   "source": [
    "# target answer\n",
    "target_seq = y_train[1234:1235]\n",
    "seq = target_seq[0]\n",
    "\" \".join([dict_eng[idx] for idx in seq])"
   ]
  },
  {
   "cell_type": "code",
   "execution_count": 34,
   "metadata": {},
   "outputs": [],
   "source": [
    "input_seq = tf.convert_to_tensor(input_seq)"
   ]
  },
  {
   "cell_type": "code",
   "execution_count": 35,
   "metadata": {},
   "outputs": [],
   "source": [
    "target_seq_shifted = tf.pad(target_seq, [[0, 0], [1, 0]], constant_values=dict_eng_inv[\"<BOS>\"])[:, :-1]"
   ]
  },
  {
   "cell_type": "code",
   "execution_count": 36,
   "metadata": {},
   "outputs": [
    {
     "data": {
      "text/plain": [
       "'he school , infant and ill the mortality often indicates lack of health to food services in as chemical drinking and sanitation , thus and proper nutrition , she said . a statement . <EOS> , her her and , , , , , . , , , , . . . . . . , . . . . , . . , of said said said that said to for said said , . . , said in in in . . . . in vehicles efficiency enrollment in in in in in in in amount amount plunged in'"
      ]
     },
     "execution_count": 36,
     "metadata": {},
     "output_type": "execute_result"
    }
   ],
   "source": [
    "# auto encoding check\n",
    "logit = transformer_model(input_seq, target_seq_shifted, False)\n",
    "indexes = tf.argmax(logit, axis=2).numpy()[0]\n",
    "\" \".join([dict_eng[idx] for idx in indexes])"
   ]
  },
  {
   "cell_type": "code",
   "execution_count": 37,
   "metadata": {},
   "outputs": [],
   "source": [
    "# beam search(inference only by input sequence)\n",
    "beams = transformer_model.predict(input_seq, start_token, dict_eng_inv[\"<EOS>\"], beam_cnt=3)\n"
   ]
  },
  {
   "cell_type": "code",
   "execution_count": 38,
   "metadata": {},
   "outputs": [
    {
     "name": "stdout",
     "output_type": "stream",
     "text": [
      "he said that the number of patients who have died in more than a year ago , he said in a written statement .\n",
      "\n",
      "he said that the number of patients who have died in more than a year ago , he said in a statement from the united states , he said .\n",
      "\n",
      "he said that the number of patients who have died in more than a year ago , he said in a statement from the united states , he said in a statement .\n",
      "\n",
      "he said that the number of patients who have died in more than a year ago , he said in a statement from the united states , he said , a spokesman for the health .\n",
      "\n",
      "he said that the number of patients who have died in more than a year ago , he said in a statement from the united states , he said , a spokesman for the united states .\n",
      "\n",
      "he said that the number of patients who have died in more than a year ago , he said in a statement from the united states , he said , a spokesman for the united states , he said .\n",
      "\n",
      "he said that the number of patients who have died in more than a year ago , he said in a statement from the united states , he said , a spokesman for the united states , he told the associated press .\n",
      "\n",
      "he said that the number of patients who have died in more than a year ago , he said in a statement from the united states , he said , a spokesman for the united states , he told the associated press by telephone .\n",
      "\n",
      "he said that the number of patients who have died in more than a year ago , he said in a statement from the united states , he said , a spokesman for the united states , he told the associated press by telephone interview .\n",
      "\n",
      "he said that the number of patients who have died in more than a year ago , he said in a statement from the united states , he said , a spokesman for the united states , he told the associated press . the statement did .\n",
      "\n",
      "he said that the number of patients who have died in more than a year ago , he said in a statement from the united states , he said , a spokesman for the united states , he told the associated press . the statement did not know why .\n",
      "\n",
      "he said that the number of patients who have died in more than a year ago , he said in a statement from the united states , he said , a spokesman for the united states , he told the associated press . the statement did not know why , he said .\n",
      "\n",
      "he said that the number of patients who have died in more than a year ago , he said in a statement from the united states , he said , a spokesman for the united states , he told the associated press . the statement did not know why , he did .\n",
      "\n",
      "he said that the number of patients who have died in more than a year ago , he said in a statement from the united states , he said , a spokesman for the united states , he told the associated press . the statement did not know why , he said . he said .\n",
      "\n",
      "he said that the number of patients who have died in more than a year ago , he said in a statement from the united states , he said , a spokesman for the united states , he told the associated press . the statement did not know why , he said . he said , he was not done .\n",
      "\n",
      "he said that the number of patients who have died in more than a year ago , he said in a statement from the united states , he said , a spokesman for the united states , he told the associated press . the statement did not know why , he said . he said , he was a hospital in a statement .\n",
      "\n",
      "he said that the number of patients who have died in more than a year ago , he said in a statement from the united states , he said , a spokesman for the united states , he told the associated press . the statement did not know why , he said . he said , he was a hospital in a severe cases .\n",
      "\n",
      "he said that the number of patients who have died in more than a year ago , he said in a statement from the united states , he said , a spokesman for the united states , he told the associated press . the statement did not know why , he said . he said , he was a hospital in a severe cases of his own interview the statement .\n",
      "\n",
      "he said that the number of patients who have died in more than a year ago , he said in a statement from the united states , he said , a spokesman for the united states , he told the associated press . the statement did not know why , he said . he said , he was a hospital in a severe cases of his own interview the written in the written statement .\n",
      "\n",
      "he said that the number of patients who have died in more than a year ago , he said in a statement from the united states , he said , a spokesman for the united states , he told the associated press . the statement did not know why , he said . he said , he was a hospital in a severe cases of his own interview the written in the written earlier this week .\n",
      "\n",
      "he said that the number of patients who have died in more than a year ago , he said in a statement from the united states , he said , a spokesman for the united states , he told the associated press . the statement did not know why , he said . he said , he was a hospital in a severe cases of his own interview the written in the written statement the attack .\n",
      "\n",
      "he said that the number of patients who have died in more than a year ago , he said in a statement from the united states , he said , a spokesman for the united states , he told the associated press . the statement did not know why , he said . he said , he was a hospital in a severe cases of his own interview the written in the written statement the attack the attack .\n",
      "\n",
      "he said that the number of patients who have died in more than a year ago , he said in a statement from the united states , he said , a spokesman for the united states , he told the associated press . the statement did not know why , he said . he said , he was a hospital in a severe cases of his own interview the written in the written statement the attack the attack , he said .\n",
      "\n",
      "he said that the number of patients who have died in more than a year ago , he said in a statement from the united states , he said , a spokesman for the united states , he told the associated press . the statement did not know why , he said . he said , he was a hospital in a severe cases of his own interview the written in the written statement the attack the attack , he was not to the attack raquo\n",
      "\n",
      "he said that the number of patients who have died in more than a year ago , he said in a statement from the united states , he said , a spokesman for the united states , he told the associated press . the statement did not know why , he said . he said , he was a hospital in a severe cases of his own interview the written in the written statement the attack the attack , he was not to the attack happened in a ban ki yoon s not allow airline alitalia canceled .\n",
      "\n",
      "he said that the number of patients who have died in more than a year ago , he said in a statement from the united states , he said , a spokesman for the united states , he told the associated press . the statement did not know why , he said . he said , he was a hospital in a severe cases of his own interview the written in the written statement the attack the attack , he was not to the attack happened in a ban ki yoon s not allow airline alitalia canceled , he said\n",
      "\n",
      "he said that the number of patients who have died in more than a year ago , he said in a statement from the united states , he said , a spokesman for the united states , he told the associated press . the statement did not know why , he said . he said , he was a hospital in a severe cases of his own interview the written in the written statement the attack the attack , he was not to the attack happened in a ban ki moon chung himself he said he said he said he\n",
      "\n",
      "he said that the number of patients who have died in more than a year ago , he said in a statement from the united states , he said , a spokesman for the united states , he told the associated press . the statement did not know why , he said . he said , he was a hospital in a severe cases of his own interview the written in the written statement the attack the attack , he was not to the attack happened in a ban ki moon chung himself he said he said he said .\n",
      "\n"
     ]
    }
   ],
   "source": [
    "for prob, beam in beams:\n",
    "    seq = beam.numpy()[0]\n",
    "    print(\" \".join([dict_eng[idx] for idx in seq if not (idx ==2 or idx==0 or idx ==3)]))\n",
    "    print()"
   ]
  },
  {
   "cell_type": "markdown",
   "metadata": {},
   "source": [
    "## if you want to make inference to other example on trainset..."
   ]
  },
  {
   "cell_type": "code",
   "execution_count": 110,
   "metadata": {},
   "outputs": [],
   "source": [
    "i = 1464  # train data number"
   ]
  },
  {
   "cell_type": "code",
   "execution_count": 111,
   "metadata": {},
   "outputs": [
    {
     "data": {
      "text/plain": [
       "['경제',\n",
       " '부총리',\n",
       " '이',\n",
       " '기',\n",
       " '도',\n",
       " '한',\n",
       " '이헌재',\n",
       " '장관',\n",
       " '은',\n",
       " '비난',\n",
       " '여론',\n",
       " '이',\n",
       " '정부',\n",
       " '의',\n",
       " '신용도',\n",
       " '에',\n",
       " '악영향',\n",
       " '을',\n",
       " '미쳐',\n",
       " '사퇴',\n",
       " '한다고',\n",
       " '말',\n",
       " '했',\n",
       " '다',\n",
       " '.',\n",
       " '<PAD>',\n",
       " '<PAD>',\n",
       " '<PAD>',\n",
       " '<PAD>',\n",
       " '<PAD>',\n",
       " '<PAD>',\n",
       " '<PAD>',\n",
       " '<PAD>',\n",
       " '<PAD>',\n",
       " '<PAD>',\n",
       " '<PAD>',\n",
       " '<PAD>',\n",
       " '<PAD>',\n",
       " '<PAD>',\n",
       " '<PAD>',\n",
       " '<PAD>',\n",
       " '<PAD>',\n",
       " '<PAD>',\n",
       " '<PAD>',\n",
       " '<PAD>',\n",
       " '<PAD>',\n",
       " '<PAD>',\n",
       " '<PAD>',\n",
       " '<PAD>',\n",
       " '<PAD>',\n",
       " '<PAD>',\n",
       " '<PAD>',\n",
       " '<PAD>',\n",
       " '<PAD>',\n",
       " '<PAD>',\n",
       " '<PAD>',\n",
       " '<PAD>',\n",
       " '<PAD>',\n",
       " '<PAD>',\n",
       " '<PAD>',\n",
       " '<PAD>',\n",
       " '<PAD>',\n",
       " '<PAD>',\n",
       " '<PAD>',\n",
       " '<PAD>',\n",
       " '<PAD>',\n",
       " '<PAD>',\n",
       " '<PAD>',\n",
       " '<PAD>',\n",
       " '<PAD>',\n",
       " '<PAD>',\n",
       " '<PAD>',\n",
       " '<PAD>',\n",
       " '<PAD>',\n",
       " '<PAD>',\n",
       " '<PAD>',\n",
       " '<PAD>',\n",
       " '<PAD>',\n",
       " '<PAD>',\n",
       " '<PAD>',\n",
       " '<PAD>',\n",
       " '<PAD>',\n",
       " '<PAD>',\n",
       " '<PAD>',\n",
       " '<PAD>',\n",
       " '<PAD>',\n",
       " '<PAD>',\n",
       " '<PAD>',\n",
       " '<PAD>',\n",
       " '<PAD>',\n",
       " '<PAD>',\n",
       " '<PAD>',\n",
       " '<PAD>',\n",
       " '<PAD>',\n",
       " '<PAD>',\n",
       " '<PAD>',\n",
       " '<PAD>',\n",
       " '<PAD>',\n",
       " '<PAD>',\n",
       " '<PAD>',\n",
       " '<PAD>',\n",
       " '<PAD>',\n",
       " '<PAD>',\n",
       " '<PAD>',\n",
       " '<PAD>',\n",
       " '<PAD>',\n",
       " '<PAD>',\n",
       " '<PAD>',\n",
       " '<PAD>',\n",
       " '<PAD>',\n",
       " '<PAD>',\n",
       " '<PAD>',\n",
       " '<PAD>',\n",
       " '<PAD>',\n",
       " '<PAD>',\n",
       " '<PAD>',\n",
       " '<PAD>',\n",
       " '<PAD>',\n",
       " '<PAD>',\n",
       " '<PAD>',\n",
       " '<PAD>',\n",
       " '<PAD>',\n",
       " '<PAD>',\n",
       " '<PAD>',\n",
       " '<PAD>',\n",
       " '<PAD>',\n",
       " '<PAD>']"
      ]
     },
     "execution_count": 111,
     "metadata": {},
     "output_type": "execute_result"
    }
   ],
   "source": [
    "input_seq = X_train[i:i+1] # 1 batch\n",
    "seq = input_seq[0]\n",
    "[dict_kor[idx] for idx in seq]"
   ]
  },
  {
   "cell_type": "code",
   "execution_count": 112,
   "metadata": {},
   "outputs": [
    {
     "data": {
      "text/plain": [
       "'lee , who is also the deputy prime minister , said he was stepping down because the controversy was damaging the credibility of the government . <EOS> <PAD> <PAD> <PAD> <PAD> <PAD> <PAD> <PAD> <PAD> <PAD> <PAD> <PAD> <PAD> <PAD> <PAD> <PAD> <PAD> <PAD> <PAD> <PAD> <PAD> <PAD> <PAD> <PAD> <PAD> <PAD> <PAD> <PAD> <PAD> <PAD> <PAD> <PAD> <PAD> <PAD> <PAD> <PAD> <PAD> <PAD> <PAD> <PAD> <PAD> <PAD> <PAD> <PAD> <PAD> <PAD> <PAD> <PAD> <PAD> <PAD> <PAD> <PAD> <PAD> <PAD> <PAD> <PAD> <PAD> <PAD> <PAD> <PAD> <PAD> <PAD> <PAD> <PAD> <PAD> <PAD> <PAD> <PAD> <PAD> <PAD> <PAD> <PAD> <PAD> <PAD> <PAD>'"
      ]
     },
     "execution_count": 112,
     "metadata": {},
     "output_type": "execute_result"
    }
   ],
   "source": [
    "# target answer\n",
    "target_seq = y_train[i:i+1]\n",
    "seq = target_seq[0]\n",
    "\" \".join([dict_eng[idx] for idx in seq])"
   ]
  },
  {
   "cell_type": "code",
   "execution_count": 113,
   "metadata": {},
   "outputs": [],
   "source": [
    "input_seq = tf.convert_to_tensor(input_seq)"
   ]
  },
  {
   "cell_type": "code",
   "execution_count": 114,
   "metadata": {},
   "outputs": [],
   "source": [
    "target_seq_shifted = tf.pad(target_seq, [[0, 0], [1, 0]], constant_values=dict_eng_inv[\"<BOS>\"])[:, :-1]"
   ]
  },
  {
   "cell_type": "code",
   "execution_count": 115,
   "metadata": {},
   "outputs": [
    {
     "data": {
      "text/plain": [
       "'the myung who has the expected opposition cabinet minister of said he would not down in of economy was not the economy of the opposition . <EOS> is is is , , , , , , . . . . . . . . . . . . . . . . . . . . . . . . . . . . . . . . . . . . . . . . . . . in in in . . . . . . . in in in in in in in in in in in in'"
      ]
     },
     "execution_count": 115,
     "metadata": {},
     "output_type": "execute_result"
    }
   ],
   "source": [
    "# auto encoding check\n",
    "logit = transformer_model(input_seq, target_seq_shifted, False)\n",
    "indexes = tf.argmax(logit, axis=2).numpy()[0]\n",
    "\" \".join([dict_eng[idx] for idx in indexes])"
   ]
  },
  {
   "cell_type": "code",
   "execution_count": 116,
   "metadata": {},
   "outputs": [
    {
     "name": "stdout",
     "output_type": "stream",
     "text": [
      "president roh moo hyun said yesterday that the government has expressed concern over the financial crisis .\n",
      "\n",
      "president roh moo hyun said yesterday that the government has expressed concern over the economic crisis .\n",
      "\n",
      "president roh moo hyun said yesterday that the government has expressed concern over the opposition to the opposition .\n",
      "\n",
      "president roh moo hyun said yesterday that the government has expressed concern over the opposition to the opposition party .\n",
      "\n",
      "president roh moo hyun said yesterday that the government has expressed concern over the opposition to the opposition party s presidential nomination .\n",
      "\n",
      "president roh moo hyun said yesterday that the government has expressed concern over the opposition to the opposition party s presidential election .\n",
      "\n",
      "president roh moo hyun said yesterday that the government has expressed concern over the opposition to the opposition party s presidential election commission .\n",
      "\n",
      "president roh moo hyun said yesterday that the government has expressed concern over the opposition to the opposition party s presidential election commission . the opposition has denied any issues .\n",
      "\n",
      "president roh moo hyun said yesterday that the government has expressed concern over the opposition to the opposition party s presidential election commission . the opposition has denied involvement in the financial crisis .\n",
      "\n",
      "president roh moo hyun said yesterday that the government has expressed concern over the opposition to the opposition party s presidential election commission . the opposition has denied involvement in a financial crisis .\n",
      "\n",
      "president roh moo hyun said yesterday that the government has expressed concern over the opposition to the opposition party s presidential election commission . the opposition has denied involvement in the financial crisis , saying yesterday .\n",
      "\n",
      "president roh moo hyun said yesterday that the government has expressed concern over the opposition to the opposition party s presidential election commission . the opposition has denied involvement in the financial crisis , saying the opposition party would not allow the economy to discuss issues .\n",
      "\n",
      "president roh moo hyun said yesterday that the government has expressed concern over the opposition to the opposition party s presidential election commission . the opposition has denied involvement in the financial crisis , saying the opposition party would not allow the economy to discuss the issue of the economy .\n",
      "\n",
      "president roh moo hyun said yesterday that the government has expressed concern over the opposition to the opposition party s presidential election commission . the opposition has denied involvement in the financial crisis , saying the opposition party would not allow the economy to roh administration officials to discuss ways of the economy .\n",
      "\n",
      "president roh moo hyun said yesterday that the government has expressed concern over the opposition to the opposition party s presidential election commission . the opposition has denied involvement in the financial crisis , saying the opposition party would not allow the economy to roh administration officials to discuss ways of the government .\n",
      "\n",
      "president roh moo hyun said yesterday that the government has expressed concern over the opposition to the opposition party s presidential election commission . the opposition has denied involvement in the financial crisis , saying the opposition party would not allow the economy to roh administration officials to discuss ways of the economic cooperation of the economy .\n",
      "\n",
      "president roh moo hyun said yesterday that the government has expressed concern over the opposition to the opposition party s presidential election commission . the opposition has denied involvement in the financial crisis , saying the opposition party would not allow the economy to roh administration officials to discuss ways of the economic cooperation of the economy and economic crisis .\n",
      "\n",
      "president roh moo hyun said yesterday that the government has expressed concern over the opposition to the opposition party s presidential election commission . the opposition has denied involvement in the financial crisis , saying the opposition party would not allow the economy to roh administration officials to discuss ways of the economic cooperation of the economy and economic talks on the opposition .\n",
      "\n",
      "president roh moo hyun said yesterday that the government has expressed concern over the opposition to the opposition party s presidential election commission . the opposition has denied involvement in the financial crisis , saying the opposition party would not allow the economy to roh administration officials to discuss ways of the economic cooperation of the economy and economic talks on the uri party .\n",
      "\n",
      "president roh moo hyun said yesterday that the government has expressed concern over the opposition to the opposition party s presidential election commission . the opposition has denied involvement in the financial crisis , saying the opposition party would not allow the economy to roh administration officials to discuss ways of the economic cooperation of the economy and economic talks on the uri party and said .\n",
      "\n",
      "president roh moo hyun said yesterday that the government has expressed concern over the opposition to the opposition party s presidential election commission . the opposition has denied involvement in the financial crisis , saying the opposition party would not allow the economy to roh administration officials to discuss ways of the economic cooperation of the economy and economic talks on the uri party and that .\n",
      "\n",
      "president roh moo hyun said yesterday that the government has expressed concern over the opposition to the opposition party s presidential election commission . the opposition has denied involvement in the financial crisis , saying the opposition party would not allow the economy to roh administration officials to discuss ways of the economic cooperation of the economy and economic talks on the uri party and said the issue .\n",
      "\n",
      "president roh moo hyun said yesterday that the government has expressed concern over the opposition to the opposition party s presidential election commission . the opposition has denied involvement in the financial crisis , saying the opposition party would not allow the economy to roh administration officials to discuss ways of the economic cooperation of the economy and economic talks on the uri party and said the issue a political .\n",
      "\n",
      "president roh moo hyun said yesterday that the government has expressed concern over the opposition to the opposition party s presidential election commission . the opposition has denied involvement in the financial crisis , saying the opposition party would not allow the economy to roh administration officials to discuss ways of the economic cooperation of the economy and economic talks on the uri party and said the issue , the issue .\n",
      "\n",
      "president roh moo hyun said yesterday that the government has expressed concern over the opposition to the opposition party s presidential election commission . the opposition has denied involvement in the financial crisis , saying the opposition party would not allow the economy to roh administration officials to discuss ways of the economic cooperation of the economy and economic talks on the uri party and said the issue , the issue the issue .\n",
      "\n",
      "president roh moo hyun said yesterday that the government has expressed concern over the opposition to the opposition party s presidential election commission . the opposition has denied involvement in the financial crisis , saying the opposition party would not allow the economy to roh administration officials to discuss ways of the economic cooperation of the economy and economic talks on the uri party and said the issue , the issue the south korean funds .\n",
      "\n",
      "president roh moo hyun said yesterday that the government has expressed concern over the opposition to the opposition party s presidential election commission . the opposition has denied involvement in the financial crisis , saying the opposition party would not allow the economy to roh administration officials to discuss ways of the economic cooperation of the economy and economic talks on the uri party and said the issue , the issue the south korean financial crisis .\n",
      "\n",
      "president roh moo hyun said yesterday that the government has expressed concern over the opposition to the opposition party s presidential election commission . the opposition has denied involvement in the financial crisis , saying the opposition party would not allow the economy to roh administration officials to discuss ways of the economic cooperation of the economy and economic talks on the uri party and said the issue , the issue the south korean funds for the issue .\n",
      "\n",
      "president roh moo hyun said yesterday that the government has expressed concern over the opposition to the opposition party s presidential election commission . the opposition has denied involvement in the financial crisis , saying the opposition party would not allow the economy to roh administration officials to discuss ways of the economic cooperation of the economy and economic talks on the uri party and said the issue , the issue the south korean funds for the financial .\n",
      "\n",
      "president roh moo hyun said yesterday that the government has expressed concern over the opposition to the opposition party s presidential election commission . the opposition has denied involvement in the financial crisis , saying the opposition party would not allow the economy to roh administration officials to discuss ways of the economic cooperation of the economy and economic talks on the uri party and said the issue , the issue the south korean funds for the financial crisis .\n",
      "\n",
      "president roh moo hyun said yesterday that the government has expressed concern over the opposition to the opposition party s presidential election commission . the opposition has denied involvement in the financial crisis , saying the opposition party would not allow the economy to roh administration officials to discuss ways of the economic cooperation of the economy and economic talks on the uri party and said the issue , the issue the south korean funds for the financial crisis . ban ki outcome .\n",
      "\n",
      "president roh moo hyun said yesterday that the government has expressed concern over the opposition to the opposition party s presidential election commission . the opposition has denied involvement in the financial crisis , saying the opposition party would not allow the economy to roh administration officials to discuss ways of the economic cooperation of the economy and economic talks on the uri party and said the issue , the issue the south korean funds for the financial crisis . ban ki issue .\n",
      "\n",
      "president roh moo hyun said yesterday that the government has expressed concern over the opposition to the opposition party s presidential election commission . the opposition has denied involvement in the financial crisis , saying the opposition party would not allow the economy to roh administration officials to discuss ways of the economic cooperation of the economy and economic talks on the uri party and said the issue , the issue the south korean funds for the financial crisis . ban ki chung s financial crisis .\n",
      "\n",
      "president roh moo hyun said yesterday that the government has expressed concern over the opposition to the opposition party s presidential election commission . the opposition has denied involvement in the financial crisis , saying the opposition party would not allow the economy to roh administration officials to discuss ways of the economic cooperation of the economy and economic talks on the uri party and said the issue , the issue the south korean funds for the financial crisis . ban ki chung s financial services .\n",
      "\n",
      "president roh moo hyun said yesterday that the government has expressed concern over the opposition to the opposition party s presidential election commission . the opposition has denied involvement in the financial crisis , saying the opposition party would not allow the economy to roh administration officials to discuss ways of the economic cooperation of the economy and economic talks on the uri party and said the issue , the issue the south korean funds for the financial crisis . ban ki chung s financial bailout approved legislation .\n",
      "\n",
      "president roh moo hyun said yesterday that the government has expressed concern over the opposition to the opposition party s presidential election commission . the opposition has denied involvement in the financial crisis , saying the opposition party would not allow the economy to roh administration officials to discuss ways of the economic cooperation of the economy and economic talks on the uri party and said the issue , the issue the south korean funds for the financial crisis . ban ki chung s financial bailout approved legislation sadr s issue .\n",
      "\n",
      "president roh moo hyun said yesterday that the government has expressed concern over the opposition to the opposition party s presidential election commission . the opposition has denied involvement in the financial crisis , saying the opposition party would not allow the economy to roh administration officials to discuss ways of the economic cooperation of the economy and economic talks on the uri party and said the issue , the issue the south korean funds for the financial crisis . ban ki chung s financial bailout approved legislation sadr s sovereignty .\n",
      "\n",
      "president roh moo hyun said yesterday that the government has expressed concern over the opposition to the opposition party s presidential election commission . the opposition has denied involvement in the financial crisis , saying the opposition party would not allow the economy to roh administration officials to discuss ways of the economic cooperation of the economy and economic talks on the uri party and said the issue , the issue the south korean funds for the financial crisis . ban ki chung s financial bailout approved legislation sadr s issue again chung s issue posts .\n",
      "\n",
      "president roh moo hyun said yesterday that the government has expressed concern over the opposition to the opposition party s presidential election commission . the opposition has denied involvement in the financial crisis , saying the opposition party would not allow the economy to roh administration officials to discuss ways of the economic cooperation of the economy and economic talks on the uri party and said the issue , the issue the south korean funds for the financial crisis . ban ki chung s financial bailout approved legislation sadr s issue again chung s issue the economy president roh to\n",
      "\n",
      "president roh moo hyun said yesterday that the government has expressed concern over the opposition to the opposition party s presidential election commission . the opposition has denied involvement in the financial crisis , saying the opposition party would not allow the economy to roh administration officials to discuss ways of the economic cooperation of the economy and economic talks on the uri party and said the issue , the issue the south korean funds for the financial crisis . ban ki chung s financial bailout approved legislation sadr s issue again chung s issue the economy president roh dismissed\n",
      "\n",
      "president roh moo hyun said yesterday that the government has expressed concern over the opposition to the opposition party s presidential election commission . the opposition has denied involvement in the financial crisis , saying the opposition party would not allow the economy to roh administration officials to discuss ways of the economic cooperation of the economy and economic talks on the uri party and said the issue , the issue the south korean funds for the financial crisis . ban ki chung s financial bailout approved legislation sadr s issue again chung s issue the economy president roh demanded\n",
      "\n"
     ]
    }
   ],
   "source": [
    "# beam search(inference only by input sequence)\n",
    "beams = transformer_model.predict(input_seq, start_token, dict_eng_inv[\"<EOS>\"], beam_cnt=3)\n",
    "for prob, beam in beams:\n",
    "    seq = beam.numpy()[0]\n",
    "    print(\" \".join([dict_eng[idx] for idx in seq if not (idx ==2 or idx==0 or idx ==3)]))\n",
    "    print()"
   ]
  },
  {
   "cell_type": "code",
   "execution_count": null,
   "metadata": {},
   "outputs": [],
   "source": []
  }
 ],
 "metadata": {
  "kernelspec": {
   "display_name": "clasic36",
   "language": "python",
   "name": "classic36"
  },
  "language_info": {
   "codemirror_mode": {
    "name": "ipython",
    "version": 3
   },
   "file_extension": ".py",
   "mimetype": "text/x-python",
   "name": "python",
   "nbconvert_exporter": "python",
   "pygments_lexer": "ipython3",
   "version": "3.6.7"
  }
 },
 "nbformat": 4,
 "nbformat_minor": 2
}
